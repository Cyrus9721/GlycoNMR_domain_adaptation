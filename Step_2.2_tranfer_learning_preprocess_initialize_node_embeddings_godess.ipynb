{
 "cells": [
  {
   "cell_type": "code",
   "execution_count": 1,
   "id": "2145f011",
   "metadata": {},
   "outputs": [],
   "source": [
    "import numpy as np\n",
    "import pandas as pd\n",
    "import os\n",
    "from tqdm import tqdm\n",
    "import torch\n",
    "import torch.nn as nn\n",
    "\n",
    "# from train_evaluate import NMR_prediction\n",
    "\n",
    "import torch.nn.functional as F\n",
    "import dgl\n",
    "import dgl.nn as dglnn\n",
    "import torch.nn as nn\n",
    "from dgl import AddSelfLoop\n",
    "\n",
    "from model_2d.NMR_gcn import NMR_GCN\n",
    "\n",
    "from train_evaluate_2d import NMR_prediction\n",
    "\n",
    "from preprocess.create_node_embedding.node_embeddings_godess import create_node_embeddings\n",
    "\n",
    "from preprocess.build_adjaency_matrix.create_adjaency_matrix_godess import build_adjacency_matrix\n",
    "\n",
    "from preprocess.create_graph.create_graph_data_godess import create_graph\n",
    "\n",
    "# from dgl import save_graphs, load_graphs\n",
    "# from tqdm import tqdm\n",
    "from dgl import save_graphs, load_graphs\n"
   ]
  },
  {
   "cell_type": "code",
   "execution_count": 2,
   "id": "44c16a4f",
   "metadata": {},
   "outputs": [],
   "source": [
    "# define the lengtht of the embeddings of each feature\n",
    "atom_name_dim=256\n",
    "\n",
    "bound_orig_dim=32\n",
    "\n",
    "atom_type_dim=32\n",
    "\n",
    "ab_dim=64\n",
    "\n",
    "dl_dim=64\n",
    "\n",
    "pf_dim=64\n",
    "\n",
    "mono_accurate_dim=128\n",
    "\n",
    "mono_simple_dim=128\n",
    "\n",
    "me_dim=32\n",
    "\n",
    "ser_dim=32\n",
    "\n",
    "s_dim=64\n",
    "\n",
    "ac_dim=64\n",
    "\n",
    "gc_dim=32\n",
    "\n",
    "seed=9721"
   ]
  },
  {
   "cell_type": "code",
   "execution_count": 3,
   "id": "6096a18c",
   "metadata": {},
   "outputs": [
    {
     "name": "stderr",
     "output_type": "stream",
     "text": [
      "100%|██████████████████████████████████████| 2310/2310 [00:05<00:00, 399.15it/s]\n"
     ]
    }
   ],
   "source": [
    "C = create_node_embeddings(data_dir = 'godess/data_reformulate/',\n",
    "                           out_atom_name_embed='godess/node_embedding_reformulate/atom_name_embed.csv',\n",
    "                           out_bound_orig_embed='godess/node_embedding_reformulate/bound_orig.csv',\n",
    "                           out_atom_type_embed='godess/node_embedding_reformulate/atom_type.csv',\n",
    "                           out_bound_AB_embed='godess/node_embedding_reformulate/bound_ab.csv',\n",
    "                           out_DL_embed='godess/node_embedding_reformulate/bound_dl.csv',\n",
    "                           out_PF_embed='godess/node_embedding_reformulate/carbon_pf.csv',\n",
    "                           out_monosaccharide_accurate_embed='godess/node_embedding_reformulate/monosaccharide_accurate_embed.csv',\n",
    "                           out_monosaccharide_simple_embed='godess/node_embedding_reformulate/monosaccharide_simple_embed.csv',\n",
    "                           out_me_embed='godess/node_embedding_reformulate/root_me_embed.csv',\n",
    "                           out_ser_embed='godess/node_embedding_reformulate/root_ser_embed.csv',\n",
    "                           out_s_embed='godess/node_embedding_reformulate/component_s_embed.csv',\n",
    "                           out_ac_embed='godess/node_embedding_reformulate/component_ac_embed.csv',\n",
    "                           out_gc_embed='godess/node_embedding_reformulate/component_gc_embed.csv',\n",
    "                           seed=seed)\n",
    "C.write_all_embeddings(atom_name_dim = atom_name_dim, bound_orig_dim = bound_orig_dim, \n",
    "                           atom_type_dim = atom_type_dim, ab_dim = ab_dim, dl_dim = dl_dim,\n",
    "                           pf_dim = pf_dim, mono_accurate_dim = mono_accurate_dim, \n",
    "                           mono_simple_dim = mono_simple_dim, me_dim=me_dim, \n",
    "                          ser_dim=ser_dim, s_dim=s_dim, ac_dim=ac_dim, gc_dim=gc_dim)"
   ]
  },
  {
   "cell_type": "code",
   "execution_count": null,
   "id": "21d32388",
   "metadata": {},
   "outputs": [],
   "source": []
  }
 ],
 "metadata": {
  "kernelspec": {
   "display_name": "Python [conda env:root] *",
   "language": "python",
   "name": "conda-root-py"
  },
  "language_info": {
   "codemirror_mode": {
    "name": "ipython",
    "version": 3
   },
   "file_extension": ".py",
   "mimetype": "text/x-python",
   "name": "python",
   "nbconvert_exporter": "python",
   "pygments_lexer": "ipython3",
   "version": "3.8.15"
  }
 },
 "nbformat": 4,
 "nbformat_minor": 5
}
