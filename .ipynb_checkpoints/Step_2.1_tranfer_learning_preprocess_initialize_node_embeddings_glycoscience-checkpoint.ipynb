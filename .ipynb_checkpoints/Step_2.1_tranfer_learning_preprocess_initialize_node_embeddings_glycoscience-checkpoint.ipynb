{
 "cells": [
  {
   "cell_type": "code",
   "execution_count": 1,
   "id": "01d3cde8",
   "metadata": {},
   "outputs": [],
   "source": [
    "import numpy as np\n",
    "import pandas as pd\n",
    "import os\n",
    "from tqdm import tqdm\n",
    "import torch\n",
    "import torch.nn as nn\n",
    "\n",
    "import torch.nn.functional as F\n",
    "import dgl\n",
    "import dgl.nn as dglnn\n",
    "import torch.nn as nn\n",
    "from dgl import AddSelfLoop\n",
    "\n",
    "from model_2d.NMR_gcn import NMR_GCN\n",
    "\n",
    "from train_evaluate_2d import NMR_prediction\n",
    "\n",
    "from preprocess.create_node_embedding.node_embeddings_glycoscience import create_node_embeddings\n",
    "\n",
    "from preprocess.build_adjaency_matrix.create_adjaency_matrix_glycoscience import build_adjacency_matrix\n",
    "\n",
    "from preprocess.create_graph.create_graph_data_glycosciencedb import create_graph\n",
    "\n",
    "# from dgl import save_graphs, load_graphs\n",
    "# from tqdm import tqdm\n",
    "from dgl import save_graphs, load_graphs\n",
    "\n",
    "pd.set_option('display.max_columns', None)\n"
   ]
  },
  {
   "cell_type": "code",
   "execution_count": 2,
   "id": "3dda3617",
   "metadata": {},
   "outputs": [],
   "source": [
    "# initialize node embeddings\n",
    "atom_dim = 256\n",
    "\n",
    "residual_dim = 128\n",
    "\n",
    "mono_dim = 64\n",
    "ab_dim = 64\n",
    "dl_dim = 64\n",
    "pf_dim = 64\n",
    "\n",
    "seed=9721"
   ]
  },
  {
   "cell_type": "code",
   "execution_count": 3,
   "id": "6d228486",
   "metadata": {},
   "outputs": [
    {
     "name": "stderr",
     "output_type": "stream",
     "text": [
      "100%|████████████████████████████████████████| 299/299 [00:00<00:00, 702.90it/s]\n"
     ]
    }
   ],
   "source": [
    "C = create_node_embeddings(data_dir= 'glycosciencedb/data_reformulate/',\n",
    "                           out_atom_embed='glycosciencedb/node_embedding_reformulate/atom_embed.csv',\n",
    "                           out_residual_embed='glycosciencedb/node_embedding_reformulate/residual_embed.csv',\n",
    "                           out_monosaccharide_embed='glycosciencedb/node_embedding_reformulate/monosaccharide_embed.csv',\n",
    "                           out_bound_AB_embed='glycosciencedb/node_embedding_reformulate/ab_embed.csv',\n",
    "                           out_DL_embed='glycosciencedb/node_embedding_reformulate/dl_embed.csv',\n",
    "                           out_PF_embed='glycosciencedb/node_embedding_reformulate/pf_embed.csv',\n",
    "                           seed=seed)\n",
    "\n",
    "df_atom_embedding, df_residual_embedding, df_monosaccharide_embedding, df_ab_embedding, df_dl_embedding, df_pf_embedding =\\\n",
    "C.create_all_embeddings(atom_dim=atom_dim, residual_dim=residual_dim, mono_dim=mono_dim, \n",
    "                       ab_dim=ab_dim, dl_dim=dl_dim, pf_dim=pf_dim)\n"
   ]
  },
  {
   "cell_type": "code",
   "execution_count": 4,
   "id": "e73eface",
   "metadata": {},
   "outputs": [
    {
     "data": {
      "text/plain": [
       "'/home/zizhang/Desktop/Projects/Project16_NMR_transfer'"
      ]
     },
     "execution_count": 4,
     "metadata": {},
     "output_type": "execute_result"
    }
   ],
   "source": []
  },
  {
   "cell_type": "code",
   "execution_count": null,
   "id": "a3c79fcb",
   "metadata": {},
   "outputs": [],
   "source": []
  }
 ],
 "metadata": {
  "kernelspec": {
   "display_name": "Python [conda env:root] *",
   "language": "python",
   "name": "conda-root-py"
  },
  "language_info": {
   "codemirror_mode": {
    "name": "ipython",
    "version": 3
   },
   "file_extension": ".py",
   "mimetype": "text/x-python",
   "name": "python",
   "nbconvert_exporter": "python",
   "pygments_lexer": "ipython3",
   "version": "3.8.15"
  }
 },
 "nbformat": 4,
 "nbformat_minor": 5
}
