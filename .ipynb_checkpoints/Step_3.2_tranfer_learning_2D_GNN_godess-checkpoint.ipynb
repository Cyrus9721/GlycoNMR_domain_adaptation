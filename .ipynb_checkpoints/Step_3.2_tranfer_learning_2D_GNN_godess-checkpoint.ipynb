{
 "cells": [
  {
   "cell_type": "code",
   "execution_count": 1,
   "id": "7eeb05a1",
   "metadata": {},
   "outputs": [],
   "source": [
    "import numpy as np\n",
    "import pandas as pd\n",
    "import os\n",
    "from tqdm import tqdm\n",
    "import torch\n",
    "import torch.nn as nn\n",
    "\n",
    "# from train_evaluate import NMR_prediction\n",
    "\n",
    "import torch.nn.functional as F\n",
    "import dgl\n",
    "import dgl.nn as dglnn\n",
    "import torch.nn as nn\n",
    "from dgl import AddSelfLoop\n",
    "\n",
    "from model_2d.NMR_gcn import NMR_GCN\n",
    "\n",
    "from train_evaluate_2d import NMR_prediction\n",
    "\n",
    "from preprocess.create_node_embedding.node_embeddings_godess import create_node_embeddings\n",
    "\n",
    "from preprocess.build_adjaency_matrix.create_adjaency_matrix_godess import build_adjacency_matrix\n",
    "\n",
    "from preprocess.create_graph.create_graph_data_godess import create_graph\n",
    "\n",
    "# from dgl import save_graphs, load_graphs\n",
    "# from tqdm import tqdm\n",
    "from dgl import save_graphs, load_graphs\n"
   ]
  },
  {
   "cell_type": "code",
   "execution_count": 2,
   "id": "dd365d16",
   "metadata": {},
   "outputs": [],
   "source": [
    "threshold_carbon=1.65\n",
    "\n",
    "threshold_hydrogen=1.18\n",
    "\n",
    "threshold_general=1.5\n",
    "\n",
    "threshold_interaction=5.0\n",
    "\n",
    "data_dir = 'godess/data_reformulate/'"
   ]
  },
  {
   "cell_type": "code",
   "execution_count": 3,
   "id": "d07f912d",
   "metadata": {},
   "outputs": [],
   "source": [
    "# B = build_adjacency_matrix(labeled_pdb_dir = data_dir,\n",
    "#                            threshold_carbon=threshold_carbon,\n",
    "#                            threshold_hydrogen=threshold_hydrogen, \n",
    "#                            threshold_general=threshold_general, \n",
    "#                            threshold_interaction=threshold_interaction)\n",
    "# B.calculate_all_matrix()"
   ]
  },
  {
   "cell_type": "code",
   "execution_count": 4,
   "id": "d848d2b0",
   "metadata": {},
   "outputs": [
    {
     "name": "stdout",
     "output_type": "stream",
     "text": [
      "--------------------------loading NMR Graph-------------------------------\n"
     ]
    },
    {
     "name": "stderr",
     "output_type": "stream",
     "text": [
      "  0%|                                          | 1/2310 [00:00<00:37, 62.14it/s]\n"
     ]
    },
    {
     "ename": "KeyError",
     "evalue": "'galnac'",
     "output_type": "error",
     "traceback": [
      "\u001b[0;31m---------------------------------------------------------------------------\u001b[0m",
      "\u001b[0;31mKeyError\u001b[0m                                  Traceback (most recent call last)",
      "File \u001b[0;32m~/anaconda3/envs/3dgnn/lib/python3.11/site-packages/pandas/core/indexes/base.py:3652\u001b[0m, in \u001b[0;36mIndex.get_loc\u001b[0;34m(self, key)\u001b[0m\n\u001b[1;32m   3651\u001b[0m \u001b[38;5;28;01mtry\u001b[39;00m:\n\u001b[0;32m-> 3652\u001b[0m     \u001b[38;5;28;01mreturn\u001b[39;00m \u001b[38;5;28;43mself\u001b[39;49m\u001b[38;5;241;43m.\u001b[39;49m\u001b[43m_engine\u001b[49m\u001b[38;5;241;43m.\u001b[39;49m\u001b[43mget_loc\u001b[49m\u001b[43m(\u001b[49m\u001b[43mcasted_key\u001b[49m\u001b[43m)\u001b[49m\n\u001b[1;32m   3653\u001b[0m \u001b[38;5;28;01mexcept\u001b[39;00m \u001b[38;5;167;01mKeyError\u001b[39;00m \u001b[38;5;28;01mas\u001b[39;00m err:\n",
      "File \u001b[0;32m~/anaconda3/envs/3dgnn/lib/python3.11/site-packages/pandas/_libs/index.pyx:147\u001b[0m, in \u001b[0;36mpandas._libs.index.IndexEngine.get_loc\u001b[0;34m()\u001b[0m\n",
      "File \u001b[0;32m~/anaconda3/envs/3dgnn/lib/python3.11/site-packages/pandas/_libs/index.pyx:176\u001b[0m, in \u001b[0;36mpandas._libs.index.IndexEngine.get_loc\u001b[0;34m()\u001b[0m\n",
      "File \u001b[0;32mpandas/_libs/hashtable_class_helper.pxi:7080\u001b[0m, in \u001b[0;36mpandas._libs.hashtable.PyObjectHashTable.get_item\u001b[0;34m()\u001b[0m\n",
      "File \u001b[0;32mpandas/_libs/hashtable_class_helper.pxi:7088\u001b[0m, in \u001b[0;36mpandas._libs.hashtable.PyObjectHashTable.get_item\u001b[0;34m()\u001b[0m\n",
      "\u001b[0;31mKeyError\u001b[0m: 'galnac'",
      "\nThe above exception was the direct cause of the following exception:\n",
      "\u001b[0;31mKeyError\u001b[0m                                  Traceback (most recent call last)",
      "Cell \u001b[0;32mIn[4], line 10\u001b[0m\n\u001b[1;32m      1\u001b[0m num_test \u001b[38;5;241m=\u001b[39m \u001b[38;5;241m231\u001b[39m\n\u001b[1;32m      2\u001b[0m Create \u001b[38;5;241m=\u001b[39m create_graph(data_dir\u001b[38;5;241m=\u001b[39mdata_dir,\n\u001b[1;32m      3\u001b[0m                       out_atom_name_embed\u001b[38;5;241m=\u001b[39m\u001b[38;5;124m'\u001b[39m\u001b[38;5;124mmerged_embed/atom_name_embed.csv\u001b[39m\u001b[38;5;124m'\u001b[39m,\n\u001b[1;32m      4\u001b[0m                       out_monosaccharide_accurate_embed\u001b[38;5;241m=\u001b[39m\u001b[38;5;124m'\u001b[39m\u001b[38;5;124mmerged_embed/monosaccharide_embed.csv\u001b[39m\u001b[38;5;124m'\u001b[39m,\n\u001b[0;32m   (...)\u001b[0m\n\u001b[1;32m      7\u001b[0m                       out_PF_embed\u001b[38;5;241m=\u001b[39m\u001b[38;5;124m'\u001b[39m\u001b[38;5;124mmerged_embed/pf_embed.csv\u001b[39m\u001b[38;5;124m'\u001b[39m,\n\u001b[1;32m      8\u001b[0m                       num_test\u001b[38;5;241m=\u001b[39mnum_test)\n\u001b[0;32m---> 10\u001b[0m g, test_index \u001b[38;5;241m=\u001b[39m \u001b[43mCreate\u001b[49m\u001b[38;5;241;43m.\u001b[39;49m\u001b[43mcreate_all_graph\u001b[49m\u001b[43m(\u001b[49m\u001b[43m)\u001b[49m\n",
      "File \u001b[0;32m~/Desktop/Projects/Project16_NMR_transfer/preprocess/create_graph/create_graph_data_godess.py:291\u001b[0m, in \u001b[0;36mcreate_graph.create_all_graph\u001b[0;34m(self)\u001b[0m\n\u001b[1;32m    289\u001b[0m     temp_g \u001b[38;5;241m=\u001b[39m \u001b[38;5;28mself\u001b[39m\u001b[38;5;241m.\u001b[39mcreate_single_graph(f, in_train_set\u001b[38;5;241m=\u001b[39m\u001b[38;5;28;01mFalse\u001b[39;00m, in_test_set\u001b[38;5;241m=\u001b[39m\u001b[38;5;28;01mTrue\u001b[39;00m)\n\u001b[1;32m    290\u001b[0m \u001b[38;5;28;01melif\u001b[39;00m train_test_indicator[i] \u001b[38;5;241m==\u001b[39m \u001b[38;5;241m0\u001b[39m:\n\u001b[0;32m--> 291\u001b[0m     temp_g \u001b[38;5;241m=\u001b[39m \u001b[38;5;28;43mself\u001b[39;49m\u001b[38;5;241;43m.\u001b[39;49m\u001b[43mcreate_single_graph\u001b[49m\u001b[43m(\u001b[49m\u001b[43mf\u001b[49m\u001b[43m,\u001b[49m\u001b[43m \u001b[49m\u001b[43min_train_set\u001b[49m\u001b[38;5;241;43m=\u001b[39;49m\u001b[38;5;28;43;01mTrue\u001b[39;49;00m\u001b[43m,\u001b[49m\u001b[43m \u001b[49m\u001b[43min_test_set\u001b[49m\u001b[38;5;241;43m=\u001b[39;49m\u001b[38;5;28;43;01mFalse\u001b[39;49;00m\u001b[43m)\u001b[49m\n\u001b[1;32m    292\u001b[0m \u001b[38;5;28;01melif\u001b[39;00m train_test_indicator[i] \u001b[38;5;241m==\u001b[39m \u001b[38;5;241m-\u001b[39m\u001b[38;5;241m1\u001b[39m:\n\u001b[1;32m    293\u001b[0m     \u001b[38;5;28mprint\u001b[39m(f, \u001b[38;5;124m'\u001b[39m\u001b[38;5;124mis dropped due to rare monosaccharide appearance\u001b[39m\u001b[38;5;124m'\u001b[39m)\n",
      "File \u001b[0;32m~/Desktop/Projects/Project16_NMR_transfer/preprocess/create_graph/create_graph_data_godess.py:200\u001b[0m, in \u001b[0;36mcreate_graph.create_single_graph\u001b[0;34m(self, f1, in_train_set, in_test_set)\u001b[0m\n\u001b[1;32m    198\u001b[0m c_bound_dl_embed \u001b[38;5;241m=\u001b[39m \u001b[38;5;28mself\u001b[39m\u001b[38;5;241m.\u001b[39mbound_dl_embed[c_dl]\n\u001b[1;32m    199\u001b[0m c_carbon_pf_embed \u001b[38;5;241m=\u001b[39m \u001b[38;5;28mself\u001b[39m\u001b[38;5;241m.\u001b[39mcarbon_pf_embed[c_pf]\n\u001b[0;32m--> 200\u001b[0m c_monosaccharide_simple_embed \u001b[38;5;241m=\u001b[39m \u001b[38;5;28;43mself\u001b[39;49m\u001b[38;5;241;43m.\u001b[39;49m\u001b[43mmonosaccharide_simple_embed\u001b[49m\u001b[43m[\u001b[49m\u001b[43mc_mono_simple\u001b[49m\u001b[43m]\u001b[49m\n\u001b[1;32m    201\u001b[0m c_me_embed \u001b[38;5;241m=\u001b[39m \u001b[38;5;28mself\u001b[39m\u001b[38;5;241m.\u001b[39mme_embed[\u001b[38;5;28mstr\u001b[39m(c_me)]\n\u001b[1;32m    202\u001b[0m c_ser_embed \u001b[38;5;241m=\u001b[39m \u001b[38;5;28mself\u001b[39m\u001b[38;5;241m.\u001b[39mser_embed[\u001b[38;5;28mstr\u001b[39m(c_ser)]\n",
      "File \u001b[0;32m~/anaconda3/envs/3dgnn/lib/python3.11/site-packages/pandas/core/frame.py:3761\u001b[0m, in \u001b[0;36mDataFrame.__getitem__\u001b[0;34m(self, key)\u001b[0m\n\u001b[1;32m   3759\u001b[0m \u001b[38;5;28;01mif\u001b[39;00m \u001b[38;5;28mself\u001b[39m\u001b[38;5;241m.\u001b[39mcolumns\u001b[38;5;241m.\u001b[39mnlevels \u001b[38;5;241m>\u001b[39m \u001b[38;5;241m1\u001b[39m:\n\u001b[1;32m   3760\u001b[0m     \u001b[38;5;28;01mreturn\u001b[39;00m \u001b[38;5;28mself\u001b[39m\u001b[38;5;241m.\u001b[39m_getitem_multilevel(key)\n\u001b[0;32m-> 3761\u001b[0m indexer \u001b[38;5;241m=\u001b[39m \u001b[38;5;28;43mself\u001b[39;49m\u001b[38;5;241;43m.\u001b[39;49m\u001b[43mcolumns\u001b[49m\u001b[38;5;241;43m.\u001b[39;49m\u001b[43mget_loc\u001b[49m\u001b[43m(\u001b[49m\u001b[43mkey\u001b[49m\u001b[43m)\u001b[49m\n\u001b[1;32m   3762\u001b[0m \u001b[38;5;28;01mif\u001b[39;00m is_integer(indexer):\n\u001b[1;32m   3763\u001b[0m     indexer \u001b[38;5;241m=\u001b[39m [indexer]\n",
      "File \u001b[0;32m~/anaconda3/envs/3dgnn/lib/python3.11/site-packages/pandas/core/indexes/base.py:3654\u001b[0m, in \u001b[0;36mIndex.get_loc\u001b[0;34m(self, key)\u001b[0m\n\u001b[1;32m   3652\u001b[0m     \u001b[38;5;28;01mreturn\u001b[39;00m \u001b[38;5;28mself\u001b[39m\u001b[38;5;241m.\u001b[39m_engine\u001b[38;5;241m.\u001b[39mget_loc(casted_key)\n\u001b[1;32m   3653\u001b[0m \u001b[38;5;28;01mexcept\u001b[39;00m \u001b[38;5;167;01mKeyError\u001b[39;00m \u001b[38;5;28;01mas\u001b[39;00m err:\n\u001b[0;32m-> 3654\u001b[0m     \u001b[38;5;28;01mraise\u001b[39;00m \u001b[38;5;167;01mKeyError\u001b[39;00m(key) \u001b[38;5;28;01mfrom\u001b[39;00m \u001b[38;5;21;01merr\u001b[39;00m\n\u001b[1;32m   3655\u001b[0m \u001b[38;5;28;01mexcept\u001b[39;00m \u001b[38;5;167;01mTypeError\u001b[39;00m:\n\u001b[1;32m   3656\u001b[0m     \u001b[38;5;66;03m# If we have a listlike key, _check_indexing_error will raise\u001b[39;00m\n\u001b[1;32m   3657\u001b[0m     \u001b[38;5;66;03m#  InvalidIndexError. Otherwise we fall through and re-raise\u001b[39;00m\n\u001b[1;32m   3658\u001b[0m     \u001b[38;5;66;03m#  the TypeError.\u001b[39;00m\n\u001b[1;32m   3659\u001b[0m     \u001b[38;5;28mself\u001b[39m\u001b[38;5;241m.\u001b[39m_check_indexing_error(key)\n",
      "\u001b[0;31mKeyError\u001b[0m: 'galnac'"
     ]
    }
   ],
   "source": [
    "num_test = 231\n",
    "Create = create_graph(data_dir=data_dir,\n",
    "                      out_atom_name_embed='merged_embed/atom_name_embed.csv',\n",
    "                      out_monosaccharide_simple_embed='merged_embed/monosaccharide_embed.csv',\n",
    "                      out_bound_AB_embed='merged_embed/ab_embed.csv',\n",
    "                      out_DL_embed='merged_embed/dl_embed.csv',\n",
    "                      out_PF_embed='merged_embed/pf_embed.csv',\n",
    "                      num_test=num_test)\n",
    "\n",
    "g, test_index = Create.create_all_graph()"
   ]
  },
  {
   "cell_type": "code",
   "execution_count": null,
   "id": "775a8af4",
   "metadata": {},
   "outputs": [],
   "source": []
  },
  {
   "cell_type": "code",
   "execution_count": null,
   "id": "ac307425",
   "metadata": {},
   "outputs": [],
   "source": []
  },
  {
   "cell_type": "code",
   "execution_count": null,
   "id": "84b0aec6",
   "metadata": {},
   "outputs": [],
   "source": []
  },
  {
   "cell_type": "code",
   "execution_count": null,
   "id": "c3cd472e",
   "metadata": {},
   "outputs": [],
   "source": []
  },
  {
   "cell_type": "code",
   "execution_count": null,
   "id": "b3a801dd",
   "metadata": {},
   "outputs": [],
   "source": []
  }
 ],
 "metadata": {
  "kernelspec": {
   "display_name": "Python [conda env:3dgnn]",
   "language": "python",
   "name": "conda-env-3dgnn-py"
  },
  "language_info": {
   "codemirror_mode": {
    "name": "ipython",
    "version": 3
   },
   "file_extension": ".py",
   "mimetype": "text/x-python",
   "name": "python",
   "nbconvert_exporter": "python",
   "pygments_lexer": "ipython3",
   "version": "3.11.3"
  }
 },
 "nbformat": 4,
 "nbformat_minor": 5
}
