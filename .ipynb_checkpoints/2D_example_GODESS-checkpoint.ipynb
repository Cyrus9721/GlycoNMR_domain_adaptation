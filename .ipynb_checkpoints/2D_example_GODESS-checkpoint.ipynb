{
 "cells": [
  {
   "cell_type": "code",
   "execution_count": 1,
   "id": "828e72a7",
   "metadata": {},
   "outputs": [],
   "source": [
    "import numpy as np\n",
    "import pandas as pd\n",
    "import os\n",
    "from tqdm import tqdm\n",
    "import torch\n",
    "import torch.nn as nn\n",
    "\n",
    "# from train_evaluate import NMR_prediction\n",
    "\n",
    "import torch.nn.functional as F\n",
    "import dgl\n",
    "import dgl.nn as dglnn\n",
    "import torch.nn as nn\n",
    "from dgl import AddSelfLoop\n",
    "\n",
    "from model_2d.NMR_gcn import NMR_GCN\n",
    "\n",
    "from train_evaluate_2d import NMR_prediction\n",
    "\n",
    "from preprocess.create_node_embedding.node_embeddings_godess import create_node_embeddings\n",
    "\n",
    "from preprocess.build_adjaency_matrix.create_adjaency_matrix_godess import build_adjacency_matrix\n",
    "\n",
    "from preprocess.create_graph.create_graph_data_godess import create_graph\n",
    "\n",
    "# from dgl import save_graphs, load_graphs\n",
    "# from tqdm import tqdm\n",
    "from dgl import save_graphs, load_graphs\n"
   ]
  },
  {
   "cell_type": "markdown",
   "id": "7953f988",
   "metadata": {},
   "source": [
    "##### 1, Create Node embeddings\n",
    "\n"
   ]
  },
  {
   "cell_type": "markdown",
   "id": "7abcb116",
   "metadata": {},
   "source": [
    "\n",
    "##### Initialize atom-level node embeddings based on extracted atom and monosaccharide features. \n",
    "\n",
    "1, atom name: atom name that indicate ring position, Eg: 04, C4, C3...\n",
    "\n",
    "2, bound_orig: monosaccharide's bound information from original pdb file.\n",
    "\n",
    "3, atom_type: general atom type Eg. O, C, H, N.\n",
    "\n",
    "4, ab_list: anomeric orientation of hydroxyl group.\n",
    "\n",
    "5, dl_list: fischer convention, fischer d, l.\n",
    "\n",
    "6, pf_list: number of carbon p, f.\n",
    "\n",
    "7, mono_accurate_list: accurate monosaccharide name, a-D-Glcp.\n",
    "\n",
    "8, mono_simple_list: simple monosaccharide name, glc.\n",
    "\n",
    "9, me_list: Me root interatction.\n",
    "\n",
    "10, ser_list: Ser root interaction.\n",
    "\n",
    "11, s_list: Sulfur residue effect.\n",
    "\n",
    "12, ac_list: Ac residue effect.\n",
    "\n",
    "13, gc_list: Gc residue effect."
   ]
  },
  {
   "cell_type": "code",
   "execution_count": 2,
   "id": "928fea69",
   "metadata": {},
   "outputs": [],
   "source": [
    "# data directory\n",
    "data_dir = 'godess/data/'\n",
    "\n",
    "# define the lengtht of the embeddings of each feature\n",
    "atom_name_dim=256\n",
    "\n",
    "bound_orig_dim=32\n",
    "\n",
    "atom_type_dim=32\n",
    "\n",
    "ab_dim=64\n",
    "\n",
    "dl_dim=64\n",
    "\n",
    "pf_dim=64\n",
    "\n",
    "mono_accurate_dim=128\n",
    "\n",
    "mono_simple_dim=256\n",
    "\n",
    "me_dim=32\n",
    "\n",
    "ser_dim=32\n",
    "\n",
    "s_dim=64\n",
    "\n",
    "ac_dim=64\n",
    "\n",
    "gc_dim=32"
   ]
  },
  {
   "cell_type": "code",
   "execution_count": 3,
   "id": "6051f773",
   "metadata": {},
   "outputs": [
    {
     "name": "stderr",
     "output_type": "stream",
     "text": [
      "100%|██████████████████████████████████████| 2310/2310 [00:05<00:00, 409.40it/s]\n"
     ]
    }
   ],
   "source": [
    "\n",
    "\n",
    "C = create_node_embeddings(data_dir = data_dir)\n",
    "C.write_all_embeddings(atom_name_dim = atom_name_dim, bound_orig_dim = bound_orig_dim, \n",
    "                           atom_type_dim = atom_type_dim, ab_dim = ab_dim, dl_dim = dl_dim,\n",
    "                           pf_dim = pf_dim, mono_accurate_dim = mono_accurate_dim, \n",
    "                           mono_simple_dim = mono_simple_dim, me_dim=me_dim, \n",
    "                          ser_dim=ser_dim, s_dim=s_dim, ac_dim=ac_dim, gc_dim=gc_dim)"
   ]
  },
  {
   "cell_type": "markdown",
   "id": "b4af88e5",
   "metadata": {},
   "source": [
    "##### 2, Build Adjaency matrix"
   ]
  },
  {
   "cell_type": "markdown",
   "id": "79d452b3",
   "metadata": {},
   "source": [
    "##### Build adjaency matrix based on threshold distance between atoms\n",
    "\n",
    "1, threshold_carbon: we construct edges between two carbon atom if their distance is within 1.65Å. \n",
    "\n",
    "2, threshold_hydrogen: we construct edges between two hydrogen atom if their distance is within 1.18Å. \n",
    "\n",
    "3, threshold_general: for all other atoms, we construct edges between distance two atom is within 1.5Å. \n",
    "\n",
    "4, threshold_interaction: we construct interaction edges between atoms if their distance is with in 5Å. \n"
   ]
  },
  {
   "cell_type": "code",
   "execution_count": 4,
   "id": "44887fc7",
   "metadata": {},
   "outputs": [],
   "source": [
    "threshold_carbon=1.65\n",
    "\n",
    "threshold_hydrogen=1.18\n",
    "\n",
    "threshold_general=1.5\n",
    "\n",
    "threshold_interaction=5.0"
   ]
  },
  {
   "cell_type": "code",
   "execution_count": 5,
   "id": "3c2bd6e5",
   "metadata": {},
   "outputs": [
    {
     "name": "stderr",
     "output_type": "stream",
     "text": [
      "100%|███████████████████████████████████████| 2310/2310 [01:29<00:00, 25.92it/s]\n"
     ]
    }
   ],
   "source": [
    "B = build_adjacency_matrix(labeled_pdb_dir = data_dir,\n",
    "                           threshold_carbon=threshold_carbon,\n",
    "                           threshold_hydrogen=threshold_hydrogen, \n",
    "                           threshold_general=threshold_general, \n",
    "                           threshold_interaction=threshold_interaction)\n",
    "B.calculate_all_matrix()"
   ]
  },
  {
   "cell_type": "markdown",
   "id": "553360a4",
   "metadata": {},
   "source": [
    "###### 3, Create glycan graph"
   ]
  },
  {
   "cell_type": "markdown",
   "id": "63c40280",
   "metadata": {},
   "source": [
    "##### create glycan graph from prebuilt node embeddings and adjaency matrix, every glycan is considered as a graph and every atom is consided as a node\n",
    "\n",
    "1, num_test: number of testing glycans, we randomly select 20% of the glycans as test set"
   ]
  },
  {
   "cell_type": "code",
   "execution_count": 6,
   "id": "ef625976",
   "metadata": {},
   "outputs": [
    {
     "name": "stdout",
     "output_type": "stream",
     "text": [
      "--------------------------loading NMR Graph-------------------------------\n"
     ]
    },
    {
     "name": "stderr",
     "output_type": "stream",
     "text": [
      "100%|███████████████████████████████████████| 2310/2310 [01:38<00:00, 23.48it/s]\n"
     ]
    }
   ],
   "source": [
    "num_test = 462\n",
    "Create = create_graph(data_dir=data_dir, num_test=num_test)\n",
    "g, test_index = Create.create_all_graph()"
   ]
  },
  {
   "cell_type": "markdown",
   "id": "ceeaa34e",
   "metadata": {},
   "source": [
    "###### 4, Train a simple gcn model\n"
   ]
  },
  {
   "cell_type": "code",
   "execution_count": 7,
   "id": "cea2dce5",
   "metadata": {},
   "outputs": [
    {
     "data": {
      "text/plain": [
       "tensor([False, False, False,  ..., False, False, False])"
      ]
     },
     "execution_count": 7,
     "metadata": {},
     "output_type": "execute_result"
    }
   ],
   "source": [
    "g.ndata['z']\n",
    "g.ndata['train_carbon_mask']"
   ]
  },
  {
   "cell_type": "code",
   "execution_count": null,
   "id": "175208fc",
   "metadata": {},
   "outputs": [],
   "source": []
  },
  {
   "cell_type": "code",
   "execution_count": 8,
   "id": "1ecd30fe",
   "metadata": {},
   "outputs": [],
   "source": [
    "# in_size = atom_name_dim + ab_dim + dl_dim + \\\n",
    "#             pf_dim + mono_simple_dim + me_dim + ser_dim + \\\n",
    "#             s_dim + ac_dim + gc_dim\n",
    "in_size = atom_name_dim\n",
    "\n",
    "hidden_size_1 = int(in_size / 2)\n",
    "hidden_size_2 = int(hidden_size_1 / 2)\n",
    "hidden_size_3 = 256\n",
    "hidden_size_4 = 128\n",
    "\n",
    "num_epoch = 2000\n",
    "lr = 1e-3"
   ]
  },
  {
   "cell_type": "code",
   "execution_count": 9,
   "id": "6081be5c",
   "metadata": {},
   "outputs": [
    {
     "name": "stdout",
     "output_type": "stream",
     "text": [
      "Training...\n"
     ]
    },
    {
     "name": "stderr",
     "output_type": "stream",
     "text": [
      "  0%|                                          | 3/2000 [00:00<07:48,  4.26it/s]"
     ]
    },
    {
     "name": "stdout",
     "output_type": "stream",
     "text": [
      "19929\n",
      "80921\n",
      "Epoch 00000 | Loss 15.7341 | train_RMSE 3.7569 | test_RMSE 3.7531 \n",
      "19929\n",
      "80921\n",
      "Epoch 00001 | Loss 14.1197 | train_RMSE 3.5351 | test_RMSE 3.5317 \n",
      "19929\n",
      "80921\n",
      "Epoch 00002 | Loss 12.5034 | train_RMSE 3.2288 | test_RMSE 3.2264 \n",
      "19929\n",
      "80921\n",
      "Epoch 00003 | Loss 10.4459 | train_RMSE 2.7981 | test_RMSE 2.7974 \n"
     ]
    },
    {
     "name": "stderr",
     "output_type": "stream",
     "text": [
      "  0%|▏                                         | 8/2000 [00:01<03:02, 10.90it/s]"
     ]
    },
    {
     "name": "stdout",
     "output_type": "stream",
     "text": [
      "19929\n",
      "80921\n",
      "Epoch 00004 | Loss 7.8793 | train_RMSE 2.2152 | test_RMSE 2.2174 \n",
      "19929\n",
      "80921\n",
      "Epoch 00005 | Loss 5.0276 | train_RMSE 1.5017 | test_RMSE 1.5089 \n",
      "19929\n",
      "80921\n",
      "Epoch 00006 | Loss 2.4816 | train_RMSE 1.0119 | test_RMSE 1.0244 \n",
      "19929\n",
      "80921\n",
      "Epoch 00007 | Loss 1.4795 | train_RMSE 1.4386 | test_RMSE 1.4440 \n",
      "19929\n"
     ]
    },
    {
     "name": "stderr",
     "output_type": "stream",
     "text": [
      "\r",
      "  1%|▏                                        | 11/2000 [00:01<02:25, 13.70it/s]"
     ]
    },
    {
     "name": "stdout",
     "output_type": "stream",
     "text": [
      "80921\n",
      "Epoch 00008 | Loss 2.7958 | train_RMSE 1.7287 | test_RMSE 1.7306 \n",
      "19929\n",
      "80921\n",
      "Epoch 00009 | Loss 3.8252 | train_RMSE 1.5420 | test_RMSE 1.5445 \n",
      "19929\n",
      "80921\n",
      "Epoch 00010 | Loss 3.1823 | train_RMSE 1.1302 | test_RMSE 1.1360 \n",
      "19929\n",
      "80921\n",
      "Epoch 00011 | Loss 1.9464 | train_RMSE 0.7840 | test_RMSE 0.7946 \n",
      "19929\n",
      "80921\n",
      "Epoch 00012 | Loss 1.1566 | train_RMSE 0.7616 | test_RMSE 0.7725 \n"
     ]
    },
    {
     "name": "stderr",
     "output_type": "stream",
     "text": [
      "  1%|▎                                        | 17/2000 [00:01<01:56, 16.99it/s]"
     ]
    },
    {
     "name": "stdout",
     "output_type": "stream",
     "text": [
      "19929\n",
      "80921\n",
      "Epoch 00013 | Loss 1.0054 | train_RMSE 0.9626 | test_RMSE 0.9699 \n",
      "19929\n",
      "80921\n",
      "Epoch 00014 | Loss 1.2604 | train_RMSE 1.1571 | test_RMSE 1.1617 \n",
      "19929\n",
      "80921\n",
      "Epoch 00015 | Loss 1.6166 | train_RMSE 1.2673 | test_RMSE 1.2702 \n",
      "19929\n",
      "80921\n",
      "Epoch 00016 | Loss 1.8556 | train_RMSE 1.2857 | test_RMSE 1.2877 \n"
     ]
    },
    {
     "name": "stderr",
     "output_type": "stream",
     "text": [
      "\r",
      "  1%|▍                                        | 20/2000 [00:01<01:48, 18.20it/s]"
     ]
    },
    {
     "name": "stdout",
     "output_type": "stream",
     "text": [
      "19929\n",
      "80921\n",
      "Epoch 00017 | Loss 1.8888 | train_RMSE 1.2198 | test_RMSE 1.2213 \n",
      "19929\n",
      "80921\n",
      "Epoch 00018 | Loss 1.7236 | train_RMSE 1.0814 | test_RMSE 1.0828 \n",
      "19929\n",
      "80921\n",
      "Epoch 00019 | Loss 1.4177 | train_RMSE 0.8890 | test_RMSE 0.8905 \n",
      "19929\n",
      "80921\n",
      "Epoch 00020 | Loss 1.0760 | train_RMSE 0.6784 | test_RMSE 0.6801 \n",
      "19929\n",
      "80921\n",
      "Epoch 00021 | Loss 0.7918 | train_RMSE 0.5267 | test_RMSE 0.5283 \n"
     ]
    },
    {
     "name": "stderr",
     "output_type": "stream",
     "text": [
      "  1%|▌                                        | 26/2000 [00:01<01:40, 19.72it/s]"
     ]
    },
    {
     "name": "stdout",
     "output_type": "stream",
     "text": [
      "19929\n",
      "80921\n",
      "Epoch 00022 | Loss 0.6559 | train_RMSE 0.5307 | test_RMSE 0.5313 \n",
      "19929\n",
      "80921\n",
      "Epoch 00023 | Loss 0.7148 | train_RMSE 0.6374 | test_RMSE 0.6370 \n",
      "19929\n",
      "80921\n",
      "Epoch 00024 | Loss 0.8825 | train_RMSE 0.7119 | test_RMSE 0.7111 \n",
      "19929\n",
      "80921\n",
      "Epoch 00025 | Loss 0.9992 | train_RMSE 0.6965 | test_RMSE 0.6955 \n",
      "19929\n",
      "80921\n",
      "Epoch 00026 | Loss 0.9789 | train_RMSE 0.6034 | test_RMSE 0.6026 \n"
     ]
    },
    {
     "name": "stderr",
     "output_type": "stream",
     "text": [
      "\r",
      "  1%|▌                                        | 29/2000 [00:02<01:37, 20.16it/s]"
     ]
    },
    {
     "name": "stdout",
     "output_type": "stream",
     "text": [
      "19929\n",
      "80921\n",
      "Epoch 00027 | Loss 0.8198 | train_RMSE 0.4954 | test_RMSE 0.4945 \n",
      "19929\n",
      "80921\n",
      "Epoch 00028 | Loss 0.6679 | train_RMSE 0.4507 | test_RMSE 0.4493 \n",
      "19929\n",
      "80921\n",
      "Epoch 00029 | Loss 0.5776 | train_RMSE 0.4962 | test_RMSE 0.4941 \n",
      "19929\n",
      "80921\n",
      "Epoch 00030 | Loss 0.5772 | train_RMSE 0.5770 | test_RMSE 0.5744 \n",
      "19929\n"
     ]
    },
    {
     "name": "stderr",
     "output_type": "stream",
     "text": [
      "  2%|▋                                        | 35/2000 [00:02<01:35, 20.64it/s]"
     ]
    },
    {
     "name": "stdout",
     "output_type": "stream",
     "text": [
      "80921\n",
      "Epoch 00031 | Loss 0.6351 | train_RMSE 0.6404 | test_RMSE 0.6374 \n",
      "19929\n",
      "80921\n",
      "Epoch 00032 | Loss 0.6914 | train_RMSE 0.6637 | test_RMSE 0.6605 \n",
      "19929\n",
      "80921\n",
      "Epoch 00033 | Loss 0.7133 | train_RMSE 0.6425 | test_RMSE 0.6392 \n",
      "19929\n",
      "80921\n",
      "Epoch 00034 | Loss 0.6863 | train_RMSE 0.5833 | test_RMSE 0.5801 \n",
      "19929\n",
      "80921\n",
      "Epoch 00035 | Loss 0.6220 | train_RMSE 0.5029 | test_RMSE 0.4998 \n"
     ]
    },
    {
     "name": "stderr",
     "output_type": "stream",
     "text": [
      "\r",
      "  2%|▊                                        | 38/2000 [00:02<01:34, 20.74it/s]"
     ]
    },
    {
     "name": "stdout",
     "output_type": "stream",
     "text": [
      "19929\n",
      "80921\n",
      "Epoch 00036 | Loss 0.5483 | train_RMSE 0.4289 | test_RMSE 0.4260 \n",
      "19929\n",
      "80921\n",
      "Epoch 00037 | Loss 0.4986 | train_RMSE 0.3932 | test_RMSE 0.3908 \n",
      "19929\n",
      "80921\n",
      "Epoch 00038 | Loss 0.4929 | train_RMSE 0.4032 | test_RMSE 0.4013 \n",
      "19929\n",
      "80921\n",
      "Epoch 00039 | Loss 0.5166 | train_RMSE 0.4293 | test_RMSE 0.4276 \n",
      "19929\n"
     ]
    },
    {
     "name": "stderr",
     "output_type": "stream",
     "text": [
      "  2%|▉                                        | 44/2000 [00:02<01:33, 20.98it/s]"
     ]
    },
    {
     "name": "stdout",
     "output_type": "stream",
     "text": [
      "80921\n",
      "Epoch 00040 | Loss 0.5517 | train_RMSE 0.4394 | test_RMSE 0.4377 \n",
      "19929\n",
      "80921\n",
      "Epoch 00041 | Loss 0.5583 | train_RMSE 0.4237 | test_RMSE 0.4216 \n",
      "19929\n",
      "80921\n",
      "Epoch 00042 | Loss 0.5404 | train_RMSE 0.3954 | test_RMSE 0.3930 \n",
      "19929\n",
      "80921\n",
      "Epoch 00043 | Loss 0.5022 | train_RMSE 0.3793 | test_RMSE 0.3763 \n",
      "19929\n",
      "80921\n",
      "Epoch 00044 | Loss 0.4665 | train_RMSE 0.3899 | test_RMSE 0.3864 \n"
     ]
    },
    {
     "name": "stderr",
     "output_type": "stream",
     "text": [
      "  2%|█                                        | 50/2000 [00:03<01:32, 21.12it/s]"
     ]
    },
    {
     "name": "stdout",
     "output_type": "stream",
     "text": [
      "19929\n",
      "80921\n",
      "Epoch 00045 | Loss 0.4557 | train_RMSE 0.4185 | test_RMSE 0.4149 \n",
      "19929\n",
      "80921\n",
      "Epoch 00046 | Loss 0.4602 | train_RMSE 0.4458 | test_RMSE 0.4421 \n",
      "19929\n",
      "80921\n",
      "Epoch 00047 | Loss 0.4754 | train_RMSE 0.4575 | test_RMSE 0.4538 \n",
      "19929\n",
      "80921\n",
      "Epoch 00048 | Loss 0.4850 | train_RMSE 0.4485 | test_RMSE 0.4449 \n",
      "19929\n",
      "80921\n",
      "Epoch 00049 | Loss 0.4711 | train_RMSE 0.4233 | test_RMSE 0.4198 \n"
     ]
    },
    {
     "name": "stderr",
     "output_type": "stream",
     "text": [
      "\r",
      "  3%|█                                        | 53/2000 [00:03<01:34, 20.54it/s]"
     ]
    },
    {
     "name": "stdout",
     "output_type": "stream",
     "text": [
      "19929\n",
      "80921\n",
      "Epoch 00050 | Loss 0.4543 | train_RMSE 0.3924 | test_RMSE 0.3891 \n",
      "19929\n",
      "80921\n",
      "Epoch 00051 | Loss 0.4373 | train_RMSE 0.3682 | test_RMSE 0.3652 \n",
      "19929\n",
      "80921\n",
      "Epoch 00052 | Loss 0.4281 | train_RMSE 0.3581 | test_RMSE 0.3555 \n",
      "19929\n",
      "80921\n",
      "Epoch 00053 | Loss 0.4351 | train_RMSE 0.3580 | test_RMSE 0.3556 \n",
      "19929\n"
     ]
    },
    {
     "name": "stderr",
     "output_type": "stream",
     "text": [
      "  3%|█▏                                       | 59/2000 [00:03<01:33, 20.82it/s]"
     ]
    },
    {
     "name": "stdout",
     "output_type": "stream",
     "text": [
      "80921\n",
      "Epoch 00054 | Loss 0.4361 | train_RMSE 0.3582 | test_RMSE 0.3559 \n",
      "19929\n",
      "80921\n",
      "Epoch 00055 | Loss 0.4377 | train_RMSE 0.3532 | test_RMSE 0.3510 \n",
      "19929\n",
      "80921\n",
      "Epoch 00056 | Loss 0.4268 | train_RMSE 0.3464 | test_RMSE 0.3440 \n",
      "19929\n",
      "80921\n",
      "Epoch 00057 | Loss 0.4164 | train_RMSE 0.3451 | test_RMSE 0.3425 \n",
      "19929\n",
      "80921\n",
      "Epoch 00058 | Loss 0.4092 | train_RMSE 0.3531 | test_RMSE 0.3502 \n"
     ]
    },
    {
     "name": "stderr",
     "output_type": "stream",
     "text": [
      "\r",
      "  3%|█▎                                       | 62/2000 [00:03<01:32, 20.91it/s]"
     ]
    },
    {
     "name": "stdout",
     "output_type": "stream",
     "text": [
      "19929\n",
      "80921\n",
      "Epoch 00059 | Loss 0.3990 | train_RMSE 0.3664 | test_RMSE 0.3633 \n",
      "19929\n",
      "80921\n",
      "Epoch 00060 | Loss 0.4011 | train_RMSE 0.3773 | test_RMSE 0.3740 \n",
      "19929\n",
      "80921\n",
      "Epoch 00061 | Loss 0.4030 | train_RMSE 0.3793 | test_RMSE 0.3760 \n",
      "19929\n",
      "80921\n",
      "Epoch 00062 | Loss 0.4046 | train_RMSE 0.3712 | test_RMSE 0.3679 \n",
      "19929\n",
      "80921\n",
      "Epoch 00063 | Loss 0.3970 | train_RMSE 0.3567 | test_RMSE 0.3534 \n"
     ]
    },
    {
     "name": "stderr",
     "output_type": "stream",
     "text": [
      "  3%|█▍                                       | 68/2000 [00:03<01:32, 20.95it/s]"
     ]
    },
    {
     "name": "stdout",
     "output_type": "stream",
     "text": [
      "19929\n",
      "80921\n",
      "Epoch 00064 | Loss 0.3920 | train_RMSE 0.3418 | test_RMSE 0.3387 \n",
      "19929\n",
      "80921\n",
      "Epoch 00065 | Loss 0.3831 | train_RMSE 0.3319 | test_RMSE 0.3289 \n",
      "19929\n",
      "80921\n",
      "Epoch 00066 | Loss 0.3816 | train_RMSE 0.3275 | test_RMSE 0.3247 \n",
      "19929\n",
      "80921\n",
      "Epoch 00067 | Loss 0.3797 | train_RMSE 0.3257 | test_RMSE 0.3231 \n",
      "19929\n"
     ]
    },
    {
     "name": "stderr",
     "output_type": "stream",
     "text": [
      "\r",
      "  4%|█▍                                       | 71/2000 [00:04<01:32, 20.94it/s]"
     ]
    },
    {
     "name": "stdout",
     "output_type": "stream",
     "text": [
      "80921\n",
      "Epoch 00068 | Loss 0.3781 | train_RMSE 0.3240 | test_RMSE 0.3214 \n",
      "19929\n",
      "80921\n",
      "Epoch 00069 | Loss 0.3757 | train_RMSE 0.3226 | test_RMSE 0.3199 \n",
      "19929\n",
      "80921\n",
      "Epoch 00070 | Loss 0.3737 | train_RMSE 0.3240 | test_RMSE 0.3213 \n",
      "19929\n",
      "80921\n",
      "Epoch 00071 | Loss 0.3652 | train_RMSE 0.3289 | test_RMSE 0.3260 \n",
      "19929\n",
      "80921\n",
      "Epoch 00072 | Loss 0.3651 | train_RMSE 0.3345 | test_RMSE 0.3316 \n"
     ]
    },
    {
     "name": "stderr",
     "output_type": "stream",
     "text": [
      "  4%|█▌                                       | 77/2000 [00:04<01:31, 20.91it/s]"
     ]
    },
    {
     "name": "stdout",
     "output_type": "stream",
     "text": [
      "19929\n",
      "80921\n",
      "Epoch 00073 | Loss 0.3627 | train_RMSE 0.3370 | test_RMSE 0.3340 \n",
      "19929\n",
      "80921\n",
      "Epoch 00074 | Loss 0.3607 | train_RMSE 0.3342 | test_RMSE 0.3312 \n",
      "19929\n",
      "80921\n",
      "Epoch 00075 | Loss 0.3573 | train_RMSE 0.3270 | test_RMSE 0.3240 \n",
      "19929\n",
      "80921\n",
      "Epoch 00076 | Loss 0.3540 | train_RMSE 0.3184 | test_RMSE 0.3156 \n",
      "19929\n"
     ]
    },
    {
     "name": "stderr",
     "output_type": "stream",
     "text": [
      "\r",
      "  4%|█▋                                       | 80/2000 [00:04<01:31, 20.98it/s]"
     ]
    },
    {
     "name": "stdout",
     "output_type": "stream",
     "text": [
      "80921\n",
      "Epoch 00077 | Loss 0.3487 | train_RMSE 0.3116 | test_RMSE 0.3089 \n",
      "19929\n",
      "80921\n",
      "Epoch 00078 | Loss 0.3451 | train_RMSE 0.3077 | test_RMSE 0.3051 \n",
      "19929\n",
      "80921\n",
      "Epoch 00079 | Loss 0.3463 | train_RMSE 0.3056 | test_RMSE 0.3030 \n",
      "19929\n",
      "80921\n",
      "Epoch 00080 | Loss 0.3458 | train_RMSE 0.3046 | test_RMSE 0.3020 \n",
      "19929\n",
      "80921\n",
      "Epoch 00081 | Loss 0.3409 | train_RMSE 0.3050 | test_RMSE 0.3022 \n"
     ]
    },
    {
     "name": "stderr",
     "output_type": "stream",
     "text": [
      "  4%|█▊                                       | 86/2000 [00:04<01:30, 21.04it/s]"
     ]
    },
    {
     "name": "stdout",
     "output_type": "stream",
     "text": [
      "19929\n",
      "80921\n",
      "Epoch 00082 | Loss 0.3365 | train_RMSE 0.3069 | test_RMSE 0.3040 \n",
      "19929\n",
      "80921\n",
      "Epoch 00083 | Loss 0.3370 | train_RMSE 0.3099 | test_RMSE 0.3069 \n",
      "19929\n",
      "80921\n",
      "Epoch 00084 | Loss 0.3318 | train_RMSE 0.3119 | test_RMSE 0.3088 \n",
      "19929\n",
      "80921\n",
      "Epoch 00085 | Loss 0.3305 | train_RMSE 0.3109 | test_RMSE 0.3079 \n",
      "19929\n"
     ]
    },
    {
     "name": "stderr",
     "output_type": "stream",
     "text": [
      "\r",
      "  4%|█▊                                       | 89/2000 [00:04<01:31, 20.99it/s]"
     ]
    },
    {
     "name": "stdout",
     "output_type": "stream",
     "text": [
      "80921\n",
      "Epoch 00086 | Loss 0.3289 | train_RMSE 0.3070 | test_RMSE 0.3041 \n",
      "19929\n",
      "80921\n",
      "Epoch 00087 | Loss 0.3254 | train_RMSE 0.3020 | test_RMSE 0.2992 \n",
      "19929\n",
      "80921\n",
      "Epoch 00088 | Loss 0.3245 | train_RMSE 0.2976 | test_RMSE 0.2949 \n",
      "19929\n",
      "80921\n",
      "Epoch 00089 | Loss 0.3214 | train_RMSE 0.2946 | test_RMSE 0.2919 \n",
      "19929\n",
      "80921\n",
      "Epoch 00090 | Loss 0.3226 | train_RMSE 0.2930 | test_RMSE 0.2904 \n"
     ]
    },
    {
     "name": "stderr",
     "output_type": "stream",
     "text": [
      "  5%|█▉                                       | 95/2000 [00:05<01:30, 20.96it/s]"
     ]
    },
    {
     "name": "stdout",
     "output_type": "stream",
     "text": [
      "19929\n",
      "80921\n",
      "Epoch 00091 | Loss 0.3198 | train_RMSE 0.2926 | test_RMSE 0.2899 \n",
      "19929\n",
      "80921\n",
      "Epoch 00092 | Loss 0.3168 | train_RMSE 0.2934 | test_RMSE 0.2906 \n",
      "19929\n",
      "80921\n",
      "Epoch 00093 | Loss 0.3125 | train_RMSE 0.2949 | test_RMSE 0.2920 \n",
      "19929\n",
      "80921\n",
      "Epoch 00094 | Loss 0.3125 | train_RMSE 0.2962 | test_RMSE 0.2932 \n",
      "19929\n"
     ]
    },
    {
     "name": "stderr",
     "output_type": "stream",
     "text": [
      "\r",
      "  5%|██                                       | 98/2000 [00:05<01:30, 20.94it/s]"
     ]
    },
    {
     "name": "stdout",
     "output_type": "stream",
     "text": [
      "80921\n",
      "Epoch 00095 | Loss 0.3120 | train_RMSE 0.2966 | test_RMSE 0.2935 \n",
      "19929\n",
      "80921\n",
      "Epoch 00096 | Loss 0.3078 | train_RMSE 0.2953 | test_RMSE 0.2923 \n",
      "19929\n",
      "80921\n",
      "Epoch 00097 | Loss 0.3076 | train_RMSE 0.2928 | test_RMSE 0.2898 \n",
      "19929\n",
      "80921\n",
      "Epoch 00098 | Loss 0.3055 | train_RMSE 0.2895 | test_RMSE 0.2866 \n",
      "19929\n",
      "80921\n",
      "Epoch 00099 | Loss 0.3034 | train_RMSE 0.2867 | test_RMSE 0.2838 \n"
     ]
    },
    {
     "name": "stderr",
     "output_type": "stream",
     "text": [
      "  5%|██                                      | 104/2000 [00:05<01:30, 20.90it/s]"
     ]
    },
    {
     "name": "stdout",
     "output_type": "stream",
     "text": [
      "19929\n",
      "80921\n",
      "Epoch 00100 | Loss 0.3031 | train_RMSE 0.2851 | test_RMSE 0.2822 \n",
      "19929\n",
      "80921\n",
      "Epoch 00101 | Loss 0.3016 | train_RMSE 0.2846 | test_RMSE 0.2817 \n",
      "19929\n",
      "80921\n",
      "Epoch 00102 | Loss 0.2992 | train_RMSE 0.2852 | test_RMSE 0.2822 \n",
      "19929\n",
      "80921\n",
      "Epoch 00103 | Loss 0.2967 | train_RMSE 0.2863 | test_RMSE 0.2832 \n",
      "19929\n"
     ]
    },
    {
     "name": "stderr",
     "output_type": "stream",
     "text": [
      "\r",
      "  5%|██▏                                     | 107/2000 [00:05<01:30, 20.95it/s]"
     ]
    },
    {
     "name": "stdout",
     "output_type": "stream",
     "text": [
      "80921\n",
      "Epoch 00104 | Loss 0.2992 | train_RMSE 0.2871 | test_RMSE 0.2839 \n",
      "19929\n",
      "80921\n",
      "Epoch 00105 | Loss 0.2955 | train_RMSE 0.2867 | test_RMSE 0.2835 \n",
      "19929\n",
      "80921\n",
      "Epoch 00106 | Loss 0.2920 | train_RMSE 0.2854 | test_RMSE 0.2822 \n",
      "19929\n",
      "80921\n",
      "Epoch 00107 | Loss 0.2935 | train_RMSE 0.2834 | test_RMSE 0.2802 \n",
      "19929\n",
      "80921\n",
      "Epoch 00108 | Loss 0.2929 | train_RMSE 0.2813 | test_RMSE 0.2781 \n"
     ]
    },
    {
     "name": "stderr",
     "output_type": "stream",
     "text": [
      "  6%|██▎                                     | 113/2000 [00:06<01:29, 21.09it/s]"
     ]
    },
    {
     "name": "stdout",
     "output_type": "stream",
     "text": [
      "19929\n",
      "80921\n",
      "Epoch 00109 | Loss 0.2885 | train_RMSE 0.2798 | test_RMSE 0.2767 \n",
      "19929\n",
      "80921\n",
      "Epoch 00110 | Loss 0.2837 | train_RMSE 0.2790 | test_RMSE 0.2758 \n",
      "19929\n",
      "80921\n",
      "Epoch 00111 | Loss 0.2877 | train_RMSE 0.2787 | test_RMSE 0.2755 \n",
      "19929\n",
      "80921\n",
      "Epoch 00112 | Loss 0.2858 | train_RMSE 0.2788 | test_RMSE 0.2756 \n",
      "19929\n"
     ]
    },
    {
     "name": "stderr",
     "output_type": "stream",
     "text": [
      "\r",
      "  6%|██▎                                     | 116/2000 [00:06<01:29, 21.07it/s]"
     ]
    },
    {
     "name": "stdout",
     "output_type": "stream",
     "text": [
      "80921\n",
      "Epoch 00113 | Loss 0.2865 | train_RMSE 0.2790 | test_RMSE 0.2758 \n",
      "19929\n",
      "80921\n",
      "Epoch 00114 | Loss 0.2827 | train_RMSE 0.2792 | test_RMSE 0.2759 \n",
      "19929\n",
      "80921\n",
      "Epoch 00115 | Loss 0.2816 | train_RMSE 0.2791 | test_RMSE 0.2757 \n",
      "19929\n",
      "80921\n",
      "Epoch 00116 | Loss 0.2799 | train_RMSE 0.2783 | test_RMSE 0.2749 \n",
      "19929\n",
      "80921\n",
      "Epoch 00117 | Loss 0.2812 | train_RMSE 0.2770 | test_RMSE 0.2736 \n"
     ]
    },
    {
     "name": "stderr",
     "output_type": "stream",
     "text": [
      "  6%|██▍                                     | 122/2000 [00:06<01:29, 21.10it/s]"
     ]
    },
    {
     "name": "stdout",
     "output_type": "stream",
     "text": [
      "19929\n",
      "80921\n",
      "Epoch 00118 | Loss 0.2785 | train_RMSE 0.2756 | test_RMSE 0.2722 \n",
      "19929\n",
      "80921\n",
      "Epoch 00119 | Loss 0.2769 | train_RMSE 0.2744 | test_RMSE 0.2710 \n",
      "19929\n",
      "80921\n",
      "Epoch 00120 | Loss 0.2748 | train_RMSE 0.2737 | test_RMSE 0.2703 \n",
      "19929\n",
      "80921\n",
      "Epoch 00121 | Loss 0.2771 | train_RMSE 0.2734 | test_RMSE 0.2700 \n",
      "19929\n"
     ]
    },
    {
     "name": "stderr",
     "output_type": "stream",
     "text": [
      "\r",
      "  6%|██▌                                     | 125/2000 [00:06<01:29, 21.06it/s]"
     ]
    },
    {
     "name": "stdout",
     "output_type": "stream",
     "text": [
      "80921\n",
      "Epoch 00122 | Loss 0.2737 | train_RMSE 0.2733 | test_RMSE 0.2699 \n",
      "19929\n",
      "80921\n",
      "Epoch 00123 | Loss 0.2731 | train_RMSE 0.2736 | test_RMSE 0.2701 \n",
      "19929\n",
      "80921\n",
      "Epoch 00124 | Loss 0.2704 | train_RMSE 0.2737 | test_RMSE 0.2702 \n",
      "19929\n",
      "80921\n",
      "Epoch 00125 | Loss 0.2704 | train_RMSE 0.2734 | test_RMSE 0.2699 \n",
      "19929\n",
      "80921\n",
      "Epoch 00126 | Loss 0.2708 | train_RMSE 0.2729 | test_RMSE 0.2694 \n"
     ]
    },
    {
     "name": "stderr",
     "output_type": "stream",
     "text": [
      "  7%|██▌                                     | 131/2000 [00:06<01:28, 21.08it/s]"
     ]
    },
    {
     "name": "stdout",
     "output_type": "stream",
     "text": [
      "19929\n",
      "80921\n",
      "Epoch 00127 | Loss 0.2677 | train_RMSE 0.2720 | test_RMSE 0.2684 \n",
      "19929\n",
      "80921\n",
      "Epoch 00128 | Loss 0.2680 | train_RMSE 0.2710 | test_RMSE 0.2674 \n",
      "19929\n",
      "80921\n",
      "Epoch 00129 | Loss 0.2690 | train_RMSE 0.2701 | test_RMSE 0.2665 \n",
      "19929\n",
      "80921\n",
      "Epoch 00130 | Loss 0.2662 | train_RMSE 0.2692 | test_RMSE 0.2656 \n",
      "19929\n"
     ]
    },
    {
     "name": "stderr",
     "output_type": "stream",
     "text": [
      "\r",
      "  7%|██▋                                     | 134/2000 [00:07<01:28, 21.03it/s]"
     ]
    },
    {
     "name": "stdout",
     "output_type": "stream",
     "text": [
      "80921\n",
      "Epoch 00131 | Loss 0.2658 | train_RMSE 0.2687 | test_RMSE 0.2651 \n",
      "19929\n",
      "80921\n",
      "Epoch 00132 | Loss 0.2644 | train_RMSE 0.2688 | test_RMSE 0.2652 \n",
      "19929\n",
      "80921\n",
      "Epoch 00133 | Loss 0.2631 | train_RMSE 0.2691 | test_RMSE 0.2655 \n",
      "19929\n",
      "80921\n",
      "Epoch 00134 | Loss 0.2640 | train_RMSE 0.2692 | test_RMSE 0.2655 \n",
      "19929\n",
      "80921\n",
      "Epoch 00135 | Loss 0.2600 | train_RMSE 0.2690 | test_RMSE 0.2653 \n"
     ]
    },
    {
     "name": "stderr",
     "output_type": "stream",
     "text": [
      "  7%|██▊                                     | 140/2000 [00:07<01:28, 21.09it/s]"
     ]
    },
    {
     "name": "stdout",
     "output_type": "stream",
     "text": [
      "19929\n",
      "80921\n",
      "Epoch 00136 | Loss 0.2602 | train_RMSE 0.2684 | test_RMSE 0.2647 \n",
      "19929\n",
      "80921\n",
      "Epoch 00137 | Loss 0.2610 | train_RMSE 0.2673 | test_RMSE 0.2636 \n",
      "19929\n",
      "80921\n",
      "Epoch 00138 | Loss 0.2602 | train_RMSE 0.2663 | test_RMSE 0.2626 \n",
      "19929\n",
      "80921\n",
      "Epoch 00139 | Loss 0.2589 | train_RMSE 0.2656 | test_RMSE 0.2620 \n",
      "19929\n"
     ]
    },
    {
     "name": "stderr",
     "output_type": "stream",
     "text": [
      "\r",
      "  7%|██▊                                     | 143/2000 [00:07<01:28, 21.07it/s]"
     ]
    },
    {
     "name": "stdout",
     "output_type": "stream",
     "text": [
      "80921\n",
      "Epoch 00140 | Loss 0.2587 | train_RMSE 0.2657 | test_RMSE 0.2620 \n",
      "19929\n",
      "80921\n",
      "Epoch 00141 | Loss 0.2555 | train_RMSE 0.2661 | test_RMSE 0.2624 \n",
      "19929\n",
      "80921\n",
      "Epoch 00142 | Loss 0.2568 | train_RMSE 0.2664 | test_RMSE 0.2626 \n",
      "19929\n",
      "80921\n",
      "Epoch 00143 | Loss 0.2581 | train_RMSE 0.2659 | test_RMSE 0.2621 \n",
      "19929\n",
      "80921\n",
      "Epoch 00144 | Loss 0.2557 | train_RMSE 0.2655 | test_RMSE 0.2618 \n"
     ]
    },
    {
     "name": "stderr",
     "output_type": "stream",
     "text": [
      "  7%|██▉                                     | 149/2000 [00:07<01:28, 20.97it/s]"
     ]
    },
    {
     "name": "stdout",
     "output_type": "stream",
     "text": [
      "19929\n",
      "80921\n",
      "Epoch 00145 | Loss 0.2536 | train_RMSE 0.2651 | test_RMSE 0.2614 \n",
      "19929\n",
      "80921\n",
      "Epoch 00146 | Loss 0.2562 | train_RMSE 0.2648 | test_RMSE 0.2611 \n",
      "19929\n",
      "80921\n",
      "Epoch 00147 | Loss 0.2562 | train_RMSE 0.2646 | test_RMSE 0.2608 \n",
      "19929\n",
      "80921\n",
      "Epoch 00148 | Loss 0.2513 | train_RMSE 0.2644 | test_RMSE 0.2607 \n",
      "19929\n"
     ]
    },
    {
     "name": "stderr",
     "output_type": "stream",
     "text": [
      "\r",
      "  8%|███                                     | 152/2000 [00:07<01:28, 20.97it/s]"
     ]
    },
    {
     "name": "stdout",
     "output_type": "stream",
     "text": [
      "80921\n",
      "Epoch 00149 | Loss 0.2522 | train_RMSE 0.2643 | test_RMSE 0.2605 \n",
      "19929\n",
      "80921\n",
      "Epoch 00150 | Loss 0.2530 | train_RMSE 0.2638 | test_RMSE 0.2600 \n",
      "19929\n",
      "80921\n",
      "Epoch 00151 | Loss 0.2523 | train_RMSE 0.2629 | test_RMSE 0.2592 \n",
      "19929\n",
      "80921\n",
      "Epoch 00152 | Loss 0.2489 | train_RMSE 0.2625 | test_RMSE 0.2587 \n",
      "19929\n",
      "80921\n",
      "Epoch 00153 | Loss 0.2493 | train_RMSE 0.2624 | test_RMSE 0.2586 \n"
     ]
    },
    {
     "name": "stderr",
     "output_type": "stream",
     "text": [
      "  8%|███▏                                    | 158/2000 [00:08<01:27, 20.99it/s]"
     ]
    },
    {
     "name": "stdout",
     "output_type": "stream",
     "text": [
      "19929\n",
      "80921\n",
      "Epoch 00154 | Loss 0.2486 | train_RMSE 0.2625 | test_RMSE 0.2586 \n",
      "19929\n",
      "80921\n",
      "Epoch 00155 | Loss 0.2458 | train_RMSE 0.2627 | test_RMSE 0.2588 \n",
      "19929\n",
      "80921\n",
      "Epoch 00156 | Loss 0.2461 | train_RMSE 0.2628 | test_RMSE 0.2588 \n",
      "19929\n",
      "80921\n",
      "Epoch 00157 | Loss 0.2484 | train_RMSE 0.2628 | test_RMSE 0.2588 \n",
      "19929\n"
     ]
    },
    {
     "name": "stderr",
     "output_type": "stream",
     "text": [
      "\r",
      "  8%|███▏                                    | 161/2000 [00:08<01:27, 20.95it/s]"
     ]
    },
    {
     "name": "stdout",
     "output_type": "stream",
     "text": [
      "80921\n",
      "Epoch 00158 | Loss 0.2455 | train_RMSE 0.2620 | test_RMSE 0.2581 \n",
      "19929\n",
      "80921\n",
      "Epoch 00159 | Loss 0.2435 | train_RMSE 0.2611 | test_RMSE 0.2573 \n",
      "19929\n",
      "80921\n",
      "Epoch 00160 | Loss 0.2448 | train_RMSE 0.2605 | test_RMSE 0.2567 \n",
      "19929\n",
      "80921\n",
      "Epoch 00161 | Loss 0.2415 | train_RMSE 0.2602 | test_RMSE 0.2564 \n",
      "19929\n",
      "80921\n",
      "Epoch 00162 | Loss 0.2424 | train_RMSE 0.2602 | test_RMSE 0.2564 \n"
     ]
    },
    {
     "name": "stderr",
     "output_type": "stream",
     "text": [
      "  8%|███▎                                    | 167/2000 [00:08<01:27, 21.04it/s]"
     ]
    },
    {
     "name": "stdout",
     "output_type": "stream",
     "text": [
      "19929\n",
      "80921\n",
      "Epoch 00163 | Loss 0.2422 | train_RMSE 0.2603 | test_RMSE 0.2565 \n",
      "19929\n",
      "80921\n",
      "Epoch 00164 | Loss 0.2406 | train_RMSE 0.2605 | test_RMSE 0.2566 \n",
      "19929\n",
      "80921\n",
      "Epoch 00165 | Loss 0.2410 | train_RMSE 0.2606 | test_RMSE 0.2566 \n",
      "19929\n",
      "80921\n",
      "Epoch 00166 | Loss 0.2406 | train_RMSE 0.2605 | test_RMSE 0.2566 \n",
      "19929\n"
     ]
    },
    {
     "name": "stderr",
     "output_type": "stream",
     "text": [
      "\r",
      "  8%|███▍                                    | 170/2000 [00:08<01:26, 21.07it/s]"
     ]
    },
    {
     "name": "stdout",
     "output_type": "stream",
     "text": [
      "80921\n",
      "Epoch 00167 | Loss 0.2379 | train_RMSE 0.2602 | test_RMSE 0.2562 \n",
      "19929\n",
      "80921\n",
      "Epoch 00168 | Loss 0.2387 | train_RMSE 0.2595 | test_RMSE 0.2556 \n",
      "19929\n",
      "80921\n",
      "Epoch 00169 | Loss 0.2380 | train_RMSE 0.2591 | test_RMSE 0.2552 \n",
      "19929\n",
      "80921\n",
      "Epoch 00170 | Loss 0.2382 | train_RMSE 0.2590 | test_RMSE 0.2552 \n",
      "19929\n",
      "80921\n",
      "Epoch 00171 | Loss 0.2372 | train_RMSE 0.2592 | test_RMSE 0.2553 \n"
     ]
    },
    {
     "name": "stderr",
     "output_type": "stream",
     "text": [
      "  9%|███▌                                    | 176/2000 [00:09<01:26, 21.04it/s]"
     ]
    },
    {
     "name": "stdout",
     "output_type": "stream",
     "text": [
      "19929\n",
      "80921\n",
      "Epoch 00172 | Loss 0.2367 | train_RMSE 0.2593 | test_RMSE 0.2554 \n",
      "19929\n",
      "80921\n",
      "Epoch 00173 | Loss 0.2339 | train_RMSE 0.2595 | test_RMSE 0.2556 \n",
      "19929\n",
      "80921\n",
      "Epoch 00174 | Loss 0.2358 | train_RMSE 0.2593 | test_RMSE 0.2554 \n",
      "19929\n",
      "80921\n",
      "Epoch 00175 | Loss 0.2363 | train_RMSE 0.2588 | test_RMSE 0.2549 \n",
      "19929\n"
     ]
    },
    {
     "name": "stderr",
     "output_type": "stream",
     "text": [
      "\r",
      "  9%|███▌                                    | 179/2000 [00:09<01:28, 20.67it/s]"
     ]
    },
    {
     "name": "stdout",
     "output_type": "stream",
     "text": [
      "80921\n",
      "Epoch 00176 | Loss 0.2348 | train_RMSE 0.2585 | test_RMSE 0.2545 \n",
      "19929\n",
      "80921\n",
      "Epoch 00177 | Loss 0.2321 | train_RMSE 0.2583 | test_RMSE 0.2544 \n",
      "19929\n",
      "80921\n",
      "Epoch 00178 | Loss 0.2321 | train_RMSE 0.2583 | test_RMSE 0.2543 \n",
      "19929\n",
      "80921\n",
      "Epoch 00179 | Loss 0.2313 | train_RMSE 0.2584 | test_RMSE 0.2545 \n",
      "19929\n",
      "80921\n",
      "Epoch 00180 | Loss 0.2311 | train_RMSE 0.2584 | test_RMSE 0.2545 \n"
     ]
    },
    {
     "name": "stderr",
     "output_type": "stream",
     "text": [
      "  9%|███▋                                    | 185/2000 [00:09<01:26, 20.87it/s]"
     ]
    },
    {
     "name": "stdout",
     "output_type": "stream",
     "text": [
      "19929\n",
      "80921\n",
      "Epoch 00181 | Loss 0.2322 | train_RMSE 0.2586 | test_RMSE 0.2547 \n",
      "19929\n",
      "80921\n",
      "Epoch 00182 | Loss 0.2295 | train_RMSE 0.2584 | test_RMSE 0.2545 \n",
      "19929\n",
      "80921\n",
      "Epoch 00183 | Loss 0.2290 | train_RMSE 0.2581 | test_RMSE 0.2542 \n",
      "19929\n",
      "80921\n",
      "Epoch 00184 | Loss 0.2292 | train_RMSE 0.2579 | test_RMSE 0.2540 \n",
      "19929\n"
     ]
    },
    {
     "name": "stderr",
     "output_type": "stream",
     "text": [
      "\r",
      "  9%|███▊                                    | 188/2000 [00:09<01:26, 20.94it/s]"
     ]
    },
    {
     "name": "stdout",
     "output_type": "stream",
     "text": [
      "80921\n",
      "Epoch 00185 | Loss 0.2279 | train_RMSE 0.2578 | test_RMSE 0.2538 \n",
      "19929\n",
      "80921\n",
      "Epoch 00186 | Loss 0.2293 | train_RMSE 0.2581 | test_RMSE 0.2541 \n",
      "19929\n",
      "80921\n",
      "Epoch 00187 | Loss 0.2272 | train_RMSE 0.2584 | test_RMSE 0.2544 \n",
      "19929\n",
      "80921\n",
      "Epoch 00188 | Loss 0.2267 | train_RMSE 0.2580 | test_RMSE 0.2541 \n",
      "19929\n",
      "80921\n",
      "Epoch 00189 | Loss 0.2270 | train_RMSE 0.2576 | test_RMSE 0.2537 \n"
     ]
    },
    {
     "name": "stderr",
     "output_type": "stream",
     "text": [
      " 10%|███▉                                    | 194/2000 [00:09<01:25, 21.05it/s]"
     ]
    },
    {
     "name": "stdout",
     "output_type": "stream",
     "text": [
      "19929\n",
      "80921\n",
      "Epoch 00190 | Loss 0.2259 | train_RMSE 0.2571 | test_RMSE 0.2532 \n",
      "19929\n",
      "80921\n",
      "Epoch 00191 | Loss 0.2267 | train_RMSE 0.2570 | test_RMSE 0.2532 \n",
      "19929\n",
      "80921\n",
      "Epoch 00192 | Loss 0.2247 | train_RMSE 0.2575 | test_RMSE 0.2536 \n",
      "19929\n",
      "80921\n",
      "Epoch 00193 | Loss 0.2256 | train_RMSE 0.2578 | test_RMSE 0.2539 \n",
      "19929\n"
     ]
    },
    {
     "name": "stderr",
     "output_type": "stream",
     "text": [
      "\r",
      " 10%|███▉                                    | 197/2000 [00:10<01:25, 21.10it/s]"
     ]
    },
    {
     "name": "stdout",
     "output_type": "stream",
     "text": [
      "80921\n",
      "Epoch 00194 | Loss 0.2238 | train_RMSE 0.2579 | test_RMSE 0.2540 \n",
      "19929\n",
      "80921\n",
      "Epoch 00195 | Loss 0.2247 | train_RMSE 0.2570 | test_RMSE 0.2531 \n",
      "19929\n",
      "80921\n",
      "Epoch 00196 | Loss 0.2250 | train_RMSE 0.2565 | test_RMSE 0.2526 \n",
      "19929\n",
      "80921\n",
      "Epoch 00197 | Loss 0.2243 | train_RMSE 0.2568 | test_RMSE 0.2529 \n",
      "19929\n",
      "80921\n",
      "Epoch 00198 | Loss 0.2247 | train_RMSE 0.2573 | test_RMSE 0.2534 \n"
     ]
    },
    {
     "name": "stderr",
     "output_type": "stream",
     "text": [
      " 10%|████                                    | 203/2000 [00:10<01:24, 21.18it/s]"
     ]
    },
    {
     "name": "stdout",
     "output_type": "stream",
     "text": [
      "19929\n",
      "80921\n",
      "Epoch 00199 | Loss 0.2259 | train_RMSE 0.2577 | test_RMSE 0.2537 \n",
      "19929\n",
      "80921\n",
      "Epoch 00200 | Loss 0.2212 | train_RMSE 0.2575 | test_RMSE 0.2536 \n",
      "19929\n",
      "80921\n",
      "Epoch 00201 | Loss 0.2225 | train_RMSE 0.2572 | test_RMSE 0.2532 \n",
      "19929\n",
      "80921\n",
      "Epoch 00202 | Loss 0.2222 | train_RMSE 0.2565 | test_RMSE 0.2527 \n",
      "19929\n"
     ]
    },
    {
     "name": "stderr",
     "output_type": "stream",
     "text": [
      "\r",
      " 10%|████                                    | 206/2000 [00:10<01:24, 21.12it/s]"
     ]
    },
    {
     "name": "stdout",
     "output_type": "stream",
     "text": [
      "80921\n",
      "Epoch 00203 | Loss 0.2219 | train_RMSE 0.2561 | test_RMSE 0.2523 \n",
      "19929\n",
      "80921\n",
      "Epoch 00204 | Loss 0.2211 | train_RMSE 0.2562 | test_RMSE 0.2523 \n",
      "19929\n",
      "80921\n",
      "Epoch 00205 | Loss 0.2194 | train_RMSE 0.2568 | test_RMSE 0.2528 \n",
      "19929\n",
      "80921\n",
      "Epoch 00206 | Loss 0.2186 | train_RMSE 0.2572 | test_RMSE 0.2532 \n",
      "19929\n",
      "80921\n",
      "Epoch 00207 | Loss 0.2199 | train_RMSE 0.2572 | test_RMSE 0.2532 \n"
     ]
    },
    {
     "name": "stderr",
     "output_type": "stream",
     "text": [
      " 11%|████▏                                   | 212/2000 [00:10<01:24, 21.17it/s]"
     ]
    },
    {
     "name": "stdout",
     "output_type": "stream",
     "text": [
      "19929\n",
      "80921\n",
      "Epoch 00208 | Loss 0.2208 | train_RMSE 0.2569 | test_RMSE 0.2529 \n",
      "19929\n",
      "80921\n",
      "Epoch 00209 | Loss 0.2195 | train_RMSE 0.2564 | test_RMSE 0.2524 \n",
      "19929\n",
      "80921\n",
      "Epoch 00210 | Loss 0.2183 | train_RMSE 0.2565 | test_RMSE 0.2526 \n",
      "19929\n",
      "80921\n",
      "Epoch 00211 | Loss 0.2191 | train_RMSE 0.2566 | test_RMSE 0.2527 \n",
      "19929\n"
     ]
    },
    {
     "name": "stderr",
     "output_type": "stream",
     "text": [
      "\r",
      " 11%|████▎                                   | 215/2000 [00:10<01:24, 21.07it/s]"
     ]
    },
    {
     "name": "stdout",
     "output_type": "stream",
     "text": [
      "80921\n",
      "Epoch 00212 | Loss 0.2178 | train_RMSE 0.2568 | test_RMSE 0.2528 \n",
      "19929\n",
      "80921\n",
      "Epoch 00213 | Loss 0.2174 | train_RMSE 0.2567 | test_RMSE 0.2527 \n",
      "19929\n",
      "80921\n",
      "Epoch 00214 | Loss 0.2168 | train_RMSE 0.2567 | test_RMSE 0.2527 \n",
      "19929\n",
      "80921\n",
      "Epoch 00215 | Loss 0.2165 | train_RMSE 0.2565 | test_RMSE 0.2525 \n",
      "19929\n",
      "80921\n",
      "Epoch 00216 | Loss 0.2169 | train_RMSE 0.2558 | test_RMSE 0.2519 \n"
     ]
    },
    {
     "name": "stderr",
     "output_type": "stream",
     "text": [
      " 11%|████▍                                   | 221/2000 [00:11<01:24, 21.04it/s]"
     ]
    },
    {
     "name": "stdout",
     "output_type": "stream",
     "text": [
      "19929\n",
      "80921\n",
      "Epoch 00217 | Loss 0.2153 | train_RMSE 0.2553 | test_RMSE 0.2514 \n",
      "19929\n",
      "80921\n",
      "Epoch 00218 | Loss 0.2166 | train_RMSE 0.2555 | test_RMSE 0.2516 \n",
      "19929\n",
      "80921\n",
      "Epoch 00219 | Loss 0.2152 | train_RMSE 0.2559 | test_RMSE 0.2520 \n",
      "19929\n",
      "80921\n",
      "Epoch 00220 | Loss 0.2141 | train_RMSE 0.2564 | test_RMSE 0.2525 \n",
      "19929\n"
     ]
    },
    {
     "name": "stderr",
     "output_type": "stream",
     "text": [
      "\r",
      " 11%|████▍                                   | 224/2000 [00:11<01:24, 21.07it/s]"
     ]
    },
    {
     "name": "stdout",
     "output_type": "stream",
     "text": [
      "80921\n",
      "Epoch 00221 | Loss 0.2144 | train_RMSE 0.2564 | test_RMSE 0.2524 \n",
      "19929\n",
      "80921\n",
      "Epoch 00222 | Loss 0.2146 | train_RMSE 0.2558 | test_RMSE 0.2519 \n",
      "19929\n",
      "80921\n",
      "Epoch 00223 | Loss 0.2120 | train_RMSE 0.2552 | test_RMSE 0.2512 \n",
      "19929\n",
      "80921\n",
      "Epoch 00224 | Loss 0.2123 | train_RMSE 0.2555 | test_RMSE 0.2516 \n",
      "19929\n",
      "80921\n",
      "Epoch 00225 | Loss 0.2125 | train_RMSE 0.2561 | test_RMSE 0.2522 \n"
     ]
    },
    {
     "name": "stderr",
     "output_type": "stream",
     "text": [
      " 12%|████▌                                   | 230/2000 [00:11<01:23, 21.16it/s]"
     ]
    },
    {
     "name": "stdout",
     "output_type": "stream",
     "text": [
      "19929\n",
      "80921\n",
      "Epoch 00226 | Loss 0.2097 | train_RMSE 0.2566 | test_RMSE 0.2526 \n",
      "19929\n",
      "80921\n",
      "Epoch 00227 | Loss 0.2099 | train_RMSE 0.2561 | test_RMSE 0.2521 \n",
      "19929\n",
      "80921\n",
      "Epoch 00228 | Loss 0.2128 | train_RMSE 0.2552 | test_RMSE 0.2512 \n",
      "19929\n",
      "80921\n",
      "Epoch 00229 | Loss 0.2116 | train_RMSE 0.2551 | test_RMSE 0.2512 \n",
      "19929\n"
     ]
    },
    {
     "name": "stderr",
     "output_type": "stream",
     "text": [
      "\r",
      " 12%|████▋                                   | 233/2000 [00:11<01:23, 21.09it/s]"
     ]
    },
    {
     "name": "stdout",
     "output_type": "stream",
     "text": [
      "80921\n",
      "Epoch 00230 | Loss 0.2093 | train_RMSE 0.2559 | test_RMSE 0.2519 \n",
      "19929\n",
      "80921\n",
      "Epoch 00231 | Loss 0.2085 | train_RMSE 0.2566 | test_RMSE 0.2526 \n",
      "19929\n",
      "80921\n",
      "Epoch 00232 | Loss 0.2100 | train_RMSE 0.2564 | test_RMSE 0.2524 \n",
      "19929\n",
      "80921\n",
      "Epoch 00233 | Loss 0.2093 | train_RMSE 0.2554 | test_RMSE 0.2515 \n",
      "19929\n",
      "80921\n",
      "Epoch 00234 | Loss 0.2070 | train_RMSE 0.2547 | test_RMSE 0.2508 \n"
     ]
    },
    {
     "name": "stderr",
     "output_type": "stream",
     "text": [
      " 12%|████▊                                   | 239/2000 [00:12<01:23, 21.16it/s]"
     ]
    },
    {
     "name": "stdout",
     "output_type": "stream",
     "text": [
      "19929\n",
      "80921\n",
      "Epoch 00235 | Loss 0.2090 | train_RMSE 0.2551 | test_RMSE 0.2511 \n",
      "19929\n",
      "80921\n",
      "Epoch 00236 | Loss 0.2089 | train_RMSE 0.2558 | test_RMSE 0.2518 \n",
      "19929\n",
      "80921\n",
      "Epoch 00237 | Loss 0.2093 | train_RMSE 0.2559 | test_RMSE 0.2519 \n",
      "19929\n",
      "80921\n",
      "Epoch 00238 | Loss 0.2072 | train_RMSE 0.2557 | test_RMSE 0.2517 \n",
      "19929\n",
      "80921\n",
      "Epoch 00239 | Loss 0.2087 | train_RMSE 0.2557 | test_RMSE 0.2518 \n"
     ]
    },
    {
     "name": "stderr",
     "output_type": "stream",
     "text": [
      "\r",
      " 12%|████▊                                   | 242/2000 [00:12<01:22, 21.19it/s]"
     ]
    },
    {
     "name": "stdout",
     "output_type": "stream",
     "text": [
      "19929\n",
      "80921\n",
      "Epoch 00240 | Loss 0.2072 | train_RMSE 0.2556 | test_RMSE 0.2516 \n",
      "19929\n",
      "80921\n",
      "Epoch 00241 | Loss 0.2053 | train_RMSE 0.2555 | test_RMSE 0.2516 \n",
      "19929\n",
      "80921\n",
      "Epoch 00242 | Loss 0.2054 | train_RMSE 0.2554 | test_RMSE 0.2515 \n",
      "19929\n",
      "80921\n",
      "Epoch 00243 | Loss 0.2074 | train_RMSE 0.2552 | test_RMSE 0.2513 \n",
      "19929\n",
      "80921\n",
      "Epoch 00244 | Loss 0.2050 | train_RMSE 0.2550 | test_RMSE 0.2511 \n"
     ]
    },
    {
     "name": "stderr",
     "output_type": "stream",
     "text": [
      " 12%|████▉                                   | 248/2000 [00:12<01:22, 21.14it/s]"
     ]
    },
    {
     "name": "stdout",
     "output_type": "stream",
     "text": [
      "19929\n",
      "80921\n",
      "Epoch 00245 | Loss 0.2048 | train_RMSE 0.2553 | test_RMSE 0.2513 \n",
      "19929\n",
      "80921\n",
      "Epoch 00246 | Loss 0.2047 | train_RMSE 0.2558 | test_RMSE 0.2518 \n",
      "19929\n",
      "80921\n",
      "Epoch 00247 | Loss 0.2041 | train_RMSE 0.2561 | test_RMSE 0.2520 \n",
      "19929\n",
      "80921\n",
      "Epoch 00248 | Loss 0.2034 | train_RMSE 0.2556 | test_RMSE 0.2516 \n",
      "19929\n"
     ]
    },
    {
     "name": "stderr",
     "output_type": "stream",
     "text": [
      " 13%|█████                                   | 254/2000 [00:12<01:22, 21.17it/s]"
     ]
    },
    {
     "name": "stdout",
     "output_type": "stream",
     "text": [
      "80921\n",
      "Epoch 00249 | Loss 0.2026 | train_RMSE 0.2552 | test_RMSE 0.2512 \n",
      "19929\n",
      "80921\n",
      "Epoch 00250 | Loss 0.2010 | train_RMSE 0.2551 | test_RMSE 0.2512 \n",
      "19929\n",
      "80921\n",
      "Epoch 00251 | Loss 0.2023 | train_RMSE 0.2551 | test_RMSE 0.2512 \n",
      "19929\n",
      "80921\n",
      "Epoch 00252 | Loss 0.2030 | train_RMSE 0.2552 | test_RMSE 0.2513 \n",
      "19929\n",
      "80921\n",
      "Epoch 00253 | Loss 0.2005 | train_RMSE 0.2555 | test_RMSE 0.2516 \n"
     ]
    },
    {
     "name": "stderr",
     "output_type": "stream",
     "text": [
      "\r",
      " 13%|█████▏                                  | 257/2000 [00:12<01:22, 21.17it/s]"
     ]
    },
    {
     "name": "stdout",
     "output_type": "stream",
     "text": [
      "19929\n",
      "80921\n",
      "Epoch 00254 | Loss 0.1987 | train_RMSE 0.2558 | test_RMSE 0.2518 \n",
      "19929\n",
      "80921\n",
      "Epoch 00255 | Loss 0.2042 | train_RMSE 0.2557 | test_RMSE 0.2517 \n",
      "19929\n",
      "80921\n",
      "Epoch 00256 | Loss 0.2002 | train_RMSE 0.2550 | test_RMSE 0.2510 \n",
      "19929\n",
      "80921\n",
      "Epoch 00257 | Loss 0.2000 | train_RMSE 0.2547 | test_RMSE 0.2508 \n",
      "19929\n",
      "80921\n",
      "Epoch 00258 | Loss 0.2004 | train_RMSE 0.2550 | test_RMSE 0.2511 \n"
     ]
    },
    {
     "name": "stderr",
     "output_type": "stream",
     "text": [
      " 13%|█████▎                                  | 263/2000 [00:13<01:21, 21.22it/s]"
     ]
    },
    {
     "name": "stdout",
     "output_type": "stream",
     "text": [
      "19929\n",
      "80921\n",
      "Epoch 00259 | Loss 0.1995 | train_RMSE 0.2555 | test_RMSE 0.2515 \n",
      "19929\n",
      "80921\n",
      "Epoch 00260 | Loss 0.2000 | train_RMSE 0.2557 | test_RMSE 0.2518 \n",
      "19929\n",
      "80921\n",
      "Epoch 00261 | Loss 0.1976 | train_RMSE 0.2560 | test_RMSE 0.2520 \n",
      "19929\n",
      "80921\n",
      "Epoch 00262 | Loss 0.1980 | train_RMSE 0.2556 | test_RMSE 0.2517 \n",
      "19929\n",
      "80921\n",
      "Epoch 00263 | Loss 0.1977 | train_RMSE 0.2553 | test_RMSE 0.2513 \n"
     ]
    },
    {
     "name": "stderr",
     "output_type": "stream",
     "text": [
      "\r",
      " 13%|█████▎                                  | 266/2000 [00:13<01:21, 21.17it/s]"
     ]
    },
    {
     "name": "stdout",
     "output_type": "stream",
     "text": [
      "19929\n",
      "80921\n",
      "Epoch 00264 | Loss 0.1965 | train_RMSE 0.2551 | test_RMSE 0.2511 \n",
      "19929\n",
      "80921\n",
      "Epoch 00265 | Loss 0.1954 | train_RMSE 0.2551 | test_RMSE 0.2511 \n",
      "19929\n",
      "80921\n",
      "Epoch 00266 | Loss 0.1963 | train_RMSE 0.2552 | test_RMSE 0.2512 \n",
      "19929\n",
      "80921\n",
      "Epoch 00267 | Loss 0.1955 | train_RMSE 0.2554 | test_RMSE 0.2514 \n",
      "19929\n"
     ]
    },
    {
     "name": "stderr",
     "output_type": "stream",
     "text": [
      " 14%|█████▍                                  | 272/2000 [00:13<01:21, 21.20it/s]"
     ]
    },
    {
     "name": "stdout",
     "output_type": "stream",
     "text": [
      "80921\n",
      "Epoch 00268 | Loss 0.1962 | train_RMSE 0.2553 | test_RMSE 0.2514 \n",
      "19929\n",
      "80921\n",
      "Epoch 00269 | Loss 0.1950 | train_RMSE 0.2552 | test_RMSE 0.2512 \n",
      "19929\n",
      "80921\n",
      "Epoch 00270 | Loss 0.1953 | train_RMSE 0.2549 | test_RMSE 0.2510 \n",
      "19929\n",
      "80921\n",
      "Epoch 00271 | Loss 0.1940 | train_RMSE 0.2550 | test_RMSE 0.2511 \n",
      "19929\n",
      "80921\n",
      "Epoch 00272 | Loss 0.1951 | train_RMSE 0.2553 | test_RMSE 0.2513 \n"
     ]
    },
    {
     "name": "stderr",
     "output_type": "stream",
     "text": [
      "\r",
      " 14%|█████▌                                  | 275/2000 [00:13<01:21, 21.16it/s]"
     ]
    },
    {
     "name": "stdout",
     "output_type": "stream",
     "text": [
      "19929\n",
      "80921\n",
      "Epoch 00273 | Loss 0.1932 | train_RMSE 0.2560 | test_RMSE 0.2520 \n",
      "19929\n",
      "80921\n",
      "Epoch 00274 | Loss 0.1929 | train_RMSE 0.2562 | test_RMSE 0.2522 \n",
      "19929\n",
      "80921\n",
      "Epoch 00275 | Loss 0.1942 | train_RMSE 0.2556 | test_RMSE 0.2516 \n",
      "19929\n",
      "80921\n",
      "Epoch 00276 | Loss 0.1931 | train_RMSE 0.2548 | test_RMSE 0.2508 \n",
      "19929\n"
     ]
    },
    {
     "name": "stderr",
     "output_type": "stream",
     "text": [
      " 14%|█████▌                                  | 281/2000 [00:14<01:21, 21.16it/s]"
     ]
    },
    {
     "name": "stdout",
     "output_type": "stream",
     "text": [
      "80921\n",
      "Epoch 00277 | Loss 0.1930 | train_RMSE 0.2545 | test_RMSE 0.2506 \n",
      "19929\n",
      "80921\n",
      "Epoch 00278 | Loss 0.1920 | train_RMSE 0.2553 | test_RMSE 0.2513 \n",
      "19929\n",
      "80921\n",
      "Epoch 00279 | Loss 0.1913 | train_RMSE 0.2563 | test_RMSE 0.2522 \n",
      "19929\n",
      "80921\n",
      "Epoch 00280 | Loss 0.1924 | train_RMSE 0.2566 | test_RMSE 0.2525 \n",
      "19929\n",
      "80921\n",
      "Epoch 00281 | Loss 0.1926 | train_RMSE 0.2562 | test_RMSE 0.2521 \n"
     ]
    },
    {
     "name": "stderr",
     "output_type": "stream",
     "text": [
      "\r",
      " 14%|█████▋                                  | 284/2000 [00:14<01:21, 21.16it/s]"
     ]
    },
    {
     "name": "stdout",
     "output_type": "stream",
     "text": [
      "19929\n",
      "80921\n",
      "Epoch 00282 | Loss 0.1891 | train_RMSE 0.2555 | test_RMSE 0.2515 \n",
      "19929\n",
      "80921\n",
      "Epoch 00283 | Loss 0.1895 | train_RMSE 0.2549 | test_RMSE 0.2509 \n",
      "19929\n",
      "80921\n",
      "Epoch 00284 | Loss 0.1888 | train_RMSE 0.2549 | test_RMSE 0.2510 \n",
      "19929\n",
      "80921\n",
      "Epoch 00285 | Loss 0.1901 | train_RMSE 0.2555 | test_RMSE 0.2516 \n",
      "19929\n"
     ]
    },
    {
     "name": "stderr",
     "output_type": "stream",
     "text": [
      " 14%|█████▊                                  | 290/2000 [00:14<01:20, 21.15it/s]"
     ]
    },
    {
     "name": "stdout",
     "output_type": "stream",
     "text": [
      "80921\n",
      "Epoch 00286 | Loss 0.1880 | train_RMSE 0.2563 | test_RMSE 0.2523 \n",
      "19929\n",
      "80921\n",
      "Epoch 00287 | Loss 0.1855 | train_RMSE 0.2563 | test_RMSE 0.2523 \n",
      "19929\n",
      "80921\n",
      "Epoch 00288 | Loss 0.1884 | train_RMSE 0.2561 | test_RMSE 0.2521 \n",
      "19929\n",
      "80921\n",
      "Epoch 00289 | Loss 0.1888 | train_RMSE 0.2557 | test_RMSE 0.2517 \n",
      "19929\n",
      "80921\n",
      "Epoch 00290 | Loss 0.1878 | train_RMSE 0.2557 | test_RMSE 0.2518 \n"
     ]
    },
    {
     "name": "stderr",
     "output_type": "stream",
     "text": [
      " 15%|█████▉                                  | 296/2000 [00:14<01:20, 21.20it/s]"
     ]
    },
    {
     "name": "stdout",
     "output_type": "stream",
     "text": [
      "19929\n",
      "80921\n",
      "Epoch 00291 | Loss 0.1876 | train_RMSE 0.2563 | test_RMSE 0.2523 \n",
      "19929\n",
      "80921\n",
      "Epoch 00292 | Loss 0.1862 | train_RMSE 0.2562 | test_RMSE 0.2522 \n",
      "19929\n",
      "80921\n",
      "Epoch 00293 | Loss 0.1861 | train_RMSE 0.2561 | test_RMSE 0.2521 \n",
      "19929\n",
      "80921\n",
      "Epoch 00294 | Loss 0.1861 | train_RMSE 0.2557 | test_RMSE 0.2517 \n",
      "19929\n",
      "80921\n",
      "Epoch 00295 | Loss 0.1843 | train_RMSE 0.2556 | test_RMSE 0.2516 \n"
     ]
    },
    {
     "name": "stderr",
     "output_type": "stream",
     "text": [
      "\r",
      " 15%|█████▉                                  | 299/2000 [00:14<01:20, 21.16it/s]"
     ]
    },
    {
     "name": "stdout",
     "output_type": "stream",
     "text": [
      "19929\n",
      "80921\n",
      "Epoch 00296 | Loss 0.1843 | train_RMSE 0.2559 | test_RMSE 0.2519 \n",
      "19929\n",
      "80921\n",
      "Epoch 00297 | Loss 0.1836 | train_RMSE 0.2562 | test_RMSE 0.2522 \n",
      "19929\n",
      "80921\n",
      "Epoch 00298 | Loss 0.1841 | train_RMSE 0.2566 | test_RMSE 0.2526 \n",
      "19929\n",
      "80921\n",
      "Epoch 00299 | Loss 0.1820 | train_RMSE 0.2565 | test_RMSE 0.2525 \n",
      "19929\n"
     ]
    },
    {
     "name": "stderr",
     "output_type": "stream",
     "text": [
      " 15%|██████                                  | 305/2000 [00:15<01:20, 21.13it/s]"
     ]
    },
    {
     "name": "stdout",
     "output_type": "stream",
     "text": [
      "80921\n",
      "Epoch 00300 | Loss 0.1828 | train_RMSE 0.2561 | test_RMSE 0.2521 \n",
      "19929\n",
      "80921\n",
      "Epoch 00301 | Loss 0.1817 | train_RMSE 0.2558 | test_RMSE 0.2518 \n",
      "19929\n",
      "80921\n",
      "Epoch 00302 | Loss 0.1827 | train_RMSE 0.2561 | test_RMSE 0.2521 \n",
      "19929\n",
      "80921\n",
      "Epoch 00303 | Loss 0.1807 | train_RMSE 0.2564 | test_RMSE 0.2524 \n",
      "19929\n",
      "80921\n",
      "Epoch 00304 | Loss 0.1802 | train_RMSE 0.2570 | test_RMSE 0.2529 \n"
     ]
    },
    {
     "name": "stderr",
     "output_type": "stream",
     "text": [
      "\r",
      " 15%|██████▏                                 | 308/2000 [00:15<01:20, 21.15it/s]"
     ]
    },
    {
     "name": "stdout",
     "output_type": "stream",
     "text": [
      "19929\n",
      "80921\n",
      "Epoch 00305 | Loss 0.1806 | train_RMSE 0.2569 | test_RMSE 0.2529 \n",
      "19929\n",
      "80921\n",
      "Epoch 00306 | Loss 0.1801 | train_RMSE 0.2567 | test_RMSE 0.2527 \n",
      "19929\n",
      "80921\n",
      "Epoch 00307 | Loss 0.1807 | train_RMSE 0.2568 | test_RMSE 0.2528 \n",
      "19929\n",
      "80921\n",
      "Epoch 00308 | Loss 0.1793 | train_RMSE 0.2569 | test_RMSE 0.2529 \n",
      "19929\n",
      "80921\n",
      "Epoch 00309 | Loss 0.1784 | train_RMSE 0.2569 | test_RMSE 0.2529 \n"
     ]
    },
    {
     "name": "stderr",
     "output_type": "stream",
     "text": [
      " 16%|██████▎                                 | 314/2000 [00:15<01:19, 21.19it/s]"
     ]
    },
    {
     "name": "stdout",
     "output_type": "stream",
     "text": [
      "19929\n",
      "80921\n",
      "Epoch 00310 | Loss 0.1792 | train_RMSE 0.2568 | test_RMSE 0.2528 \n",
      "19929\n",
      "80921\n",
      "Epoch 00311 | Loss 0.1798 | train_RMSE 0.2569 | test_RMSE 0.2528 \n",
      "19929\n",
      "80921\n",
      "Epoch 00312 | Loss 0.1793 | train_RMSE 0.2569 | test_RMSE 0.2528 \n",
      "19929\n",
      "80921\n",
      "Epoch 00313 | Loss 0.1767 | train_RMSE 0.2571 | test_RMSE 0.2531 \n",
      "19929\n",
      "80921\n",
      "Epoch 00314 | Loss 0.1763 | train_RMSE 0.2574 | test_RMSE 0.2533 \n"
     ]
    },
    {
     "name": "stderr",
     "output_type": "stream",
     "text": [
      "\r",
      " 16%|██████▎                                 | 317/2000 [00:15<01:19, 21.15it/s]"
     ]
    },
    {
     "name": "stdout",
     "output_type": "stream",
     "text": [
      "19929\n",
      "80921\n",
      "Epoch 00315 | Loss 0.1773 | train_RMSE 0.2575 | test_RMSE 0.2535 \n",
      "19929\n",
      "80921\n",
      "Epoch 00316 | Loss 0.1757 | train_RMSE 0.2571 | test_RMSE 0.2531 \n",
      "19929\n",
      "80921\n",
      "Epoch 00317 | Loss 0.1751 | train_RMSE 0.2571 | test_RMSE 0.2531 \n",
      "19929\n",
      "80921\n",
      "Epoch 00318 | Loss 0.1747 | train_RMSE 0.2575 | test_RMSE 0.2534 \n",
      "19929\n"
     ]
    },
    {
     "name": "stderr",
     "output_type": "stream",
     "text": [
      " 16%|██████▍                                 | 323/2000 [00:16<01:19, 21.07it/s]"
     ]
    },
    {
     "name": "stdout",
     "output_type": "stream",
     "text": [
      "80921\n",
      "Epoch 00319 | Loss 0.1754 | train_RMSE 0.2579 | test_RMSE 0.2538 \n",
      "19929\n",
      "80921\n",
      "Epoch 00320 | Loss 0.1744 | train_RMSE 0.2580 | test_RMSE 0.2539 \n",
      "19929\n",
      "80921\n",
      "Epoch 00321 | Loss 0.1732 | train_RMSE 0.2572 | test_RMSE 0.2532 \n",
      "19929\n",
      "80921\n",
      "Epoch 00322 | Loss 0.1738 | train_RMSE 0.2571 | test_RMSE 0.2531 \n",
      "19929\n",
      "80921\n",
      "Epoch 00323 | Loss 0.1731 | train_RMSE 0.2575 | test_RMSE 0.2534 \n"
     ]
    },
    {
     "name": "stderr",
     "output_type": "stream",
     "text": [
      "\r",
      " 16%|██████▌                                 | 326/2000 [00:16<01:19, 21.03it/s]"
     ]
    },
    {
     "name": "stdout",
     "output_type": "stream",
     "text": [
      "19929\n",
      "80921\n",
      "Epoch 00324 | Loss 0.1722 | train_RMSE 0.2575 | test_RMSE 0.2535 \n",
      "19929\n",
      "80921\n",
      "Epoch 00325 | Loss 0.1721 | train_RMSE 0.2579 | test_RMSE 0.2539 \n",
      "19929\n",
      "80921\n",
      "Epoch 00326 | Loss 0.1712 | train_RMSE 0.2579 | test_RMSE 0.2538 \n",
      "19929\n",
      "80921\n",
      "Epoch 00327 | Loss 0.1704 | train_RMSE 0.2575 | test_RMSE 0.2534 \n",
      "19929\n"
     ]
    },
    {
     "name": "stderr",
     "output_type": "stream",
     "text": [
      " 17%|██████▋                                 | 332/2000 [00:16<01:18, 21.11it/s]"
     ]
    },
    {
     "name": "stdout",
     "output_type": "stream",
     "text": [
      "80921\n",
      "Epoch 00328 | Loss 0.1708 | train_RMSE 0.2575 | test_RMSE 0.2535 \n",
      "19929\n",
      "80921\n",
      "Epoch 00329 | Loss 0.1691 | train_RMSE 0.2577 | test_RMSE 0.2537 \n",
      "19929\n",
      "80921\n",
      "Epoch 00330 | Loss 0.1697 | train_RMSE 0.2576 | test_RMSE 0.2535 \n",
      "19929\n",
      "80921\n",
      "Epoch 00331 | Loss 0.1694 | train_RMSE 0.2573 | test_RMSE 0.2532 \n",
      "19929\n",
      "80921\n",
      "Epoch 00332 | Loss 0.1694 | train_RMSE 0.2578 | test_RMSE 0.2537 \n"
     ]
    },
    {
     "name": "stderr",
     "output_type": "stream",
     "text": [
      "\r",
      " 17%|██████▋                                 | 335/2000 [00:16<01:18, 21.16it/s]"
     ]
    },
    {
     "name": "stdout",
     "output_type": "stream",
     "text": [
      "19929\n",
      "80921\n",
      "Epoch 00333 | Loss 0.1672 | train_RMSE 0.2581 | test_RMSE 0.2540 \n",
      "19929\n",
      "80921\n",
      "Epoch 00334 | Loss 0.1682 | train_RMSE 0.2578 | test_RMSE 0.2537 \n",
      "19929\n",
      "80921\n",
      "Epoch 00335 | Loss 0.1683 | train_RMSE 0.2575 | test_RMSE 0.2535 \n",
      "19929\n",
      "80921\n",
      "Epoch 00336 | Loss 0.1672 | train_RMSE 0.2579 | test_RMSE 0.2539 \n",
      "19929\n",
      "80921\n",
      "Epoch 00337 | Loss 0.1661 | train_RMSE 0.2587 | test_RMSE 0.2546 \n"
     ]
    },
    {
     "name": "stderr",
     "output_type": "stream",
     "text": [
      " 17%|██████▊                                 | 341/2000 [00:16<01:18, 21.08it/s]"
     ]
    },
    {
     "name": "stdout",
     "output_type": "stream",
     "text": [
      "19929\n",
      "80921\n",
      "Epoch 00338 | Loss 0.1668 | train_RMSE 0.2585 | test_RMSE 0.2544 \n",
      "19929\n",
      "80921\n",
      "Epoch 00339 | Loss 0.1666 | train_RMSE 0.2576 | test_RMSE 0.2535 \n",
      "19929\n",
      "80921\n",
      "Epoch 00340 | Loss 0.1661 | train_RMSE 0.2573 | test_RMSE 0.2533 \n",
      "19929\n",
      "80921\n",
      "Epoch 00341 | Loss 0.1628 | train_RMSE 0.2578 | test_RMSE 0.2537 \n",
      "19929\n"
     ]
    },
    {
     "name": "stderr",
     "output_type": "stream",
     "text": [
      " 17%|██████▉                                 | 347/2000 [00:17<01:18, 21.01it/s]"
     ]
    },
    {
     "name": "stdout",
     "output_type": "stream",
     "text": [
      "80921\n",
      "Epoch 00342 | Loss 0.1634 | train_RMSE 0.2585 | test_RMSE 0.2544 \n",
      "19929\n",
      "80921\n",
      "Epoch 00343 | Loss 0.1640 | train_RMSE 0.2585 | test_RMSE 0.2544 \n",
      "19929\n",
      "80921\n",
      "Epoch 00344 | Loss 0.1661 | train_RMSE 0.2583 | test_RMSE 0.2542 \n",
      "19929\n",
      "80921\n",
      "Epoch 00345 | Loss 0.1635 | train_RMSE 0.2580 | test_RMSE 0.2540 \n",
      "19929\n",
      "80921\n",
      "Epoch 00346 | Loss 0.1616 | train_RMSE 0.2584 | test_RMSE 0.2543 \n"
     ]
    },
    {
     "name": "stderr",
     "output_type": "stream",
     "text": [
      "\r",
      " 18%|███████                                 | 350/2000 [00:17<01:18, 21.07it/s]"
     ]
    },
    {
     "name": "stdout",
     "output_type": "stream",
     "text": [
      "19929\n",
      "80921\n",
      "Epoch 00347 | Loss 0.1628 | train_RMSE 0.2585 | test_RMSE 0.2544 \n",
      "19929\n",
      "80921\n",
      "Epoch 00348 | Loss 0.1612 | train_RMSE 0.2587 | test_RMSE 0.2546 \n",
      "19929\n",
      "80921\n",
      "Epoch 00349 | Loss 0.1618 | train_RMSE 0.2583 | test_RMSE 0.2542 \n",
      "19929\n",
      "80921\n",
      "Epoch 00350 | Loss 0.1619 | train_RMSE 0.2582 | test_RMSE 0.2541 \n",
      "19929\n",
      "80921\n",
      "Epoch 00351 | Loss 0.1621 | train_RMSE 0.2585 | test_RMSE 0.2544 \n"
     ]
    },
    {
     "name": "stderr",
     "output_type": "stream",
     "text": [
      " 18%|███████                                 | 356/2000 [00:17<01:17, 21.09it/s]"
     ]
    },
    {
     "name": "stdout",
     "output_type": "stream",
     "text": [
      "19929\n",
      "80921\n",
      "Epoch 00352 | Loss 0.1612 | train_RMSE 0.2593 | test_RMSE 0.2551 \n",
      "19929\n",
      "80921\n",
      "Epoch 00353 | Loss 0.1610 | train_RMSE 0.2590 | test_RMSE 0.2549 \n",
      "19929\n",
      "80921\n",
      "Epoch 00354 | Loss 0.1582 | train_RMSE 0.2586 | test_RMSE 0.2545 \n",
      "19929\n",
      "80921\n",
      "Epoch 00355 | Loss 0.1582 | train_RMSE 0.2584 | test_RMSE 0.2544 \n",
      "19929\n"
     ]
    },
    {
     "name": "stderr",
     "output_type": "stream",
     "text": [
      "\r",
      " 18%|███████▏                                | 359/2000 [00:17<01:17, 21.13it/s]"
     ]
    },
    {
     "name": "stdout",
     "output_type": "stream",
     "text": [
      "80921\n",
      "Epoch 00356 | Loss 0.1588 | train_RMSE 0.2589 | test_RMSE 0.2548 \n",
      "19929\n",
      "80921\n",
      "Epoch 00357 | Loss 0.1585 | train_RMSE 0.2594 | test_RMSE 0.2553 \n",
      "19929\n",
      "80921\n",
      "Epoch 00358 | Loss 0.1577 | train_RMSE 0.2595 | test_RMSE 0.2554 \n",
      "19929\n",
      "80921\n",
      "Epoch 00359 | Loss 0.1565 | train_RMSE 0.2593 | test_RMSE 0.2552 \n",
      "19929\n",
      "80921\n",
      "Epoch 00360 | Loss 0.1574 | train_RMSE 0.2592 | test_RMSE 0.2551 \n"
     ]
    },
    {
     "name": "stderr",
     "output_type": "stream",
     "text": [
      " 18%|███████▎                                | 365/2000 [00:18<01:17, 21.16it/s]"
     ]
    },
    {
     "name": "stdout",
     "output_type": "stream",
     "text": [
      "19929\n",
      "80921\n",
      "Epoch 00361 | Loss 0.1554 | train_RMSE 0.2593 | test_RMSE 0.2552 \n",
      "19929\n",
      "80921\n",
      "Epoch 00362 | Loss 0.1567 | train_RMSE 0.2594 | test_RMSE 0.2553 \n",
      "19929\n",
      "80921\n",
      "Epoch 00363 | Loss 0.1558 | train_RMSE 0.2594 | test_RMSE 0.2552 \n",
      "19929\n",
      "80921\n",
      "Epoch 00364 | Loss 0.1552 | train_RMSE 0.2595 | test_RMSE 0.2553 \n",
      "19929\n"
     ]
    },
    {
     "name": "stderr",
     "output_type": "stream",
     "text": [
      "\r",
      " 18%|███████▎                                | 368/2000 [00:18<01:17, 21.19it/s]"
     ]
    },
    {
     "name": "stdout",
     "output_type": "stream",
     "text": [
      "80921\n",
      "Epoch 00365 | Loss 0.1540 | train_RMSE 0.2598 | test_RMSE 0.2556 \n",
      "19929\n",
      "80921\n",
      "Epoch 00366 | Loss 0.1545 | train_RMSE 0.2601 | test_RMSE 0.2559 \n",
      "19929\n",
      "80921\n",
      "Epoch 00367 | Loss 0.1549 | train_RMSE 0.2603 | test_RMSE 0.2561 \n",
      "19929\n",
      "80921\n",
      "Epoch 00368 | Loss 0.1527 | train_RMSE 0.2601 | test_RMSE 0.2560 \n",
      "19929\n",
      "80921\n",
      "Epoch 00369 | Loss 0.1529 | train_RMSE 0.2597 | test_RMSE 0.2557 \n"
     ]
    },
    {
     "name": "stderr",
     "output_type": "stream",
     "text": [
      " 19%|███████▍                                | 374/2000 [00:18<01:16, 21.25it/s]"
     ]
    },
    {
     "name": "stdout",
     "output_type": "stream",
     "text": [
      "19929\n",
      "80921\n",
      "Epoch 00370 | Loss 0.1532 | train_RMSE 0.2594 | test_RMSE 0.2553 \n",
      "19929\n",
      "80921\n",
      "Epoch 00371 | Loss 0.1513 | train_RMSE 0.2599 | test_RMSE 0.2557 \n",
      "19929\n",
      "80921\n",
      "Epoch 00372 | Loss 0.1522 | train_RMSE 0.2607 | test_RMSE 0.2565 \n",
      "19929\n",
      "80921\n",
      "Epoch 00373 | Loss 0.1518 | train_RMSE 0.2610 | test_RMSE 0.2568 \n",
      "19929\n",
      "80921\n",
      "Epoch 00374 | Loss 0.1506 | train_RMSE 0.2609 | test_RMSE 0.2567 \n"
     ]
    },
    {
     "name": "stderr",
     "output_type": "stream",
     "text": [
      "\r",
      " 19%|███████▌                                | 377/2000 [00:18<01:16, 21.16it/s]"
     ]
    },
    {
     "name": "stdout",
     "output_type": "stream",
     "text": [
      "19929\n",
      "80921\n",
      "Epoch 00375 | Loss 0.1495 | train_RMSE 0.2606 | test_RMSE 0.2565 \n",
      "19929\n",
      "80921\n",
      "Epoch 00376 | Loss 0.1504 | train_RMSE 0.2605 | test_RMSE 0.2564 \n",
      "19929\n",
      "80921\n",
      "Epoch 00377 | Loss 0.1508 | train_RMSE 0.2605 | test_RMSE 0.2564 \n",
      "19929\n",
      "80921\n",
      "Epoch 00378 | Loss 0.1500 | train_RMSE 0.2608 | test_RMSE 0.2567 \n",
      "19929\n",
      "80921\n",
      "Epoch 00379 | Loss 0.1485 | train_RMSE 0.2612 | test_RMSE 0.2570 \n"
     ]
    },
    {
     "name": "stderr",
     "output_type": "stream",
     "text": [
      " 19%|███████▋                                | 383/2000 [00:18<01:16, 21.11it/s]"
     ]
    },
    {
     "name": "stdout",
     "output_type": "stream",
     "text": [
      "19929\n",
      "80921\n",
      "Epoch 00380 | Loss 0.1482 | train_RMSE 0.2612 | test_RMSE 0.2570 \n",
      "19929\n",
      "80921\n",
      "Epoch 00381 | Loss 0.1477 | train_RMSE 0.2611 | test_RMSE 0.2569 \n",
      "19929\n",
      "80921\n",
      "Epoch 00382 | Loss 0.1485 | train_RMSE 0.2612 | test_RMSE 0.2570 \n",
      "19929\n",
      "80921\n",
      "Epoch 00383 | Loss 0.1469 | train_RMSE 0.2615 | test_RMSE 0.2574 \n",
      "19929\n"
     ]
    },
    {
     "name": "stderr",
     "output_type": "stream",
     "text": [
      " 19%|███████▊                                | 389/2000 [00:19<01:16, 21.10it/s]"
     ]
    },
    {
     "name": "stdout",
     "output_type": "stream",
     "text": [
      "80921\n",
      "Epoch 00384 | Loss 0.1470 | train_RMSE 0.2616 | test_RMSE 0.2575 \n",
      "19929\n",
      "80921\n",
      "Epoch 00385 | Loss 0.1460 | train_RMSE 0.2617 | test_RMSE 0.2576 \n",
      "19929\n",
      "80921\n",
      "Epoch 00386 | Loss 0.1464 | train_RMSE 0.2618 | test_RMSE 0.2576 \n",
      "19929\n",
      "80921\n",
      "Epoch 00387 | Loss 0.1447 | train_RMSE 0.2621 | test_RMSE 0.2580 \n",
      "19929\n",
      "80921\n",
      "Epoch 00388 | Loss 0.1443 | train_RMSE 0.2622 | test_RMSE 0.2580 \n"
     ]
    },
    {
     "name": "stderr",
     "output_type": "stream",
     "text": [
      "\r",
      " 20%|███████▊                                | 392/2000 [00:19<01:16, 21.12it/s]"
     ]
    },
    {
     "name": "stdout",
     "output_type": "stream",
     "text": [
      "19929\n",
      "80921\n",
      "Epoch 00389 | Loss 0.1446 | train_RMSE 0.2621 | test_RMSE 0.2579 \n",
      "19929\n",
      "80921\n",
      "Epoch 00390 | Loss 0.1445 | train_RMSE 0.2625 | test_RMSE 0.2583 \n",
      "19929\n",
      "80921\n",
      "Epoch 00391 | Loss 0.1439 | train_RMSE 0.2627 | test_RMSE 0.2585 \n",
      "19929\n",
      "80921\n",
      "Epoch 00392 | Loss 0.1452 | train_RMSE 0.2626 | test_RMSE 0.2585 \n",
      "19929\n",
      "80921\n",
      "Epoch 00393 | Loss 0.1428 | train_RMSE 0.2626 | test_RMSE 0.2584 \n"
     ]
    },
    {
     "name": "stderr",
     "output_type": "stream",
     "text": [
      " 20%|███████▉                                | 398/2000 [00:19<01:15, 21.09it/s]"
     ]
    },
    {
     "name": "stdout",
     "output_type": "stream",
     "text": [
      "19929\n",
      "80921\n",
      "Epoch 00394 | Loss 0.1423 | train_RMSE 0.2630 | test_RMSE 0.2588 \n",
      "19929\n",
      "80921\n",
      "Epoch 00395 | Loss 0.1433 | train_RMSE 0.2633 | test_RMSE 0.2590 \n",
      "19929\n",
      "80921\n",
      "Epoch 00396 | Loss 0.1419 | train_RMSE 0.2630 | test_RMSE 0.2588 \n",
      "19929\n",
      "80921\n",
      "Epoch 00397 | Loss 0.1405 | train_RMSE 0.2630 | test_RMSE 0.2589 \n",
      "19929\n"
     ]
    },
    {
     "name": "stderr",
     "output_type": "stream",
     "text": [
      "\r",
      " 20%|████████                                | 401/2000 [00:19<01:15, 21.08it/s]"
     ]
    },
    {
     "name": "stdout",
     "output_type": "stream",
     "text": [
      "80921\n",
      "Epoch 00398 | Loss 0.1404 | train_RMSE 0.2637 | test_RMSE 0.2595 \n",
      "19929\n",
      "80921\n",
      "Epoch 00399 | Loss 0.1404 | train_RMSE 0.2640 | test_RMSE 0.2598 \n",
      "19929\n",
      "80921\n",
      "Epoch 00400 | Loss 0.1399 | train_RMSE 0.2637 | test_RMSE 0.2596 \n",
      "19929\n",
      "80921\n",
      "Epoch 00401 | Loss 0.1398 | train_RMSE 0.2635 | test_RMSE 0.2594 \n",
      "19929\n",
      "80921\n",
      "Epoch 00402 | Loss 0.1396 | train_RMSE 0.2639 | test_RMSE 0.2597 \n"
     ]
    },
    {
     "name": "stderr",
     "output_type": "stream",
     "text": [
      " 20%|████████▏                               | 407/2000 [00:20<01:15, 20.99it/s]"
     ]
    },
    {
     "name": "stdout",
     "output_type": "stream",
     "text": [
      "19929\n",
      "80921\n",
      "Epoch 00403 | Loss 0.1396 | train_RMSE 0.2644 | test_RMSE 0.2601 \n",
      "19929\n",
      "80921\n",
      "Epoch 00404 | Loss 0.1387 | train_RMSE 0.2641 | test_RMSE 0.2599 \n",
      "19929\n",
      "80921\n",
      "Epoch 00405 | Loss 0.1386 | train_RMSE 0.2640 | test_RMSE 0.2599 \n",
      "19929\n",
      "80921\n",
      "Epoch 00406 | Loss 0.1375 | train_RMSE 0.2646 | test_RMSE 0.2604 \n",
      "19929\n"
     ]
    },
    {
     "name": "stderr",
     "output_type": "stream",
     "text": [
      "\r",
      " 20%|████████▏                               | 410/2000 [00:20<01:15, 21.03it/s]"
     ]
    },
    {
     "name": "stdout",
     "output_type": "stream",
     "text": [
      "80921\n",
      "Epoch 00407 | Loss 0.1376 | train_RMSE 0.2649 | test_RMSE 0.2607 \n",
      "19929\n",
      "80921\n",
      "Epoch 00408 | Loss 0.1372 | train_RMSE 0.2647 | test_RMSE 0.2605 \n",
      "19929\n",
      "80921\n",
      "Epoch 00409 | Loss 0.1363 | train_RMSE 0.2644 | test_RMSE 0.2603 \n",
      "19929\n",
      "80921\n",
      "Epoch 00410 | Loss 0.1368 | train_RMSE 0.2650 | test_RMSE 0.2608 \n",
      "19929\n",
      "80921\n",
      "Epoch 00411 | Loss 0.1359 | train_RMSE 0.2657 | test_RMSE 0.2614 \n"
     ]
    },
    {
     "name": "stderr",
     "output_type": "stream",
     "text": [
      " 21%|████████▎                               | 416/2000 [00:20<01:15, 21.06it/s]"
     ]
    },
    {
     "name": "stdout",
     "output_type": "stream",
     "text": [
      "19929\n",
      "80921\n",
      "Epoch 00412 | Loss 0.1354 | train_RMSE 0.2655 | test_RMSE 0.2612 \n",
      "19929\n",
      "80921\n",
      "Epoch 00413 | Loss 0.1357 | train_RMSE 0.2655 | test_RMSE 0.2612 \n",
      "19929\n",
      "80921\n",
      "Epoch 00414 | Loss 0.1350 | train_RMSE 0.2653 | test_RMSE 0.2612 \n",
      "19929\n",
      "80921\n",
      "Epoch 00415 | Loss 0.1342 | train_RMSE 0.2657 | test_RMSE 0.2615 \n",
      "19929\n"
     ]
    },
    {
     "name": "stderr",
     "output_type": "stream",
     "text": [
      "\r",
      " 21%|████████▍                               | 419/2000 [00:20<01:14, 21.12it/s]"
     ]
    },
    {
     "name": "stdout",
     "output_type": "stream",
     "text": [
      "80921\n",
      "Epoch 00416 | Loss 0.1351 | train_RMSE 0.2664 | test_RMSE 0.2621 \n",
      "19929\n",
      "80921\n",
      "Epoch 00417 | Loss 0.1344 | train_RMSE 0.2665 | test_RMSE 0.2623 \n",
      "19929\n",
      "80921\n",
      "Epoch 00418 | Loss 0.1336 | train_RMSE 0.2663 | test_RMSE 0.2621 \n",
      "19929\n",
      "80921\n",
      "Epoch 00419 | Loss 0.1331 | train_RMSE 0.2665 | test_RMSE 0.2623 \n",
      "19929\n",
      "80921\n",
      "Epoch 00420 | Loss 0.1329 | train_RMSE 0.2669 | test_RMSE 0.2626 \n"
     ]
    },
    {
     "name": "stderr",
     "output_type": "stream",
     "text": [
      " 21%|████████▌                               | 425/2000 [00:20<01:15, 20.95it/s]"
     ]
    },
    {
     "name": "stdout",
     "output_type": "stream",
     "text": [
      "19929\n",
      "80921\n",
      "Epoch 00421 | Loss 0.1332 | train_RMSE 0.2671 | test_RMSE 0.2628 \n",
      "19929\n",
      "80921\n",
      "Epoch 00422 | Loss 0.1333 | train_RMSE 0.2674 | test_RMSE 0.2631 \n",
      "19929\n",
      "80921\n",
      "Epoch 00423 | Loss 0.1323 | train_RMSE 0.2672 | test_RMSE 0.2630 \n",
      "19929\n",
      "80921\n",
      "Epoch 00424 | Loss 0.1309 | train_RMSE 0.2674 | test_RMSE 0.2631 \n",
      "19929\n"
     ]
    },
    {
     "name": "stderr",
     "output_type": "stream",
     "text": [
      "\r",
      " 21%|████████▌                               | 428/2000 [00:21<01:14, 21.01it/s]"
     ]
    },
    {
     "name": "stdout",
     "output_type": "stream",
     "text": [
      "80921\n",
      "Epoch 00425 | Loss 0.1312 | train_RMSE 0.2681 | test_RMSE 0.2638 \n",
      "19929\n",
      "80921\n",
      "Epoch 00426 | Loss 0.1310 | train_RMSE 0.2682 | test_RMSE 0.2639 \n",
      "19929\n",
      "80921\n",
      "Epoch 00427 | Loss 0.1311 | train_RMSE 0.2680 | test_RMSE 0.2638 \n",
      "19929\n",
      "80921\n",
      "Epoch 00428 | Loss 0.1303 | train_RMSE 0.2683 | test_RMSE 0.2640 \n",
      "19929\n",
      "80921\n",
      "Epoch 00429 | Loss 0.1302 | train_RMSE 0.2688 | test_RMSE 0.2645 \n"
     ]
    },
    {
     "name": "stderr",
     "output_type": "stream",
     "text": [
      " 22%|████████▋                               | 434/2000 [00:21<01:14, 21.02it/s]"
     ]
    },
    {
     "name": "stdout",
     "output_type": "stream",
     "text": [
      "19929\n",
      "80921\n",
      "Epoch 00430 | Loss 0.1306 | train_RMSE 0.2689 | test_RMSE 0.2647 \n",
      "19929\n",
      "80921\n",
      "Epoch 00431 | Loss 0.1294 | train_RMSE 0.2691 | test_RMSE 0.2648 \n",
      "19929\n",
      "80921\n",
      "Epoch 00432 | Loss 0.1296 | train_RMSE 0.2695 | test_RMSE 0.2652 \n",
      "19929\n",
      "80921\n",
      "Epoch 00433 | Loss 0.1295 | train_RMSE 0.2696 | test_RMSE 0.2653 \n",
      "19929\n"
     ]
    },
    {
     "name": "stderr",
     "output_type": "stream",
     "text": [
      "\r",
      " 22%|████████▋                               | 437/2000 [00:21<01:14, 20.93it/s]"
     ]
    },
    {
     "name": "stdout",
     "output_type": "stream",
     "text": [
      "80921\n",
      "Epoch 00434 | Loss 0.1288 | train_RMSE 0.2699 | test_RMSE 0.2656 \n",
      "19929\n",
      "80921\n",
      "Epoch 00435 | Loss 0.1288 | train_RMSE 0.2699 | test_RMSE 0.2656 \n",
      "19929\n",
      "80921\n",
      "Epoch 00436 | Loss 0.1275 | train_RMSE 0.2701 | test_RMSE 0.2658 \n",
      "19929\n",
      "80921\n",
      "Epoch 00437 | Loss 0.1282 | train_RMSE 0.2708 | test_RMSE 0.2665 \n",
      "19929\n",
      "80921\n",
      "Epoch 00438 | Loss 0.1283 | train_RMSE 0.2711 | test_RMSE 0.2668 \n"
     ]
    },
    {
     "name": "stderr",
     "output_type": "stream",
     "text": [
      " 22%|████████▊                               | 443/2000 [00:21<01:13, 21.07it/s]"
     ]
    },
    {
     "name": "stdout",
     "output_type": "stream",
     "text": [
      "19929\n",
      "80921\n",
      "Epoch 00439 | Loss 0.1272 | train_RMSE 0.2708 | test_RMSE 0.2665 \n",
      "19929\n",
      "80921\n",
      "Epoch 00440 | Loss 0.1271 | train_RMSE 0.2710 | test_RMSE 0.2667 \n",
      "19929\n",
      "80921\n",
      "Epoch 00441 | Loss 0.1277 | train_RMSE 0.2715 | test_RMSE 0.2672 \n",
      "19929\n",
      "80921\n",
      "Epoch 00442 | Loss 0.1278 | train_RMSE 0.2720 | test_RMSE 0.2676 \n",
      "19929\n"
     ]
    },
    {
     "name": "stderr",
     "output_type": "stream",
     "text": [
      "\r",
      " 22%|████████▉                               | 446/2000 [00:21<01:13, 21.07it/s]"
     ]
    },
    {
     "name": "stdout",
     "output_type": "stream",
     "text": [
      "80921\n",
      "Epoch 00443 | Loss 0.1274 | train_RMSE 0.2719 | test_RMSE 0.2676 \n",
      "19929\n",
      "80921\n",
      "Epoch 00444 | Loss 0.1271 | train_RMSE 0.2720 | test_RMSE 0.2677 \n",
      "19929\n",
      "80921\n",
      "Epoch 00445 | Loss 0.1261 | train_RMSE 0.2724 | test_RMSE 0.2680 \n",
      "19929\n",
      "80921\n",
      "Epoch 00446 | Loss 0.1261 | train_RMSE 0.2733 | test_RMSE 0.2689 \n",
      "19929\n",
      "80921\n",
      "Epoch 00447 | Loss 0.1277 | train_RMSE 0.2737 | test_RMSE 0.2692 \n"
     ]
    },
    {
     "name": "stderr",
     "output_type": "stream",
     "text": [
      " 23%|█████████                               | 452/2000 [00:22<01:13, 21.08it/s]"
     ]
    },
    {
     "name": "stdout",
     "output_type": "stream",
     "text": [
      "19929\n",
      "80921\n",
      "Epoch 00448 | Loss 0.1263 | train_RMSE 0.2734 | test_RMSE 0.2690 \n",
      "19929\n",
      "80921\n",
      "Epoch 00449 | Loss 0.1260 | train_RMSE 0.2736 | test_RMSE 0.2692 \n",
      "19929\n",
      "80921\n",
      "Epoch 00450 | Loss 0.1251 | train_RMSE 0.2747 | test_RMSE 0.2702 \n",
      "19929\n",
      "80921\n",
      "Epoch 00451 | Loss 0.1255 | train_RMSE 0.2750 | test_RMSE 0.2706 \n",
      "19929\n"
     ]
    },
    {
     "name": "stderr",
     "output_type": "stream",
     "text": [
      "\r",
      " 23%|█████████                               | 455/2000 [00:22<01:13, 21.12it/s]"
     ]
    },
    {
     "name": "stdout",
     "output_type": "stream",
     "text": [
      "80921\n",
      "Epoch 00452 | Loss 0.1261 | train_RMSE 0.2748 | test_RMSE 0.2703 \n",
      "19929\n",
      "80921\n",
      "Epoch 00453 | Loss 0.1243 | train_RMSE 0.2749 | test_RMSE 0.2705 \n",
      "19929\n",
      "80921\n",
      "Epoch 00454 | Loss 0.1256 | train_RMSE 0.2759 | test_RMSE 0.2714 \n",
      "19929\n",
      "80921\n",
      "Epoch 00455 | Loss 0.1248 | train_RMSE 0.2765 | test_RMSE 0.2720 \n",
      "19929\n",
      "80921\n",
      "Epoch 00456 | Loss 0.1250 | train_RMSE 0.2760 | test_RMSE 0.2715 \n"
     ]
    },
    {
     "name": "stderr",
     "output_type": "stream",
     "text": [
      " 23%|█████████▏                              | 461/2000 [00:22<01:12, 21.21it/s]"
     ]
    },
    {
     "name": "stdout",
     "output_type": "stream",
     "text": [
      "19929\n",
      "80921\n",
      "Epoch 00457 | Loss 0.1251 | train_RMSE 0.2759 | test_RMSE 0.2715 \n",
      "19929\n",
      "80921\n",
      "Epoch 00458 | Loss 0.1254 | train_RMSE 0.2768 | test_RMSE 0.2723 \n",
      "19929\n",
      "80921\n",
      "Epoch 00459 | Loss 0.1244 | train_RMSE 0.2779 | test_RMSE 0.2733 \n",
      "19929\n",
      "80921\n",
      "Epoch 00460 | Loss 0.1249 | train_RMSE 0.2778 | test_RMSE 0.2732 \n",
      "19929\n",
      "80921\n",
      "Epoch 00461 | Loss 0.1243 | train_RMSE 0.2775 | test_RMSE 0.2730 \n"
     ]
    },
    {
     "name": "stderr",
     "output_type": "stream",
     "text": [
      " 23%|█████████▎                              | 467/2000 [00:22<01:12, 21.20it/s]"
     ]
    },
    {
     "name": "stdout",
     "output_type": "stream",
     "text": [
      "19929\n",
      "80921\n",
      "Epoch 00462 | Loss 0.1248 | train_RMSE 0.2779 | test_RMSE 0.2734 \n",
      "19929\n",
      "80921\n",
      "Epoch 00463 | Loss 0.1239 | train_RMSE 0.2788 | test_RMSE 0.2743 \n",
      "19929\n",
      "80921\n",
      "Epoch 00464 | Loss 0.1240 | train_RMSE 0.2791 | test_RMSE 0.2745 \n",
      "19929\n",
      "80921\n",
      "Epoch 00465 | Loss 0.1240 | train_RMSE 0.2789 | test_RMSE 0.2743 \n",
      "19929\n",
      "80921\n",
      "Epoch 00466 | Loss 0.1244 | train_RMSE 0.2790 | test_RMSE 0.2745 \n"
     ]
    },
    {
     "name": "stderr",
     "output_type": "stream",
     "text": [
      "\r",
      " 24%|█████████▍                              | 470/2000 [00:23<01:12, 21.16it/s]"
     ]
    },
    {
     "name": "stdout",
     "output_type": "stream",
     "text": [
      "19929\n",
      "80921\n",
      "Epoch 00467 | Loss 0.1245 | train_RMSE 0.2795 | test_RMSE 0.2750 \n",
      "19929\n",
      "80921\n",
      "Epoch 00468 | Loss 0.1239 | train_RMSE 0.2800 | test_RMSE 0.2754 \n",
      "19929\n",
      "80921\n",
      "Epoch 00469 | Loss 0.1239 | train_RMSE 0.2797 | test_RMSE 0.2752 \n",
      "19929\n",
      "80921\n",
      "Epoch 00470 | Loss 0.1235 | train_RMSE 0.2799 | test_RMSE 0.2753 \n",
      "19929\n"
     ]
    },
    {
     "name": "stderr",
     "output_type": "stream",
     "text": [
      " 24%|█████████▌                              | 476/2000 [00:23<01:12, 21.12it/s]"
     ]
    },
    {
     "name": "stdout",
     "output_type": "stream",
     "text": [
      "80921\n",
      "Epoch 00471 | Loss 0.1237 | train_RMSE 0.2804 | test_RMSE 0.2758 \n",
      "19929\n",
      "80921\n",
      "Epoch 00472 | Loss 0.1234 | train_RMSE 0.2809 | test_RMSE 0.2763 \n",
      "19929\n",
      "80921\n",
      "Epoch 00473 | Loss 0.1239 | train_RMSE 0.2808 | test_RMSE 0.2762 \n",
      "19929\n",
      "80921\n",
      "Epoch 00474 | Loss 0.1228 | train_RMSE 0.2805 | test_RMSE 0.2760 \n",
      "19929\n",
      "80921\n",
      "Epoch 00475 | Loss 0.1241 | train_RMSE 0.2810 | test_RMSE 0.2764 \n"
     ]
    },
    {
     "name": "stderr",
     "output_type": "stream",
     "text": [
      "\r",
      " 24%|█████████▌                              | 479/2000 [00:23<01:11, 21.21it/s]"
     ]
    },
    {
     "name": "stdout",
     "output_type": "stream",
     "text": [
      "19929\n",
      "80921\n",
      "Epoch 00476 | Loss 0.1236 | train_RMSE 0.2817 | test_RMSE 0.2770 \n",
      "19929\n",
      "80921\n",
      "Epoch 00477 | Loss 0.1238 | train_RMSE 0.2814 | test_RMSE 0.2768 \n",
      "19929\n",
      "80921\n",
      "Epoch 00478 | Loss 0.1237 | train_RMSE 0.2815 | test_RMSE 0.2768 \n",
      "19929\n",
      "80921\n",
      "Epoch 00479 | Loss 0.1236 | train_RMSE 0.2820 | test_RMSE 0.2773 \n",
      "19929\n",
      "80921\n",
      "Epoch 00480 | Loss 0.1236 | train_RMSE 0.2820 | test_RMSE 0.2774 \n"
     ]
    },
    {
     "name": "stderr",
     "output_type": "stream",
     "text": [
      " 24%|█████████▋                              | 485/2000 [00:23<01:11, 21.21it/s]"
     ]
    },
    {
     "name": "stdout",
     "output_type": "stream",
     "text": [
      "19929\n",
      "80921\n",
      "Epoch 00481 | Loss 0.1233 | train_RMSE 0.2818 | test_RMSE 0.2772 \n",
      "19929\n",
      "80921\n",
      "Epoch 00482 | Loss 0.1239 | train_RMSE 0.2819 | test_RMSE 0.2773 \n",
      "19929\n",
      "80921\n",
      "Epoch 00483 | Loss 0.1228 | train_RMSE 0.2823 | test_RMSE 0.2777 \n",
      "19929\n",
      "80921\n",
      "Epoch 00484 | Loss 0.1240 | train_RMSE 0.2828 | test_RMSE 0.2781 \n",
      "19929\n"
     ]
    },
    {
     "name": "stderr",
     "output_type": "stream",
     "text": [
      "\r",
      " 24%|█████████▊                              | 488/2000 [00:23<01:11, 21.13it/s]"
     ]
    },
    {
     "name": "stdout",
     "output_type": "stream",
     "text": [
      "80921\n",
      "Epoch 00485 | Loss 0.1230 | train_RMSE 0.2824 | test_RMSE 0.2777 \n",
      "19929\n",
      "80921\n",
      "Epoch 00486 | Loss 0.1235 | train_RMSE 0.2824 | test_RMSE 0.2778 \n",
      "19929\n",
      "80921\n",
      "Epoch 00487 | Loss 0.1226 | train_RMSE 0.2831 | test_RMSE 0.2784 \n",
      "19929\n",
      "80921\n",
      "Epoch 00488 | Loss 0.1234 | train_RMSE 0.2831 | test_RMSE 0.2785 \n",
      "19929\n",
      "80921\n",
      "Epoch 00489 | Loss 0.1236 | train_RMSE 0.2826 | test_RMSE 0.2780 \n"
     ]
    },
    {
     "name": "stderr",
     "output_type": "stream",
     "text": [
      " 25%|█████████▉                              | 494/2000 [00:24<01:11, 21.19it/s]"
     ]
    },
    {
     "name": "stdout",
     "output_type": "stream",
     "text": [
      "19929\n",
      "80921\n",
      "Epoch 00490 | Loss 0.1229 | train_RMSE 0.2828 | test_RMSE 0.2782 \n",
      "19929\n",
      "80921\n",
      "Epoch 00491 | Loss 0.1234 | train_RMSE 0.2838 | test_RMSE 0.2791 \n",
      "19929\n",
      "80921\n",
      "Epoch 00492 | Loss 0.1239 | train_RMSE 0.2837 | test_RMSE 0.2789 \n",
      "19929\n",
      "80921\n",
      "Epoch 00493 | Loss 0.1229 | train_RMSE 0.2828 | test_RMSE 0.2782 \n",
      "19929\n"
     ]
    },
    {
     "name": "stderr",
     "output_type": "stream",
     "text": [
      "\r",
      " 25%|█████████▉                              | 497/2000 [00:24<01:10, 21.18it/s]"
     ]
    },
    {
     "name": "stdout",
     "output_type": "stream",
     "text": [
      "80921\n",
      "Epoch 00494 | Loss 0.1227 | train_RMSE 0.2830 | test_RMSE 0.2784 \n",
      "19929\n",
      "80921\n",
      "Epoch 00495 | Loss 0.1230 | train_RMSE 0.2836 | test_RMSE 0.2789 \n",
      "19929\n",
      "80921\n",
      "Epoch 00496 | Loss 0.1224 | train_RMSE 0.2837 | test_RMSE 0.2790 \n",
      "19929\n",
      "80921\n",
      "Epoch 00497 | Loss 0.1227 | train_RMSE 0.2830 | test_RMSE 0.2784 \n",
      "19929\n",
      "80921\n",
      "Epoch 00498 | Loss 0.1226 | train_RMSE 0.2833 | test_RMSE 0.2786 \n"
     ]
    },
    {
     "name": "stderr",
     "output_type": "stream",
     "text": [
      " 25%|██████████                              | 503/2000 [00:24<01:10, 21.28it/s]"
     ]
    },
    {
     "name": "stdout",
     "output_type": "stream",
     "text": [
      "19929\n",
      "80921\n",
      "Epoch 00499 | Loss 0.1217 | train_RMSE 0.2844 | test_RMSE 0.2796 \n",
      "19929\n",
      "80921\n",
      "Epoch 00500 | Loss 0.1232 | train_RMSE 0.2839 | test_RMSE 0.2792 \n",
      "19929\n",
      "80921\n",
      "Epoch 00501 | Loss 0.1222 | train_RMSE 0.2831 | test_RMSE 0.2786 \n",
      "19929\n",
      "80921\n",
      "Epoch 00502 | Loss 0.1229 | train_RMSE 0.2831 | test_RMSE 0.2785 \n",
      "19929\n",
      "80921\n",
      "Epoch 00503 | Loss 0.1225 | train_RMSE 0.2840 | test_RMSE 0.2793 \n"
     ]
    },
    {
     "name": "stderr",
     "output_type": "stream",
     "text": [
      " 25%|██████████▏                             | 509/2000 [00:24<01:09, 21.30it/s]"
     ]
    },
    {
     "name": "stdout",
     "output_type": "stream",
     "text": [
      "19929\n",
      "80921\n",
      "Epoch 00504 | Loss 0.1229 | train_RMSE 0.2843 | test_RMSE 0.2795 \n",
      "19929\n",
      "80921\n",
      "Epoch 00505 | Loss 0.1228 | train_RMSE 0.2834 | test_RMSE 0.2788 \n",
      "19929\n",
      "80921\n",
      "Epoch 00506 | Loss 0.1231 | train_RMSE 0.2833 | test_RMSE 0.2787 \n",
      "19929\n",
      "80921\n",
      "Epoch 00507 | Loss 0.1230 | train_RMSE 0.2840 | test_RMSE 0.2793 \n",
      "19929\n",
      "80921\n",
      "Epoch 00508 | Loss 0.1240 | train_RMSE 0.2842 | test_RMSE 0.2795 \n"
     ]
    },
    {
     "name": "stderr",
     "output_type": "stream",
     "text": [
      "\r",
      " 26%|██████████▏                             | 512/2000 [00:25<01:09, 21.30it/s]"
     ]
    },
    {
     "name": "stdout",
     "output_type": "stream",
     "text": [
      "19929\n",
      "80921\n",
      "Epoch 00509 | Loss 0.1232 | train_RMSE 0.2838 | test_RMSE 0.2791 \n",
      "19929\n",
      "80921\n",
      "Epoch 00510 | Loss 0.1226 | train_RMSE 0.2839 | test_RMSE 0.2792 \n",
      "19929\n",
      "80921\n",
      "Epoch 00511 | Loss 0.1220 | train_RMSE 0.2841 | test_RMSE 0.2794 \n",
      "19929\n",
      "80921\n",
      "Epoch 00512 | Loss 0.1224 | train_RMSE 0.2841 | test_RMSE 0.2794 \n",
      "19929\n",
      "80921\n",
      "Epoch 00513 | Loss 0.1224 | train_RMSE 0.2840 | test_RMSE 0.2793 \n"
     ]
    },
    {
     "name": "stderr",
     "output_type": "stream",
     "text": [
      " 26%|██████████▎                             | 518/2000 [00:25<01:09, 21.30it/s]"
     ]
    },
    {
     "name": "stdout",
     "output_type": "stream",
     "text": [
      "19929\n",
      "80921\n",
      "Epoch 00514 | Loss 0.1228 | train_RMSE 0.2837 | test_RMSE 0.2791 \n",
      "19929\n",
      "80921\n",
      "Epoch 00515 | Loss 0.1227 | train_RMSE 0.2839 | test_RMSE 0.2792 \n",
      "19929\n",
      "80921\n",
      "Epoch 00516 | Loss 0.1222 | train_RMSE 0.2842 | test_RMSE 0.2795 \n",
      "19929\n",
      "80921\n",
      "Epoch 00517 | Loss 0.1226 | train_RMSE 0.2841 | test_RMSE 0.2794 \n",
      "19929\n",
      "80921\n",
      "Epoch 00518 | Loss 0.1228 | train_RMSE 0.2840 | test_RMSE 0.2794 \n"
     ]
    },
    {
     "name": "stderr",
     "output_type": "stream",
     "text": [
      " 26%|██████████▍                             | 524/2000 [00:25<01:09, 21.32it/s]"
     ]
    },
    {
     "name": "stdout",
     "output_type": "stream",
     "text": [
      "19929\n",
      "80921\n",
      "Epoch 00519 | Loss 0.1224 | train_RMSE 0.2840 | test_RMSE 0.2793 \n",
      "19929\n",
      "80921\n",
      "Epoch 00520 | Loss 0.1227 | train_RMSE 0.2842 | test_RMSE 0.2795 \n",
      "19929\n",
      "80921\n",
      "Epoch 00521 | Loss 0.1226 | train_RMSE 0.2844 | test_RMSE 0.2796 \n",
      "19929\n",
      "80921\n",
      "Epoch 00522 | Loss 0.1227 | train_RMSE 0.2842 | test_RMSE 0.2795 \n",
      "19929\n",
      "80921\n",
      "Epoch 00523 | Loss 0.1226 | train_RMSE 0.2840 | test_RMSE 0.2793 \n"
     ]
    },
    {
     "name": "stderr",
     "output_type": "stream",
     "text": [
      "\r",
      " 26%|██████████▌                             | 527/2000 [00:25<01:09, 21.31it/s]"
     ]
    },
    {
     "name": "stdout",
     "output_type": "stream",
     "text": [
      "19929\n",
      "80921\n",
      "Epoch 00524 | Loss 0.1227 | train_RMSE 0.2841 | test_RMSE 0.2794 \n",
      "19929\n",
      "80921\n",
      "Epoch 00525 | Loss 0.1231 | train_RMSE 0.2844 | test_RMSE 0.2797 \n",
      "19929\n",
      "80921\n",
      "Epoch 00526 | Loss 0.1228 | train_RMSE 0.2842 | test_RMSE 0.2795 \n",
      "19929\n",
      "80921\n",
      "Epoch 00527 | Loss 0.1227 | train_RMSE 0.2842 | test_RMSE 0.2795 \n",
      "19929\n",
      "80921\n",
      "Epoch 00528 | Loss 0.1230 | train_RMSE 0.2843 | test_RMSE 0.2796 \n"
     ]
    },
    {
     "name": "stderr",
     "output_type": "stream",
     "text": [
      " 27%|██████████▋                             | 533/2000 [00:26<01:09, 21.08it/s]"
     ]
    },
    {
     "name": "stdout",
     "output_type": "stream",
     "text": [
      "19929\n",
      "80921\n",
      "Epoch 00529 | Loss 0.1230 | train_RMSE 0.2843 | test_RMSE 0.2796 \n",
      "19929\n",
      "80921\n",
      "Epoch 00530 | Loss 0.1226 | train_RMSE 0.2842 | test_RMSE 0.2795 \n",
      "19929\n",
      "80921\n",
      "Epoch 00531 | Loss 0.1221 | train_RMSE 0.2839 | test_RMSE 0.2793 \n",
      "19929\n",
      "80921\n",
      "Epoch 00532 | Loss 0.1226 | train_RMSE 0.2842 | test_RMSE 0.2795 \n",
      "19929\n"
     ]
    },
    {
     "name": "stderr",
     "output_type": "stream",
     "text": [
      "\r",
      " 27%|██████████▋                             | 536/2000 [00:26<01:09, 21.15it/s]"
     ]
    },
    {
     "name": "stdout",
     "output_type": "stream",
     "text": [
      "80921\n",
      "Epoch 00533 | Loss 0.1226 | train_RMSE 0.2843 | test_RMSE 0.2796 \n",
      "19929\n",
      "80921\n",
      "Epoch 00534 | Loss 0.1235 | train_RMSE 0.2843 | test_RMSE 0.2796 \n",
      "19929\n",
      "80921\n",
      "Epoch 00535 | Loss 0.1227 | train_RMSE 0.2842 | test_RMSE 0.2795 \n",
      "19929\n",
      "80921\n",
      "Epoch 00536 | Loss 0.1221 | train_RMSE 0.2844 | test_RMSE 0.2797 \n",
      "19929\n",
      "80921\n",
      "Epoch 00537 | Loss 0.1223 | train_RMSE 0.2844 | test_RMSE 0.2797 \n"
     ]
    },
    {
     "name": "stderr",
     "output_type": "stream",
     "text": [
      " 27%|██████████▊                             | 542/2000 [00:26<01:08, 21.23it/s]"
     ]
    },
    {
     "name": "stdout",
     "output_type": "stream",
     "text": [
      "19929\n",
      "80921\n",
      "Epoch 00538 | Loss 0.1233 | train_RMSE 0.2842 | test_RMSE 0.2795 \n",
      "19929\n",
      "80921\n",
      "Epoch 00539 | Loss 0.1228 | train_RMSE 0.2841 | test_RMSE 0.2794 \n",
      "19929\n",
      "80921\n",
      "Epoch 00540 | Loss 0.1226 | train_RMSE 0.2844 | test_RMSE 0.2797 \n",
      "19929\n",
      "80921\n",
      "Epoch 00541 | Loss 0.1227 | train_RMSE 0.2841 | test_RMSE 0.2794 \n",
      "19929\n",
      "80921\n",
      "Epoch 00542 | Loss 0.1217 | train_RMSE 0.2841 | test_RMSE 0.2793 \n"
     ]
    },
    {
     "name": "stderr",
     "output_type": "stream",
     "text": [
      "\r",
      " 27%|██████████▉                             | 545/2000 [00:26<01:08, 21.27it/s]"
     ]
    },
    {
     "name": "stdout",
     "output_type": "stream",
     "text": [
      "19929\n",
      "80921\n",
      "Epoch 00543 | Loss 0.1229 | train_RMSE 0.2844 | test_RMSE 0.2796 \n",
      "19929\n",
      "80921\n",
      "Epoch 00544 | Loss 0.1238 | train_RMSE 0.2846 | test_RMSE 0.2798 \n",
      "19929\n",
      "80921\n",
      "Epoch 00545 | Loss 0.1219 | train_RMSE 0.2842 | test_RMSE 0.2795 \n",
      "19929\n",
      "80921\n",
      "Epoch 00546 | Loss 0.1217 | train_RMSE 0.2841 | test_RMSE 0.2795 \n",
      "19929\n"
     ]
    },
    {
     "name": "stderr",
     "output_type": "stream",
     "text": [
      " 28%|███████████                             | 551/2000 [00:26<01:08, 21.25it/s]"
     ]
    },
    {
     "name": "stdout",
     "output_type": "stream",
     "text": [
      "80921\n",
      "Epoch 00547 | Loss 0.1226 | train_RMSE 0.2844 | test_RMSE 0.2797 \n",
      "19929\n",
      "80921\n",
      "Epoch 00548 | Loss 0.1229 | train_RMSE 0.2843 | test_RMSE 0.2796 \n",
      "19929\n",
      "80921\n",
      "Epoch 00549 | Loss 0.1225 | train_RMSE 0.2842 | test_RMSE 0.2794 \n",
      "19929\n",
      "80921\n",
      "Epoch 00550 | Loss 0.1233 | train_RMSE 0.2843 | test_RMSE 0.2795 \n",
      "19929\n",
      "80921\n",
      "Epoch 00551 | Loss 0.1217 | train_RMSE 0.2843 | test_RMSE 0.2796 \n"
     ]
    },
    {
     "name": "stderr",
     "output_type": "stream",
     "text": [
      "\r",
      " 28%|███████████                             | 554/2000 [00:27<01:08, 21.13it/s]"
     ]
    },
    {
     "name": "stdout",
     "output_type": "stream",
     "text": [
      "19929\n",
      "80921\n",
      "Epoch 00552 | Loss 0.1214 | train_RMSE 0.2844 | test_RMSE 0.2797 \n",
      "19929\n",
      "80921\n",
      "Epoch 00553 | Loss 0.1226 | train_RMSE 0.2841 | test_RMSE 0.2795 \n",
      "19929\n",
      "80921\n",
      "Epoch 00554 | Loss 0.1221 | train_RMSE 0.2842 | test_RMSE 0.2795 \n",
      "19929\n",
      "80921\n",
      "Epoch 00555 | Loss 0.1219 | train_RMSE 0.2846 | test_RMSE 0.2798 \n",
      "19929\n",
      "80921\n",
      "Epoch 00556 | Loss 0.1221 | train_RMSE 0.2845 | test_RMSE 0.2798 \n"
     ]
    },
    {
     "name": "stderr",
     "output_type": "stream",
     "text": [
      " 28%|███████████▏                            | 560/2000 [00:27<01:07, 21.22it/s]"
     ]
    },
    {
     "name": "stdout",
     "output_type": "stream",
     "text": [
      "19929\n",
      "80921\n",
      "Epoch 00557 | Loss 0.1228 | train_RMSE 0.2842 | test_RMSE 0.2795 \n",
      "19929\n",
      "80921\n",
      "Epoch 00558 | Loss 0.1218 | train_RMSE 0.2839 | test_RMSE 0.2792 \n",
      "19929\n",
      "80921\n",
      "Epoch 00559 | Loss 0.1217 | train_RMSE 0.2841 | test_RMSE 0.2794 \n",
      "19929\n",
      "80921\n",
      "Epoch 00560 | Loss 0.1225 | train_RMSE 0.2846 | test_RMSE 0.2798 \n",
      "19929\n",
      "80921\n",
      "Epoch 00561 | Loss 0.1221 | train_RMSE 0.2842 | test_RMSE 0.2795 \n"
     ]
    },
    {
     "name": "stderr",
     "output_type": "stream",
     "text": [
      " 28%|███████████▎                            | 566/2000 [00:27<01:07, 21.26it/s]"
     ]
    },
    {
     "name": "stdout",
     "output_type": "stream",
     "text": [
      "19929\n",
      "80921\n",
      "Epoch 00562 | Loss 0.1221 | train_RMSE 0.2840 | test_RMSE 0.2793 \n",
      "19929\n",
      "80921\n",
      "Epoch 00563 | Loss 0.1220 | train_RMSE 0.2842 | test_RMSE 0.2795 \n",
      "19929\n",
      "80921\n",
      "Epoch 00564 | Loss 0.1216 | train_RMSE 0.2842 | test_RMSE 0.2795 \n",
      "19929\n",
      "80921\n",
      "Epoch 00565 | Loss 0.1226 | train_RMSE 0.2841 | test_RMSE 0.2794 \n",
      "19929\n",
      "80921\n",
      "Epoch 00566 | Loss 0.1221 | train_RMSE 0.2842 | test_RMSE 0.2795 \n"
     ]
    },
    {
     "name": "stderr",
     "output_type": "stream",
     "text": [
      " 29%|███████████▍                            | 572/2000 [00:27<01:07, 21.31it/s]"
     ]
    },
    {
     "name": "stdout",
     "output_type": "stream",
     "text": [
      "19929\n",
      "80921\n",
      "Epoch 00567 | Loss 0.1220 | train_RMSE 0.2841 | test_RMSE 0.2794 \n",
      "19929\n",
      "80921\n",
      "Epoch 00568 | Loss 0.1220 | train_RMSE 0.2840 | test_RMSE 0.2793 \n",
      "19929\n",
      "80921\n",
      "Epoch 00569 | Loss 0.1217 | train_RMSE 0.2840 | test_RMSE 0.2793 \n",
      "19929\n",
      "80921\n",
      "Epoch 00570 | Loss 0.1220 | train_RMSE 0.2838 | test_RMSE 0.2791 \n",
      "19929\n",
      "80921\n",
      "Epoch 00571 | Loss 0.1233 | train_RMSE 0.2841 | test_RMSE 0.2794 \n"
     ]
    },
    {
     "name": "stderr",
     "output_type": "stream",
     "text": [
      "\r",
      " 29%|███████████▌                            | 575/2000 [00:27<01:06, 21.32it/s]"
     ]
    },
    {
     "name": "stdout",
     "output_type": "stream",
     "text": [
      "19929\n",
      "80921\n",
      "Epoch 00572 | Loss 0.1227 | train_RMSE 0.2841 | test_RMSE 0.2793 \n",
      "19929\n",
      "80921\n",
      "Epoch 00573 | Loss 0.1226 | train_RMSE 0.2838 | test_RMSE 0.2791 \n",
      "19929\n",
      "80921\n",
      "Epoch 00574 | Loss 0.1217 | train_RMSE 0.2840 | test_RMSE 0.2793 \n",
      "19929\n",
      "80921\n",
      "Epoch 00575 | Loss 0.1225 | train_RMSE 0.2842 | test_RMSE 0.2794 \n",
      "19929\n",
      "80921\n",
      "Epoch 00576 | Loss 0.1212 | train_RMSE 0.2841 | test_RMSE 0.2793 \n"
     ]
    },
    {
     "name": "stderr",
     "output_type": "stream",
     "text": [
      " 29%|███████████▌                            | 581/2000 [00:28<01:07, 21.05it/s]"
     ]
    },
    {
     "name": "stdout",
     "output_type": "stream",
     "text": [
      "19929\n",
      "80921\n",
      "Epoch 00577 | Loss 0.1220 | train_RMSE 0.2839 | test_RMSE 0.2792 \n",
      "19929\n",
      "80921\n",
      "Epoch 00578 | Loss 0.1229 | train_RMSE 0.2839 | test_RMSE 0.2792 \n",
      "19929\n",
      "80921\n",
      "Epoch 00579 | Loss 0.1219 | train_RMSE 0.2840 | test_RMSE 0.2792 \n",
      "19929\n",
      "80921\n",
      "Epoch 00580 | Loss 0.1225 | train_RMSE 0.2839 | test_RMSE 0.2791 \n",
      "19929\n",
      "80921\n",
      "Epoch 00581 | Loss 0.1225 | train_RMSE 0.2838 | test_RMSE 0.2791 \n"
     ]
    },
    {
     "name": "stderr",
     "output_type": "stream",
     "text": [
      " 29%|███████████▋                            | 587/2000 [00:28<01:06, 21.20it/s]"
     ]
    },
    {
     "name": "stdout",
     "output_type": "stream",
     "text": [
      "19929\n",
      "80921\n",
      "Epoch 00582 | Loss 0.1219 | train_RMSE 0.2838 | test_RMSE 0.2791 \n",
      "19929\n",
      "80921\n",
      "Epoch 00583 | Loss 0.1218 | train_RMSE 0.2839 | test_RMSE 0.2791 \n",
      "19929\n",
      "80921\n",
      "Epoch 00584 | Loss 0.1217 | train_RMSE 0.2838 | test_RMSE 0.2791 \n",
      "19929\n",
      "80921\n",
      "Epoch 00585 | Loss 0.1224 | train_RMSE 0.2838 | test_RMSE 0.2791 \n",
      "19929\n",
      "80921\n",
      "Epoch 00586 | Loss 0.1220 | train_RMSE 0.2841 | test_RMSE 0.2794 \n"
     ]
    },
    {
     "name": "stderr",
     "output_type": "stream",
     "text": [
      "\r",
      " 30%|███████████▊                            | 590/2000 [00:28<01:06, 21.23it/s]"
     ]
    },
    {
     "name": "stdout",
     "output_type": "stream",
     "text": [
      "19929\n",
      "80921\n",
      "Epoch 00587 | Loss 0.1227 | train_RMSE 0.2843 | test_RMSE 0.2796 \n",
      "19929\n",
      "80921\n",
      "Epoch 00588 | Loss 0.1220 | train_RMSE 0.2837 | test_RMSE 0.2790 \n",
      "19929\n",
      "80921\n",
      "Epoch 00589 | Loss 0.1216 | train_RMSE 0.2838 | test_RMSE 0.2791 \n",
      "19929\n",
      "80921\n",
      "Epoch 00590 | Loss 0.1218 | train_RMSE 0.2843 | test_RMSE 0.2795 \n",
      "19929\n",
      "80921\n",
      "Epoch 00591 | Loss 0.1222 | train_RMSE 0.2842 | test_RMSE 0.2794 \n"
     ]
    },
    {
     "name": "stderr",
     "output_type": "stream",
     "text": [
      " 30%|███████████▉                            | 596/2000 [00:28<01:06, 21.27it/s]"
     ]
    },
    {
     "name": "stdout",
     "output_type": "stream",
     "text": [
      "19929\n",
      "80921\n",
      "Epoch 00592 | Loss 0.1215 | train_RMSE 0.2835 | test_RMSE 0.2788 \n",
      "19929\n",
      "80921\n",
      "Epoch 00593 | Loss 0.1224 | train_RMSE 0.2836 | test_RMSE 0.2789 \n",
      "19929\n",
      "80921\n",
      "Epoch 00594 | Loss 0.1225 | train_RMSE 0.2842 | test_RMSE 0.2795 \n",
      "19929\n",
      "80921\n",
      "Epoch 00595 | Loss 0.1219 | train_RMSE 0.2839 | test_RMSE 0.2792 \n",
      "19929\n",
      "80921\n",
      "Epoch 00596 | Loss 0.1217 | train_RMSE 0.2837 | test_RMSE 0.2790 \n"
     ]
    },
    {
     "name": "stderr",
     "output_type": "stream",
     "text": [
      " 30%|████████████                            | 602/2000 [00:29<01:05, 21.26it/s]"
     ]
    },
    {
     "name": "stdout",
     "output_type": "stream",
     "text": [
      "19929\n",
      "80921\n",
      "Epoch 00597 | Loss 0.1230 | train_RMSE 0.2840 | test_RMSE 0.2792 \n",
      "19929\n",
      "80921\n",
      "Epoch 00598 | Loss 0.1217 | train_RMSE 0.2841 | test_RMSE 0.2793 \n",
      "19929\n",
      "80921\n",
      "Epoch 00599 | Loss 0.1219 | train_RMSE 0.2839 | test_RMSE 0.2791 \n",
      "19929\n",
      "80921\n",
      "Epoch 00600 | Loss 0.1207 | train_RMSE 0.2836 | test_RMSE 0.2789 \n",
      "19929\n",
      "80921\n",
      "Epoch 00601 | Loss 0.1226 | train_RMSE 0.2838 | test_RMSE 0.2790 \n"
     ]
    },
    {
     "name": "stderr",
     "output_type": "stream",
     "text": [
      "\r",
      " 30%|████████████                            | 605/2000 [00:29<01:05, 21.17it/s]"
     ]
    },
    {
     "name": "stdout",
     "output_type": "stream",
     "text": [
      "19929\n",
      "80921\n",
      "Epoch 00602 | Loss 0.1221 | train_RMSE 0.2840 | test_RMSE 0.2792 \n",
      "19929\n",
      "80921\n",
      "Epoch 00603 | Loss 0.1221 | train_RMSE 0.2839 | test_RMSE 0.2791 \n",
      "19929\n",
      "80921\n",
      "Epoch 00604 | Loss 0.1221 | train_RMSE 0.2837 | test_RMSE 0.2790 \n",
      "19929\n",
      "80921\n",
      "Epoch 00605 | Loss 0.1217 | train_RMSE 0.2837 | test_RMSE 0.2790 \n",
      "19929\n",
      "80921\n",
      "Epoch 00606 | Loss 0.1226 | train_RMSE 0.2840 | test_RMSE 0.2793 \n"
     ]
    },
    {
     "name": "stderr",
     "output_type": "stream",
     "text": [
      " 31%|████████████▏                           | 611/2000 [00:29<01:05, 21.28it/s]"
     ]
    },
    {
     "name": "stdout",
     "output_type": "stream",
     "text": [
      "19929\n",
      "80921\n",
      "Epoch 00607 | Loss 0.1223 | train_RMSE 0.2836 | test_RMSE 0.2789 \n",
      "19929\n",
      "80921\n",
      "Epoch 00608 | Loss 0.1215 | train_RMSE 0.2833 | test_RMSE 0.2786 \n",
      "19929\n",
      "80921\n",
      "Epoch 00609 | Loss 0.1215 | train_RMSE 0.2836 | test_RMSE 0.2789 \n",
      "19929\n",
      "80921\n",
      "Epoch 00610 | Loss 0.1218 | train_RMSE 0.2840 | test_RMSE 0.2792 \n",
      "19929\n",
      "80921\n",
      "Epoch 00611 | Loss 0.1220 | train_RMSE 0.2839 | test_RMSE 0.2791 \n"
     ]
    },
    {
     "name": "stderr",
     "output_type": "stream",
     "text": [
      "\r",
      " 31%|████████████▎                           | 614/2000 [00:29<01:05, 21.27it/s]"
     ]
    },
    {
     "name": "stdout",
     "output_type": "stream",
     "text": [
      "19929\n",
      "80921\n",
      "Epoch 00612 | Loss 0.1218 | train_RMSE 0.2834 | test_RMSE 0.2787 \n",
      "19929\n",
      "80921\n",
      "Epoch 00613 | Loss 0.1217 | train_RMSE 0.2835 | test_RMSE 0.2788 \n",
      "19929\n",
      "80921\n",
      "Epoch 00614 | Loss 0.1217 | train_RMSE 0.2840 | test_RMSE 0.2792 \n",
      "19929\n",
      "80921\n",
      "Epoch 00615 | Loss 0.1214 | train_RMSE 0.2840 | test_RMSE 0.2792 \n",
      "19929\n"
     ]
    },
    {
     "name": "stderr",
     "output_type": "stream",
     "text": [
      " 31%|████████████▍                           | 620/2000 [00:30<01:04, 21.26it/s]"
     ]
    },
    {
     "name": "stdout",
     "output_type": "stream",
     "text": [
      "80921\n",
      "Epoch 00616 | Loss 0.1210 | train_RMSE 0.2837 | test_RMSE 0.2789 \n",
      "19929\n",
      "80921\n",
      "Epoch 00617 | Loss 0.1219 | train_RMSE 0.2835 | test_RMSE 0.2788 \n",
      "19929\n",
      "80921\n",
      "Epoch 00618 | Loss 0.1213 | train_RMSE 0.2838 | test_RMSE 0.2791 \n",
      "19929\n",
      "80921\n",
      "Epoch 00619 | Loss 0.1219 | train_RMSE 0.2839 | test_RMSE 0.2792 \n",
      "19929\n",
      "80921\n",
      "Epoch 00620 | Loss 0.1218 | train_RMSE 0.2833 | test_RMSE 0.2786 \n"
     ]
    },
    {
     "name": "stderr",
     "output_type": "stream",
     "text": [
      " 31%|████████████▌                           | 626/2000 [00:30<01:04, 21.33it/s]"
     ]
    },
    {
     "name": "stdout",
     "output_type": "stream",
     "text": [
      "19929\n",
      "80921\n",
      "Epoch 00621 | Loss 0.1223 | train_RMSE 0.2836 | test_RMSE 0.2789 \n",
      "19929\n",
      "80921\n",
      "Epoch 00622 | Loss 0.1213 | train_RMSE 0.2843 | test_RMSE 0.2794 \n",
      "19929\n",
      "80921\n",
      "Epoch 00623 | Loss 0.1223 | train_RMSE 0.2838 | test_RMSE 0.2790 \n",
      "19929\n",
      "80921\n",
      "Epoch 00624 | Loss 0.1221 | train_RMSE 0.2834 | test_RMSE 0.2787 \n",
      "19929\n",
      "80921\n",
      "Epoch 00625 | Loss 0.1218 | train_RMSE 0.2835 | test_RMSE 0.2788 \n"
     ]
    },
    {
     "name": "stderr",
     "output_type": "stream",
     "text": [
      "\r",
      " 31%|████████████▌                           | 629/2000 [00:30<01:04, 21.33it/s]"
     ]
    },
    {
     "name": "stdout",
     "output_type": "stream",
     "text": [
      "19929\n",
      "80921\n",
      "Epoch 00626 | Loss 0.1213 | train_RMSE 0.2837 | test_RMSE 0.2790 \n",
      "19929\n",
      "80921\n",
      "Epoch 00627 | Loss 0.1217 | train_RMSE 0.2841 | test_RMSE 0.2793 \n",
      "19929\n",
      "80921\n",
      "Epoch 00628 | Loss 0.1210 | train_RMSE 0.2836 | test_RMSE 0.2788 \n",
      "19929\n",
      "80921\n",
      "Epoch 00629 | Loss 0.1221 | train_RMSE 0.2834 | test_RMSE 0.2787 \n",
      "19929\n",
      "80921\n",
      "Epoch 00630 | Loss 0.1219 | train_RMSE 0.2838 | test_RMSE 0.2791 \n"
     ]
    },
    {
     "name": "stderr",
     "output_type": "stream",
     "text": [
      " 32%|████████████▋                           | 635/2000 [00:30<01:03, 21.34it/s]"
     ]
    },
    {
     "name": "stdout",
     "output_type": "stream",
     "text": [
      "19929\n",
      "80921\n",
      "Epoch 00631 | Loss 0.1219 | train_RMSE 0.2836 | test_RMSE 0.2789 \n",
      "19929\n",
      "80921\n",
      "Epoch 00632 | Loss 0.1217 | train_RMSE 0.2834 | test_RMSE 0.2787 \n",
      "19929\n",
      "80921\n",
      "Epoch 00633 | Loss 0.1217 | train_RMSE 0.2836 | test_RMSE 0.2788 \n",
      "19929\n",
      "80921\n",
      "Epoch 00634 | Loss 0.1224 | train_RMSE 0.2839 | test_RMSE 0.2791 \n",
      "19929\n",
      "80921\n",
      "Epoch 00635 | Loss 0.1218 | train_RMSE 0.2835 | test_RMSE 0.2788 \n"
     ]
    },
    {
     "name": "stderr",
     "output_type": "stream",
     "text": [
      " 32%|████████████▊                           | 641/2000 [00:31<01:03, 21.36it/s]"
     ]
    },
    {
     "name": "stdout",
     "output_type": "stream",
     "text": [
      "19929\n",
      "80921\n",
      "Epoch 00636 | Loss 0.1224 | train_RMSE 0.2832 | test_RMSE 0.2785 \n",
      "19929\n",
      "80921\n",
      "Epoch 00637 | Loss 0.1218 | train_RMSE 0.2835 | test_RMSE 0.2787 \n",
      "19929\n",
      "80921\n",
      "Epoch 00638 | Loss 0.1217 | train_RMSE 0.2838 | test_RMSE 0.2790 \n",
      "19929\n",
      "80921\n",
      "Epoch 00639 | Loss 0.1215 | train_RMSE 0.2835 | test_RMSE 0.2787 \n",
      "19929\n",
      "80921\n",
      "Epoch 00640 | Loss 0.1225 | train_RMSE 0.2832 | test_RMSE 0.2785 \n"
     ]
    },
    {
     "name": "stderr",
     "output_type": "stream",
     "text": [
      "\r",
      " 32%|████████████▉                           | 644/2000 [00:31<01:03, 21.34it/s]"
     ]
    },
    {
     "name": "stdout",
     "output_type": "stream",
     "text": [
      "19929\n",
      "80921\n",
      "Epoch 00641 | Loss 0.1216 | train_RMSE 0.2837 | test_RMSE 0.2789 \n",
      "19929\n",
      "80921\n",
      "Epoch 00642 | Loss 0.1213 | train_RMSE 0.2837 | test_RMSE 0.2789 \n",
      "19929\n",
      "80921\n",
      "Epoch 00643 | Loss 0.1221 | train_RMSE 0.2835 | test_RMSE 0.2788 \n",
      "19929\n",
      "80921\n",
      "Epoch 00644 | Loss 0.1217 | train_RMSE 0.2834 | test_RMSE 0.2787 \n",
      "19929\n",
      "80921\n",
      "Epoch 00645 | Loss 0.1206 | train_RMSE 0.2836 | test_RMSE 0.2788 \n"
     ]
    },
    {
     "name": "stderr",
     "output_type": "stream",
     "text": [
      " 32%|█████████████                           | 650/2000 [00:31<01:03, 21.32it/s]"
     ]
    },
    {
     "name": "stdout",
     "output_type": "stream",
     "text": [
      "19929\n",
      "80921\n",
      "Epoch 00646 | Loss 0.1215 | train_RMSE 0.2835 | test_RMSE 0.2788 \n",
      "19929\n",
      "80921\n",
      "Epoch 00647 | Loss 0.1217 | train_RMSE 0.2834 | test_RMSE 0.2787 \n",
      "19929\n",
      "80921\n",
      "Epoch 00648 | Loss 0.1213 | train_RMSE 0.2833 | test_RMSE 0.2786 \n",
      "19929\n",
      "80921\n",
      "Epoch 00649 | Loss 0.1210 | train_RMSE 0.2833 | test_RMSE 0.2786 \n",
      "19929\n",
      "80921\n",
      "Epoch 00650 | Loss 0.1214 | train_RMSE 0.2836 | test_RMSE 0.2788 \n"
     ]
    },
    {
     "name": "stderr",
     "output_type": "stream",
     "text": [
      " 33%|█████████████                           | 656/2000 [00:31<01:03, 21.33it/s]"
     ]
    },
    {
     "name": "stdout",
     "output_type": "stream",
     "text": [
      "19929\n",
      "80921\n",
      "Epoch 00651 | Loss 0.1216 | train_RMSE 0.2836 | test_RMSE 0.2788 \n",
      "19929\n",
      "80921\n",
      "Epoch 00652 | Loss 0.1217 | train_RMSE 0.2834 | test_RMSE 0.2787 \n",
      "19929\n",
      "80921\n",
      "Epoch 00653 | Loss 0.1208 | train_RMSE 0.2835 | test_RMSE 0.2788 \n",
      "19929\n",
      "80921\n",
      "Epoch 00654 | Loss 0.1210 | train_RMSE 0.2834 | test_RMSE 0.2787 \n",
      "19929\n",
      "80921\n",
      "Epoch 00655 | Loss 0.1218 | train_RMSE 0.2833 | test_RMSE 0.2785 \n"
     ]
    },
    {
     "name": "stderr",
     "output_type": "stream",
     "text": [
      "\r",
      " 33%|█████████████▏                          | 659/2000 [00:31<01:02, 21.34it/s]"
     ]
    },
    {
     "name": "stdout",
     "output_type": "stream",
     "text": [
      "19929\n",
      "80921\n",
      "Epoch 00656 | Loss 0.1216 | train_RMSE 0.2832 | test_RMSE 0.2785 \n",
      "19929\n",
      "80921\n",
      "Epoch 00657 | Loss 0.1210 | train_RMSE 0.2831 | test_RMSE 0.2784 \n",
      "19929\n",
      "80921\n",
      "Epoch 00658 | Loss 0.1217 | train_RMSE 0.2833 | test_RMSE 0.2786 \n",
      "19929\n",
      "80921\n",
      "Epoch 00659 | Loss 0.1217 | train_RMSE 0.2834 | test_RMSE 0.2786 \n",
      "19929\n",
      "80921\n",
      "Epoch 00660 | Loss 0.1208 | train_RMSE 0.2833 | test_RMSE 0.2785 \n"
     ]
    },
    {
     "name": "stderr",
     "output_type": "stream",
     "text": [
      " 33%|█████████████▎                          | 665/2000 [00:32<01:02, 21.33it/s]"
     ]
    },
    {
     "name": "stdout",
     "output_type": "stream",
     "text": [
      "19929\n",
      "80921\n",
      "Epoch 00661 | Loss 0.1214 | train_RMSE 0.2833 | test_RMSE 0.2786 \n",
      "19929\n",
      "80921\n",
      "Epoch 00662 | Loss 0.1210 | train_RMSE 0.2833 | test_RMSE 0.2786 \n",
      "19929\n",
      "80921\n",
      "Epoch 00663 | Loss 0.1220 | train_RMSE 0.2831 | test_RMSE 0.2784 \n",
      "19929\n",
      "80921\n",
      "Epoch 00664 | Loss 0.1220 | train_RMSE 0.2834 | test_RMSE 0.2786 \n",
      "19929\n",
      "80921\n",
      "Epoch 00665 | Loss 0.1212 | train_RMSE 0.2836 | test_RMSE 0.2788 \n"
     ]
    },
    {
     "name": "stderr",
     "output_type": "stream",
     "text": [
      " 34%|█████████████▍                          | 671/2000 [00:32<01:02, 21.35it/s]"
     ]
    },
    {
     "name": "stdout",
     "output_type": "stream",
     "text": [
      "19929\n",
      "80921\n",
      "Epoch 00666 | Loss 0.1211 | train_RMSE 0.2834 | test_RMSE 0.2786 \n",
      "19929\n",
      "80921\n",
      "Epoch 00667 | Loss 0.1211 | train_RMSE 0.2830 | test_RMSE 0.2783 \n",
      "19929\n",
      "80921\n",
      "Epoch 00668 | Loss 0.1215 | train_RMSE 0.2831 | test_RMSE 0.2784 \n",
      "19929\n",
      "80921\n",
      "Epoch 00669 | Loss 0.1212 | train_RMSE 0.2837 | test_RMSE 0.2790 \n",
      "19929\n",
      "80921\n",
      "Epoch 00670 | Loss 0.1208 | train_RMSE 0.2834 | test_RMSE 0.2786 \n"
     ]
    },
    {
     "name": "stderr",
     "output_type": "stream",
     "text": [
      "\r",
      " 34%|█████████████▍                          | 674/2000 [00:32<01:02, 21.32it/s]"
     ]
    },
    {
     "name": "stdout",
     "output_type": "stream",
     "text": [
      "19929\n",
      "80921\n",
      "Epoch 00671 | Loss 0.1215 | train_RMSE 0.2833 | test_RMSE 0.2785 \n",
      "19929\n",
      "80921\n",
      "Epoch 00672 | Loss 0.1210 | train_RMSE 0.2833 | test_RMSE 0.2785 \n",
      "19929\n",
      "80921\n",
      "Epoch 00673 | Loss 0.1209 | train_RMSE 0.2834 | test_RMSE 0.2786 \n",
      "19929\n",
      "80921\n",
      "Epoch 00674 | Loss 0.1207 | train_RMSE 0.2829 | test_RMSE 0.2782 \n",
      "19929\n",
      "80921\n",
      "Epoch 00675 | Loss 0.1210 | train_RMSE 0.2831 | test_RMSE 0.2784 \n"
     ]
    },
    {
     "name": "stderr",
     "output_type": "stream",
     "text": [
      " 34%|█████████████▌                          | 680/2000 [00:32<01:01, 21.30it/s]"
     ]
    },
    {
     "name": "stdout",
     "output_type": "stream",
     "text": [
      "19929\n",
      "80921\n",
      "Epoch 00676 | Loss 0.1204 | train_RMSE 0.2834 | test_RMSE 0.2787 \n",
      "19929\n",
      "80921\n",
      "Epoch 00677 | Loss 0.1218 | train_RMSE 0.2834 | test_RMSE 0.2786 \n",
      "19929\n",
      "80921\n",
      "Epoch 00678 | Loss 0.1218 | train_RMSE 0.2829 | test_RMSE 0.2782 \n",
      "19929\n",
      "80921\n",
      "Epoch 00679 | Loss 0.1207 | train_RMSE 0.2832 | test_RMSE 0.2784 \n",
      "19929\n",
      "80921\n",
      "Epoch 00680 | Loss 0.1215 | train_RMSE 0.2835 | test_RMSE 0.2787 \n"
     ]
    },
    {
     "name": "stderr",
     "output_type": "stream",
     "text": [
      "\r",
      " 34%|█████████████▋                          | 683/2000 [00:33<01:01, 21.27it/s]"
     ]
    },
    {
     "name": "stdout",
     "output_type": "stream",
     "text": [
      "19929\n",
      "80921\n",
      "Epoch 00681 | Loss 0.1210 | train_RMSE 0.2831 | test_RMSE 0.2783 \n",
      "19929\n",
      "80921\n",
      "Epoch 00682 | Loss 0.1211 | train_RMSE 0.2828 | test_RMSE 0.2781 \n",
      "19929\n",
      "80921\n",
      "Epoch 00683 | Loss 0.1218 | train_RMSE 0.2831 | test_RMSE 0.2784 \n",
      "19929\n",
      "80921\n",
      "Epoch 00684 | Loss 0.1212 | train_RMSE 0.2831 | test_RMSE 0.2784 \n",
      "19929\n"
     ]
    },
    {
     "name": "stderr",
     "output_type": "stream",
     "text": [
      " 34%|█████████████▊                          | 689/2000 [00:33<01:01, 21.25it/s]"
     ]
    },
    {
     "name": "stdout",
     "output_type": "stream",
     "text": [
      "80921\n",
      "Epoch 00685 | Loss 0.1202 | train_RMSE 0.2830 | test_RMSE 0.2783 \n",
      "19929\n",
      "80921\n",
      "Epoch 00686 | Loss 0.1219 | train_RMSE 0.2832 | test_RMSE 0.2784 \n",
      "19929\n",
      "80921\n",
      "Epoch 00687 | Loss 0.1210 | train_RMSE 0.2830 | test_RMSE 0.2783 \n",
      "19929\n",
      "80921\n",
      "Epoch 00688 | Loss 0.1202 | train_RMSE 0.2831 | test_RMSE 0.2784 \n",
      "19929\n",
      "80921\n",
      "Epoch 00689 | Loss 0.1209 | train_RMSE 0.2833 | test_RMSE 0.2786 \n"
     ]
    },
    {
     "name": "stderr",
     "output_type": "stream",
     "text": [
      "\r",
      " 35%|█████████████▊                          | 692/2000 [00:33<01:01, 21.28it/s]"
     ]
    },
    {
     "name": "stdout",
     "output_type": "stream",
     "text": [
      "19929\n",
      "80921\n",
      "Epoch 00690 | Loss 0.1215 | train_RMSE 0.2828 | test_RMSE 0.2781 \n",
      "19929\n",
      "80921\n",
      "Epoch 00691 | Loss 0.1214 | train_RMSE 0.2829 | test_RMSE 0.2782 \n",
      "19929\n",
      "80921\n",
      "Epoch 00692 | Loss 0.1209 | train_RMSE 0.2832 | test_RMSE 0.2785 \n",
      "19929\n",
      "80921\n",
      "Epoch 00693 | Loss 0.1211 | train_RMSE 0.2830 | test_RMSE 0.2783 \n",
      "19929\n",
      "80921\n",
      "Epoch 00694 | Loss 0.1199 | train_RMSE 0.2829 | test_RMSE 0.2782 \n"
     ]
    },
    {
     "name": "stderr",
     "output_type": "stream",
     "text": [
      " 35%|█████████████▉                          | 698/2000 [00:33<01:01, 21.23it/s]"
     ]
    },
    {
     "name": "stdout",
     "output_type": "stream",
     "text": [
      "19929\n",
      "80921\n",
      "Epoch 00695 | Loss 0.1206 | train_RMSE 0.2828 | test_RMSE 0.2781 \n",
      "19929\n",
      "80921\n",
      "Epoch 00696 | Loss 0.1213 | train_RMSE 0.2832 | test_RMSE 0.2784 \n",
      "19929\n",
      "80921\n",
      "Epoch 00697 | Loss 0.1200 | train_RMSE 0.2830 | test_RMSE 0.2783 \n",
      "19929\n",
      "80921\n",
      "Epoch 00698 | Loss 0.1209 | train_RMSE 0.2830 | test_RMSE 0.2782 \n",
      "19929\n",
      "80921\n",
      "Epoch 00699 | Loss 0.1206 | train_RMSE 0.2829 | test_RMSE 0.2782 \n"
     ]
    },
    {
     "name": "stderr",
     "output_type": "stream",
     "text": [
      " 35%|██████████████                          | 704/2000 [00:34<01:00, 21.26it/s]"
     ]
    },
    {
     "name": "stdout",
     "output_type": "stream",
     "text": [
      "19929\n",
      "80921\n",
      "Epoch 00700 | Loss 0.1211 | train_RMSE 0.2829 | test_RMSE 0.2782 \n",
      "19929\n",
      "80921\n",
      "Epoch 00701 | Loss 0.1203 | train_RMSE 0.2830 | test_RMSE 0.2782 \n",
      "19929\n",
      "80921\n",
      "Epoch 00702 | Loss 0.1201 | train_RMSE 0.2831 | test_RMSE 0.2783 \n",
      "19929\n",
      "80921\n",
      "Epoch 00703 | Loss 0.1204 | train_RMSE 0.2831 | test_RMSE 0.2783 \n",
      "19929\n",
      "80921\n",
      "Epoch 00704 | Loss 0.1209 | train_RMSE 0.2828 | test_RMSE 0.2780 \n"
     ]
    },
    {
     "name": "stderr",
     "output_type": "stream",
     "text": [
      " 36%|██████████████▏                         | 710/2000 [00:34<01:00, 21.23it/s]"
     ]
    },
    {
     "name": "stdout",
     "output_type": "stream",
     "text": [
      "19929\n",
      "80921\n",
      "Epoch 00705 | Loss 0.1197 | train_RMSE 0.2827 | test_RMSE 0.2780 \n",
      "19929\n",
      "80921\n",
      "Epoch 00706 | Loss 0.1212 | train_RMSE 0.2831 | test_RMSE 0.2784 \n",
      "19929\n",
      "80921\n",
      "Epoch 00707 | Loss 0.1211 | train_RMSE 0.2832 | test_RMSE 0.2784 \n",
      "19929\n",
      "80921\n",
      "Epoch 00708 | Loss 0.1208 | train_RMSE 0.2828 | test_RMSE 0.2780 \n",
      "19929\n",
      "80921\n",
      "Epoch 00709 | Loss 0.1206 | train_RMSE 0.2828 | test_RMSE 0.2781 \n"
     ]
    },
    {
     "name": "stderr",
     "output_type": "stream",
     "text": [
      "\r",
      " 36%|██████████████▎                         | 713/2000 [00:34<01:00, 21.21it/s]"
     ]
    },
    {
     "name": "stdout",
     "output_type": "stream",
     "text": [
      "19929\n",
      "80921\n",
      "Epoch 00710 | Loss 0.1212 | train_RMSE 0.2830 | test_RMSE 0.2782 \n",
      "19929\n",
      "80921\n",
      "Epoch 00711 | Loss 0.1205 | train_RMSE 0.2830 | test_RMSE 0.2782 \n",
      "19929\n",
      "80921\n",
      "Epoch 00712 | Loss 0.1208 | train_RMSE 0.2825 | test_RMSE 0.2778 \n",
      "19929\n",
      "80921\n",
      "Epoch 00713 | Loss 0.1214 | train_RMSE 0.2829 | test_RMSE 0.2781 \n",
      "19929\n"
     ]
    },
    {
     "name": "stderr",
     "output_type": "stream",
     "text": [
      " 36%|██████████████▍                         | 719/2000 [00:34<01:00, 21.27it/s]"
     ]
    },
    {
     "name": "stdout",
     "output_type": "stream",
     "text": [
      "80921\n",
      "Epoch 00714 | Loss 0.1205 | train_RMSE 0.2831 | test_RMSE 0.2783 \n",
      "19929\n",
      "80921\n",
      "Epoch 00715 | Loss 0.1202 | train_RMSE 0.2828 | test_RMSE 0.2781 \n",
      "19929\n",
      "80921\n",
      "Epoch 00716 | Loss 0.1209 | train_RMSE 0.2825 | test_RMSE 0.2778 \n",
      "19929\n",
      "80921\n",
      "Epoch 00717 | Loss 0.1206 | train_RMSE 0.2828 | test_RMSE 0.2780 \n",
      "19929\n",
      "80921\n",
      "Epoch 00718 | Loss 0.1206 | train_RMSE 0.2829 | test_RMSE 0.2781 \n"
     ]
    },
    {
     "name": "stderr",
     "output_type": "stream",
     "text": [
      "\r",
      " 36%|██████████████▍                         | 722/2000 [00:34<01:00, 21.27it/s]"
     ]
    },
    {
     "name": "stdout",
     "output_type": "stream",
     "text": [
      "19929\n",
      "80921\n",
      "Epoch 00719 | Loss 0.1212 | train_RMSE 0.2827 | test_RMSE 0.2779 \n",
      "19929\n",
      "80921\n",
      "Epoch 00720 | Loss 0.1211 | train_RMSE 0.2826 | test_RMSE 0.2778 \n",
      "19929\n",
      "80921\n",
      "Epoch 00721 | Loss 0.1211 | train_RMSE 0.2831 | test_RMSE 0.2783 \n",
      "19929\n",
      "80921\n",
      "Epoch 00722 | Loss 0.1209 | train_RMSE 0.2830 | test_RMSE 0.2782 \n",
      "19929\n",
      "80921\n",
      "Epoch 00723 | Loss 0.1216 | train_RMSE 0.2824 | test_RMSE 0.2777 \n"
     ]
    },
    {
     "name": "stderr",
     "output_type": "stream",
     "text": [
      " 36%|██████████████▌                         | 728/2000 [00:35<00:59, 21.30it/s]"
     ]
    },
    {
     "name": "stdout",
     "output_type": "stream",
     "text": [
      "19929\n",
      "80921\n",
      "Epoch 00724 | Loss 0.1210 | train_RMSE 0.2826 | test_RMSE 0.2779 \n",
      "19929\n",
      "80921\n",
      "Epoch 00725 | Loss 0.1206 | train_RMSE 0.2830 | test_RMSE 0.2782 \n",
      "19929\n",
      "80921\n",
      "Epoch 00726 | Loss 0.1207 | train_RMSE 0.2829 | test_RMSE 0.2781 \n",
      "19929\n",
      "80921\n",
      "Epoch 00727 | Loss 0.1211 | train_RMSE 0.2823 | test_RMSE 0.2776 \n",
      "19929\n",
      "80921\n",
      "Epoch 00728 | Loss 0.1203 | train_RMSE 0.2827 | test_RMSE 0.2780 \n"
     ]
    },
    {
     "name": "stderr",
     "output_type": "stream",
     "text": [
      " 37%|██████████████▋                         | 734/2000 [00:35<00:59, 21.31it/s]"
     ]
    },
    {
     "name": "stdout",
     "output_type": "stream",
     "text": [
      "19929\n",
      "80921\n",
      "Epoch 00729 | Loss 0.1208 | train_RMSE 0.2830 | test_RMSE 0.2783 \n",
      "19929\n",
      "80921\n",
      "Epoch 00730 | Loss 0.1200 | train_RMSE 0.2827 | test_RMSE 0.2780 \n",
      "19929\n",
      "80921\n",
      "Epoch 00731 | Loss 0.1205 | train_RMSE 0.2826 | test_RMSE 0.2778 \n",
      "19929\n",
      "80921\n",
      "Epoch 00732 | Loss 0.1206 | train_RMSE 0.2828 | test_RMSE 0.2781 \n",
      "19929\n",
      "80921\n",
      "Epoch 00733 | Loss 0.1204 | train_RMSE 0.2829 | test_RMSE 0.2780 \n"
     ]
    },
    {
     "name": "stderr",
     "output_type": "stream",
     "text": [
      "\r",
      " 37%|██████████████▋                         | 737/2000 [00:35<00:59, 21.29it/s]"
     ]
    },
    {
     "name": "stdout",
     "output_type": "stream",
     "text": [
      "19929\n",
      "80921\n",
      "Epoch 00734 | Loss 0.1206 | train_RMSE 0.2823 | test_RMSE 0.2776 \n",
      "19929\n",
      "80921\n",
      "Epoch 00735 | Loss 0.1209 | train_RMSE 0.2823 | test_RMSE 0.2775 \n",
      "19929\n",
      "80921\n",
      "Epoch 00736 | Loss 0.1200 | train_RMSE 0.2828 | test_RMSE 0.2780 \n",
      "19929\n",
      "80921\n",
      "Epoch 00737 | Loss 0.1202 | train_RMSE 0.2828 | test_RMSE 0.2780 \n",
      "19929\n",
      "80921\n",
      "Epoch 00738 | Loss 0.1209 | train_RMSE 0.2823 | test_RMSE 0.2776 \n"
     ]
    },
    {
     "name": "stderr",
     "output_type": "stream",
     "text": [
      " 37%|██████████████▊                         | 743/2000 [00:35<00:58, 21.32it/s]"
     ]
    },
    {
     "name": "stdout",
     "output_type": "stream",
     "text": [
      "19929\n",
      "80921\n",
      "Epoch 00739 | Loss 0.1200 | train_RMSE 0.2824 | test_RMSE 0.2777 \n",
      "19929\n",
      "80921\n",
      "Epoch 00740 | Loss 0.1202 | train_RMSE 0.2825 | test_RMSE 0.2778 \n",
      "19929\n",
      "80921\n",
      "Epoch 00741 | Loss 0.1206 | train_RMSE 0.2822 | test_RMSE 0.2775 \n",
      "19929\n",
      "80921\n",
      "Epoch 00742 | Loss 0.1207 | train_RMSE 0.2823 | test_RMSE 0.2775 \n",
      "19929\n",
      "80921\n",
      "Epoch 00743 | Loss 0.1206 | train_RMSE 0.2827 | test_RMSE 0.2778 \n"
     ]
    },
    {
     "name": "stderr",
     "output_type": "stream",
     "text": [
      " 37%|██████████████▉                         | 749/2000 [00:36<00:58, 21.32it/s]"
     ]
    },
    {
     "name": "stdout",
     "output_type": "stream",
     "text": [
      "19929\n",
      "80921\n",
      "Epoch 00744 | Loss 0.1210 | train_RMSE 0.2822 | test_RMSE 0.2775 \n",
      "19929\n",
      "80921\n",
      "Epoch 00745 | Loss 0.1208 | train_RMSE 0.2821 | test_RMSE 0.2774 \n",
      "19929\n",
      "80921\n",
      "Epoch 00746 | Loss 0.1205 | train_RMSE 0.2824 | test_RMSE 0.2776 \n",
      "19929\n",
      "80921\n",
      "Epoch 00747 | Loss 0.1197 | train_RMSE 0.2824 | test_RMSE 0.2776 \n",
      "19929\n",
      "80921\n",
      "Epoch 00748 | Loss 0.1204 | train_RMSE 0.2822 | test_RMSE 0.2774 \n"
     ]
    },
    {
     "name": "stderr",
     "output_type": "stream",
     "text": [
      "\r",
      " 38%|███████████████                         | 752/2000 [00:36<00:58, 21.32it/s]"
     ]
    },
    {
     "name": "stdout",
     "output_type": "stream",
     "text": [
      "19929\n",
      "80921\n",
      "Epoch 00749 | Loss 0.1208 | train_RMSE 0.2823 | test_RMSE 0.2775 \n",
      "19929\n",
      "80921\n",
      "Epoch 00750 | Loss 0.1201 | train_RMSE 0.2825 | test_RMSE 0.2777 \n",
      "19929\n",
      "80921\n",
      "Epoch 00751 | Loss 0.1200 | train_RMSE 0.2822 | test_RMSE 0.2775 \n",
      "19929\n",
      "80921\n",
      "Epoch 00752 | Loss 0.1199 | train_RMSE 0.2822 | test_RMSE 0.2775 \n",
      "19929\n",
      "80921\n",
      "Epoch 00753 | Loss 0.1210 | train_RMSE 0.2824 | test_RMSE 0.2777 \n"
     ]
    },
    {
     "name": "stderr",
     "output_type": "stream",
     "text": [
      " 38%|███████████████▏                        | 758/2000 [00:36<00:58, 21.30it/s]"
     ]
    },
    {
     "name": "stdout",
     "output_type": "stream",
     "text": [
      "19929\n",
      "80921\n",
      "Epoch 00754 | Loss 0.1211 | train_RMSE 0.2824 | test_RMSE 0.2777 \n",
      "19929\n",
      "80921\n",
      "Epoch 00755 | Loss 0.1209 | train_RMSE 0.2822 | test_RMSE 0.2775 \n",
      "19929\n",
      "80921\n",
      "Epoch 00756 | Loss 0.1199 | train_RMSE 0.2823 | test_RMSE 0.2775 \n",
      "19929\n",
      "80921\n",
      "Epoch 00757 | Loss 0.1202 | train_RMSE 0.2824 | test_RMSE 0.2777 \n",
      "19929\n",
      "80921\n",
      "Epoch 00758 | Loss 0.1200 | train_RMSE 0.2824 | test_RMSE 0.2777 \n"
     ]
    },
    {
     "name": "stderr",
     "output_type": "stream",
     "text": [
      " 38%|███████████████▎                        | 764/2000 [00:36<00:57, 21.33it/s]"
     ]
    },
    {
     "name": "stdout",
     "output_type": "stream",
     "text": [
      "19929\n",
      "80921\n",
      "Epoch 00759 | Loss 0.1203 | train_RMSE 0.2824 | test_RMSE 0.2777 \n",
      "19929\n",
      "80921\n",
      "Epoch 00760 | Loss 0.1205 | train_RMSE 0.2823 | test_RMSE 0.2776 \n",
      "19929\n",
      "80921\n",
      "Epoch 00761 | Loss 0.1208 | train_RMSE 0.2822 | test_RMSE 0.2775 \n",
      "19929\n",
      "80921\n",
      "Epoch 00762 | Loss 0.1203 | train_RMSE 0.2824 | test_RMSE 0.2776 \n",
      "19929\n",
      "80921\n",
      "Epoch 00763 | Loss 0.1204 | train_RMSE 0.2822 | test_RMSE 0.2774 \n"
     ]
    },
    {
     "name": "stderr",
     "output_type": "stream",
     "text": [
      "\r",
      " 38%|███████████████▎                        | 767/2000 [00:37<00:57, 21.31it/s]"
     ]
    },
    {
     "name": "stdout",
     "output_type": "stream",
     "text": [
      "19929\n",
      "80921\n",
      "Epoch 00764 | Loss 0.1201 | train_RMSE 0.2822 | test_RMSE 0.2774 \n",
      "19929\n",
      "80921\n",
      "Epoch 00765 | Loss 0.1207 | train_RMSE 0.2825 | test_RMSE 0.2778 \n",
      "19929\n",
      "80921\n",
      "Epoch 00766 | Loss 0.1204 | train_RMSE 0.2821 | test_RMSE 0.2774 \n",
      "19929\n",
      "80921\n",
      "Epoch 00767 | Loss 0.1204 | train_RMSE 0.2821 | test_RMSE 0.2773 \n",
      "19929\n",
      "80921\n",
      "Epoch 00768 | Loss 0.1194 | train_RMSE 0.2825 | test_RMSE 0.2777 \n"
     ]
    },
    {
     "name": "stderr",
     "output_type": "stream",
     "text": [
      " 39%|███████████████▍                        | 773/2000 [00:37<00:57, 21.31it/s]"
     ]
    },
    {
     "name": "stdout",
     "output_type": "stream",
     "text": [
      "19929\n",
      "80921\n",
      "Epoch 00769 | Loss 0.1204 | train_RMSE 0.2824 | test_RMSE 0.2776 \n",
      "19929\n",
      "80921\n",
      "Epoch 00770 | Loss 0.1194 | train_RMSE 0.2821 | test_RMSE 0.2774 \n",
      "19929\n",
      "80921\n",
      "Epoch 00771 | Loss 0.1203 | train_RMSE 0.2820 | test_RMSE 0.2773 \n",
      "19929\n",
      "80921\n",
      "Epoch 00772 | Loss 0.1206 | train_RMSE 0.2822 | test_RMSE 0.2775 \n",
      "19929\n",
      "80921\n",
      "Epoch 00773 | Loss 0.1204 | train_RMSE 0.2824 | test_RMSE 0.2776 \n"
     ]
    },
    {
     "name": "stderr",
     "output_type": "stream",
     "text": [
      " 39%|███████████████▌                        | 779/2000 [00:37<00:57, 21.30it/s]"
     ]
    },
    {
     "name": "stdout",
     "output_type": "stream",
     "text": [
      "19929\n",
      "80921\n",
      "Epoch 00774 | Loss 0.1211 | train_RMSE 0.2822 | test_RMSE 0.2774 \n",
      "19929\n",
      "80921\n",
      "Epoch 00775 | Loss 0.1207 | train_RMSE 0.2821 | test_RMSE 0.2773 \n",
      "19929\n",
      "80921\n",
      "Epoch 00776 | Loss 0.1199 | train_RMSE 0.2824 | test_RMSE 0.2776 \n",
      "19929\n",
      "80921\n",
      "Epoch 00777 | Loss 0.1208 | train_RMSE 0.2822 | test_RMSE 0.2775 \n",
      "19929\n",
      "80921\n",
      "Epoch 00778 | Loss 0.1206 | train_RMSE 0.2818 | test_RMSE 0.2771 \n"
     ]
    },
    {
     "name": "stderr",
     "output_type": "stream",
     "text": [
      "\r",
      " 39%|███████████████▋                        | 782/2000 [00:37<00:57, 21.30it/s]"
     ]
    },
    {
     "name": "stdout",
     "output_type": "stream",
     "text": [
      "19929\n",
      "80921\n",
      "Epoch 00779 | Loss 0.1204 | train_RMSE 0.2819 | test_RMSE 0.2772 \n",
      "19929\n",
      "80921\n",
      "Epoch 00780 | Loss 0.1199 | train_RMSE 0.2824 | test_RMSE 0.2776 \n",
      "19929\n",
      "80921\n",
      "Epoch 00781 | Loss 0.1211 | train_RMSE 0.2822 | test_RMSE 0.2774 \n",
      "19929\n",
      "80921\n",
      "Epoch 00782 | Loss 0.1203 | train_RMSE 0.2822 | test_RMSE 0.2774 \n",
      "19929\n",
      "80921\n",
      "Epoch 00783 | Loss 0.1201 | train_RMSE 0.2824 | test_RMSE 0.2776 \n"
     ]
    },
    {
     "name": "stderr",
     "output_type": "stream",
     "text": [
      " 39%|███████████████▊                        | 788/2000 [00:38<00:57, 21.21it/s]"
     ]
    },
    {
     "name": "stdout",
     "output_type": "stream",
     "text": [
      "19929\n",
      "80921\n",
      "Epoch 00784 | Loss 0.1203 | train_RMSE 0.2822 | test_RMSE 0.2775 \n",
      "19929\n",
      "80921\n",
      "Epoch 00785 | Loss 0.1190 | train_RMSE 0.2819 | test_RMSE 0.2771 \n",
      "19929\n",
      "80921\n",
      "Epoch 00786 | Loss 0.1210 | train_RMSE 0.2820 | test_RMSE 0.2773 \n",
      "19929\n",
      "80921\n",
      "Epoch 00787 | Loss 0.1204 | train_RMSE 0.2823 | test_RMSE 0.2775 \n",
      "19929\n"
     ]
    },
    {
     "name": "stderr",
     "output_type": "stream",
     "text": [
      "\r",
      " 40%|███████████████▊                        | 791/2000 [00:38<00:56, 21.22it/s]"
     ]
    },
    {
     "name": "stdout",
     "output_type": "stream",
     "text": [
      "80921\n",
      "Epoch 00788 | Loss 0.1211 | train_RMSE 0.2819 | test_RMSE 0.2772 \n",
      "19929\n",
      "80921\n",
      "Epoch 00789 | Loss 0.1205 | train_RMSE 0.2817 | test_RMSE 0.2771 \n",
      "19929\n",
      "80921\n",
      "Epoch 00790 | Loss 0.1197 | train_RMSE 0.2825 | test_RMSE 0.2777 \n",
      "19929\n",
      "80921\n",
      "Epoch 00791 | Loss 0.1206 | train_RMSE 0.2825 | test_RMSE 0.2777 \n",
      "19929\n",
      "80921\n",
      "Epoch 00792 | Loss 0.1206 | train_RMSE 0.2819 | test_RMSE 0.2772 \n"
     ]
    },
    {
     "name": "stderr",
     "output_type": "stream",
     "text": [
      " 40%|███████████████▉                        | 797/2000 [00:38<00:56, 21.29it/s]"
     ]
    },
    {
     "name": "stdout",
     "output_type": "stream",
     "text": [
      "19929\n",
      "80921\n",
      "Epoch 00793 | Loss 0.1204 | train_RMSE 0.2820 | test_RMSE 0.2773 \n",
      "19929\n",
      "80921\n",
      "Epoch 00794 | Loss 0.1208 | train_RMSE 0.2827 | test_RMSE 0.2779 \n",
      "19929\n",
      "80921\n",
      "Epoch 00795 | Loss 0.1198 | train_RMSE 0.2820 | test_RMSE 0.2772 \n",
      "19929\n",
      "80921\n",
      "Epoch 00796 | Loss 0.1199 | train_RMSE 0.2818 | test_RMSE 0.2771 \n",
      "19929\n",
      "80921\n",
      "Epoch 00797 | Loss 0.1203 | train_RMSE 0.2821 | test_RMSE 0.2773 \n"
     ]
    },
    {
     "name": "stderr",
     "output_type": "stream",
     "text": [
      " 40%|████████████████                        | 803/2000 [00:38<00:56, 21.30it/s]"
     ]
    },
    {
     "name": "stdout",
     "output_type": "stream",
     "text": [
      "19929\n",
      "80921\n",
      "Epoch 00798 | Loss 0.1203 | train_RMSE 0.2825 | test_RMSE 0.2777 \n",
      "19929\n",
      "80921\n",
      "Epoch 00799 | Loss 0.1200 | train_RMSE 0.2819 | test_RMSE 0.2772 \n",
      "19929\n",
      "80921\n",
      "Epoch 00800 | Loss 0.1194 | train_RMSE 0.2818 | test_RMSE 0.2771 \n",
      "19929\n",
      "80921\n",
      "Epoch 00801 | Loss 0.1207 | train_RMSE 0.2822 | test_RMSE 0.2774 \n",
      "19929\n",
      "80921\n",
      "Epoch 00802 | Loss 0.1204 | train_RMSE 0.2824 | test_RMSE 0.2775 \n"
     ]
    },
    {
     "name": "stderr",
     "output_type": "stream",
     "text": [
      "\r",
      " 40%|████████████████                        | 806/2000 [00:38<00:56, 21.31it/s]"
     ]
    },
    {
     "name": "stdout",
     "output_type": "stream",
     "text": [
      "19929\n",
      "80921\n",
      "Epoch 00803 | Loss 0.1198 | train_RMSE 0.2820 | test_RMSE 0.2773 \n",
      "19929\n",
      "80921\n",
      "Epoch 00804 | Loss 0.1196 | train_RMSE 0.2820 | test_RMSE 0.2773 \n",
      "19929\n",
      "80921\n",
      "Epoch 00805 | Loss 0.1201 | train_RMSE 0.2825 | test_RMSE 0.2778 \n",
      "19929\n",
      "80921\n",
      "Epoch 00806 | Loss 0.1204 | train_RMSE 0.2820 | test_RMSE 0.2773 \n",
      "19929\n",
      "80921\n",
      "Epoch 00807 | Loss 0.1201 | train_RMSE 0.2816 | test_RMSE 0.2769 \n"
     ]
    },
    {
     "name": "stderr",
     "output_type": "stream",
     "text": [
      " 41%|████████████████▏                       | 812/2000 [00:39<00:55, 21.31it/s]"
     ]
    },
    {
     "name": "stdout",
     "output_type": "stream",
     "text": [
      "19929\n",
      "80921\n",
      "Epoch 00808 | Loss 0.1196 | train_RMSE 0.2818 | test_RMSE 0.2771 \n",
      "19929\n",
      "80921\n",
      "Epoch 00809 | Loss 0.1205 | train_RMSE 0.2823 | test_RMSE 0.2775 \n",
      "19929\n",
      "80921\n",
      "Epoch 00810 | Loss 0.1198 | train_RMSE 0.2819 | test_RMSE 0.2771 \n",
      "19929\n",
      "80921\n",
      "Epoch 00811 | Loss 0.1198 | train_RMSE 0.2816 | test_RMSE 0.2769 \n",
      "19929\n",
      "80921\n",
      "Epoch 00812 | Loss 0.1206 | train_RMSE 0.2820 | test_RMSE 0.2773 \n"
     ]
    },
    {
     "name": "stderr",
     "output_type": "stream",
     "text": [
      " 41%|████████████████▎                       | 818/2000 [00:39<00:55, 21.33it/s]"
     ]
    },
    {
     "name": "stdout",
     "output_type": "stream",
     "text": [
      "19929\n",
      "80921\n",
      "Epoch 00813 | Loss 0.1198 | train_RMSE 0.2822 | test_RMSE 0.2775 \n",
      "19929\n",
      "80921\n",
      "Epoch 00814 | Loss 0.1196 | train_RMSE 0.2817 | test_RMSE 0.2770 \n",
      "19929\n",
      "80921\n",
      "Epoch 00815 | Loss 0.1209 | train_RMSE 0.2821 | test_RMSE 0.2773 \n",
      "19929\n",
      "80921\n",
      "Epoch 00816 | Loss 0.1202 | train_RMSE 0.2822 | test_RMSE 0.2774 \n",
      "19929\n",
      "80921\n",
      "Epoch 00817 | Loss 0.1198 | train_RMSE 0.2819 | test_RMSE 0.2772 \n"
     ]
    },
    {
     "name": "stderr",
     "output_type": "stream",
     "text": [
      "\r",
      " 41%|████████████████▍                       | 821/2000 [00:39<00:55, 21.28it/s]"
     ]
    },
    {
     "name": "stdout",
     "output_type": "stream",
     "text": [
      "19929\n",
      "80921\n",
      "Epoch 00818 | Loss 0.1203 | train_RMSE 0.2817 | test_RMSE 0.2769 \n",
      "19929\n",
      "80921\n",
      "Epoch 00819 | Loss 0.1207 | train_RMSE 0.2820 | test_RMSE 0.2772 \n",
      "19929\n",
      "80921\n",
      "Epoch 00820 | Loss 0.1207 | train_RMSE 0.2824 | test_RMSE 0.2776 \n",
      "19929\n",
      "80921\n",
      "Epoch 00821 | Loss 0.1205 | train_RMSE 0.2819 | test_RMSE 0.2771 \n",
      "19929\n",
      "80921\n",
      "Epoch 00822 | Loss 0.1198 | train_RMSE 0.2817 | test_RMSE 0.2770 \n"
     ]
    },
    {
     "name": "stderr",
     "output_type": "stream",
     "text": [
      " 41%|████████████████▌                       | 827/2000 [00:39<00:54, 21.33it/s]"
     ]
    },
    {
     "name": "stdout",
     "output_type": "stream",
     "text": [
      "19929\n",
      "80921\n",
      "Epoch 00823 | Loss 0.1211 | train_RMSE 0.2820 | test_RMSE 0.2772 \n",
      "19929\n",
      "80921\n",
      "Epoch 00824 | Loss 0.1195 | train_RMSE 0.2822 | test_RMSE 0.2774 \n",
      "19929\n",
      "80921\n",
      "Epoch 00825 | Loss 0.1208 | train_RMSE 0.2819 | test_RMSE 0.2772 \n",
      "19929\n",
      "80921\n",
      "Epoch 00826 | Loss 0.1203 | train_RMSE 0.2817 | test_RMSE 0.2770 \n",
      "19929\n",
      "80921\n",
      "Epoch 00827 | Loss 0.1199 | train_RMSE 0.2820 | test_RMSE 0.2772 \n"
     ]
    },
    {
     "name": "stderr",
     "output_type": "stream",
     "text": [
      " 42%|████████████████▋                       | 833/2000 [00:40<00:54, 21.30it/s]"
     ]
    },
    {
     "name": "stdout",
     "output_type": "stream",
     "text": [
      "19929\n",
      "80921\n",
      "Epoch 00828 | Loss 0.1202 | train_RMSE 0.2822 | test_RMSE 0.2774 \n",
      "19929\n",
      "80921\n",
      "Epoch 00829 | Loss 0.1202 | train_RMSE 0.2817 | test_RMSE 0.2770 \n",
      "19929\n",
      "80921\n",
      "Epoch 00830 | Loss 0.1199 | train_RMSE 0.2819 | test_RMSE 0.2771 \n",
      "19929\n",
      "80921\n",
      "Epoch 00831 | Loss 0.1197 | train_RMSE 0.2824 | test_RMSE 0.2776 \n",
      "19929\n",
      "80921\n",
      "Epoch 00832 | Loss 0.1202 | train_RMSE 0.2819 | test_RMSE 0.2772 \n"
     ]
    },
    {
     "name": "stderr",
     "output_type": "stream",
     "text": [
      "\r",
      " 42%|████████████████▋                       | 836/2000 [00:40<00:54, 21.32it/s]"
     ]
    },
    {
     "name": "stdout",
     "output_type": "stream",
     "text": [
      "19929\n",
      "80921\n",
      "Epoch 00833 | Loss 0.1209 | train_RMSE 0.2816 | test_RMSE 0.2769 \n",
      "19929\n",
      "80921\n",
      "Epoch 00834 | Loss 0.1200 | train_RMSE 0.2820 | test_RMSE 0.2773 \n",
      "19929\n",
      "80921\n",
      "Epoch 00835 | Loss 0.1200 | train_RMSE 0.2823 | test_RMSE 0.2775 \n",
      "19929\n",
      "80921\n",
      "Epoch 00836 | Loss 0.1201 | train_RMSE 0.2818 | test_RMSE 0.2771 \n",
      "19929\n",
      "80921\n",
      "Epoch 00837 | Loss 0.1200 | train_RMSE 0.2816 | test_RMSE 0.2770 \n"
     ]
    },
    {
     "name": "stderr",
     "output_type": "stream",
     "text": [
      " 42%|████████████████▊                       | 842/2000 [00:40<00:54, 21.31it/s]"
     ]
    },
    {
     "name": "stdout",
     "output_type": "stream",
     "text": [
      "19929\n",
      "80921\n",
      "Epoch 00838 | Loss 0.1193 | train_RMSE 0.2823 | test_RMSE 0.2775 \n",
      "19929\n",
      "80921\n",
      "Epoch 00839 | Loss 0.1202 | train_RMSE 0.2818 | test_RMSE 0.2771 \n",
      "19929\n",
      "80921\n",
      "Epoch 00840 | Loss 0.1204 | train_RMSE 0.2817 | test_RMSE 0.2769 \n",
      "19929\n",
      "80921\n",
      "Epoch 00841 | Loss 0.1208 | train_RMSE 0.2821 | test_RMSE 0.2773 \n",
      "19929\n",
      "80921\n",
      "Epoch 00842 | Loss 0.1202 | train_RMSE 0.2823 | test_RMSE 0.2775 \n"
     ]
    },
    {
     "name": "stderr",
     "output_type": "stream",
     "text": [
      " 42%|████████████████▉                       | 848/2000 [00:40<00:54, 21.33it/s]"
     ]
    },
    {
     "name": "stdout",
     "output_type": "stream",
     "text": [
      "19929\n",
      "80921\n",
      "Epoch 00843 | Loss 0.1197 | train_RMSE 0.2816 | test_RMSE 0.2770 \n",
      "19929\n",
      "80921\n",
      "Epoch 00844 | Loss 0.1198 | train_RMSE 0.2818 | test_RMSE 0.2770 \n",
      "19929\n",
      "80921\n",
      "Epoch 00845 | Loss 0.1201 | train_RMSE 0.2821 | test_RMSE 0.2773 \n",
      "19929\n",
      "80921\n",
      "Epoch 00846 | Loss 0.1199 | train_RMSE 0.2819 | test_RMSE 0.2771 \n",
      "19929\n",
      "80921\n",
      "Epoch 00847 | Loss 0.1202 | train_RMSE 0.2817 | test_RMSE 0.2769 \n"
     ]
    },
    {
     "name": "stderr",
     "output_type": "stream",
     "text": [
      "\r",
      " 43%|█████████████████                       | 851/2000 [00:40<00:53, 21.32it/s]"
     ]
    },
    {
     "name": "stdout",
     "output_type": "stream",
     "text": [
      "19929\n",
      "80921\n",
      "Epoch 00848 | Loss 0.1196 | train_RMSE 0.2818 | test_RMSE 0.2770 \n",
      "19929\n",
      "80921\n",
      "Epoch 00849 | Loss 0.1200 | train_RMSE 0.2821 | test_RMSE 0.2774 \n",
      "19929\n",
      "80921\n",
      "Epoch 00850 | Loss 0.1204 | train_RMSE 0.2817 | test_RMSE 0.2770 \n",
      "19929\n",
      "80921\n",
      "Epoch 00851 | Loss 0.1204 | train_RMSE 0.2817 | test_RMSE 0.2770 \n",
      "19929\n",
      "80921\n",
      "Epoch 00852 | Loss 0.1203 | train_RMSE 0.2820 | test_RMSE 0.2772 \n"
     ]
    },
    {
     "name": "stderr",
     "output_type": "stream",
     "text": [
      " 43%|█████████████████▏                      | 857/2000 [00:41<00:53, 21.33it/s]"
     ]
    },
    {
     "name": "stdout",
     "output_type": "stream",
     "text": [
      "19929\n",
      "80921\n",
      "Epoch 00853 | Loss 0.1205 | train_RMSE 0.2819 | test_RMSE 0.2771 \n",
      "19929\n",
      "80921\n",
      "Epoch 00854 | Loss 0.1205 | train_RMSE 0.2815 | test_RMSE 0.2768 \n",
      "19929\n",
      "80921\n",
      "Epoch 00855 | Loss 0.1206 | train_RMSE 0.2817 | test_RMSE 0.2769 \n",
      "19929\n",
      "80921\n",
      "Epoch 00856 | Loss 0.1206 | train_RMSE 0.2824 | test_RMSE 0.2776 \n",
      "19929\n",
      "80921\n",
      "Epoch 00857 | Loss 0.1203 | train_RMSE 0.2820 | test_RMSE 0.2772 \n"
     ]
    },
    {
     "name": "stderr",
     "output_type": "stream",
     "text": [
      " 43%|█████████████████▎                      | 863/2000 [00:41<00:53, 21.31it/s]"
     ]
    },
    {
     "name": "stdout",
     "output_type": "stream",
     "text": [
      "19929\n",
      "80921\n",
      "Epoch 00858 | Loss 0.1199 | train_RMSE 0.2815 | test_RMSE 0.2768 \n",
      "19929\n",
      "80921\n",
      "Epoch 00859 | Loss 0.1207 | train_RMSE 0.2822 | test_RMSE 0.2774 \n",
      "19929\n",
      "80921\n",
      "Epoch 00860 | Loss 0.1199 | train_RMSE 0.2824 | test_RMSE 0.2776 \n",
      "19929\n",
      "80921\n",
      "Epoch 00861 | Loss 0.1199 | train_RMSE 0.2816 | test_RMSE 0.2769 \n",
      "19929\n",
      "80921\n",
      "Epoch 00862 | Loss 0.1207 | train_RMSE 0.2817 | test_RMSE 0.2770 \n"
     ]
    },
    {
     "name": "stderr",
     "output_type": "stream",
     "text": [
      "\r",
      " 43%|█████████████████▎                      | 866/2000 [00:41<00:53, 21.30it/s]"
     ]
    },
    {
     "name": "stdout",
     "output_type": "stream",
     "text": [
      "19929\n",
      "80921\n",
      "Epoch 00863 | Loss 0.1200 | train_RMSE 0.2823 | test_RMSE 0.2775 \n",
      "19929\n",
      "80921\n",
      "Epoch 00864 | Loss 0.1197 | train_RMSE 0.2823 | test_RMSE 0.2775 \n",
      "19929\n",
      "80921\n",
      "Epoch 00865 | Loss 0.1194 | train_RMSE 0.2817 | test_RMSE 0.2769 \n",
      "19929\n",
      "80921\n",
      "Epoch 00866 | Loss 0.1204 | train_RMSE 0.2819 | test_RMSE 0.2772 \n",
      "19929\n",
      "80921\n",
      "Epoch 00867 | Loss 0.1195 | train_RMSE 0.2821 | test_RMSE 0.2773 \n"
     ]
    },
    {
     "name": "stderr",
     "output_type": "stream",
     "text": [
      " 44%|█████████████████▍                      | 872/2000 [00:41<00:52, 21.32it/s]"
     ]
    },
    {
     "name": "stdout",
     "output_type": "stream",
     "text": [
      "19929\n",
      "80921\n",
      "Epoch 00868 | Loss 0.1194 | train_RMSE 0.2819 | test_RMSE 0.2772 \n",
      "19929\n",
      "80921\n",
      "Epoch 00869 | Loss 0.1197 | train_RMSE 0.2817 | test_RMSE 0.2770 \n",
      "19929\n",
      "80921\n",
      "Epoch 00870 | Loss 0.1199 | train_RMSE 0.2817 | test_RMSE 0.2769 \n",
      "19929\n",
      "80921\n",
      "Epoch 00871 | Loss 0.1198 | train_RMSE 0.2819 | test_RMSE 0.2771 \n",
      "19929\n",
      "80921\n",
      "Epoch 00872 | Loss 0.1206 | train_RMSE 0.2820 | test_RMSE 0.2771 \n"
     ]
    },
    {
     "name": "stderr",
     "output_type": "stream",
     "text": [
      " 44%|█████████████████▌                      | 878/2000 [00:42<00:52, 21.31it/s]"
     ]
    },
    {
     "name": "stdout",
     "output_type": "stream",
     "text": [
      "19929\n",
      "80921\n",
      "Epoch 00873 | Loss 0.1203 | train_RMSE 0.2816 | test_RMSE 0.2769 \n",
      "19929\n",
      "80921\n",
      "Epoch 00874 | Loss 0.1199 | train_RMSE 0.2815 | test_RMSE 0.2769 \n",
      "19929\n",
      "80921\n",
      "Epoch 00875 | Loss 0.1199 | train_RMSE 0.2818 | test_RMSE 0.2771 \n",
      "19929\n",
      "80921\n",
      "Epoch 00876 | Loss 0.1201 | train_RMSE 0.2819 | test_RMSE 0.2771 \n",
      "19929\n",
      "80921\n",
      "Epoch 00877 | Loss 0.1207 | train_RMSE 0.2820 | test_RMSE 0.2771 \n"
     ]
    },
    {
     "name": "stderr",
     "output_type": "stream",
     "text": [
      "\r",
      " 44%|█████████████████▌                      | 881/2000 [00:42<00:52, 21.31it/s]"
     ]
    },
    {
     "name": "stdout",
     "output_type": "stream",
     "text": [
      "19929\n",
      "80921\n",
      "Epoch 00878 | Loss 0.1205 | train_RMSE 0.2818 | test_RMSE 0.2770 \n",
      "19929\n",
      "80921\n",
      "Epoch 00879 | Loss 0.1201 | train_RMSE 0.2818 | test_RMSE 0.2771 \n",
      "19929\n",
      "80921\n",
      "Epoch 00880 | Loss 0.1194 | train_RMSE 0.2816 | test_RMSE 0.2769 \n",
      "19929\n",
      "80921\n",
      "Epoch 00881 | Loss 0.1196 | train_RMSE 0.2817 | test_RMSE 0.2770 \n",
      "19929\n",
      "80921\n",
      "Epoch 00882 | Loss 0.1200 | train_RMSE 0.2819 | test_RMSE 0.2771 \n"
     ]
    },
    {
     "name": "stderr",
     "output_type": "stream",
     "text": [
      " 44%|█████████████████▋                      | 887/2000 [00:42<00:52, 21.27it/s]"
     ]
    },
    {
     "name": "stdout",
     "output_type": "stream",
     "text": [
      "19929\n",
      "80921\n",
      "Epoch 00883 | Loss 0.1200 | train_RMSE 0.2820 | test_RMSE 0.2772 \n",
      "19929\n",
      "80921\n",
      "Epoch 00884 | Loss 0.1200 | train_RMSE 0.2821 | test_RMSE 0.2773 \n",
      "19929\n",
      "80921\n",
      "Epoch 00885 | Loss 0.1201 | train_RMSE 0.2815 | test_RMSE 0.2768 \n",
      "19929\n",
      "80921\n",
      "Epoch 00886 | Loss 0.1197 | train_RMSE 0.2816 | test_RMSE 0.2769 \n",
      "19929\n",
      "80921\n",
      "Epoch 00887 | Loss 0.1195 | train_RMSE 0.2823 | test_RMSE 0.2775 \n"
     ]
    },
    {
     "name": "stderr",
     "output_type": "stream",
     "text": [
      " 45%|█████████████████▊                      | 893/2000 [00:42<00:51, 21.31it/s]"
     ]
    },
    {
     "name": "stdout",
     "output_type": "stream",
     "text": [
      "19929\n",
      "80921\n",
      "Epoch 00888 | Loss 0.1205 | train_RMSE 0.2819 | test_RMSE 0.2771 \n",
      "19929\n",
      "80921\n",
      "Epoch 00889 | Loss 0.1195 | train_RMSE 0.2813 | test_RMSE 0.2767 \n",
      "19929\n",
      "80921\n",
      "Epoch 00890 | Loss 0.1195 | train_RMSE 0.2817 | test_RMSE 0.2770 \n",
      "19929\n",
      "80921\n",
      "Epoch 00891 | Loss 0.1201 | train_RMSE 0.2823 | test_RMSE 0.2775 \n",
      "19929\n",
      "80921\n",
      "Epoch 00892 | Loss 0.1199 | train_RMSE 0.2816 | test_RMSE 0.2768 \n"
     ]
    },
    {
     "name": "stderr",
     "output_type": "stream",
     "text": [
      "\r",
      " 45%|█████████████████▉                      | 896/2000 [00:43<00:51, 21.29it/s]"
     ]
    },
    {
     "name": "stdout",
     "output_type": "stream",
     "text": [
      "19929\n",
      "80921\n",
      "Epoch 00893 | Loss 0.1204 | train_RMSE 0.2815 | test_RMSE 0.2768 \n",
      "19929\n",
      "80921\n",
      "Epoch 00894 | Loss 0.1208 | train_RMSE 0.2822 | test_RMSE 0.2774 \n",
      "19929\n",
      "80921\n",
      "Epoch 00895 | Loss 0.1198 | train_RMSE 0.2820 | test_RMSE 0.2772 \n",
      "19929\n",
      "80921\n",
      "Epoch 00896 | Loss 0.1194 | train_RMSE 0.2813 | test_RMSE 0.2766 \n",
      "19929\n",
      "80921\n",
      "Epoch 00897 | Loss 0.1192 | train_RMSE 0.2819 | test_RMSE 0.2771 \n"
     ]
    },
    {
     "name": "stderr",
     "output_type": "stream",
     "text": [
      " 45%|██████████████████                      | 902/2000 [00:43<00:51, 21.33it/s]"
     ]
    },
    {
     "name": "stdout",
     "output_type": "stream",
     "text": [
      "19929\n",
      "80921\n",
      "Epoch 00898 | Loss 0.1199 | train_RMSE 0.2821 | test_RMSE 0.2772 \n",
      "19929\n",
      "80921\n",
      "Epoch 00899 | Loss 0.1201 | train_RMSE 0.2815 | test_RMSE 0.2767 \n",
      "19929\n",
      "80921\n",
      "Epoch 00900 | Loss 0.1191 | train_RMSE 0.2816 | test_RMSE 0.2768 \n",
      "19929\n",
      "80921\n",
      "Epoch 00901 | Loss 0.1199 | train_RMSE 0.2818 | test_RMSE 0.2770 \n",
      "19929\n",
      "80921\n",
      "Epoch 00902 | Loss 0.1207 | train_RMSE 0.2816 | test_RMSE 0.2769 \n"
     ]
    },
    {
     "name": "stderr",
     "output_type": "stream",
     "text": [
      " 45%|██████████████████▏                     | 908/2000 [00:43<00:51, 21.31it/s]"
     ]
    },
    {
     "name": "stdout",
     "output_type": "stream",
     "text": [
      "19929\n",
      "80921\n",
      "Epoch 00903 | Loss 0.1203 | train_RMSE 0.2817 | test_RMSE 0.2769 \n",
      "19929\n",
      "80921\n",
      "Epoch 00904 | Loss 0.1201 | train_RMSE 0.2816 | test_RMSE 0.2768 \n",
      "19929\n",
      "80921\n",
      "Epoch 00905 | Loss 0.1202 | train_RMSE 0.2816 | test_RMSE 0.2768 \n",
      "19929\n",
      "80921\n",
      "Epoch 00906 | Loss 0.1203 | train_RMSE 0.2816 | test_RMSE 0.2768 \n",
      "19929\n",
      "80921\n",
      "Epoch 00907 | Loss 0.1199 | train_RMSE 0.2816 | test_RMSE 0.2768 \n"
     ]
    },
    {
     "name": "stderr",
     "output_type": "stream",
     "text": [
      "\r",
      " 46%|██████████████████▏                     | 911/2000 [00:43<00:51, 21.27it/s]"
     ]
    },
    {
     "name": "stdout",
     "output_type": "stream",
     "text": [
      "19929\n",
      "80921\n",
      "Epoch 00908 | Loss 0.1199 | train_RMSE 0.2814 | test_RMSE 0.2767 \n",
      "19929\n",
      "80921\n",
      "Epoch 00909 | Loss 0.1193 | train_RMSE 0.2816 | test_RMSE 0.2768 \n",
      "19929\n",
      "80921\n",
      "Epoch 00910 | Loss 0.1189 | train_RMSE 0.2818 | test_RMSE 0.2770 \n",
      "19929\n",
      "80921\n",
      "Epoch 00911 | Loss 0.1201 | train_RMSE 0.2817 | test_RMSE 0.2769 \n",
      "19929\n",
      "80921\n",
      "Epoch 00912 | Loss 0.1197 | train_RMSE 0.2816 | test_RMSE 0.2768 \n"
     ]
    },
    {
     "name": "stderr",
     "output_type": "stream",
     "text": [
      " 46%|██████████████████▎                     | 917/2000 [00:44<00:50, 21.29it/s]"
     ]
    },
    {
     "name": "stdout",
     "output_type": "stream",
     "text": [
      "19929\n",
      "80921\n",
      "Epoch 00913 | Loss 0.1193 | train_RMSE 0.2813 | test_RMSE 0.2766 \n",
      "19929\n",
      "80921\n",
      "Epoch 00914 | Loss 0.1189 | train_RMSE 0.2814 | test_RMSE 0.2767 \n",
      "19929\n",
      "80921\n",
      "Epoch 00915 | Loss 0.1190 | train_RMSE 0.2813 | test_RMSE 0.2766 \n",
      "19929\n",
      "80921\n",
      "Epoch 00916 | Loss 0.1204 | train_RMSE 0.2815 | test_RMSE 0.2767 \n",
      "19929\n",
      "80921\n",
      "Epoch 00917 | Loss 0.1202 | train_RMSE 0.2817 | test_RMSE 0.2769 \n"
     ]
    },
    {
     "name": "stderr",
     "output_type": "stream",
     "text": [
      " 46%|██████████████████▍                     | 923/2000 [00:44<00:50, 21.33it/s]"
     ]
    },
    {
     "name": "stdout",
     "output_type": "stream",
     "text": [
      "19929\n",
      "80921\n",
      "Epoch 00918 | Loss 0.1199 | train_RMSE 0.2816 | test_RMSE 0.2768 \n",
      "19929\n",
      "80921\n",
      "Epoch 00919 | Loss 0.1199 | train_RMSE 0.2814 | test_RMSE 0.2766 \n",
      "19929\n",
      "80921\n",
      "Epoch 00920 | Loss 0.1193 | train_RMSE 0.2815 | test_RMSE 0.2767 \n",
      "19929\n",
      "80921\n",
      "Epoch 00921 | Loss 0.1202 | train_RMSE 0.2816 | test_RMSE 0.2768 \n",
      "19929\n",
      "80921\n",
      "Epoch 00922 | Loss 0.1197 | train_RMSE 0.2812 | test_RMSE 0.2765 \n"
     ]
    },
    {
     "name": "stderr",
     "output_type": "stream",
     "text": [
      "\r",
      " 46%|██████████████████▌                     | 926/2000 [00:44<00:50, 21.31it/s]"
     ]
    },
    {
     "name": "stdout",
     "output_type": "stream",
     "text": [
      "19929\n",
      "80921\n",
      "Epoch 00923 | Loss 0.1193 | train_RMSE 0.2817 | test_RMSE 0.2769 \n",
      "19929\n",
      "80921\n",
      "Epoch 00924 | Loss 0.1193 | train_RMSE 0.2817 | test_RMSE 0.2769 \n",
      "19929\n",
      "80921\n",
      "Epoch 00925 | Loss 0.1195 | train_RMSE 0.2812 | test_RMSE 0.2765 \n",
      "19929\n",
      "80921\n",
      "Epoch 00926 | Loss 0.1202 | train_RMSE 0.2815 | test_RMSE 0.2767 \n",
      "19929\n",
      "80921\n",
      "Epoch 00927 | Loss 0.1195 | train_RMSE 0.2820 | test_RMSE 0.2772 \n"
     ]
    },
    {
     "name": "stderr",
     "output_type": "stream",
     "text": [
      " 47%|██████████████████▋                     | 932/2000 [00:44<00:50, 21.32it/s]"
     ]
    },
    {
     "name": "stdout",
     "output_type": "stream",
     "text": [
      "19929\n",
      "80921\n",
      "Epoch 00928 | Loss 0.1193 | train_RMSE 0.2815 | test_RMSE 0.2768 \n",
      "19929\n",
      "80921\n",
      "Epoch 00929 | Loss 0.1194 | train_RMSE 0.2813 | test_RMSE 0.2766 \n",
      "19929\n",
      "80921\n",
      "Epoch 00930 | Loss 0.1197 | train_RMSE 0.2816 | test_RMSE 0.2769 \n",
      "19929\n",
      "80921\n",
      "Epoch 00931 | Loss 0.1203 | train_RMSE 0.2815 | test_RMSE 0.2768 \n",
      "19929\n",
      "80921\n",
      "Epoch 00932 | Loss 0.1198 | train_RMSE 0.2814 | test_RMSE 0.2766 \n"
     ]
    },
    {
     "name": "stderr",
     "output_type": "stream",
     "text": [
      " 47%|██████████████████▊                     | 938/2000 [00:45<00:49, 21.28it/s]"
     ]
    },
    {
     "name": "stdout",
     "output_type": "stream",
     "text": [
      "19929\n",
      "80921\n",
      "Epoch 00933 | Loss 0.1200 | train_RMSE 0.2817 | test_RMSE 0.2769 \n",
      "19929\n",
      "80921\n",
      "Epoch 00934 | Loss 0.1194 | train_RMSE 0.2815 | test_RMSE 0.2768 \n",
      "19929\n",
      "80921\n",
      "Epoch 00935 | Loss 0.1195 | train_RMSE 0.2813 | test_RMSE 0.2765 \n",
      "19929\n",
      "80921\n",
      "Epoch 00936 | Loss 0.1197 | train_RMSE 0.2816 | test_RMSE 0.2768 \n",
      "19929\n",
      "80921\n",
      "Epoch 00937 | Loss 0.1198 | train_RMSE 0.2814 | test_RMSE 0.2767 \n"
     ]
    },
    {
     "name": "stderr",
     "output_type": "stream",
     "text": [
      "\r",
      " 47%|██████████████████▊                     | 941/2000 [00:45<00:49, 21.29it/s]"
     ]
    },
    {
     "name": "stdout",
     "output_type": "stream",
     "text": [
      "19929\n",
      "80921\n",
      "Epoch 00938 | Loss 0.1197 | train_RMSE 0.2814 | test_RMSE 0.2766 \n",
      "19929\n",
      "80921\n",
      "Epoch 00939 | Loss 0.1195 | train_RMSE 0.2817 | test_RMSE 0.2769 \n",
      "19929\n",
      "80921\n",
      "Epoch 00940 | Loss 0.1195 | train_RMSE 0.2813 | test_RMSE 0.2766 \n",
      "19929\n",
      "80921\n",
      "Epoch 00941 | Loss 0.1202 | train_RMSE 0.2810 | test_RMSE 0.2763 \n",
      "19929\n",
      "80921\n",
      "Epoch 00942 | Loss 0.1200 | train_RMSE 0.2815 | test_RMSE 0.2767 \n"
     ]
    },
    {
     "name": "stderr",
     "output_type": "stream",
     "text": [
      " 47%|██████████████████▉                     | 947/2000 [00:45<00:49, 21.26it/s]"
     ]
    },
    {
     "name": "stdout",
     "output_type": "stream",
     "text": [
      "19929\n",
      "80921\n",
      "Epoch 00943 | Loss 0.1201 | train_RMSE 0.2819 | test_RMSE 0.2771 \n",
      "19929\n",
      "80921\n",
      "Epoch 00944 | Loss 0.1199 | train_RMSE 0.2812 | test_RMSE 0.2765 \n",
      "19929\n",
      "80921\n",
      "Epoch 00945 | Loss 0.1187 | train_RMSE 0.2811 | test_RMSE 0.2764 \n",
      "19929\n",
      "80921\n",
      "Epoch 00946 | Loss 0.1197 | train_RMSE 0.2817 | test_RMSE 0.2769 \n",
      "19929\n"
     ]
    },
    {
     "name": "stderr",
     "output_type": "stream",
     "text": [
      "\r",
      " 48%|███████████████████                     | 950/2000 [00:45<00:49, 21.26it/s]"
     ]
    },
    {
     "name": "stdout",
     "output_type": "stream",
     "text": [
      "80921\n",
      "Epoch 00947 | Loss 0.1197 | train_RMSE 0.2815 | test_RMSE 0.2767 \n",
      "19929\n",
      "80921\n",
      "Epoch 00948 | Loss 0.1200 | train_RMSE 0.2814 | test_RMSE 0.2766 \n",
      "19929\n",
      "80921\n",
      "Epoch 00949 | Loss 0.1187 | train_RMSE 0.2816 | test_RMSE 0.2768 \n",
      "19929\n",
      "80921\n",
      "Epoch 00950 | Loss 0.1192 | train_RMSE 0.2813 | test_RMSE 0.2766 \n",
      "19929\n",
      "80921\n",
      "Epoch 00951 | Loss 0.1196 | train_RMSE 0.2812 | test_RMSE 0.2764 \n"
     ]
    },
    {
     "name": "stderr",
     "output_type": "stream",
     "text": [
      " 48%|███████████████████                     | 956/2000 [00:45<00:48, 21.31it/s]"
     ]
    },
    {
     "name": "stdout",
     "output_type": "stream",
     "text": [
      "19929\n",
      "80921\n",
      "Epoch 00952 | Loss 0.1190 | train_RMSE 0.2815 | test_RMSE 0.2767 \n",
      "19929\n",
      "80921\n",
      "Epoch 00953 | Loss 0.1200 | train_RMSE 0.2816 | test_RMSE 0.2768 \n",
      "19929\n",
      "80921\n",
      "Epoch 00954 | Loss 0.1194 | train_RMSE 0.2810 | test_RMSE 0.2763 \n",
      "19929\n",
      "80921\n",
      "Epoch 00955 | Loss 0.1188 | train_RMSE 0.2812 | test_RMSE 0.2764 \n",
      "19929\n",
      "80921\n",
      "Epoch 00956 | Loss 0.1199 | train_RMSE 0.2815 | test_RMSE 0.2767 \n"
     ]
    },
    {
     "name": "stderr",
     "output_type": "stream",
     "text": [
      " 48%|███████████████████▏                    | 962/2000 [00:46<00:48, 21.27it/s]"
     ]
    },
    {
     "name": "stdout",
     "output_type": "stream",
     "text": [
      "19929\n",
      "80921\n",
      "Epoch 00957 | Loss 0.1191 | train_RMSE 0.2812 | test_RMSE 0.2764 \n",
      "19929\n",
      "80921\n",
      "Epoch 00958 | Loss 0.1192 | train_RMSE 0.2811 | test_RMSE 0.2764 \n",
      "19929\n",
      "80921\n",
      "Epoch 00959 | Loss 0.1198 | train_RMSE 0.2814 | test_RMSE 0.2766 \n",
      "19929\n",
      "80921\n",
      "Epoch 00960 | Loss 0.1198 | train_RMSE 0.2815 | test_RMSE 0.2767 \n",
      "19929\n",
      "80921\n",
      "Epoch 00961 | Loss 0.1194 | train_RMSE 0.2812 | test_RMSE 0.2764 \n"
     ]
    },
    {
     "name": "stderr",
     "output_type": "stream",
     "text": [
      "\r",
      " 48%|███████████████████▎                    | 965/2000 [00:46<00:48, 21.30it/s]"
     ]
    },
    {
     "name": "stdout",
     "output_type": "stream",
     "text": [
      "19929\n",
      "80921\n",
      "Epoch 00962 | Loss 0.1199 | train_RMSE 0.2810 | test_RMSE 0.2762 \n",
      "19929\n",
      "80921\n",
      "Epoch 00963 | Loss 0.1196 | train_RMSE 0.2813 | test_RMSE 0.2765 \n",
      "19929\n",
      "80921\n",
      "Epoch 00964 | Loss 0.1201 | train_RMSE 0.2817 | test_RMSE 0.2769 \n",
      "19929\n",
      "80921\n",
      "Epoch 00965 | Loss 0.1195 | train_RMSE 0.2811 | test_RMSE 0.2763 \n",
      "19929\n",
      "80921\n",
      "Epoch 00966 | Loss 0.1201 | train_RMSE 0.2811 | test_RMSE 0.2763 \n"
     ]
    },
    {
     "name": "stderr",
     "output_type": "stream",
     "text": [
      " 49%|███████████████████▍                    | 971/2000 [00:46<00:48, 21.22it/s]"
     ]
    },
    {
     "name": "stdout",
     "output_type": "stream",
     "text": [
      "19929\n",
      "80921\n",
      "Epoch 00967 | Loss 0.1200 | train_RMSE 0.2817 | test_RMSE 0.2769 \n",
      "19929\n",
      "80921\n",
      "Epoch 00968 | Loss 0.1183 | train_RMSE 0.2813 | test_RMSE 0.2765 \n",
      "19929\n",
      "80921\n",
      "Epoch 00969 | Loss 0.1197 | train_RMSE 0.2809 | test_RMSE 0.2762 \n",
      "19929\n",
      "80921\n",
      "Epoch 00970 | Loss 0.1191 | train_RMSE 0.2814 | test_RMSE 0.2766 \n",
      "19929\n"
     ]
    },
    {
     "name": "stderr",
     "output_type": "stream",
     "text": [
      "\r",
      " 49%|███████████████████▍                    | 974/2000 [00:46<00:48, 21.26it/s]"
     ]
    },
    {
     "name": "stdout",
     "output_type": "stream",
     "text": [
      "80921\n",
      "Epoch 00971 | Loss 0.1199 | train_RMSE 0.2817 | test_RMSE 0.2769 \n",
      "19929\n",
      "80921\n",
      "Epoch 00972 | Loss 0.1196 | train_RMSE 0.2809 | test_RMSE 0.2762 \n",
      "19929\n",
      "80921\n",
      "Epoch 00973 | Loss 0.1195 | train_RMSE 0.2812 | test_RMSE 0.2764 \n",
      "19929\n",
      "80921\n",
      "Epoch 00974 | Loss 0.1195 | train_RMSE 0.2816 | test_RMSE 0.2767 \n",
      "19929\n",
      "80921\n",
      "Epoch 00975 | Loss 0.1199 | train_RMSE 0.2811 | test_RMSE 0.2764 \n"
     ]
    },
    {
     "name": "stderr",
     "output_type": "stream",
     "text": [
      " 49%|███████████████████▌                    | 980/2000 [00:47<00:47, 21.29it/s]"
     ]
    },
    {
     "name": "stdout",
     "output_type": "stream",
     "text": [
      "19929\n",
      "80921\n",
      "Epoch 00976 | Loss 0.1190 | train_RMSE 0.2810 | test_RMSE 0.2762 \n",
      "19929\n",
      "80921\n",
      "Epoch 00977 | Loss 0.1196 | train_RMSE 0.2814 | test_RMSE 0.2766 \n",
      "19929\n",
      "80921\n",
      "Epoch 00978 | Loss 0.1199 | train_RMSE 0.2812 | test_RMSE 0.2764 \n",
      "19929\n",
      "80921\n",
      "Epoch 00979 | Loss 0.1197 | train_RMSE 0.2811 | test_RMSE 0.2763 \n",
      "19929\n",
      "80921\n",
      "Epoch 00980 | Loss 0.1190 | train_RMSE 0.2811 | test_RMSE 0.2763 \n"
     ]
    },
    {
     "name": "stderr",
     "output_type": "stream",
     "text": [
      "\r",
      " 49%|███████████████████▋                    | 983/2000 [00:47<00:47, 21.29it/s]"
     ]
    },
    {
     "name": "stdout",
     "output_type": "stream",
     "text": [
      "19929\n",
      "80921\n",
      "Epoch 00981 | Loss 0.1203 | train_RMSE 0.2813 | test_RMSE 0.2765 \n",
      "19929\n",
      "80921\n",
      "Epoch 00982 | Loss 0.1188 | train_RMSE 0.2811 | test_RMSE 0.2764 \n",
      "19929\n",
      "80921\n",
      "Epoch 00983 | Loss 0.1189 | train_RMSE 0.2807 | test_RMSE 0.2760 \n",
      "19929\n",
      "80921\n",
      "Epoch 00984 | Loss 0.1189 | train_RMSE 0.2812 | test_RMSE 0.2764 \n",
      "19929\n"
     ]
    },
    {
     "name": "stderr",
     "output_type": "stream",
     "text": [
      " 49%|███████████████████▊                    | 989/2000 [00:47<00:47, 21.18it/s]"
     ]
    },
    {
     "name": "stdout",
     "output_type": "stream",
     "text": [
      "80921\n",
      "Epoch 00985 | Loss 0.1194 | train_RMSE 0.2818 | test_RMSE 0.2769 \n",
      "19929\n",
      "80921\n",
      "Epoch 00986 | Loss 0.1197 | train_RMSE 0.2809 | test_RMSE 0.2762 \n",
      "19929\n",
      "80921\n",
      "Epoch 00987 | Loss 0.1192 | train_RMSE 0.2808 | test_RMSE 0.2761 \n",
      "19929\n",
      "80921\n",
      "Epoch 00988 | Loss 0.1189 | train_RMSE 0.2812 | test_RMSE 0.2764 \n",
      "19929\n",
      "80921\n",
      "Epoch 00989 | Loss 0.1194 | train_RMSE 0.2814 | test_RMSE 0.2766 \n"
     ]
    },
    {
     "name": "stderr",
     "output_type": "stream",
     "text": [
      " 50%|███████████████████▉                    | 995/2000 [00:47<00:47, 21.23it/s]"
     ]
    },
    {
     "name": "stdout",
     "output_type": "stream",
     "text": [
      "19929\n",
      "80921\n",
      "Epoch 00990 | Loss 0.1188 | train_RMSE 0.2810 | test_RMSE 0.2762 \n",
      "19929\n",
      "80921\n",
      "Epoch 00991 | Loss 0.1194 | train_RMSE 0.2807 | test_RMSE 0.2760 \n",
      "19929\n",
      "80921\n",
      "Epoch 00992 | Loss 0.1200 | train_RMSE 0.2811 | test_RMSE 0.2764 \n",
      "19929\n",
      "80921\n",
      "Epoch 00993 | Loss 0.1198 | train_RMSE 0.2813 | test_RMSE 0.2765 \n",
      "19929\n",
      "80921\n",
      "Epoch 00994 | Loss 0.1195 | train_RMSE 0.2811 | test_RMSE 0.2763 \n"
     ]
    },
    {
     "name": "stderr",
     "output_type": "stream",
     "text": [
      "\r",
      " 50%|███████████████████▉                    | 998/2000 [00:47<00:47, 21.26it/s]"
     ]
    },
    {
     "name": "stdout",
     "output_type": "stream",
     "text": [
      "19929\n",
      "80921\n",
      "Epoch 00995 | Loss 0.1193 | train_RMSE 0.2810 | test_RMSE 0.2762 \n",
      "19929\n",
      "80921\n",
      "Epoch 00996 | Loss 0.1196 | train_RMSE 0.2813 | test_RMSE 0.2765 \n",
      "19929\n",
      "80921\n",
      "Epoch 00997 | Loss 0.1188 | train_RMSE 0.2808 | test_RMSE 0.2760 \n",
      "19929\n",
      "80921\n",
      "Epoch 00998 | Loss 0.1201 | train_RMSE 0.2809 | test_RMSE 0.2762 \n",
      "19929\n",
      "80921\n",
      "Epoch 00999 | Loss 0.1195 | train_RMSE 0.2813 | test_RMSE 0.2765 \n"
     ]
    },
    {
     "name": "stderr",
     "output_type": "stream",
     "text": [
      " 50%|███████████████████▌                   | 1004/2000 [00:48<00:46, 21.26it/s]"
     ]
    },
    {
     "name": "stdout",
     "output_type": "stream",
     "text": [
      "19929\n",
      "80921\n",
      "Epoch 01000 | Loss 0.1194 | train_RMSE 0.2812 | test_RMSE 0.2764 \n",
      "19929\n",
      "80921\n",
      "Epoch 01001 | Loss 0.1194 | train_RMSE 0.2809 | test_RMSE 0.2762 \n",
      "19929\n",
      "80921\n",
      "Epoch 01002 | Loss 0.1192 | train_RMSE 0.2810 | test_RMSE 0.2763 \n",
      "19929\n",
      "80921\n",
      "Epoch 01003 | Loss 0.1189 | train_RMSE 0.2813 | test_RMSE 0.2765 \n",
      "19929\n",
      "80921\n",
      "Epoch 01004 | Loss 0.1191 | train_RMSE 0.2809 | test_RMSE 0.2762 \n"
     ]
    },
    {
     "name": "stderr",
     "output_type": "stream",
     "text": [
      " 50%|███████████████████▋                   | 1010/2000 [00:48<00:46, 21.29it/s]"
     ]
    },
    {
     "name": "stdout",
     "output_type": "stream",
     "text": [
      "19929\n",
      "80921\n",
      "Epoch 01005 | Loss 0.1185 | train_RMSE 0.2813 | test_RMSE 0.2765 \n",
      "19929\n",
      "80921\n",
      "Epoch 01006 | Loss 0.1188 | train_RMSE 0.2813 | test_RMSE 0.2765 \n",
      "19929\n",
      "80921\n",
      "Epoch 01007 | Loss 0.1197 | train_RMSE 0.2807 | test_RMSE 0.2760 \n",
      "19929\n",
      "80921\n",
      "Epoch 01008 | Loss 0.1196 | train_RMSE 0.2811 | test_RMSE 0.2763 \n",
      "19929\n",
      "80921\n",
      "Epoch 01009 | Loss 0.1185 | train_RMSE 0.2810 | test_RMSE 0.2762 \n"
     ]
    },
    {
     "name": "stderr",
     "output_type": "stream",
     "text": [
      "\r",
      " 51%|███████████████████▊                   | 1013/2000 [00:48<00:46, 21.25it/s]"
     ]
    },
    {
     "name": "stdout",
     "output_type": "stream",
     "text": [
      "19929\n",
      "80921\n",
      "Epoch 01010 | Loss 0.1194 | train_RMSE 0.2805 | test_RMSE 0.2758 \n",
      "19929\n",
      "80921\n",
      "Epoch 01011 | Loss 0.1198 | train_RMSE 0.2809 | test_RMSE 0.2761 \n",
      "19929\n",
      "80921\n",
      "Epoch 01012 | Loss 0.1195 | train_RMSE 0.2813 | test_RMSE 0.2765 \n",
      "19929\n",
      "80921\n",
      "Epoch 01013 | Loss 0.1191 | train_RMSE 0.2808 | test_RMSE 0.2760 \n",
      "19929\n",
      "80921\n",
      "Epoch 01014 | Loss 0.1196 | train_RMSE 0.2810 | test_RMSE 0.2762 \n"
     ]
    },
    {
     "name": "stderr",
     "output_type": "stream",
     "text": [
      " 51%|███████████████████▊                   | 1019/2000 [00:48<00:46, 21.30it/s]"
     ]
    },
    {
     "name": "stdout",
     "output_type": "stream",
     "text": [
      "19929\n",
      "80921\n",
      "Epoch 01015 | Loss 0.1196 | train_RMSE 0.2810 | test_RMSE 0.2762 \n",
      "19929\n",
      "80921\n",
      "Epoch 01016 | Loss 0.1191 | train_RMSE 0.2806 | test_RMSE 0.2758 \n",
      "19929\n",
      "80921\n",
      "Epoch 01017 | Loss 0.1198 | train_RMSE 0.2808 | test_RMSE 0.2760 \n",
      "19929\n",
      "80921\n",
      "Epoch 01018 | Loss 0.1193 | train_RMSE 0.2812 | test_RMSE 0.2764 \n",
      "19929\n",
      "80921\n",
      "Epoch 01019 | Loss 0.1196 | train_RMSE 0.2809 | test_RMSE 0.2761 \n"
     ]
    },
    {
     "name": "stderr",
     "output_type": "stream",
     "text": [
      " 51%|███████████████████▉                   | 1025/2000 [00:49<00:45, 21.28it/s]"
     ]
    },
    {
     "name": "stdout",
     "output_type": "stream",
     "text": [
      "19929\n",
      "80921\n",
      "Epoch 01020 | Loss 0.1199 | train_RMSE 0.2808 | test_RMSE 0.2761 \n",
      "19929\n",
      "80921\n",
      "Epoch 01021 | Loss 0.1191 | train_RMSE 0.2810 | test_RMSE 0.2762 \n",
      "19929\n",
      "80921\n",
      "Epoch 01022 | Loss 0.1201 | train_RMSE 0.2813 | test_RMSE 0.2765 \n",
      "19929\n",
      "80921\n",
      "Epoch 01023 | Loss 0.1191 | train_RMSE 0.2807 | test_RMSE 0.2759 \n",
      "19929\n",
      "80921\n",
      "Epoch 01024 | Loss 0.1193 | train_RMSE 0.2806 | test_RMSE 0.2759 \n"
     ]
    },
    {
     "name": "stderr",
     "output_type": "stream",
     "text": [
      "\r",
      " 51%|████████████████████                   | 1028/2000 [00:49<00:45, 21.31it/s]"
     ]
    },
    {
     "name": "stdout",
     "output_type": "stream",
     "text": [
      "19929\n",
      "80921\n",
      "Epoch 01025 | Loss 0.1192 | train_RMSE 0.2814 | test_RMSE 0.2766 \n",
      "19929\n",
      "80921\n",
      "Epoch 01026 | Loss 0.1193 | train_RMSE 0.2808 | test_RMSE 0.2761 \n",
      "19929\n",
      "80921\n",
      "Epoch 01027 | Loss 0.1186 | train_RMSE 0.2808 | test_RMSE 0.2761 \n",
      "19929\n",
      "80921\n",
      "Epoch 01028 | Loss 0.1193 | train_RMSE 0.2819 | test_RMSE 0.2771 \n",
      "19929\n",
      "80921\n",
      "Epoch 01029 | Loss 0.1188 | train_RMSE 0.2811 | test_RMSE 0.2763 \n"
     ]
    },
    {
     "name": "stderr",
     "output_type": "stream",
     "text": [
      " 52%|████████████████████▏                  | 1034/2000 [00:49<00:45, 21.30it/s]"
     ]
    },
    {
     "name": "stdout",
     "output_type": "stream",
     "text": [
      "19929\n",
      "80921\n",
      "Epoch 01030 | Loss 0.1198 | train_RMSE 0.2805 | test_RMSE 0.2758 \n",
      "19929\n",
      "80921\n",
      "Epoch 01031 | Loss 0.1190 | train_RMSE 0.2810 | test_RMSE 0.2762 \n",
      "19929\n",
      "80921\n",
      "Epoch 01032 | Loss 0.1195 | train_RMSE 0.2817 | test_RMSE 0.2768 \n",
      "19929\n",
      "80921\n",
      "Epoch 01033 | Loss 0.1191 | train_RMSE 0.2805 | test_RMSE 0.2758 \n",
      "19929\n",
      "80921\n",
      "Epoch 01034 | Loss 0.1187 | train_RMSE 0.2806 | test_RMSE 0.2759 \n"
     ]
    },
    {
     "name": "stderr",
     "output_type": "stream",
     "text": [
      " 52%|████████████████████▎                  | 1040/2000 [00:49<00:45, 21.29it/s]"
     ]
    },
    {
     "name": "stdout",
     "output_type": "stream",
     "text": [
      "19929\n",
      "80921\n",
      "Epoch 01035 | Loss 0.1197 | train_RMSE 0.2827 | test_RMSE 0.2779 \n",
      "19929\n",
      "80921\n",
      "Epoch 01036 | Loss 0.1194 | train_RMSE 0.2809 | test_RMSE 0.2762 \n",
      "19929\n",
      "80921\n",
      "Epoch 01037 | Loss 0.1185 | train_RMSE 0.2804 | test_RMSE 0.2758 \n",
      "19929\n",
      "80921\n",
      "Epoch 01038 | Loss 0.1195 | train_RMSE 0.2822 | test_RMSE 0.2773 \n",
      "19929\n",
      "80921\n",
      "Epoch 01039 | Loss 0.1201 | train_RMSE 0.2811 | test_RMSE 0.2763 \n"
     ]
    },
    {
     "name": "stderr",
     "output_type": "stream",
     "text": [
      "\r",
      " 52%|████████████████████▎                  | 1043/2000 [00:49<00:44, 21.28it/s]"
     ]
    },
    {
     "name": "stdout",
     "output_type": "stream",
     "text": [
      "19929\n",
      "80921\n",
      "Epoch 01040 | Loss 0.1195 | train_RMSE 0.2803 | test_RMSE 0.2756 \n",
      "19929\n",
      "80921\n",
      "Epoch 01041 | Loss 0.1187 | train_RMSE 0.2817 | test_RMSE 0.2768 \n",
      "19929\n",
      "80921\n",
      "Epoch 01042 | Loss 0.1191 | train_RMSE 0.2817 | test_RMSE 0.2768 \n",
      "19929\n",
      "80921\n",
      "Epoch 01043 | Loss 0.1196 | train_RMSE 0.2805 | test_RMSE 0.2759 \n",
      "19929\n",
      "80921\n",
      "Epoch 01044 | Loss 0.1193 | train_RMSE 0.2808 | test_RMSE 0.2761 \n"
     ]
    },
    {
     "name": "stderr",
     "output_type": "stream",
     "text": [
      " 52%|████████████████████▍                  | 1049/2000 [00:50<00:44, 21.29it/s]"
     ]
    },
    {
     "name": "stdout",
     "output_type": "stream",
     "text": [
      "19929\n",
      "80921\n",
      "Epoch 01045 | Loss 0.1189 | train_RMSE 0.2812 | test_RMSE 0.2764 \n",
      "19929\n",
      "80921\n",
      "Epoch 01046 | Loss 0.1185 | train_RMSE 0.2805 | test_RMSE 0.2757 \n",
      "19929\n",
      "80921\n",
      "Epoch 01047 | Loss 0.1196 | train_RMSE 0.2806 | test_RMSE 0.2758 \n",
      "19929\n",
      "80921\n",
      "Epoch 01048 | Loss 0.1187 | train_RMSE 0.2812 | test_RMSE 0.2764 \n",
      "19929\n",
      "80921\n",
      "Epoch 01049 | Loss 0.1195 | train_RMSE 0.2807 | test_RMSE 0.2760 \n"
     ]
    },
    {
     "name": "stderr",
     "output_type": "stream",
     "text": [
      "\r",
      " 53%|████████████████████▌                  | 1052/2000 [00:50<00:44, 21.30it/s]"
     ]
    },
    {
     "name": "stdout",
     "output_type": "stream",
     "text": [
      "19929\n",
      "80921\n",
      "Epoch 01050 | Loss 0.1192 | train_RMSE 0.2810 | test_RMSE 0.2762 \n",
      "19929\n",
      "80921\n",
      "Epoch 01051 | Loss 0.1191 | train_RMSE 0.2813 | test_RMSE 0.2765 \n",
      "19929\n",
      "80921\n",
      "Epoch 01052 | Loss 0.1189 | train_RMSE 0.2808 | test_RMSE 0.2761 \n",
      "19929\n",
      "80921\n",
      "Epoch 01053 | Loss 0.1193 | train_RMSE 0.2803 | test_RMSE 0.2756 \n",
      "19929\n"
     ]
    },
    {
     "name": "stderr",
     "output_type": "stream",
     "text": [
      " 53%|████████████████████▋                  | 1058/2000 [00:50<00:44, 21.20it/s]"
     ]
    },
    {
     "name": "stdout",
     "output_type": "stream",
     "text": [
      "80921\n",
      "Epoch 01054 | Loss 0.1197 | train_RMSE 0.2813 | test_RMSE 0.2764 \n",
      "19929\n",
      "80921\n",
      "Epoch 01055 | Loss 0.1188 | train_RMSE 0.2813 | test_RMSE 0.2765 \n",
      "19929\n",
      "80921\n",
      "Epoch 01056 | Loss 0.1190 | train_RMSE 0.2805 | test_RMSE 0.2758 \n",
      "19929\n",
      "80921\n",
      "Epoch 01057 | Loss 0.1191 | train_RMSE 0.2810 | test_RMSE 0.2763 \n",
      "19929\n",
      "80921\n",
      "Epoch 01058 | Loss 0.1189 | train_RMSE 0.2813 | test_RMSE 0.2765 \n"
     ]
    },
    {
     "name": "stderr",
     "output_type": "stream",
     "text": [
      "\r",
      " 53%|████████████████████▋                  | 1061/2000 [00:50<00:44, 21.17it/s]"
     ]
    },
    {
     "name": "stdout",
     "output_type": "stream",
     "text": [
      "19929\n",
      "80921\n",
      "Epoch 01059 | Loss 0.1191 | train_RMSE 0.2807 | test_RMSE 0.2759 \n",
      "19929\n",
      "80921\n",
      "Epoch 01060 | Loss 0.1185 | train_RMSE 0.2806 | test_RMSE 0.2758 \n",
      "19929\n",
      "80921\n",
      "Epoch 01061 | Loss 0.1194 | train_RMSE 0.2810 | test_RMSE 0.2762 \n",
      "19929\n",
      "80921\n",
      "Epoch 01062 | Loss 0.1197 | train_RMSE 0.2805 | test_RMSE 0.2758 \n",
      "19929\n"
     ]
    },
    {
     "name": "stderr",
     "output_type": "stream",
     "text": [
      " 53%|████████████████████▊                  | 1067/2000 [00:51<00:44, 21.13it/s]"
     ]
    },
    {
     "name": "stdout",
     "output_type": "stream",
     "text": [
      "80921\n",
      "Epoch 01063 | Loss 0.1189 | train_RMSE 0.2805 | test_RMSE 0.2758 \n",
      "19929\n",
      "80921\n",
      "Epoch 01064 | Loss 0.1198 | train_RMSE 0.2810 | test_RMSE 0.2762 \n",
      "19929\n",
      "80921\n",
      "Epoch 01065 | Loss 0.1186 | train_RMSE 0.2809 | test_RMSE 0.2761 \n",
      "19929\n",
      "80921\n",
      "Epoch 01066 | Loss 0.1195 | train_RMSE 0.2803 | test_RMSE 0.2756 \n",
      "19929\n",
      "80921\n",
      "Epoch 01067 | Loss 0.1194 | train_RMSE 0.2807 | test_RMSE 0.2759 \n"
     ]
    },
    {
     "name": "stderr",
     "output_type": "stream",
     "text": [
      " 54%|████████████████████▉                  | 1073/2000 [00:51<00:43, 21.18it/s]"
     ]
    },
    {
     "name": "stdout",
     "output_type": "stream",
     "text": [
      "19929\n",
      "80921\n",
      "Epoch 01068 | Loss 0.1196 | train_RMSE 0.2814 | test_RMSE 0.2766 \n",
      "19929\n",
      "80921\n",
      "Epoch 01069 | Loss 0.1194 | train_RMSE 0.2807 | test_RMSE 0.2760 \n",
      "19929\n",
      "80921\n",
      "Epoch 01070 | Loss 0.1190 | train_RMSE 0.2807 | test_RMSE 0.2760 \n",
      "19929\n",
      "80921\n",
      "Epoch 01071 | Loss 0.1198 | train_RMSE 0.2811 | test_RMSE 0.2763 \n",
      "19929\n",
      "80921\n",
      "Epoch 01072 | Loss 0.1186 | train_RMSE 0.2809 | test_RMSE 0.2761 \n"
     ]
    },
    {
     "name": "stderr",
     "output_type": "stream",
     "text": [
      "\r",
      " 54%|████████████████████▉                  | 1076/2000 [00:51<00:43, 21.15it/s]"
     ]
    },
    {
     "name": "stdout",
     "output_type": "stream",
     "text": [
      "19929\n",
      "80921\n",
      "Epoch 01073 | Loss 0.1186 | train_RMSE 0.2807 | test_RMSE 0.2759 \n",
      "19929\n",
      "80921\n",
      "Epoch 01074 | Loss 0.1192 | train_RMSE 0.2809 | test_RMSE 0.2762 \n",
      "19929\n",
      "80921\n",
      "Epoch 01075 | Loss 0.1195 | train_RMSE 0.2808 | test_RMSE 0.2761 \n",
      "19929\n",
      "80921\n",
      "Epoch 01076 | Loss 0.1187 | train_RMSE 0.2805 | test_RMSE 0.2757 \n",
      "19929\n"
     ]
    },
    {
     "name": "stderr",
     "output_type": "stream",
     "text": [
      " 54%|█████████████████████                  | 1082/2000 [00:51<00:43, 21.17it/s]"
     ]
    },
    {
     "name": "stdout",
     "output_type": "stream",
     "text": [
      "80921\n",
      "Epoch 01077 | Loss 0.1192 | train_RMSE 0.2813 | test_RMSE 0.2764 \n",
      "19929\n",
      "80921\n",
      "Epoch 01078 | Loss 0.1190 | train_RMSE 0.2811 | test_RMSE 0.2762 \n",
      "19929\n",
      "80921\n",
      "Epoch 01079 | Loss 0.1189 | train_RMSE 0.2801 | test_RMSE 0.2755 \n",
      "19929\n",
      "80921\n",
      "Epoch 01080 | Loss 0.1190 | train_RMSE 0.2806 | test_RMSE 0.2759 \n",
      "19929\n",
      "80921\n",
      "Epoch 01081 | Loss 0.1191 | train_RMSE 0.2813 | test_RMSE 0.2765 \n"
     ]
    },
    {
     "name": "stderr",
     "output_type": "stream",
     "text": [
      "\r",
      " 54%|█████████████████████▏                 | 1085/2000 [00:51<00:43, 21.07it/s]"
     ]
    },
    {
     "name": "stdout",
     "output_type": "stream",
     "text": [
      "19929\n",
      "80921\n",
      "Epoch 01082 | Loss 0.1197 | train_RMSE 0.2806 | test_RMSE 0.2758 \n",
      "19929\n",
      "80921\n",
      "Epoch 01083 | Loss 0.1196 | train_RMSE 0.2802 | test_RMSE 0.2755 \n",
      "19929\n",
      "80921\n",
      "Epoch 01084 | Loss 0.1186 | train_RMSE 0.2809 | test_RMSE 0.2761 \n",
      "19929\n",
      "80921\n",
      "Epoch 01085 | Loss 0.1188 | train_RMSE 0.2807 | test_RMSE 0.2760 \n",
      "19929\n"
     ]
    },
    {
     "name": "stderr",
     "output_type": "stream",
     "text": [
      " 55%|█████████████████████▎                 | 1091/2000 [00:52<00:43, 21.05it/s]"
     ]
    },
    {
     "name": "stdout",
     "output_type": "stream",
     "text": [
      "80921\n",
      "Epoch 01086 | Loss 0.1190 | train_RMSE 0.2804 | test_RMSE 0.2756 \n",
      "19929\n",
      "80921\n",
      "Epoch 01087 | Loss 0.1194 | train_RMSE 0.2809 | test_RMSE 0.2761 \n",
      "19929\n",
      "80921\n",
      "Epoch 01088 | Loss 0.1184 | train_RMSE 0.2806 | test_RMSE 0.2759 \n",
      "19929\n",
      "80921\n",
      "Epoch 01089 | Loss 0.1187 | train_RMSE 0.2804 | test_RMSE 0.2757 \n",
      "19929\n",
      "80921\n",
      "Epoch 01090 | Loss 0.1187 | train_RMSE 0.2808 | test_RMSE 0.2760 \n"
     ]
    },
    {
     "name": "stderr",
     "output_type": "stream",
     "text": [
      "\r",
      " 55%|█████████████████████▎                 | 1094/2000 [00:52<00:43, 21.06it/s]"
     ]
    },
    {
     "name": "stdout",
     "output_type": "stream",
     "text": [
      "19929\n",
      "80921\n",
      "Epoch 01091 | Loss 0.1189 | train_RMSE 0.2807 | test_RMSE 0.2759 \n",
      "19929\n",
      "80921\n",
      "Epoch 01092 | Loss 0.1185 | train_RMSE 0.2806 | test_RMSE 0.2759 \n",
      "19929\n",
      "80921\n",
      "Epoch 01093 | Loss 0.1190 | train_RMSE 0.2807 | test_RMSE 0.2759 \n",
      "19929\n",
      "80921\n",
      "Epoch 01094 | Loss 0.1182 | train_RMSE 0.2805 | test_RMSE 0.2758 \n",
      "19929\n",
      "80921\n",
      "Epoch 01095 | Loss 0.1183 | train_RMSE 0.2806 | test_RMSE 0.2758 \n"
     ]
    },
    {
     "name": "stderr",
     "output_type": "stream",
     "text": [
      " 55%|█████████████████████▍                 | 1100/2000 [00:52<00:42, 21.12it/s]"
     ]
    },
    {
     "name": "stdout",
     "output_type": "stream",
     "text": [
      "19929\n",
      "80921\n",
      "Epoch 01096 | Loss 0.1190 | train_RMSE 0.2809 | test_RMSE 0.2761 \n",
      "19929\n",
      "80921\n",
      "Epoch 01097 | Loss 0.1190 | train_RMSE 0.2802 | test_RMSE 0.2755 \n",
      "19929\n",
      "80921\n",
      "Epoch 01098 | Loss 0.1186 | train_RMSE 0.2804 | test_RMSE 0.2757 \n",
      "19929\n",
      "80921\n",
      "Epoch 01099 | Loss 0.1193 | train_RMSE 0.2809 | test_RMSE 0.2761 \n",
      "19929\n",
      "80921\n",
      "Epoch 01100 | Loss 0.1187 | train_RMSE 0.2805 | test_RMSE 0.2757 \n"
     ]
    },
    {
     "name": "stderr",
     "output_type": "stream",
     "text": [
      "\r",
      " 55%|█████████████████████▌                 | 1103/2000 [00:52<00:42, 21.13it/s]"
     ]
    },
    {
     "name": "stdout",
     "output_type": "stream",
     "text": [
      "19929\n",
      "80921\n",
      "Epoch 01101 | Loss 0.1189 | train_RMSE 0.2806 | test_RMSE 0.2758 \n",
      "19929\n",
      "80921\n",
      "Epoch 01102 | Loss 0.1189 | train_RMSE 0.2805 | test_RMSE 0.2757 \n",
      "19929\n",
      "80921\n",
      "Epoch 01103 | Loss 0.1197 | train_RMSE 0.2805 | test_RMSE 0.2757 \n",
      "19929\n",
      "80921\n",
      "Epoch 01104 | Loss 0.1196 | train_RMSE 0.2803 | test_RMSE 0.2755 \n",
      "19929\n"
     ]
    },
    {
     "name": "stderr",
     "output_type": "stream",
     "text": [
      " 55%|█████████████████████▋                 | 1109/2000 [00:53<00:42, 21.12it/s]"
     ]
    },
    {
     "name": "stdout",
     "output_type": "stream",
     "text": [
      "80921\n",
      "Epoch 01105 | Loss 0.1190 | train_RMSE 0.2806 | test_RMSE 0.2758 \n",
      "19929\n",
      "80921\n",
      "Epoch 01106 | Loss 0.1184 | train_RMSE 0.2808 | test_RMSE 0.2760 \n",
      "19929\n",
      "80921\n",
      "Epoch 01107 | Loss 0.1193 | train_RMSE 0.2804 | test_RMSE 0.2756 \n",
      "19929\n",
      "80921\n",
      "Epoch 01108 | Loss 0.1190 | train_RMSE 0.2809 | test_RMSE 0.2761 \n",
      "19929\n",
      "80921\n",
      "Epoch 01109 | Loss 0.1193 | train_RMSE 0.2805 | test_RMSE 0.2757 \n"
     ]
    },
    {
     "name": "stderr",
     "output_type": "stream",
     "text": [
      "\r",
      " 56%|█████████████████████▋                 | 1112/2000 [00:53<00:42, 21.11it/s]"
     ]
    },
    {
     "name": "stdout",
     "output_type": "stream",
     "text": [
      "19929\n",
      "80921\n",
      "Epoch 01110 | Loss 0.1186 | train_RMSE 0.2801 | test_RMSE 0.2754 \n",
      "19929\n",
      "80921\n",
      "Epoch 01111 | Loss 0.1178 | train_RMSE 0.2807 | test_RMSE 0.2758 \n",
      "19929\n",
      "80921\n",
      "Epoch 01112 | Loss 0.1184 | train_RMSE 0.2810 | test_RMSE 0.2762 \n",
      "19929\n",
      "80921\n",
      "Epoch 01113 | Loss 0.1183 | train_RMSE 0.2804 | test_RMSE 0.2757 \n",
      "19929\n"
     ]
    },
    {
     "name": "stderr",
     "output_type": "stream",
     "text": [
      " 56%|█████████████████████▊                 | 1118/2000 [00:53<00:41, 21.12it/s]"
     ]
    },
    {
     "name": "stdout",
     "output_type": "stream",
     "text": [
      "80921\n",
      "Epoch 01114 | Loss 0.1189 | train_RMSE 0.2805 | test_RMSE 0.2758 \n",
      "19929\n",
      "80921\n",
      "Epoch 01115 | Loss 0.1196 | train_RMSE 0.2806 | test_RMSE 0.2758 \n",
      "19929\n",
      "80921\n",
      "Epoch 01116 | Loss 0.1189 | train_RMSE 0.2803 | test_RMSE 0.2755 \n",
      "19929\n",
      "80921\n",
      "Epoch 01117 | Loss 0.1184 | train_RMSE 0.2804 | test_RMSE 0.2756 \n",
      "19929\n",
      "80921\n",
      "Epoch 01118 | Loss 0.1186 | train_RMSE 0.2810 | test_RMSE 0.2761 \n"
     ]
    },
    {
     "name": "stderr",
     "output_type": "stream",
     "text": [
      " 56%|█████████████████████▉                 | 1124/2000 [00:53<00:41, 21.16it/s]"
     ]
    },
    {
     "name": "stdout",
     "output_type": "stream",
     "text": [
      "19929\n",
      "80921\n",
      "Epoch 01119 | Loss 0.1191 | train_RMSE 0.2805 | test_RMSE 0.2757 \n",
      "19929\n",
      "80921\n",
      "Epoch 01120 | Loss 0.1187 | train_RMSE 0.2802 | test_RMSE 0.2755 \n",
      "19929\n",
      "80921\n",
      "Epoch 01121 | Loss 0.1190 | train_RMSE 0.2810 | test_RMSE 0.2761 \n",
      "19929\n",
      "80921\n",
      "Epoch 01122 | Loss 0.1190 | train_RMSE 0.2808 | test_RMSE 0.2759 \n",
      "19929\n",
      "80921\n",
      "Epoch 01123 | Loss 0.1190 | train_RMSE 0.2800 | test_RMSE 0.2753 \n"
     ]
    },
    {
     "name": "stderr",
     "output_type": "stream",
     "text": [
      "\r",
      " 56%|█████████████████████▉                 | 1127/2000 [00:53<00:41, 21.15it/s]"
     ]
    },
    {
     "name": "stdout",
     "output_type": "stream",
     "text": [
      "19929\n",
      "80921\n",
      "Epoch 01124 | Loss 0.1183 | train_RMSE 0.2801 | test_RMSE 0.2754 \n",
      "19929\n",
      "80921\n",
      "Epoch 01125 | Loss 0.1189 | train_RMSE 0.2810 | test_RMSE 0.2761 \n",
      "19929\n",
      "80921\n",
      "Epoch 01126 | Loss 0.1189 | train_RMSE 0.2803 | test_RMSE 0.2755 \n",
      "19929\n",
      "80921\n",
      "Epoch 01127 | Loss 0.1190 | train_RMSE 0.2802 | test_RMSE 0.2755 \n",
      "19929\n",
      "80921\n",
      "Epoch 01128 | Loss 0.1196 | train_RMSE 0.2811 | test_RMSE 0.2763 \n"
     ]
    },
    {
     "name": "stderr",
     "output_type": "stream",
     "text": [
      " 57%|██████████████████████                 | 1133/2000 [00:54<00:40, 21.18it/s]"
     ]
    },
    {
     "name": "stdout",
     "output_type": "stream",
     "text": [
      "19929\n",
      "80921\n",
      "Epoch 01129 | Loss 0.1188 | train_RMSE 0.2803 | test_RMSE 0.2755 \n",
      "19929\n",
      "80921\n",
      "Epoch 01130 | Loss 0.1192 | train_RMSE 0.2801 | test_RMSE 0.2753 \n",
      "19929\n",
      "80921\n",
      "Epoch 01131 | Loss 0.1185 | train_RMSE 0.2810 | test_RMSE 0.2761 \n",
      "19929\n",
      "80921\n",
      "Epoch 01132 | Loss 0.1189 | train_RMSE 0.2806 | test_RMSE 0.2758 \n",
      "19929\n"
     ]
    },
    {
     "name": "stderr",
     "output_type": "stream",
     "text": [
      "\r",
      " 57%|██████████████████████▏                | 1136/2000 [00:54<00:40, 21.12it/s]"
     ]
    },
    {
     "name": "stdout",
     "output_type": "stream",
     "text": [
      "80921\n",
      "Epoch 01133 | Loss 0.1190 | train_RMSE 0.2799 | test_RMSE 0.2752 \n",
      "19929\n",
      "80921\n",
      "Epoch 01134 | Loss 0.1185 | train_RMSE 0.2808 | test_RMSE 0.2759 \n",
      "19929\n",
      "80921\n",
      "Epoch 01135 | Loss 0.1196 | train_RMSE 0.2805 | test_RMSE 0.2757 \n",
      "19929\n",
      "80921\n",
      "Epoch 01136 | Loss 0.1190 | train_RMSE 0.2799 | test_RMSE 0.2752 \n",
      "19929\n",
      "80921\n",
      "Epoch 01137 | Loss 0.1180 | train_RMSE 0.2805 | test_RMSE 0.2757 \n"
     ]
    },
    {
     "name": "stderr",
     "output_type": "stream",
     "text": [
      " 57%|██████████████████████▎                | 1142/2000 [00:54<00:40, 21.09it/s]"
     ]
    },
    {
     "name": "stdout",
     "output_type": "stream",
     "text": [
      "19929\n",
      "80921\n",
      "Epoch 01138 | Loss 0.1190 | train_RMSE 0.2808 | test_RMSE 0.2759 \n",
      "19929\n",
      "80921\n",
      "Epoch 01139 | Loss 0.1183 | train_RMSE 0.2800 | test_RMSE 0.2753 \n",
      "19929\n",
      "80921\n",
      "Epoch 01140 | Loss 0.1193 | train_RMSE 0.2802 | test_RMSE 0.2754 \n",
      "19929\n",
      "80921\n",
      "Epoch 01141 | Loss 0.1188 | train_RMSE 0.2809 | test_RMSE 0.2760 \n",
      "19929\n"
     ]
    },
    {
     "name": "stderr",
     "output_type": "stream",
     "text": [
      "\r",
      " 57%|██████████████████████▎                | 1145/2000 [00:54<00:40, 21.07it/s]"
     ]
    },
    {
     "name": "stdout",
     "output_type": "stream",
     "text": [
      "80921\n",
      "Epoch 01142 | Loss 0.1181 | train_RMSE 0.2801 | test_RMSE 0.2753 \n",
      "19929\n",
      "80921\n",
      "Epoch 01143 | Loss 0.1193 | train_RMSE 0.2799 | test_RMSE 0.2752 \n",
      "19929\n",
      "80921\n",
      "Epoch 01144 | Loss 0.1184 | train_RMSE 0.2806 | test_RMSE 0.2758 \n",
      "19929\n",
      "80921\n",
      "Epoch 01145 | Loss 0.1190 | train_RMSE 0.2804 | test_RMSE 0.2756 \n",
      "19929\n",
      "80921\n",
      "Epoch 01146 | Loss 0.1188 | train_RMSE 0.2800 | test_RMSE 0.2753 \n"
     ]
    },
    {
     "name": "stderr",
     "output_type": "stream",
     "text": [
      " 58%|██████████████████████▍                | 1151/2000 [00:55<00:40, 21.09it/s]"
     ]
    },
    {
     "name": "stdout",
     "output_type": "stream",
     "text": [
      "19929\n",
      "80921\n",
      "Epoch 01147 | Loss 0.1186 | train_RMSE 0.2805 | test_RMSE 0.2757 \n",
      "19929\n",
      "80921\n",
      "Epoch 01148 | Loss 0.1184 | train_RMSE 0.2806 | test_RMSE 0.2757 \n",
      "19929\n",
      "80921\n",
      "Epoch 01149 | Loss 0.1190 | train_RMSE 0.2798 | test_RMSE 0.2751 \n",
      "19929\n",
      "80921\n",
      "Epoch 01150 | Loss 0.1180 | train_RMSE 0.2803 | test_RMSE 0.2755 \n",
      "19929\n"
     ]
    },
    {
     "name": "stderr",
     "output_type": "stream",
     "text": [
      "\r",
      " 58%|██████████████████████▌                | 1154/2000 [00:55<00:40, 21.12it/s]"
     ]
    },
    {
     "name": "stdout",
     "output_type": "stream",
     "text": [
      "80921\n",
      "Epoch 01151 | Loss 0.1188 | train_RMSE 0.2807 | test_RMSE 0.2758 \n",
      "19929\n",
      "80921\n",
      "Epoch 01152 | Loss 0.1186 | train_RMSE 0.2803 | test_RMSE 0.2755 \n",
      "19929\n",
      "80921\n",
      "Epoch 01153 | Loss 0.1191 | train_RMSE 0.2802 | test_RMSE 0.2754 \n",
      "19929\n",
      "80921\n",
      "Epoch 01154 | Loss 0.1186 | train_RMSE 0.2809 | test_RMSE 0.2761 \n",
      "19929\n",
      "80921\n",
      "Epoch 01155 | Loss 0.1187 | train_RMSE 0.2800 | test_RMSE 0.2753 \n"
     ]
    },
    {
     "name": "stderr",
     "output_type": "stream",
     "text": [
      " 58%|██████████████████████▌                | 1160/2000 [00:55<00:39, 21.18it/s]"
     ]
    },
    {
     "name": "stdout",
     "output_type": "stream",
     "text": [
      "19929\n",
      "80921\n",
      "Epoch 01156 | Loss 0.1182 | train_RMSE 0.2801 | test_RMSE 0.2753 \n",
      "19929\n",
      "80921\n",
      "Epoch 01157 | Loss 0.1183 | train_RMSE 0.2809 | test_RMSE 0.2760 \n",
      "19929\n",
      "80921\n",
      "Epoch 01158 | Loss 0.1186 | train_RMSE 0.2802 | test_RMSE 0.2754 \n",
      "19929\n",
      "80921\n",
      "Epoch 01159 | Loss 0.1189 | train_RMSE 0.2799 | test_RMSE 0.2752 \n",
      "19929\n",
      "80921\n",
      "Epoch 01160 | Loss 0.1187 | train_RMSE 0.2805 | test_RMSE 0.2757 \n"
     ]
    },
    {
     "name": "stderr",
     "output_type": "stream",
     "text": [
      "\r",
      " 58%|██████████████████████▋                | 1163/2000 [00:55<00:39, 21.19it/s]"
     ]
    },
    {
     "name": "stdout",
     "output_type": "stream",
     "text": [
      "19929\n",
      "80921\n",
      "Epoch 01161 | Loss 0.1189 | train_RMSE 0.2801 | test_RMSE 0.2753 \n",
      "19929\n",
      "80921\n",
      "Epoch 01162 | Loss 0.1190 | train_RMSE 0.2799 | test_RMSE 0.2752 \n",
      "19929\n",
      "80921\n",
      "Epoch 01163 | Loss 0.1179 | train_RMSE 0.2801 | test_RMSE 0.2753 \n",
      "19929\n",
      "80921\n",
      "Epoch 01164 | Loss 0.1187 | train_RMSE 0.2803 | test_RMSE 0.2755 \n",
      "19929\n"
     ]
    },
    {
     "name": "stderr",
     "output_type": "stream",
     "text": [
      " 58%|██████████████████████▊                | 1169/2000 [00:55<00:39, 21.18it/s]"
     ]
    },
    {
     "name": "stdout",
     "output_type": "stream",
     "text": [
      "80921\n",
      "Epoch 01165 | Loss 0.1180 | train_RMSE 0.2800 | test_RMSE 0.2752 \n",
      "19929\n",
      "80921\n",
      "Epoch 01166 | Loss 0.1186 | train_RMSE 0.2803 | test_RMSE 0.2755 \n",
      "19929\n",
      "80921\n",
      "Epoch 01167 | Loss 0.1187 | train_RMSE 0.2800 | test_RMSE 0.2752 \n",
      "19929\n",
      "80921\n",
      "Epoch 01168 | Loss 0.1190 | train_RMSE 0.2798 | test_RMSE 0.2751 \n",
      "19929\n",
      "80921\n",
      "Epoch 01169 | Loss 0.1192 | train_RMSE 0.2804 | test_RMSE 0.2755 \n"
     ]
    },
    {
     "name": "stderr",
     "output_type": "stream",
     "text": [
      "\r",
      " 59%|██████████████████████▊                | 1172/2000 [00:56<00:39, 21.18it/s]"
     ]
    },
    {
     "name": "stdout",
     "output_type": "stream",
     "text": [
      "19929\n",
      "80921\n",
      "Epoch 01170 | Loss 0.1191 | train_RMSE 0.2800 | test_RMSE 0.2752 \n",
      "19929\n",
      "80921\n",
      "Epoch 01171 | Loss 0.1190 | train_RMSE 0.2798 | test_RMSE 0.2751 \n",
      "19929\n",
      "80921\n",
      "Epoch 01172 | Loss 0.1187 | train_RMSE 0.2807 | test_RMSE 0.2759 \n",
      "19929\n",
      "80921\n",
      "Epoch 01173 | Loss 0.1187 | train_RMSE 0.2801 | test_RMSE 0.2753 \n",
      "19929\n",
      "80921\n",
      "Epoch 01174 | Loss 0.1187 | train_RMSE 0.2798 | test_RMSE 0.2750 \n"
     ]
    },
    {
     "name": "stderr",
     "output_type": "stream",
     "text": [
      " 59%|██████████████████████▉                | 1178/2000 [00:56<00:38, 21.17it/s]"
     ]
    },
    {
     "name": "stdout",
     "output_type": "stream",
     "text": [
      "19929\n",
      "80921\n",
      "Epoch 01175 | Loss 0.1184 | train_RMSE 0.2810 | test_RMSE 0.2761 \n",
      "19929\n",
      "80921\n",
      "Epoch 01176 | Loss 0.1183 | train_RMSE 0.2800 | test_RMSE 0.2752 \n",
      "19929\n",
      "80921\n",
      "Epoch 01177 | Loss 0.1185 | train_RMSE 0.2798 | test_RMSE 0.2751 \n",
      "19929\n",
      "80921\n",
      "Epoch 01178 | Loss 0.1190 | train_RMSE 0.2810 | test_RMSE 0.2761 \n",
      "19929\n",
      "80921\n",
      "Epoch 01179 | Loss 0.1191 | train_RMSE 0.2805 | test_RMSE 0.2757 \n"
     ]
    },
    {
     "name": "stderr",
     "output_type": "stream",
     "text": [
      " 59%|███████████████████████                | 1184/2000 [00:56<00:38, 21.20it/s]"
     ]
    },
    {
     "name": "stdout",
     "output_type": "stream",
     "text": [
      "19929\n",
      "80921\n",
      "Epoch 01180 | Loss 0.1181 | train_RMSE 0.2798 | test_RMSE 0.2751 \n",
      "19929\n",
      "80921\n",
      "Epoch 01181 | Loss 0.1189 | train_RMSE 0.2812 | test_RMSE 0.2763 \n",
      "19929\n",
      "80921\n",
      "Epoch 01182 | Loss 0.1195 | train_RMSE 0.2804 | test_RMSE 0.2756 \n",
      "19929\n",
      "80921\n",
      "Epoch 01183 | Loss 0.1180 | train_RMSE 0.2797 | test_RMSE 0.2750 \n",
      "19929\n"
     ]
    },
    {
     "name": "stderr",
     "output_type": "stream",
     "text": [
      "\r",
      " 59%|███████████████████████▏               | 1187/2000 [00:56<00:38, 21.15it/s]"
     ]
    },
    {
     "name": "stdout",
     "output_type": "stream",
     "text": [
      "80921\n",
      "Epoch 01184 | Loss 0.1198 | train_RMSE 0.2810 | test_RMSE 0.2761 \n",
      "19929\n",
      "80921\n",
      "Epoch 01185 | Loss 0.1187 | train_RMSE 0.2809 | test_RMSE 0.2760 \n",
      "19929\n",
      "80921\n",
      "Epoch 01186 | Loss 0.1184 | train_RMSE 0.2799 | test_RMSE 0.2752 \n",
      "19929\n",
      "80921\n",
      "Epoch 01187 | Loss 0.1180 | train_RMSE 0.2803 | test_RMSE 0.2755 \n",
      "19929\n",
      "80921\n",
      "Epoch 01188 | Loss 0.1186 | train_RMSE 0.2805 | test_RMSE 0.2757 \n"
     ]
    },
    {
     "name": "stderr",
     "output_type": "stream",
     "text": [
      " 60%|███████████████████████▎               | 1193/2000 [00:57<00:38, 21.10it/s]"
     ]
    },
    {
     "name": "stdout",
     "output_type": "stream",
     "text": [
      "19929\n",
      "80921\n",
      "Epoch 01189 | Loss 0.1190 | train_RMSE 0.2798 | test_RMSE 0.2751 \n",
      "19929\n",
      "80921\n",
      "Epoch 01190 | Loss 0.1186 | train_RMSE 0.2808 | test_RMSE 0.2759 \n",
      "19929\n",
      "80921\n",
      "Epoch 01191 | Loss 0.1184 | train_RMSE 0.2803 | test_RMSE 0.2755 \n",
      "19929\n",
      "80921\n",
      "Epoch 01192 | Loss 0.1181 | train_RMSE 0.2798 | test_RMSE 0.2751 \n",
      "19929\n"
     ]
    },
    {
     "name": "stderr",
     "output_type": "stream",
     "text": [
      "\r",
      " 60%|███████████████████████▎               | 1196/2000 [00:57<00:38, 21.11it/s]"
     ]
    },
    {
     "name": "stdout",
     "output_type": "stream",
     "text": [
      "80921\n",
      "Epoch 01193 | Loss 0.1188 | train_RMSE 0.2805 | test_RMSE 0.2756 \n",
      "19929\n",
      "80921\n",
      "Epoch 01194 | Loss 0.1179 | train_RMSE 0.2803 | test_RMSE 0.2755 \n",
      "19929\n",
      "80921\n",
      "Epoch 01195 | Loss 0.1187 | train_RMSE 0.2799 | test_RMSE 0.2751 \n",
      "19929\n",
      "80921\n",
      "Epoch 01196 | Loss 0.1185 | train_RMSE 0.2803 | test_RMSE 0.2755 \n",
      "19929\n",
      "80921\n",
      "Epoch 01197 | Loss 0.1183 | train_RMSE 0.2801 | test_RMSE 0.2753 \n"
     ]
    },
    {
     "name": "stderr",
     "output_type": "stream",
     "text": [
      " 60%|███████████████████████▍               | 1202/2000 [00:57<00:37, 21.16it/s]"
     ]
    },
    {
     "name": "stdout",
     "output_type": "stream",
     "text": [
      "19929\n",
      "80921\n",
      "Epoch 01198 | Loss 0.1194 | train_RMSE 0.2800 | test_RMSE 0.2752 \n",
      "19929\n",
      "80921\n",
      "Epoch 01199 | Loss 0.1188 | train_RMSE 0.2806 | test_RMSE 0.2758 \n",
      "19929\n",
      "80921\n",
      "Epoch 01200 | Loss 0.1187 | train_RMSE 0.2798 | test_RMSE 0.2751 \n",
      "19929\n",
      "80921\n",
      "Epoch 01201 | Loss 0.1172 | train_RMSE 0.2802 | test_RMSE 0.2754 \n",
      "19929\n"
     ]
    },
    {
     "name": "stderr",
     "output_type": "stream",
     "text": [
      "\r",
      " 60%|███████████████████████▍               | 1205/2000 [00:57<00:37, 21.17it/s]"
     ]
    },
    {
     "name": "stdout",
     "output_type": "stream",
     "text": [
      "80921\n",
      "Epoch 01202 | Loss 0.1186 | train_RMSE 0.2805 | test_RMSE 0.2756 \n",
      "19929\n",
      "80921\n",
      "Epoch 01203 | Loss 0.1186 | train_RMSE 0.2801 | test_RMSE 0.2753 \n",
      "19929\n",
      "80921\n",
      "Epoch 01204 | Loss 0.1189 | train_RMSE 0.2800 | test_RMSE 0.2752 \n",
      "19929\n",
      "80921\n",
      "Epoch 01205 | Loss 0.1182 | train_RMSE 0.2802 | test_RMSE 0.2753 \n",
      "19929\n",
      "80921\n",
      "Epoch 01206 | Loss 0.1188 | train_RMSE 0.2799 | test_RMSE 0.2752 \n"
     ]
    },
    {
     "name": "stderr",
     "output_type": "stream",
     "text": [
      " 61%|███████████████████████▌               | 1211/2000 [00:57<00:37, 21.19it/s]"
     ]
    },
    {
     "name": "stdout",
     "output_type": "stream",
     "text": [
      "19929\n",
      "80921\n",
      "Epoch 01207 | Loss 0.1192 | train_RMSE 0.2799 | test_RMSE 0.2752 \n",
      "19929\n",
      "80921\n",
      "Epoch 01208 | Loss 0.1195 | train_RMSE 0.2804 | test_RMSE 0.2756 \n",
      "19929\n",
      "80921\n",
      "Epoch 01209 | Loss 0.1177 | train_RMSE 0.2799 | test_RMSE 0.2751 \n",
      "19929\n",
      "80921\n",
      "Epoch 01210 | Loss 0.1177 | train_RMSE 0.2800 | test_RMSE 0.2752 \n",
      "19929\n",
      "80921\n"
     ]
    },
    {
     "name": "stderr",
     "output_type": "stream",
     "text": [
      "\r",
      " 61%|███████████████████████▋               | 1214/2000 [00:58<00:37, 21.15it/s]"
     ]
    },
    {
     "name": "stdout",
     "output_type": "stream",
     "text": [
      "Epoch 01211 | Loss 0.1184 | train_RMSE 0.2804 | test_RMSE 0.2756 \n",
      "19929\n",
      "80921\n",
      "Epoch 01212 | Loss 0.1185 | train_RMSE 0.2795 | test_RMSE 0.2748 \n",
      "19929\n",
      "80921\n",
      "Epoch 01213 | Loss 0.1184 | train_RMSE 0.2799 | test_RMSE 0.2751 \n",
      "19929\n",
      "80921\n",
      "Epoch 01214 | Loss 0.1187 | train_RMSE 0.2805 | test_RMSE 0.2756 \n",
      "19929\n",
      "80921\n",
      "Epoch 01215 | Loss 0.1184 | train_RMSE 0.2795 | test_RMSE 0.2748 \n"
     ]
    },
    {
     "name": "stderr",
     "output_type": "stream",
     "text": [
      " 61%|███████████████████████▊               | 1220/2000 [00:58<00:36, 21.21it/s]"
     ]
    },
    {
     "name": "stdout",
     "output_type": "stream",
     "text": [
      "19929\n",
      "80921\n",
      "Epoch 01216 | Loss 0.1175 | train_RMSE 0.2801 | test_RMSE 0.2753 \n",
      "19929\n",
      "80921\n",
      "Epoch 01217 | Loss 0.1183 | train_RMSE 0.2803 | test_RMSE 0.2754 \n",
      "19929\n",
      "80921\n",
      "Epoch 01218 | Loss 0.1191 | train_RMSE 0.2797 | test_RMSE 0.2750 \n",
      "19929\n",
      "80921\n",
      "Epoch 01219 | Loss 0.1184 | train_RMSE 0.2800 | test_RMSE 0.2752 \n",
      "19929\n",
      "80921\n",
      "Epoch 01220 | Loss 0.1184 | train_RMSE 0.2798 | test_RMSE 0.2751 \n"
     ]
    },
    {
     "name": "stderr",
     "output_type": "stream",
     "text": [
      " 61%|███████████████████████▉               | 1226/2000 [00:58<00:36, 21.23it/s]"
     ]
    },
    {
     "name": "stdout",
     "output_type": "stream",
     "text": [
      "19929\n",
      "80921\n",
      "Epoch 01221 | Loss 0.1185 | train_RMSE 0.2799 | test_RMSE 0.2751 \n",
      "19929\n",
      "80921\n",
      "Epoch 01222 | Loss 0.1184 | train_RMSE 0.2798 | test_RMSE 0.2750 \n",
      "19929\n",
      "80921\n",
      "Epoch 01223 | Loss 0.1186 | train_RMSE 0.2798 | test_RMSE 0.2750 \n",
      "19929\n",
      "80921\n",
      "Epoch 01224 | Loss 0.1178 | train_RMSE 0.2799 | test_RMSE 0.2751 \n",
      "19929\n",
      "80921\n",
      "Epoch 01225 | Loss 0.1175 | train_RMSE 0.2798 | test_RMSE 0.2751 \n"
     ]
    },
    {
     "name": "stderr",
     "output_type": "stream",
     "text": [
      "\r",
      " 61%|███████████████████████▉               | 1229/2000 [00:58<00:36, 21.11it/s]"
     ]
    },
    {
     "name": "stdout",
     "output_type": "stream",
     "text": [
      "19929\n",
      "80921\n",
      "Epoch 01226 | Loss 0.1188 | train_RMSE 0.2799 | test_RMSE 0.2751 \n",
      "19929\n",
      "80921\n",
      "Epoch 01227 | Loss 0.1182 | train_RMSE 0.2802 | test_RMSE 0.2754 \n",
      "19929\n",
      "80921\n",
      "Epoch 01228 | Loss 0.1178 | train_RMSE 0.2797 | test_RMSE 0.2749 \n",
      "19929\n",
      "80921\n",
      "Epoch 01229 | Loss 0.1184 | train_RMSE 0.2800 | test_RMSE 0.2752 \n",
      "19929\n"
     ]
    },
    {
     "name": "stderr",
     "output_type": "stream",
     "text": [
      " 62%|████████████████████████               | 1235/2000 [00:59<00:36, 21.10it/s]"
     ]
    },
    {
     "name": "stdout",
     "output_type": "stream",
     "text": [
      "80921\n",
      "Epoch 01230 | Loss 0.1183 | train_RMSE 0.2804 | test_RMSE 0.2755 \n",
      "19929\n",
      "80921\n",
      "Epoch 01231 | Loss 0.1185 | train_RMSE 0.2794 | test_RMSE 0.2747 \n",
      "19929\n",
      "80921\n",
      "Epoch 01232 | Loss 0.1173 | train_RMSE 0.2798 | test_RMSE 0.2750 \n",
      "19929\n",
      "80921\n",
      "Epoch 01233 | Loss 0.1179 | train_RMSE 0.2803 | test_RMSE 0.2754 \n",
      "19929\n",
      "80921\n",
      "Epoch 01234 | Loss 0.1179 | train_RMSE 0.2796 | test_RMSE 0.2748 \n"
     ]
    },
    {
     "name": "stderr",
     "output_type": "stream",
     "text": [
      "\r",
      " 62%|████████████████████████▏              | 1238/2000 [00:59<00:36, 21.12it/s]"
     ]
    },
    {
     "name": "stdout",
     "output_type": "stream",
     "text": [
      "19929\n",
      "80921\n",
      "Epoch 01235 | Loss 0.1179 | train_RMSE 0.2797 | test_RMSE 0.2749 \n",
      "19929\n",
      "80921\n",
      "Epoch 01236 | Loss 0.1190 | train_RMSE 0.2802 | test_RMSE 0.2754 \n",
      "19929\n",
      "80921\n",
      "Epoch 01237 | Loss 0.1186 | train_RMSE 0.2793 | test_RMSE 0.2746 \n",
      "19929\n",
      "80921\n",
      "Epoch 01238 | Loss 0.1187 | train_RMSE 0.2798 | test_RMSE 0.2750 \n",
      "19929\n",
      "80921\n",
      "Epoch 01239 | Loss 0.1180 | train_RMSE 0.2802 | test_RMSE 0.2753 \n"
     ]
    },
    {
     "name": "stderr",
     "output_type": "stream",
     "text": [
      " 62%|████████████████████████▎              | 1244/2000 [00:59<00:35, 21.20it/s]"
     ]
    },
    {
     "name": "stdout",
     "output_type": "stream",
     "text": [
      "19929\n",
      "80921\n",
      "Epoch 01240 | Loss 0.1184 | train_RMSE 0.2795 | test_RMSE 0.2748 \n",
      "19929\n",
      "80921\n",
      "Epoch 01241 | Loss 0.1184 | train_RMSE 0.2797 | test_RMSE 0.2749 \n",
      "19929\n",
      "80921\n",
      "Epoch 01242 | Loss 0.1189 | train_RMSE 0.2800 | test_RMSE 0.2752 \n",
      "19929\n",
      "80921\n",
      "Epoch 01243 | Loss 0.1180 | train_RMSE 0.2796 | test_RMSE 0.2748 \n",
      "19929\n",
      "80921\n",
      "Epoch 01244 | Loss 0.1186 | train_RMSE 0.2798 | test_RMSE 0.2750 \n"
     ]
    },
    {
     "name": "stderr",
     "output_type": "stream",
     "text": [
      "\r",
      " 62%|████████████████████████▎              | 1247/2000 [00:59<00:35, 21.11it/s]"
     ]
    },
    {
     "name": "stdout",
     "output_type": "stream",
     "text": [
      "19929\n",
      "80921\n",
      "Epoch 01245 | Loss 0.1183 | train_RMSE 0.2797 | test_RMSE 0.2750 \n",
      "19929\n",
      "80921\n",
      "Epoch 01246 | Loss 0.1185 | train_RMSE 0.2795 | test_RMSE 0.2747 \n",
      "19929\n",
      "80921\n",
      "Epoch 01247 | Loss 0.1185 | train_RMSE 0.2800 | test_RMSE 0.2752 \n",
      "19929\n",
      "80921\n",
      "Epoch 01248 | Loss 0.1186 | train_RMSE 0.2803 | test_RMSE 0.2754 \n",
      "19929\n"
     ]
    },
    {
     "name": "stderr",
     "output_type": "stream",
     "text": [
      " 63%|████████████████████████▍              | 1253/2000 [00:59<00:35, 21.15it/s]"
     ]
    },
    {
     "name": "stdout",
     "output_type": "stream",
     "text": [
      "80921\n",
      "Epoch 01249 | Loss 0.1184 | train_RMSE 0.2796 | test_RMSE 0.2748 \n",
      "19929\n",
      "80921\n",
      "Epoch 01250 | Loss 0.1186 | train_RMSE 0.2797 | test_RMSE 0.2750 \n",
      "19929\n",
      "80921\n",
      "Epoch 01251 | Loss 0.1176 | train_RMSE 0.2799 | test_RMSE 0.2752 \n",
      "19929\n",
      "80921\n",
      "Epoch 01252 | Loss 0.1183 | train_RMSE 0.2795 | test_RMSE 0.2747 \n",
      "19929\n",
      "80921\n",
      "Epoch 01253 | Loss 0.1183 | train_RMSE 0.2800 | test_RMSE 0.2751 \n"
     ]
    },
    {
     "name": "stderr",
     "output_type": "stream",
     "text": [
      "\r",
      " 63%|████████████████████████▍              | 1256/2000 [01:00<00:35, 21.13it/s]"
     ]
    },
    {
     "name": "stdout",
     "output_type": "stream",
     "text": [
      "19929\n",
      "80921\n",
      "Epoch 01254 | Loss 0.1179 | train_RMSE 0.2797 | test_RMSE 0.2749 \n",
      "19929\n",
      "80921\n",
      "Epoch 01255 | Loss 0.1194 | train_RMSE 0.2798 | test_RMSE 0.2751 \n",
      "19929\n",
      "80921\n",
      "Epoch 01256 | Loss 0.1175 | train_RMSE 0.2800 | test_RMSE 0.2752 \n",
      "19929\n",
      "80921\n",
      "Epoch 01257 | Loss 0.1191 | train_RMSE 0.2796 | test_RMSE 0.2748 \n",
      "19929\n"
     ]
    },
    {
     "name": "stderr",
     "output_type": "stream",
     "text": [
      " 63%|████████████████████████▌              | 1262/2000 [01:00<00:34, 21.11it/s]"
     ]
    },
    {
     "name": "stdout",
     "output_type": "stream",
     "text": [
      "80921\n",
      "Epoch 01258 | Loss 0.1191 | train_RMSE 0.2801 | test_RMSE 0.2753 \n",
      "19929\n",
      "80921\n",
      "Epoch 01259 | Loss 0.1183 | train_RMSE 0.2797 | test_RMSE 0.2749 \n",
      "19929\n",
      "80921\n",
      "Epoch 01260 | Loss 0.1186 | train_RMSE 0.2795 | test_RMSE 0.2748 \n",
      "19929\n",
      "80921\n",
      "Epoch 01261 | Loss 0.1184 | train_RMSE 0.2804 | test_RMSE 0.2756 \n",
      "19929\n",
      "80921\n",
      "Epoch 01262 | Loss 0.1176 | train_RMSE 0.2801 | test_RMSE 0.2752 \n"
     ]
    },
    {
     "name": "stderr",
     "output_type": "stream",
     "text": [
      "\r",
      " 63%|████████████████████████▋              | 1265/2000 [01:00<00:34, 21.11it/s]"
     ]
    },
    {
     "name": "stdout",
     "output_type": "stream",
     "text": [
      "19929\n",
      "80921\n",
      "Epoch 01263 | Loss 0.1184 | train_RMSE 0.2801 | test_RMSE 0.2752 \n",
      "19929\n",
      "80921\n",
      "Epoch 01264 | Loss 0.1182 | train_RMSE 0.2798 | test_RMSE 0.2751 \n",
      "19929\n",
      "80921\n",
      "Epoch 01265 | Loss 0.1190 | train_RMSE 0.2795 | test_RMSE 0.2748 \n",
      "19929\n",
      "80921\n",
      "Epoch 01266 | Loss 0.1179 | train_RMSE 0.2799 | test_RMSE 0.2750 \n",
      "19929\n"
     ]
    },
    {
     "name": "stderr",
     "output_type": "stream",
     "text": [
      " 64%|████████████████████████▊              | 1271/2000 [01:00<00:34, 21.14it/s]"
     ]
    },
    {
     "name": "stdout",
     "output_type": "stream",
     "text": [
      "80921\n",
      "Epoch 01267 | Loss 0.1185 | train_RMSE 0.2802 | test_RMSE 0.2753 \n",
      "19929\n",
      "80921\n",
      "Epoch 01268 | Loss 0.1179 | train_RMSE 0.2799 | test_RMSE 0.2751 \n",
      "19929\n",
      "80921\n",
      "Epoch 01269 | Loss 0.1176 | train_RMSE 0.2799 | test_RMSE 0.2751 \n",
      "19929\n",
      "80921\n",
      "Epoch 01270 | Loss 0.1183 | train_RMSE 0.2801 | test_RMSE 0.2752 \n",
      "19929\n",
      "80921\n",
      "Epoch 01271 | Loss 0.1181 | train_RMSE 0.2798 | test_RMSE 0.2749 \n"
     ]
    },
    {
     "name": "stderr",
     "output_type": "stream",
     "text": [
      "\r",
      " 64%|████████████████████████▊              | 1274/2000 [01:00<00:34, 21.18it/s]"
     ]
    },
    {
     "name": "stdout",
     "output_type": "stream",
     "text": [
      "19929\n",
      "80921\n",
      "Epoch 01272 | Loss 0.1182 | train_RMSE 0.2796 | test_RMSE 0.2748 \n",
      "19929\n",
      "80921\n",
      "Epoch 01273 | Loss 0.1180 | train_RMSE 0.2799 | test_RMSE 0.2752 \n",
      "19929\n",
      "80921\n",
      "Epoch 01274 | Loss 0.1177 | train_RMSE 0.2801 | test_RMSE 0.2753 \n",
      "19929\n",
      "80921\n",
      "Epoch 01275 | Loss 0.1183 | train_RMSE 0.2798 | test_RMSE 0.2750 \n",
      "19929\n"
     ]
    },
    {
     "name": "stderr",
     "output_type": "stream",
     "text": [
      " 64%|████████████████████████▉              | 1280/2000 [01:01<00:34, 21.09it/s]"
     ]
    },
    {
     "name": "stdout",
     "output_type": "stream",
     "text": [
      "80921\n",
      "Epoch 01276 | Loss 0.1184 | train_RMSE 0.2799 | test_RMSE 0.2750 \n",
      "19929\n",
      "80921\n",
      "Epoch 01277 | Loss 0.1188 | train_RMSE 0.2795 | test_RMSE 0.2747 \n",
      "19929\n",
      "80921\n",
      "Epoch 01278 | Loss 0.1190 | train_RMSE 0.2798 | test_RMSE 0.2750 \n",
      "19929\n",
      "80921\n",
      "Epoch 01279 | Loss 0.1185 | train_RMSE 0.2796 | test_RMSE 0.2748 \n",
      "19929\n",
      "80921\n",
      "Epoch 01280 | Loss 0.1178 | train_RMSE 0.2798 | test_RMSE 0.2750 \n"
     ]
    },
    {
     "name": "stderr",
     "output_type": "stream",
     "text": [
      " 64%|█████████████████████████              | 1286/2000 [01:01<00:33, 21.16it/s]"
     ]
    },
    {
     "name": "stdout",
     "output_type": "stream",
     "text": [
      "19929\n",
      "80921\n",
      "Epoch 01281 | Loss 0.1178 | train_RMSE 0.2801 | test_RMSE 0.2752 \n",
      "19929\n",
      "80921\n",
      "Epoch 01282 | Loss 0.1185 | train_RMSE 0.2796 | test_RMSE 0.2748 \n",
      "19929\n",
      "80921\n",
      "Epoch 01283 | Loss 0.1179 | train_RMSE 0.2794 | test_RMSE 0.2746 \n",
      "19929\n",
      "80921\n",
      "Epoch 01284 | Loss 0.1180 | train_RMSE 0.2799 | test_RMSE 0.2750 \n",
      "19929\n",
      "80921\n",
      "Epoch 01285 | Loss 0.1183 | train_RMSE 0.2799 | test_RMSE 0.2750 \n"
     ]
    },
    {
     "name": "stderr",
     "output_type": "stream",
     "text": [
      "\r",
      " 64%|█████████████████████████▏             | 1289/2000 [01:01<00:33, 21.19it/s]"
     ]
    },
    {
     "name": "stdout",
     "output_type": "stream",
     "text": [
      "19929\n",
      "80921\n",
      "Epoch 01286 | Loss 0.1182 | train_RMSE 0.2796 | test_RMSE 0.2749 \n",
      "19929\n",
      "80921\n",
      "Epoch 01287 | Loss 0.1179 | train_RMSE 0.2796 | test_RMSE 0.2749 \n",
      "19929\n",
      "80921\n",
      "Epoch 01288 | Loss 0.1181 | train_RMSE 0.2801 | test_RMSE 0.2752 \n",
      "19929\n",
      "80921\n",
      "Epoch 01289 | Loss 0.1187 | train_RMSE 0.2797 | test_RMSE 0.2748 \n",
      "19929\n",
      "80921\n",
      "Epoch 01290 | Loss 0.1183 | train_RMSE 0.2801 | test_RMSE 0.2752 \n"
     ]
    },
    {
     "name": "stderr",
     "output_type": "stream",
     "text": [
      " 65%|█████████████████████████▎             | 1295/2000 [01:01<00:33, 21.16it/s]"
     ]
    },
    {
     "name": "stdout",
     "output_type": "stream",
     "text": [
      "19929\n",
      "80921\n",
      "Epoch 01291 | Loss 0.1175 | train_RMSE 0.2799 | test_RMSE 0.2751 \n",
      "19929\n",
      "80921\n",
      "Epoch 01292 | Loss 0.1182 | train_RMSE 0.2798 | test_RMSE 0.2750 \n",
      "19929\n",
      "80921\n",
      "Epoch 01293 | Loss 0.1175 | train_RMSE 0.2800 | test_RMSE 0.2752 \n",
      "19929\n",
      "80921\n",
      "Epoch 01294 | Loss 0.1175 | train_RMSE 0.2797 | test_RMSE 0.2750 \n",
      "19929\n"
     ]
    },
    {
     "name": "stderr",
     "output_type": "stream",
     "text": [
      "\r",
      " 65%|█████████████████████████▎             | 1298/2000 [01:02<00:33, 21.10it/s]"
     ]
    },
    {
     "name": "stdout",
     "output_type": "stream",
     "text": [
      "80921\n",
      "Epoch 01295 | Loss 0.1190 | train_RMSE 0.2798 | test_RMSE 0.2750 \n",
      "19929\n",
      "80921\n",
      "Epoch 01296 | Loss 0.1172 | train_RMSE 0.2797 | test_RMSE 0.2749 \n",
      "19929\n",
      "80921\n",
      "Epoch 01297 | Loss 0.1184 | train_RMSE 0.2799 | test_RMSE 0.2750 \n",
      "19929\n",
      "80921\n",
      "Epoch 01298 | Loss 0.1181 | train_RMSE 0.2798 | test_RMSE 0.2751 \n",
      "19929\n",
      "80921\n",
      "Epoch 01299 | Loss 0.1186 | train_RMSE 0.2793 | test_RMSE 0.2746 \n"
     ]
    },
    {
     "name": "stderr",
     "output_type": "stream",
     "text": [
      " 65%|█████████████████████████▍             | 1304/2000 [01:02<00:32, 21.11it/s]"
     ]
    },
    {
     "name": "stdout",
     "output_type": "stream",
     "text": [
      "19929\n",
      "80921\n",
      "Epoch 01300 | Loss 0.1184 | train_RMSE 0.2808 | test_RMSE 0.2758 \n",
      "19929\n",
      "80921\n",
      "Epoch 01301 | Loss 0.1183 | train_RMSE 0.2794 | test_RMSE 0.2746 \n",
      "19929\n",
      "80921\n",
      "Epoch 01302 | Loss 0.1180 | train_RMSE 0.2792 | test_RMSE 0.2746 \n",
      "19929\n",
      "80921\n",
      "Epoch 01303 | Loss 0.1181 | train_RMSE 0.2803 | test_RMSE 0.2754 \n",
      "19929\n"
     ]
    },
    {
     "name": "stderr",
     "output_type": "stream",
     "text": [
      "\r",
      " 65%|█████████████████████████▍             | 1307/2000 [01:02<00:32, 21.10it/s]"
     ]
    },
    {
     "name": "stdout",
     "output_type": "stream",
     "text": [
      "80921\n",
      "Epoch 01304 | Loss 0.1179 | train_RMSE 0.2797 | test_RMSE 0.2749 \n",
      "19929\n",
      "80921\n",
      "Epoch 01305 | Loss 0.1184 | train_RMSE 0.2797 | test_RMSE 0.2749 \n",
      "19929\n",
      "80921\n",
      "Epoch 01306 | Loss 0.1176 | train_RMSE 0.2798 | test_RMSE 0.2751 \n",
      "19929\n",
      "80921\n",
      "Epoch 01307 | Loss 0.1190 | train_RMSE 0.2791 | test_RMSE 0.2744 \n",
      "19929\n",
      "80921\n",
      "Epoch 01308 | Loss 0.1186 | train_RMSE 0.2806 | test_RMSE 0.2757 \n"
     ]
    },
    {
     "name": "stderr",
     "output_type": "stream",
     "text": [
      " 66%|█████████████████████████▌             | 1313/2000 [01:02<00:32, 21.11it/s]"
     ]
    },
    {
     "name": "stdout",
     "output_type": "stream",
     "text": [
      "19929\n",
      "80921\n",
      "Epoch 01309 | Loss 0.1190 | train_RMSE 0.2799 | test_RMSE 0.2750 \n",
      "19929\n",
      "80921\n",
      "Epoch 01310 | Loss 0.1183 | train_RMSE 0.2797 | test_RMSE 0.2750 \n",
      "19929\n",
      "80921\n",
      "Epoch 01311 | Loss 0.1185 | train_RMSE 0.2794 | test_RMSE 0.2747 \n",
      "19929\n",
      "80921\n",
      "Epoch 01312 | Loss 0.1183 | train_RMSE 0.2803 | test_RMSE 0.2754 \n",
      "19929\n"
     ]
    },
    {
     "name": "stderr",
     "output_type": "stream",
     "text": [
      "\r",
      " 66%|█████████████████████████▋             | 1316/2000 [01:02<00:32, 21.07it/s]"
     ]
    },
    {
     "name": "stdout",
     "output_type": "stream",
     "text": [
      "80921\n",
      "Epoch 01313 | Loss 0.1178 | train_RMSE 0.2797 | test_RMSE 0.2749 \n",
      "19929\n",
      "80921\n",
      "Epoch 01314 | Loss 0.1177 | train_RMSE 0.2794 | test_RMSE 0.2747 \n",
      "19929\n",
      "80921\n",
      "Epoch 01315 | Loss 0.1183 | train_RMSE 0.2799 | test_RMSE 0.2751 \n",
      "19929\n",
      "80921\n",
      "Epoch 01316 | Loss 0.1184 | train_RMSE 0.2803 | test_RMSE 0.2754 \n",
      "19929\n",
      "80921\n",
      "Epoch 01317 | Loss 0.1184 | train_RMSE 0.2794 | test_RMSE 0.2746 \n"
     ]
    },
    {
     "name": "stderr",
     "output_type": "stream",
     "text": [
      " 66%|█████████████████████████▊             | 1322/2000 [01:03<00:32, 21.05it/s]"
     ]
    },
    {
     "name": "stdout",
     "output_type": "stream",
     "text": [
      "19929\n",
      "80921\n",
      "Epoch 01318 | Loss 0.1180 | train_RMSE 0.2802 | test_RMSE 0.2754 \n",
      "19929\n",
      "80921\n",
      "Epoch 01319 | Loss 0.1187 | train_RMSE 0.2799 | test_RMSE 0.2751 \n",
      "19929\n",
      "80921\n",
      "Epoch 01320 | Loss 0.1183 | train_RMSE 0.2799 | test_RMSE 0.2751 \n",
      "19929\n",
      "80921\n",
      "Epoch 01321 | Loss 0.1177 | train_RMSE 0.2802 | test_RMSE 0.2753 \n",
      "19929\n"
     ]
    },
    {
     "name": "stderr",
     "output_type": "stream",
     "text": [
      "\r",
      " 66%|█████████████████████████▊             | 1325/2000 [01:03<00:32, 20.99it/s]"
     ]
    },
    {
     "name": "stdout",
     "output_type": "stream",
     "text": [
      "80921\n",
      "Epoch 01322 | Loss 0.1186 | train_RMSE 0.2796 | test_RMSE 0.2748 \n",
      "19929\n",
      "80921\n",
      "Epoch 01323 | Loss 0.1183 | train_RMSE 0.2797 | test_RMSE 0.2749 \n",
      "19929\n",
      "80921\n",
      "Epoch 01324 | Loss 0.1183 | train_RMSE 0.2800 | test_RMSE 0.2752 \n",
      "19929\n",
      "80921\n",
      "Epoch 01325 | Loss 0.1179 | train_RMSE 0.2797 | test_RMSE 0.2750 \n",
      "19929\n",
      "80921\n",
      "Epoch 01326 | Loss 0.1187 | train_RMSE 0.2799 | test_RMSE 0.2751 \n"
     ]
    },
    {
     "name": "stderr",
     "output_type": "stream",
     "text": [
      " 67%|█████████████████████████▉             | 1331/2000 [01:03<00:31, 21.11it/s]"
     ]
    },
    {
     "name": "stdout",
     "output_type": "stream",
     "text": [
      "19929\n",
      "80921\n",
      "Epoch 01327 | Loss 0.1184 | train_RMSE 0.2800 | test_RMSE 0.2752 \n",
      "19929\n",
      "80921\n",
      "Epoch 01328 | Loss 0.1182 | train_RMSE 0.2799 | test_RMSE 0.2751 \n",
      "19929\n",
      "80921\n",
      "Epoch 01329 | Loss 0.1179 | train_RMSE 0.2796 | test_RMSE 0.2749 \n",
      "19929\n",
      "80921\n",
      "Epoch 01330 | Loss 0.1184 | train_RMSE 0.2799 | test_RMSE 0.2751 \n",
      "19929\n"
     ]
    },
    {
     "name": "stderr",
     "output_type": "stream",
     "text": [
      "\r",
      " 67%|██████████████████████████             | 1334/2000 [01:03<00:31, 21.12it/s]"
     ]
    },
    {
     "name": "stdout",
     "output_type": "stream",
     "text": [
      "80921\n",
      "Epoch 01331 | Loss 0.1179 | train_RMSE 0.2801 | test_RMSE 0.2752 \n",
      "19929\n",
      "80921\n",
      "Epoch 01332 | Loss 0.1180 | train_RMSE 0.2799 | test_RMSE 0.2752 \n",
      "19929\n",
      "80921\n",
      "Epoch 01333 | Loss 0.1176 | train_RMSE 0.2796 | test_RMSE 0.2749 \n",
      "19929\n",
      "80921\n",
      "Epoch 01334 | Loss 0.1182 | train_RMSE 0.2800 | test_RMSE 0.2752 \n",
      "19929\n",
      "80921\n",
      "Epoch 01335 | Loss 0.1184 | train_RMSE 0.2798 | test_RMSE 0.2749 \n"
     ]
    },
    {
     "name": "stderr",
     "output_type": "stream",
     "text": [
      " 67%|██████████████████████████▏            | 1340/2000 [01:04<00:31, 21.15it/s]"
     ]
    },
    {
     "name": "stdout",
     "output_type": "stream",
     "text": [
      "19929\n",
      "80921\n",
      "Epoch 01336 | Loss 0.1181 | train_RMSE 0.2798 | test_RMSE 0.2750 \n",
      "19929\n",
      "80921\n",
      "Epoch 01337 | Loss 0.1178 | train_RMSE 0.2795 | test_RMSE 0.2748 \n",
      "19929\n",
      "80921\n",
      "Epoch 01338 | Loss 0.1190 | train_RMSE 0.2801 | test_RMSE 0.2753 \n",
      "19929\n",
      "80921\n",
      "Epoch 01339 | Loss 0.1183 | train_RMSE 0.2803 | test_RMSE 0.2754 \n",
      "19929\n"
     ]
    },
    {
     "name": "stderr",
     "output_type": "stream",
     "text": [
      "\r",
      " 67%|██████████████████████████▏            | 1343/2000 [01:04<00:31, 21.16it/s]"
     ]
    },
    {
     "name": "stdout",
     "output_type": "stream",
     "text": [
      "80921\n",
      "Epoch 01340 | Loss 0.1184 | train_RMSE 0.2792 | test_RMSE 0.2745 \n",
      "19929\n",
      "80921\n",
      "Epoch 01341 | Loss 0.1183 | train_RMSE 0.2800 | test_RMSE 0.2751 \n",
      "19929\n",
      "80921\n",
      "Epoch 01342 | Loss 0.1182 | train_RMSE 0.2795 | test_RMSE 0.2746 \n",
      "19929\n",
      "80921\n",
      "Epoch 01343 | Loss 0.1182 | train_RMSE 0.2793 | test_RMSE 0.2746 \n",
      "19929\n",
      "80921\n",
      "Epoch 01344 | Loss 0.1183 | train_RMSE 0.2803 | test_RMSE 0.2754 \n"
     ]
    },
    {
     "name": "stderr",
     "output_type": "stream",
     "text": [
      " 67%|██████████████████████████▎            | 1349/2000 [01:04<00:30, 21.16it/s]"
     ]
    },
    {
     "name": "stdout",
     "output_type": "stream",
     "text": [
      "19929\n",
      "80921\n",
      "Epoch 01345 | Loss 0.1180 | train_RMSE 0.2795 | test_RMSE 0.2747 \n",
      "19929\n",
      "80921\n",
      "Epoch 01346 | Loss 0.1184 | train_RMSE 0.2795 | test_RMSE 0.2747 \n",
      "19929\n",
      "80921\n",
      "Epoch 01347 | Loss 0.1180 | train_RMSE 0.2800 | test_RMSE 0.2751 \n",
      "19929\n",
      "80921\n",
      "Epoch 01348 | Loss 0.1182 | train_RMSE 0.2794 | test_RMSE 0.2746 \n",
      "19929\n"
     ]
    },
    {
     "name": "stderr",
     "output_type": "stream",
     "text": [
      "\r",
      " 68%|██████████████████████████▎            | 1352/2000 [01:04<00:30, 21.17it/s]"
     ]
    },
    {
     "name": "stdout",
     "output_type": "stream",
     "text": [
      "80921\n",
      "Epoch 01349 | Loss 0.1177 | train_RMSE 0.2794 | test_RMSE 0.2746 \n",
      "19929\n",
      "80921\n",
      "Epoch 01350 | Loss 0.1183 | train_RMSE 0.2799 | test_RMSE 0.2751 \n",
      "19929\n",
      "80921\n",
      "Epoch 01351 | Loss 0.1181 | train_RMSE 0.2794 | test_RMSE 0.2746 \n",
      "19929\n",
      "80921\n",
      "Epoch 01352 | Loss 0.1182 | train_RMSE 0.2798 | test_RMSE 0.2749 \n",
      "19929\n",
      "80921\n",
      "Epoch 01353 | Loss 0.1176 | train_RMSE 0.2803 | test_RMSE 0.2755 \n"
     ]
    },
    {
     "name": "stderr",
     "output_type": "stream",
     "text": [
      " 68%|██████████████████████████▍            | 1358/2000 [01:04<00:30, 21.19it/s]"
     ]
    },
    {
     "name": "stdout",
     "output_type": "stream",
     "text": [
      "19929\n",
      "80921\n",
      "Epoch 01354 | Loss 0.1179 | train_RMSE 0.2792 | test_RMSE 0.2745 \n",
      "19929\n",
      "80921\n",
      "Epoch 01355 | Loss 0.1186 | train_RMSE 0.2797 | test_RMSE 0.2749 \n",
      "19929\n",
      "80921\n",
      "Epoch 01356 | Loss 0.1179 | train_RMSE 0.2802 | test_RMSE 0.2753 \n",
      "19929\n",
      "80921\n",
      "Epoch 01357 | Loss 0.1186 | train_RMSE 0.2791 | test_RMSE 0.2744 \n",
      "19929\n",
      "80921\n",
      "Epoch 01358 | Loss 0.1185 | train_RMSE 0.2799 | test_RMSE 0.2750 \n"
     ]
    },
    {
     "name": "stderr",
     "output_type": "stream",
     "text": [
      "\r",
      " 68%|██████████████████████████▌            | 1361/2000 [01:05<00:30, 21.16it/s]"
     ]
    },
    {
     "name": "stdout",
     "output_type": "stream",
     "text": [
      "19929\n",
      "80921\n",
      "Epoch 01359 | Loss 0.1169 | train_RMSE 0.2800 | test_RMSE 0.2751 \n",
      "19929\n",
      "80921\n",
      "Epoch 01360 | Loss 0.1183 | train_RMSE 0.2793 | test_RMSE 0.2746 \n",
      "19929\n",
      "80921\n",
      "Epoch 01361 | Loss 0.1189 | train_RMSE 0.2800 | test_RMSE 0.2752 \n",
      "19929\n",
      "80921\n",
      "Epoch 01362 | Loss 0.1187 | train_RMSE 0.2794 | test_RMSE 0.2746 \n",
      "19929\n"
     ]
    },
    {
     "name": "stderr",
     "output_type": "stream",
     "text": [
      " 68%|██████████████████████████▋            | 1367/2000 [01:05<00:29, 21.16it/s]"
     ]
    },
    {
     "name": "stdout",
     "output_type": "stream",
     "text": [
      "80921\n",
      "Epoch 01363 | Loss 0.1186 | train_RMSE 0.2794 | test_RMSE 0.2745 \n",
      "19929\n",
      "80921\n",
      "Epoch 01364 | Loss 0.1178 | train_RMSE 0.2805 | test_RMSE 0.2756 \n",
      "19929\n",
      "80921\n",
      "Epoch 01365 | Loss 0.1183 | train_RMSE 0.2793 | test_RMSE 0.2746 \n",
      "19929\n",
      "80921\n",
      "Epoch 01366 | Loss 0.1183 | train_RMSE 0.2797 | test_RMSE 0.2748 \n",
      "19929\n",
      "80921\n",
      "Epoch 01367 | Loss 0.1181 | train_RMSE 0.2803 | test_RMSE 0.2753 \n"
     ]
    },
    {
     "name": "stderr",
     "output_type": "stream",
     "text": [
      " 69%|██████████████████████████▊            | 1373/2000 [01:05<00:29, 21.21it/s]"
     ]
    },
    {
     "name": "stdout",
     "output_type": "stream",
     "text": [
      "19929\n",
      "80921\n",
      "Epoch 01368 | Loss 0.1180 | train_RMSE 0.2791 | test_RMSE 0.2743 \n",
      "19929\n",
      "80921\n",
      "Epoch 01369 | Loss 0.1186 | train_RMSE 0.2795 | test_RMSE 0.2747 \n",
      "19929\n",
      "80921\n",
      "Epoch 01370 | Loss 0.1176 | train_RMSE 0.2800 | test_RMSE 0.2751 \n",
      "19929\n",
      "80921\n",
      "Epoch 01371 | Loss 0.1178 | train_RMSE 0.2794 | test_RMSE 0.2746 \n",
      "19929\n",
      "80921\n",
      "Epoch 01372 | Loss 0.1180 | train_RMSE 0.2797 | test_RMSE 0.2748 \n"
     ]
    },
    {
     "name": "stderr",
     "output_type": "stream",
     "text": [
      "\r",
      " 69%|██████████████████████████▊            | 1376/2000 [01:05<00:29, 21.20it/s]"
     ]
    },
    {
     "name": "stdout",
     "output_type": "stream",
     "text": [
      "19929\n",
      "80921\n",
      "Epoch 01373 | Loss 0.1181 | train_RMSE 0.2796 | test_RMSE 0.2749 \n",
      "19929\n",
      "80921\n",
      "Epoch 01374 | Loss 0.1179 | train_RMSE 0.2791 | test_RMSE 0.2744 \n",
      "19929\n",
      "80921\n",
      "Epoch 01375 | Loss 0.1181 | train_RMSE 0.2797 | test_RMSE 0.2748 \n",
      "19929\n",
      "80921\n",
      "Epoch 01376 | Loss 0.1181 | train_RMSE 0.2798 | test_RMSE 0.2750 \n",
      "19929\n",
      "80921\n",
      "Epoch 01377 | Loss 0.1179 | train_RMSE 0.2793 | test_RMSE 0.2745 \n"
     ]
    },
    {
     "name": "stderr",
     "output_type": "stream",
     "text": [
      " 69%|██████████████████████████▉            | 1382/2000 [01:06<00:29, 21.22it/s]"
     ]
    },
    {
     "name": "stdout",
     "output_type": "stream",
     "text": [
      "19929\n",
      "80921\n",
      "Epoch 01378 | Loss 0.1180 | train_RMSE 0.2798 | test_RMSE 0.2749 \n",
      "19929\n",
      "80921\n",
      "Epoch 01379 | Loss 0.1185 | train_RMSE 0.2798 | test_RMSE 0.2749 \n",
      "19929\n",
      "80921\n",
      "Epoch 01380 | Loss 0.1180 | train_RMSE 0.2791 | test_RMSE 0.2743 \n",
      "19929\n",
      "80921\n",
      "Epoch 01381 | Loss 0.1188 | train_RMSE 0.2799 | test_RMSE 0.2750 \n",
      "19929\n",
      "80921\n",
      "Epoch 01382 | Loss 0.1190 | train_RMSE 0.2796 | test_RMSE 0.2747 \n"
     ]
    },
    {
     "name": "stderr",
     "output_type": "stream",
     "text": [
      " 69%|███████████████████████████            | 1388/2000 [01:06<00:28, 21.23it/s]"
     ]
    },
    {
     "name": "stdout",
     "output_type": "stream",
     "text": [
      "19929\n",
      "80921\n",
      "Epoch 01383 | Loss 0.1190 | train_RMSE 0.2791 | test_RMSE 0.2744 \n",
      "19929\n",
      "80921\n",
      "Epoch 01384 | Loss 0.1177 | train_RMSE 0.2800 | test_RMSE 0.2752 \n",
      "19929\n",
      "80921\n",
      "Epoch 01385 | Loss 0.1180 | train_RMSE 0.2795 | test_RMSE 0.2746 \n",
      "19929\n",
      "80921\n",
      "Epoch 01386 | Loss 0.1185 | train_RMSE 0.2791 | test_RMSE 0.2744 \n",
      "19929\n",
      "80921\n",
      "Epoch 01387 | Loss 0.1173 | train_RMSE 0.2801 | test_RMSE 0.2753 \n"
     ]
    },
    {
     "name": "stderr",
     "output_type": "stream",
     "text": [
      "\r",
      " 70%|███████████████████████████            | 1391/2000 [01:06<00:28, 21.22it/s]"
     ]
    },
    {
     "name": "stdout",
     "output_type": "stream",
     "text": [
      "19929\n",
      "80921\n",
      "Epoch 01388 | Loss 0.1177 | train_RMSE 0.2793 | test_RMSE 0.2745 \n",
      "19929\n",
      "80921\n",
      "Epoch 01389 | Loss 0.1179 | train_RMSE 0.2797 | test_RMSE 0.2748 \n",
      "19929\n",
      "80921\n",
      "Epoch 01390 | Loss 0.1180 | train_RMSE 0.2796 | test_RMSE 0.2748 \n",
      "19929\n",
      "80921\n",
      "Epoch 01391 | Loss 0.1182 | train_RMSE 0.2794 | test_RMSE 0.2746 \n",
      "19929\n",
      "80921\n",
      "Epoch 01392 | Loss 0.1175 | train_RMSE 0.2792 | test_RMSE 0.2744 \n"
     ]
    },
    {
     "name": "stderr",
     "output_type": "stream",
     "text": [
      " 70%|███████████████████████████▏           | 1397/2000 [01:06<00:28, 21.21it/s]"
     ]
    },
    {
     "name": "stdout",
     "output_type": "stream",
     "text": [
      "19929\n",
      "80921\n",
      "Epoch 01393 | Loss 0.1178 | train_RMSE 0.2799 | test_RMSE 0.2750 \n",
      "19929\n",
      "80921\n",
      "Epoch 01394 | Loss 0.1188 | train_RMSE 0.2790 | test_RMSE 0.2743 \n",
      "19929\n",
      "80921\n",
      "Epoch 01395 | Loss 0.1190 | train_RMSE 0.2797 | test_RMSE 0.2749 \n",
      "19929\n",
      "80921\n",
      "Epoch 01396 | Loss 0.1182 | train_RMSE 0.2800 | test_RMSE 0.2751 \n",
      "19929\n"
     ]
    },
    {
     "name": "stderr",
     "output_type": "stream",
     "text": [
      "\r",
      " 70%|███████████████████████████▎           | 1400/2000 [01:06<00:28, 21.18it/s]"
     ]
    },
    {
     "name": "stdout",
     "output_type": "stream",
     "text": [
      "80921\n",
      "Epoch 01397 | Loss 0.1185 | train_RMSE 0.2790 | test_RMSE 0.2742 \n",
      "19929\n",
      "80921\n",
      "Epoch 01398 | Loss 0.1183 | train_RMSE 0.2798 | test_RMSE 0.2749 \n",
      "19929\n",
      "80921\n",
      "Epoch 01399 | Loss 0.1173 | train_RMSE 0.2794 | test_RMSE 0.2746 \n",
      "19929\n",
      "80921\n",
      "Epoch 01400 | Loss 0.1183 | train_RMSE 0.2794 | test_RMSE 0.2746 \n",
      "19929\n",
      "80921\n",
      "Epoch 01401 | Loss 0.1181 | train_RMSE 0.2800 | test_RMSE 0.2752 \n"
     ]
    },
    {
     "name": "stderr",
     "output_type": "stream",
     "text": [
      " 70%|███████████████████████████▍           | 1406/2000 [01:07<00:28, 21.19it/s]"
     ]
    },
    {
     "name": "stdout",
     "output_type": "stream",
     "text": [
      "19929\n",
      "80921\n",
      "Epoch 01402 | Loss 0.1178 | train_RMSE 0.2793 | test_RMSE 0.2745 \n",
      "19929\n",
      "80921\n",
      "Epoch 01403 | Loss 0.1188 | train_RMSE 0.2793 | test_RMSE 0.2745 \n",
      "19929\n",
      "80921\n",
      "Epoch 01404 | Loss 0.1174 | train_RMSE 0.2801 | test_RMSE 0.2752 \n",
      "19929\n",
      "80921\n",
      "Epoch 01405 | Loss 0.1181 | train_RMSE 0.2792 | test_RMSE 0.2745 \n",
      "19929\n"
     ]
    },
    {
     "name": "stderr",
     "output_type": "stream",
     "text": [
      "\r",
      " 70%|███████████████████████████▍           | 1409/2000 [01:07<00:27, 21.19it/s]"
     ]
    },
    {
     "name": "stdout",
     "output_type": "stream",
     "text": [
      "80921\n",
      "Epoch 01406 | Loss 0.1177 | train_RMSE 0.2795 | test_RMSE 0.2747 \n",
      "19929\n",
      "80921\n",
      "Epoch 01407 | Loss 0.1180 | train_RMSE 0.2796 | test_RMSE 0.2747 \n",
      "19929\n",
      "80921\n",
      "Epoch 01408 | Loss 0.1184 | train_RMSE 0.2795 | test_RMSE 0.2746 \n",
      "19929\n",
      "80921\n",
      "Epoch 01409 | Loss 0.1176 | train_RMSE 0.2792 | test_RMSE 0.2744 \n",
      "19929\n",
      "80921\n",
      "Epoch 01410 | Loss 0.1178 | train_RMSE 0.2801 | test_RMSE 0.2752 \n"
     ]
    },
    {
     "name": "stderr",
     "output_type": "stream",
     "text": [
      " 71%|███████████████████████████▌           | 1415/2000 [01:07<00:27, 21.19it/s]"
     ]
    },
    {
     "name": "stdout",
     "output_type": "stream",
     "text": [
      "19929\n",
      "80921\n",
      "Epoch 01411 | Loss 0.1182 | train_RMSE 0.2792 | test_RMSE 0.2744 \n",
      "19929\n",
      "80921\n",
      "Epoch 01412 | Loss 0.1177 | train_RMSE 0.2796 | test_RMSE 0.2747 \n",
      "19929\n",
      "80921\n",
      "Epoch 01413 | Loss 0.1181 | train_RMSE 0.2795 | test_RMSE 0.2746 \n",
      "19929\n",
      "80921\n",
      "Epoch 01414 | Loss 0.1182 | train_RMSE 0.2794 | test_RMSE 0.2745 \n",
      "19929\n"
     ]
    },
    {
     "name": "stderr",
     "output_type": "stream",
     "text": [
      "\r",
      " 71%|███████████████████████████▋           | 1418/2000 [01:07<00:27, 21.20it/s]"
     ]
    },
    {
     "name": "stdout",
     "output_type": "stream",
     "text": [
      "80921\n",
      "Epoch 01415 | Loss 0.1181 | train_RMSE 0.2794 | test_RMSE 0.2746 \n",
      "19929\n",
      "80921\n",
      "Epoch 01416 | Loss 0.1179 | train_RMSE 0.2794 | test_RMSE 0.2746 \n",
      "19929\n",
      "80921\n",
      "Epoch 01417 | Loss 0.1180 | train_RMSE 0.2794 | test_RMSE 0.2745 \n",
      "19929\n",
      "80921\n",
      "Epoch 01418 | Loss 0.1180 | train_RMSE 0.2794 | test_RMSE 0.2745 \n",
      "19929\n",
      "80921\n",
      "Epoch 01419 | Loss 0.1186 | train_RMSE 0.2790 | test_RMSE 0.2743 \n"
     ]
    },
    {
     "name": "stderr",
     "output_type": "stream",
     "text": [
      " 71%|███████████████████████████▊           | 1424/2000 [01:07<00:27, 21.18it/s]"
     ]
    },
    {
     "name": "stdout",
     "output_type": "stream",
     "text": [
      "19929\n",
      "80921\n",
      "Epoch 01420 | Loss 0.1185 | train_RMSE 0.2795 | test_RMSE 0.2747 \n",
      "19929\n",
      "80921\n",
      "Epoch 01421 | Loss 0.1179 | train_RMSE 0.2798 | test_RMSE 0.2749 \n",
      "19929\n",
      "80921\n",
      "Epoch 01422 | Loss 0.1186 | train_RMSE 0.2794 | test_RMSE 0.2746 \n",
      "19929\n",
      "80921\n",
      "Epoch 01423 | Loss 0.1173 | train_RMSE 0.2795 | test_RMSE 0.2747 \n",
      "19929\n",
      "80921\n",
      "Epoch 01424 | Loss 0.1179 | train_RMSE 0.2790 | test_RMSE 0.2743 \n"
     ]
    },
    {
     "name": "stderr",
     "output_type": "stream",
     "text": [
      " 72%|███████████████████████████▉           | 1430/2000 [01:08<00:26, 21.18it/s]"
     ]
    },
    {
     "name": "stdout",
     "output_type": "stream",
     "text": [
      "19929\n",
      "80921\n",
      "Epoch 01425 | Loss 0.1179 | train_RMSE 0.2796 | test_RMSE 0.2747 \n",
      "19929\n",
      "80921\n",
      "Epoch 01426 | Loss 0.1180 | train_RMSE 0.2793 | test_RMSE 0.2744 \n",
      "19929\n",
      "80921\n",
      "Epoch 01427 | Loss 0.1183 | train_RMSE 0.2791 | test_RMSE 0.2743 \n",
      "19929\n",
      "80921\n",
      "Epoch 01428 | Loss 0.1184 | train_RMSE 0.2797 | test_RMSE 0.2749 \n",
      "19929\n",
      "80921\n",
      "Epoch 01429 | Loss 0.1178 | train_RMSE 0.2792 | test_RMSE 0.2744 \n"
     ]
    },
    {
     "name": "stderr",
     "output_type": "stream",
     "text": [
      "\r",
      " 72%|███████████████████████████▉           | 1433/2000 [01:08<00:26, 21.17it/s]"
     ]
    },
    {
     "name": "stdout",
     "output_type": "stream",
     "text": [
      "19929\n",
      "80921\n",
      "Epoch 01430 | Loss 0.1181 | train_RMSE 0.2799 | test_RMSE 0.2751 \n",
      "19929\n",
      "80921\n",
      "Epoch 01431 | Loss 0.1177 | train_RMSE 0.2791 | test_RMSE 0.2743 \n",
      "19929\n",
      "80921\n",
      "Epoch 01432 | Loss 0.1174 | train_RMSE 0.2791 | test_RMSE 0.2743 \n",
      "19929\n",
      "80921\n",
      "Epoch 01433 | Loss 0.1175 | train_RMSE 0.2803 | test_RMSE 0.2754 \n",
      "19929\n"
     ]
    },
    {
     "name": "stderr",
     "output_type": "stream",
     "text": [
      " 72%|████████████████████████████           | 1439/2000 [01:08<00:26, 21.20it/s]"
     ]
    },
    {
     "name": "stdout",
     "output_type": "stream",
     "text": [
      "80921\n",
      "Epoch 01434 | Loss 0.1181 | train_RMSE 0.2789 | test_RMSE 0.2742 \n",
      "19929\n",
      "80921\n",
      "Epoch 01435 | Loss 0.1187 | train_RMSE 0.2794 | test_RMSE 0.2746 \n",
      "19929\n",
      "80921\n",
      "Epoch 01436 | Loss 0.1178 | train_RMSE 0.2801 | test_RMSE 0.2752 \n",
      "19929\n",
      "80921\n",
      "Epoch 01437 | Loss 0.1178 | train_RMSE 0.2789 | test_RMSE 0.2742 \n",
      "19929\n",
      "80921\n",
      "Epoch 01438 | Loss 0.1174 | train_RMSE 0.2804 | test_RMSE 0.2756 \n"
     ]
    },
    {
     "name": "stderr",
     "output_type": "stream",
     "text": [
      "\r",
      " 72%|████████████████████████████           | 1442/2000 [01:08<00:26, 21.18it/s]"
     ]
    },
    {
     "name": "stdout",
     "output_type": "stream",
     "text": [
      "19929\n",
      "80921\n",
      "Epoch 01439 | Loss 0.1181 | train_RMSE 0.2794 | test_RMSE 0.2745 \n",
      "19929\n",
      "80921\n",
      "Epoch 01440 | Loss 0.1181 | train_RMSE 0.2789 | test_RMSE 0.2742 \n",
      "19929\n",
      "80921\n",
      "Epoch 01441 | Loss 0.1179 | train_RMSE 0.2807 | test_RMSE 0.2758 \n",
      "19929\n",
      "80921\n",
      "Epoch 01442 | Loss 0.1186 | train_RMSE 0.2787 | test_RMSE 0.2740 \n",
      "19929\n"
     ]
    },
    {
     "name": "stderr",
     "output_type": "stream",
     "text": [
      " 72%|████████████████████████████▏          | 1448/2000 [01:09<00:26, 21.10it/s]"
     ]
    },
    {
     "name": "stdout",
     "output_type": "stream",
     "text": [
      "80921\n",
      "Epoch 01443 | Loss 0.1176 | train_RMSE 0.2794 | test_RMSE 0.2746 \n",
      "19929\n",
      "80921\n",
      "Epoch 01444 | Loss 0.1180 | train_RMSE 0.2803 | test_RMSE 0.2753 \n",
      "19929\n",
      "80921\n",
      "Epoch 01445 | Loss 0.1172 | train_RMSE 0.2788 | test_RMSE 0.2741 \n",
      "19929\n",
      "80921\n",
      "Epoch 01446 | Loss 0.1180 | train_RMSE 0.2796 | test_RMSE 0.2747 \n",
      "19929\n",
      "80921\n",
      "Epoch 01447 | Loss 0.1178 | train_RMSE 0.2796 | test_RMSE 0.2748 \n"
     ]
    },
    {
     "name": "stderr",
     "output_type": "stream",
     "text": [
      "\r",
      " 73%|████████████████████████████▎          | 1451/2000 [01:09<00:26, 21.10it/s]"
     ]
    },
    {
     "name": "stdout",
     "output_type": "stream",
     "text": [
      "19929\n",
      "80921\n",
      "Epoch 01448 | Loss 0.1175 | train_RMSE 0.2790 | test_RMSE 0.2742 \n",
      "19929\n",
      "80921\n",
      "Epoch 01449 | Loss 0.1176 | train_RMSE 0.2802 | test_RMSE 0.2753 \n",
      "19929\n",
      "80921\n",
      "Epoch 01450 | Loss 0.1175 | train_RMSE 0.2790 | test_RMSE 0.2742 \n",
      "19929\n",
      "80921\n",
      "Epoch 01451 | Loss 0.1178 | train_RMSE 0.2791 | test_RMSE 0.2743 \n",
      "19929\n",
      "80921\n",
      "Epoch 01452 | Loss 0.1176 | train_RMSE 0.2796 | test_RMSE 0.2747 \n"
     ]
    },
    {
     "name": "stderr",
     "output_type": "stream",
     "text": [
      " 73%|████████████████████████████▍          | 1457/2000 [01:09<00:25, 21.17it/s]"
     ]
    },
    {
     "name": "stdout",
     "output_type": "stream",
     "text": [
      "19929\n",
      "80921\n",
      "Epoch 01453 | Loss 0.1179 | train_RMSE 0.2789 | test_RMSE 0.2741 \n",
      "19929\n",
      "80921\n",
      "Epoch 01454 | Loss 0.1179 | train_RMSE 0.2796 | test_RMSE 0.2748 \n",
      "19929\n",
      "80921\n",
      "Epoch 01455 | Loss 0.1183 | train_RMSE 0.2791 | test_RMSE 0.2743 \n",
      "19929\n",
      "80921\n",
      "Epoch 01456 | Loss 0.1171 | train_RMSE 0.2794 | test_RMSE 0.2746 \n",
      "19929\n",
      "80921\n",
      "Epoch 01457 | Loss 0.1177 | train_RMSE 0.2794 | test_RMSE 0.2745 \n"
     ]
    },
    {
     "name": "stderr",
     "output_type": "stream",
     "text": [
      "\r",
      " 73%|████████████████████████████▍          | 1460/2000 [01:09<00:25, 21.15it/s]"
     ]
    },
    {
     "name": "stdout",
     "output_type": "stream",
     "text": [
      "19929\n",
      "80921\n",
      "Epoch 01458 | Loss 0.1174 | train_RMSE 0.2789 | test_RMSE 0.2742 \n",
      "19929\n",
      "80921\n",
      "Epoch 01459 | Loss 0.1176 | train_RMSE 0.2794 | test_RMSE 0.2746 \n",
      "19929\n",
      "80921\n",
      "Epoch 01460 | Loss 0.1169 | train_RMSE 0.2791 | test_RMSE 0.2743 \n",
      "19929\n",
      "80921\n",
      "Epoch 01461 | Loss 0.1181 | train_RMSE 0.2792 | test_RMSE 0.2744 \n",
      "19929\n"
     ]
    },
    {
     "name": "stderr",
     "output_type": "stream",
     "text": [
      " 73%|████████████████████████████▌          | 1466/2000 [01:09<00:25, 21.17it/s]"
     ]
    },
    {
     "name": "stdout",
     "output_type": "stream",
     "text": [
      "80921\n",
      "Epoch 01462 | Loss 0.1181 | train_RMSE 0.2795 | test_RMSE 0.2747 \n",
      "19929\n",
      "80921\n",
      "Epoch 01463 | Loss 0.1178 | train_RMSE 0.2787 | test_RMSE 0.2740 \n",
      "19929\n",
      "80921\n",
      "Epoch 01464 | Loss 0.1177 | train_RMSE 0.2796 | test_RMSE 0.2747 \n",
      "19929\n",
      "80921\n",
      "Epoch 01465 | Loss 0.1173 | train_RMSE 0.2793 | test_RMSE 0.2744 \n",
      "19929\n",
      "80921\n",
      "Epoch 01466 | Loss 0.1180 | train_RMSE 0.2789 | test_RMSE 0.2741 \n"
     ]
    },
    {
     "name": "stderr",
     "output_type": "stream",
     "text": [
      "\r",
      " 73%|████████████████████████████▋          | 1469/2000 [01:10<00:25, 21.21it/s]"
     ]
    },
    {
     "name": "stdout",
     "output_type": "stream",
     "text": [
      "19929\n",
      "80921\n",
      "Epoch 01467 | Loss 0.1175 | train_RMSE 0.2794 | test_RMSE 0.2745 \n",
      "19929\n",
      "80921\n",
      "Epoch 01468 | Loss 0.1175 | train_RMSE 0.2789 | test_RMSE 0.2741 \n",
      "19929\n",
      "80921\n",
      "Epoch 01469 | Loss 0.1176 | train_RMSE 0.2793 | test_RMSE 0.2745 \n",
      "19929\n",
      "80921\n",
      "Epoch 01470 | Loss 0.1178 | train_RMSE 0.2794 | test_RMSE 0.2745 \n",
      "19929\n",
      "80921\n",
      "Epoch 01471 | Loss 0.1171 | train_RMSE 0.2788 | test_RMSE 0.2740 \n"
     ]
    },
    {
     "name": "stderr",
     "output_type": "stream",
     "text": [
      " 74%|████████████████████████████▊          | 1475/2000 [01:10<00:24, 21.19it/s]"
     ]
    },
    {
     "name": "stdout",
     "output_type": "stream",
     "text": [
      "19929\n",
      "80921\n",
      "Epoch 01472 | Loss 0.1183 | train_RMSE 0.2789 | test_RMSE 0.2742 \n",
      "19929\n",
      "80921\n",
      "Epoch 01473 | Loss 0.1174 | train_RMSE 0.2794 | test_RMSE 0.2745 \n",
      "19929\n",
      "80921\n",
      "Epoch 01474 | Loss 0.1184 | train_RMSE 0.2791 | test_RMSE 0.2742 \n",
      "19929\n",
      "80921\n",
      "Epoch 01475 | Loss 0.1178 | train_RMSE 0.2789 | test_RMSE 0.2742 \n",
      "19929\n",
      "80921\n",
      "Epoch 01476 | Loss 0.1175 | train_RMSE 0.2796 | test_RMSE 0.2748 \n"
     ]
    },
    {
     "name": "stderr",
     "output_type": "stream",
     "text": [
      " 74%|████████████████████████████▉          | 1481/2000 [01:10<00:24, 21.17it/s]"
     ]
    },
    {
     "name": "stdout",
     "output_type": "stream",
     "text": [
      "19929\n",
      "80921\n",
      "Epoch 01477 | Loss 0.1178 | train_RMSE 0.2790 | test_RMSE 0.2742 \n",
      "19929\n",
      "80921\n",
      "Epoch 01478 | Loss 0.1178 | train_RMSE 0.2795 | test_RMSE 0.2746 \n",
      "19929\n",
      "80921\n",
      "Epoch 01479 | Loss 0.1167 | train_RMSE 0.2791 | test_RMSE 0.2744 \n",
      "19929\n",
      "80921\n",
      "Epoch 01480 | Loss 0.1174 | train_RMSE 0.2789 | test_RMSE 0.2741 \n",
      "19929\n"
     ]
    },
    {
     "name": "stderr",
     "output_type": "stream",
     "text": [
      "\r",
      " 74%|████████████████████████████▉          | 1484/2000 [01:10<00:24, 21.16it/s]"
     ]
    },
    {
     "name": "stdout",
     "output_type": "stream",
     "text": [
      "80921\n",
      "Epoch 01481 | Loss 0.1172 | train_RMSE 0.2799 | test_RMSE 0.2750 \n",
      "19929\n",
      "80921\n",
      "Epoch 01482 | Loss 0.1175 | train_RMSE 0.2790 | test_RMSE 0.2742 \n",
      "19929\n",
      "80921\n",
      "Epoch 01483 | Loss 0.1175 | train_RMSE 0.2791 | test_RMSE 0.2743 \n",
      "19929\n",
      "80921\n",
      "Epoch 01484 | Loss 0.1173 | train_RMSE 0.2791 | test_RMSE 0.2743 \n",
      "19929\n",
      "80921\n",
      "Epoch 01485 | Loss 0.1173 | train_RMSE 0.2789 | test_RMSE 0.2741 \n"
     ]
    },
    {
     "name": "stderr",
     "output_type": "stream",
     "text": [
      " 74%|█████████████████████████████          | 1490/2000 [01:11<00:24, 21.21it/s]"
     ]
    },
    {
     "name": "stdout",
     "output_type": "stream",
     "text": [
      "19929\n",
      "80921\n",
      "Epoch 01486 | Loss 0.1175 | train_RMSE 0.2794 | test_RMSE 0.2746 \n",
      "19929\n",
      "80921\n",
      "Epoch 01487 | Loss 0.1170 | train_RMSE 0.2790 | test_RMSE 0.2742 \n",
      "19929\n",
      "80921\n",
      "Epoch 01488 | Loss 0.1180 | train_RMSE 0.2792 | test_RMSE 0.2744 \n",
      "19929\n",
      "80921\n",
      "Epoch 01489 | Loss 0.1171 | train_RMSE 0.2788 | test_RMSE 0.2740 \n",
      "19929\n",
      "80921\n",
      "Epoch 01490 | Loss 0.1176 | train_RMSE 0.2788 | test_RMSE 0.2740 \n"
     ]
    },
    {
     "name": "stderr",
     "output_type": "stream",
     "text": [
      "\r",
      " 75%|█████████████████████████████          | 1493/2000 [01:11<00:23, 21.17it/s]"
     ]
    },
    {
     "name": "stdout",
     "output_type": "stream",
     "text": [
      "19929\n",
      "80921\n",
      "Epoch 01491 | Loss 0.1174 | train_RMSE 0.2795 | test_RMSE 0.2746 \n",
      "19929\n",
      "80921\n",
      "Epoch 01492 | Loss 0.1171 | train_RMSE 0.2789 | test_RMSE 0.2742 \n",
      "19929\n",
      "80921\n",
      "Epoch 01493 | Loss 0.1178 | train_RMSE 0.2795 | test_RMSE 0.2747 \n",
      "19929\n",
      "80921\n",
      "Epoch 01494 | Loss 0.1166 | train_RMSE 0.2786 | test_RMSE 0.2738 \n",
      "19929\n"
     ]
    },
    {
     "name": "stderr",
     "output_type": "stream",
     "text": [
      " 75%|█████████████████████████████▏         | 1499/2000 [01:11<00:23, 21.15it/s]"
     ]
    },
    {
     "name": "stdout",
     "output_type": "stream",
     "text": [
      "80921\n",
      "Epoch 01495 | Loss 0.1167 | train_RMSE 0.2787 | test_RMSE 0.2739 \n",
      "19929\n",
      "80921\n",
      "Epoch 01496 | Loss 0.1170 | train_RMSE 0.2790 | test_RMSE 0.2742 \n",
      "19929\n",
      "80921\n",
      "Epoch 01497 | Loss 0.1175 | train_RMSE 0.2783 | test_RMSE 0.2736 \n",
      "19929\n",
      "80921\n",
      "Epoch 01498 | Loss 0.1176 | train_RMSE 0.2796 | test_RMSE 0.2747 \n",
      "19929\n",
      "80921\n",
      "Epoch 01499 | Loss 0.1176 | train_RMSE 0.2785 | test_RMSE 0.2737 \n"
     ]
    },
    {
     "name": "stderr",
     "output_type": "stream",
     "text": [
      " 75%|█████████████████████████████▎         | 1505/2000 [01:11<00:23, 21.17it/s]"
     ]
    },
    {
     "name": "stdout",
     "output_type": "stream",
     "text": [
      "19929\n",
      "80921\n",
      "Epoch 01500 | Loss 0.1169 | train_RMSE 0.2790 | test_RMSE 0.2742 \n",
      "19929\n",
      "80921\n",
      "Epoch 01501 | Loss 0.1167 | train_RMSE 0.2787 | test_RMSE 0.2738 \n",
      "19929\n",
      "80921\n",
      "Epoch 01502 | Loss 0.1170 | train_RMSE 0.2782 | test_RMSE 0.2735 \n",
      "19929\n",
      "80921\n",
      "Epoch 01503 | Loss 0.1167 | train_RMSE 0.2795 | test_RMSE 0.2747 \n",
      "19929\n",
      "80921\n",
      "Epoch 01504 | Loss 0.1169 | train_RMSE 0.2783 | test_RMSE 0.2736 \n"
     ]
    },
    {
     "name": "stderr",
     "output_type": "stream",
     "text": [
      "\r",
      " 75%|█████████████████████████████▍         | 1508/2000 [01:11<00:23, 21.15it/s]"
     ]
    },
    {
     "name": "stdout",
     "output_type": "stream",
     "text": [
      "19929\n",
      "80921\n",
      "Epoch 01505 | Loss 0.1170 | train_RMSE 0.2790 | test_RMSE 0.2741 \n",
      "19929\n",
      "80921\n",
      "Epoch 01506 | Loss 0.1168 | train_RMSE 0.2782 | test_RMSE 0.2735 \n",
      "19929\n",
      "80921\n",
      "Epoch 01507 | Loss 0.1167 | train_RMSE 0.2781 | test_RMSE 0.2733 \n",
      "19929\n",
      "80921\n",
      "Epoch 01508 | Loss 0.1166 | train_RMSE 0.2795 | test_RMSE 0.2745 \n",
      "19929\n"
     ]
    },
    {
     "name": "stderr",
     "output_type": "stream",
     "text": [
      " 76%|█████████████████████████████▌         | 1514/2000 [01:12<00:23, 21.07it/s]"
     ]
    },
    {
     "name": "stdout",
     "output_type": "stream",
     "text": [
      "80921\n",
      "Epoch 01509 | Loss 0.1165 | train_RMSE 0.2778 | test_RMSE 0.2732 \n",
      "19929\n",
      "80921\n",
      "Epoch 01510 | Loss 0.1172 | train_RMSE 0.2792 | test_RMSE 0.2744 \n",
      "19929\n",
      "80921\n",
      "Epoch 01511 | Loss 0.1167 | train_RMSE 0.2782 | test_RMSE 0.2734 \n",
      "19929\n",
      "80921\n",
      "Epoch 01512 | Loss 0.1172 | train_RMSE 0.2785 | test_RMSE 0.2737 \n",
      "19929\n",
      "80921\n",
      "Epoch 01513 | Loss 0.1156 | train_RMSE 0.2783 | test_RMSE 0.2735 \n"
     ]
    },
    {
     "name": "stderr",
     "output_type": "stream",
     "text": [
      "\r",
      " 76%|█████████████████████████████▌         | 1517/2000 [01:12<00:22, 21.10it/s]"
     ]
    },
    {
     "name": "stdout",
     "output_type": "stream",
     "text": [
      "19929\n",
      "80921\n",
      "Epoch 01514 | Loss 0.1173 | train_RMSE 0.2780 | test_RMSE 0.2733 \n",
      "19929\n",
      "80921\n",
      "Epoch 01515 | Loss 0.1174 | train_RMSE 0.2785 | test_RMSE 0.2736 \n",
      "19929\n",
      "80921\n",
      "Epoch 01516 | Loss 0.1170 | train_RMSE 0.2781 | test_RMSE 0.2734 \n",
      "19929\n",
      "80921\n",
      "Epoch 01517 | Loss 0.1161 | train_RMSE 0.2780 | test_RMSE 0.2733 \n",
      "19929\n",
      "80921\n",
      "Epoch 01518 | Loss 0.1161 | train_RMSE 0.2781 | test_RMSE 0.2733 \n"
     ]
    },
    {
     "name": "stderr",
     "output_type": "stream",
     "text": [
      " 76%|█████████████████████████████▋         | 1523/2000 [01:12<00:22, 21.15it/s]"
     ]
    },
    {
     "name": "stdout",
     "output_type": "stream",
     "text": [
      "19929\n",
      "80921\n",
      "Epoch 01519 | Loss 0.1162 | train_RMSE 0.2786 | test_RMSE 0.2737 \n",
      "19929\n",
      "80921\n",
      "Epoch 01520 | Loss 0.1168 | train_RMSE 0.2780 | test_RMSE 0.2733 \n",
      "19929\n",
      "80921\n",
      "Epoch 01521 | Loss 0.1169 | train_RMSE 0.2781 | test_RMSE 0.2733 \n",
      "19929\n",
      "80921\n",
      "Epoch 01522 | Loss 0.1169 | train_RMSE 0.2781 | test_RMSE 0.2733 \n",
      "19929\n",
      "80921\n",
      "Epoch 01523 | Loss 0.1165 | train_RMSE 0.2778 | test_RMSE 0.2731 \n"
     ]
    },
    {
     "name": "stderr",
     "output_type": "stream",
     "text": [
      " 76%|█████████████████████████████▊         | 1529/2000 [01:12<00:22, 21.14it/s]"
     ]
    },
    {
     "name": "stdout",
     "output_type": "stream",
     "text": [
      "19929\n",
      "80921\n",
      "Epoch 01524 | Loss 0.1170 | train_RMSE 0.2786 | test_RMSE 0.2737 \n",
      "19929\n",
      "80921\n",
      "Epoch 01525 | Loss 0.1160 | train_RMSE 0.2782 | test_RMSE 0.2734 \n",
      "19929\n",
      "80921\n",
      "Epoch 01526 | Loss 0.1168 | train_RMSE 0.2780 | test_RMSE 0.2732 \n",
      "19929\n",
      "80921\n",
      "Epoch 01527 | Loss 0.1160 | train_RMSE 0.2782 | test_RMSE 0.2733 \n",
      "19929\n",
      "80921\n",
      "Epoch 01528 | Loss 0.1158 | train_RMSE 0.2779 | test_RMSE 0.2731 \n"
     ]
    },
    {
     "name": "stderr",
     "output_type": "stream",
     "text": [
      "\r",
      " 77%|█████████████████████████████▊         | 1532/2000 [01:13<00:22, 21.11it/s]"
     ]
    },
    {
     "name": "stdout",
     "output_type": "stream",
     "text": [
      "19929\n",
      "80921\n",
      "Epoch 01529 | Loss 0.1166 | train_RMSE 0.2778 | test_RMSE 0.2730 \n",
      "19929\n",
      "80921\n",
      "Epoch 01530 | Loss 0.1164 | train_RMSE 0.2784 | test_RMSE 0.2735 \n",
      "19929\n",
      "80921\n",
      "Epoch 01531 | Loss 0.1166 | train_RMSE 0.2775 | test_RMSE 0.2728 \n",
      "19929\n",
      "80921\n",
      "Epoch 01532 | Loss 0.1170 | train_RMSE 0.2781 | test_RMSE 0.2732 \n",
      "19929\n",
      "80921\n",
      "Epoch 01533 | Loss 0.1167 | train_RMSE 0.2782 | test_RMSE 0.2734 \n"
     ]
    },
    {
     "name": "stderr",
     "output_type": "stream",
     "text": [
      " 77%|█████████████████████████████▉         | 1538/2000 [01:13<00:21, 21.15it/s]"
     ]
    },
    {
     "name": "stdout",
     "output_type": "stream",
     "text": [
      "19929\n",
      "80921\n",
      "Epoch 01534 | Loss 0.1168 | train_RMSE 0.2774 | test_RMSE 0.2728 \n",
      "19929\n",
      "80921\n",
      "Epoch 01535 | Loss 0.1172 | train_RMSE 0.2788 | test_RMSE 0.2739 \n",
      "19929\n",
      "80921\n",
      "Epoch 01536 | Loss 0.1171 | train_RMSE 0.2774 | test_RMSE 0.2727 \n",
      "19929\n",
      "80921\n",
      "Epoch 01537 | Loss 0.1167 | train_RMSE 0.2782 | test_RMSE 0.2734 \n",
      "19929\n"
     ]
    },
    {
     "name": "stderr",
     "output_type": "stream",
     "text": [
      "\r",
      " 77%|██████████████████████████████         | 1541/2000 [01:13<00:21, 21.17it/s]"
     ]
    },
    {
     "name": "stdout",
     "output_type": "stream",
     "text": [
      "80921\n",
      "Epoch 01538 | Loss 0.1165 | train_RMSE 0.2776 | test_RMSE 0.2729 \n",
      "19929\n",
      "80921\n",
      "Epoch 01539 | Loss 0.1160 | train_RMSE 0.2776 | test_RMSE 0.2728 \n",
      "19929\n",
      "80921\n",
      "Epoch 01540 | Loss 0.1172 | train_RMSE 0.2787 | test_RMSE 0.2739 \n",
      "19929\n",
      "80921\n",
      "Epoch 01541 | Loss 0.1162 | train_RMSE 0.2777 | test_RMSE 0.2729 \n",
      "19929\n",
      "80921\n",
      "Epoch 01542 | Loss 0.1166 | train_RMSE 0.2779 | test_RMSE 0.2731 \n"
     ]
    },
    {
     "name": "stderr",
     "output_type": "stream",
     "text": [
      " 77%|██████████████████████████████▏        | 1547/2000 [01:13<00:21, 21.13it/s]"
     ]
    },
    {
     "name": "stdout",
     "output_type": "stream",
     "text": [
      "19929\n",
      "80921\n",
      "Epoch 01543 | Loss 0.1156 | train_RMSE 0.2777 | test_RMSE 0.2730 \n",
      "19929\n",
      "80921\n",
      "Epoch 01544 | Loss 0.1168 | train_RMSE 0.2776 | test_RMSE 0.2728 \n",
      "19929\n",
      "80921\n",
      "Epoch 01545 | Loss 0.1169 | train_RMSE 0.2780 | test_RMSE 0.2732 \n",
      "19929\n",
      "80921\n",
      "Epoch 01546 | Loss 0.1161 | train_RMSE 0.2786 | test_RMSE 0.2738 \n",
      "19929\n"
     ]
    },
    {
     "name": "stderr",
     "output_type": "stream",
     "text": [
      "\r",
      " 78%|██████████████████████████████▏        | 1550/2000 [01:13<00:21, 21.16it/s]"
     ]
    },
    {
     "name": "stdout",
     "output_type": "stream",
     "text": [
      "80921\n",
      "Epoch 01547 | Loss 0.1166 | train_RMSE 0.2771 | test_RMSE 0.2725 \n",
      "19929\n",
      "80921\n",
      "Epoch 01548 | Loss 0.1167 | train_RMSE 0.2784 | test_RMSE 0.2735 \n",
      "19929\n",
      "80921\n",
      "Epoch 01549 | Loss 0.1166 | train_RMSE 0.2772 | test_RMSE 0.2725 \n",
      "19929\n",
      "80921\n",
      "Epoch 01550 | Loss 0.1164 | train_RMSE 0.2776 | test_RMSE 0.2729 \n",
      "19929\n",
      "80921\n",
      "Epoch 01551 | Loss 0.1157 | train_RMSE 0.2776 | test_RMSE 0.2728 \n"
     ]
    },
    {
     "name": "stderr",
     "output_type": "stream",
     "text": [
      " 78%|██████████████████████████████▎        | 1556/2000 [01:14<00:20, 21.17it/s]"
     ]
    },
    {
     "name": "stdout",
     "output_type": "stream",
     "text": [
      "19929\n",
      "80921\n",
      "Epoch 01552 | Loss 0.1164 | train_RMSE 0.2782 | test_RMSE 0.2733 \n",
      "19929\n",
      "80921\n",
      "Epoch 01553 | Loss 0.1162 | train_RMSE 0.2774 | test_RMSE 0.2728 \n",
      "19929\n",
      "80921\n",
      "Epoch 01554 | Loss 0.1159 | train_RMSE 0.2774 | test_RMSE 0.2727 \n",
      "19929\n",
      "80921\n",
      "Epoch 01555 | Loss 0.1168 | train_RMSE 0.2782 | test_RMSE 0.2733 \n",
      "19929\n",
      "80921\n",
      "Epoch 01556 | Loss 0.1158 | train_RMSE 0.2779 | test_RMSE 0.2731 \n"
     ]
    },
    {
     "name": "stderr",
     "output_type": "stream",
     "text": [
      " 78%|██████████████████████████████▍        | 1562/2000 [01:14<00:20, 21.21it/s]"
     ]
    },
    {
     "name": "stdout",
     "output_type": "stream",
     "text": [
      "19929\n",
      "80921\n",
      "Epoch 01557 | Loss 0.1160 | train_RMSE 0.2778 | test_RMSE 0.2731 \n",
      "19929\n",
      "80921\n",
      "Epoch 01558 | Loss 0.1163 | train_RMSE 0.2777 | test_RMSE 0.2729 \n",
      "19929\n",
      "80921\n",
      "Epoch 01559 | Loss 0.1164 | train_RMSE 0.2780 | test_RMSE 0.2731 \n",
      "19929\n",
      "80921\n",
      "Epoch 01560 | Loss 0.1163 | train_RMSE 0.2774 | test_RMSE 0.2727 \n",
      "19929\n",
      "80921\n",
      "Epoch 01561 | Loss 0.1163 | train_RMSE 0.2779 | test_RMSE 0.2731 \n"
     ]
    },
    {
     "name": "stderr",
     "output_type": "stream",
     "text": [
      "\r",
      " 78%|██████████████████████████████▌        | 1565/2000 [01:14<00:20, 21.15it/s]"
     ]
    },
    {
     "name": "stdout",
     "output_type": "stream",
     "text": [
      "19929\n",
      "80921\n",
      "Epoch 01562 | Loss 0.1163 | train_RMSE 0.2776 | test_RMSE 0.2728 \n",
      "19929\n",
      "80921\n",
      "Epoch 01563 | Loss 0.1153 | train_RMSE 0.2774 | test_RMSE 0.2727 \n",
      "19929\n",
      "80921\n",
      "Epoch 01564 | Loss 0.1163 | train_RMSE 0.2778 | test_RMSE 0.2729 \n",
      "19929\n",
      "80921\n",
      "Epoch 01565 | Loss 0.1166 | train_RMSE 0.2774 | test_RMSE 0.2726 \n",
      "19929\n",
      "80921\n",
      "Epoch 01566 | Loss 0.1164 | train_RMSE 0.2773 | test_RMSE 0.2726 \n"
     ]
    },
    {
     "name": "stderr",
     "output_type": "stream",
     "text": [
      " 79%|██████████████████████████████▋        | 1571/2000 [01:14<00:20, 21.19it/s]"
     ]
    },
    {
     "name": "stdout",
     "output_type": "stream",
     "text": [
      "19929\n",
      "80921\n",
      "Epoch 01567 | Loss 0.1164 | train_RMSE 0.2778 | test_RMSE 0.2729 \n",
      "19929\n",
      "80921\n",
      "Epoch 01568 | Loss 0.1158 | train_RMSE 0.2772 | test_RMSE 0.2724 \n",
      "19929\n",
      "80921\n",
      "Epoch 01569 | Loss 0.1162 | train_RMSE 0.2777 | test_RMSE 0.2729 \n",
      "19929\n",
      "80921\n",
      "Epoch 01570 | Loss 0.1163 | train_RMSE 0.2770 | test_RMSE 0.2723 \n",
      "19929\n"
     ]
    },
    {
     "name": "stderr",
     "output_type": "stream",
     "text": [
      "\r",
      " 79%|██████████████████████████████▋        | 1574/2000 [01:15<00:20, 21.15it/s]"
     ]
    },
    {
     "name": "stdout",
     "output_type": "stream",
     "text": [
      "80921\n",
      "Epoch 01571 | Loss 0.1165 | train_RMSE 0.2776 | test_RMSE 0.2728 \n",
      "19929\n",
      "80921\n",
      "Epoch 01572 | Loss 0.1154 | train_RMSE 0.2777 | test_RMSE 0.2729 \n",
      "19929\n",
      "80921\n",
      "Epoch 01573 | Loss 0.1162 | train_RMSE 0.2770 | test_RMSE 0.2724 \n",
      "19929\n",
      "80921\n",
      "Epoch 01574 | Loss 0.1159 | train_RMSE 0.2783 | test_RMSE 0.2733 \n",
      "19929\n",
      "80921\n",
      "Epoch 01575 | Loss 0.1153 | train_RMSE 0.2770 | test_RMSE 0.2723 \n"
     ]
    },
    {
     "name": "stderr",
     "output_type": "stream",
     "text": [
      " 79%|██████████████████████████████▊        | 1580/2000 [01:15<00:19, 21.07it/s]"
     ]
    },
    {
     "name": "stdout",
     "output_type": "stream",
     "text": [
      "19929\n",
      "80921\n",
      "Epoch 01576 | Loss 0.1153 | train_RMSE 0.2771 | test_RMSE 0.2724 \n",
      "19929\n",
      "80921\n",
      "Epoch 01577 | Loss 0.1162 | train_RMSE 0.2786 | test_RMSE 0.2736 \n",
      "19929\n",
      "80921\n",
      "Epoch 01578 | Loss 0.1172 | train_RMSE 0.2770 | test_RMSE 0.2723 \n",
      "19929\n",
      "80921\n",
      "Epoch 01579 | Loss 0.1163 | train_RMSE 0.2781 | test_RMSE 0.2733 \n",
      "19929\n"
     ]
    },
    {
     "name": "stderr",
     "output_type": "stream",
     "text": [
      "\r",
      " 79%|██████████████████████████████▊        | 1583/2000 [01:15<00:19, 21.11it/s]"
     ]
    },
    {
     "name": "stdout",
     "output_type": "stream",
     "text": [
      "80921\n",
      "Epoch 01580 | Loss 0.1170 | train_RMSE 0.2773 | test_RMSE 0.2725 \n",
      "19929\n",
      "80921\n",
      "Epoch 01581 | Loss 0.1162 | train_RMSE 0.2771 | test_RMSE 0.2724 \n",
      "19929\n",
      "80921\n",
      "Epoch 01582 | Loss 0.1160 | train_RMSE 0.2784 | test_RMSE 0.2736 \n",
      "19929\n",
      "80921\n",
      "Epoch 01583 | Loss 0.1163 | train_RMSE 0.2771 | test_RMSE 0.2724 \n",
      "19929\n",
      "80921\n",
      "Epoch 01584 | Loss 0.1168 | train_RMSE 0.2791 | test_RMSE 0.2741 \n"
     ]
    },
    {
     "name": "stderr",
     "output_type": "stream",
     "text": [
      " 79%|██████████████████████████████▉        | 1589/2000 [01:15<00:19, 21.15it/s]"
     ]
    },
    {
     "name": "stdout",
     "output_type": "stream",
     "text": [
      "19929\n",
      "80921\n",
      "Epoch 01585 | Loss 0.1162 | train_RMSE 0.2771 | test_RMSE 0.2724 \n",
      "19929\n",
      "80921\n",
      "Epoch 01586 | Loss 0.1165 | train_RMSE 0.2774 | test_RMSE 0.2726 \n",
      "19929\n",
      "80921\n",
      "Epoch 01587 | Loss 0.1154 | train_RMSE 0.2781 | test_RMSE 0.2732 \n",
      "19929\n",
      "80921\n",
      "Epoch 01588 | Loss 0.1169 | train_RMSE 0.2770 | test_RMSE 0.2723 \n",
      "19929\n"
     ]
    },
    {
     "name": "stderr",
     "output_type": "stream",
     "text": [
      "\r",
      " 80%|███████████████████████████████        | 1592/2000 [01:15<00:19, 21.19it/s]"
     ]
    },
    {
     "name": "stdout",
     "output_type": "stream",
     "text": [
      "80921\n",
      "Epoch 01589 | Loss 0.1170 | train_RMSE 0.2791 | test_RMSE 0.2742 \n",
      "19929\n",
      "80921\n",
      "Epoch 01590 | Loss 0.1164 | train_RMSE 0.2769 | test_RMSE 0.2723 \n",
      "19929\n",
      "80921\n",
      "Epoch 01591 | Loss 0.1170 | train_RMSE 0.2786 | test_RMSE 0.2736 \n",
      "19929\n",
      "80921\n",
      "Epoch 01592 | Loss 0.1157 | train_RMSE 0.2772 | test_RMSE 0.2724 \n",
      "19929\n",
      "80921\n",
      "Epoch 01593 | Loss 0.1159 | train_RMSE 0.2771 | test_RMSE 0.2724 \n"
     ]
    },
    {
     "name": "stderr",
     "output_type": "stream",
     "text": [
      " 80%|███████████████████████████████▏       | 1598/2000 [01:16<00:19, 21.14it/s]"
     ]
    },
    {
     "name": "stdout",
     "output_type": "stream",
     "text": [
      "19929\n",
      "80921\n",
      "Epoch 01594 | Loss 0.1153 | train_RMSE 0.2786 | test_RMSE 0.2737 \n",
      "19929\n",
      "80921\n",
      "Epoch 01595 | Loss 0.1159 | train_RMSE 0.2770 | test_RMSE 0.2724 \n",
      "19929\n",
      "80921\n",
      "Epoch 01596 | Loss 0.1163 | train_RMSE 0.2801 | test_RMSE 0.2750 \n",
      "19929\n",
      "80921\n",
      "Epoch 01597 | Loss 0.1168 | train_RMSE 0.2769 | test_RMSE 0.2723 \n",
      "19929\n"
     ]
    },
    {
     "name": "stderr",
     "output_type": "stream",
     "text": [
      "\r",
      " 80%|███████████████████████████████▏       | 1601/2000 [01:16<00:18, 21.14it/s]"
     ]
    },
    {
     "name": "stdout",
     "output_type": "stream",
     "text": [
      "80921\n",
      "Epoch 01598 | Loss 0.1163 | train_RMSE 0.2778 | test_RMSE 0.2730 \n",
      "19929\n",
      "80921\n",
      "Epoch 01599 | Loss 0.1157 | train_RMSE 0.2780 | test_RMSE 0.2731 \n",
      "19929\n",
      "80921\n",
      "Epoch 01600 | Loss 0.1154 | train_RMSE 0.2769 | test_RMSE 0.2723 \n",
      "19929\n",
      "80921\n",
      "Epoch 01601 | Loss 0.1158 | train_RMSE 0.2795 | test_RMSE 0.2746 \n",
      "19929\n",
      "80921\n",
      "Epoch 01602 | Loss 0.1163 | train_RMSE 0.2773 | test_RMSE 0.2727 \n"
     ]
    },
    {
     "name": "stderr",
     "output_type": "stream",
     "text": [
      " 80%|███████████████████████████████▎       | 1607/2000 [01:16<00:18, 21.20it/s]"
     ]
    },
    {
     "name": "stdout",
     "output_type": "stream",
     "text": [
      "19929\n",
      "80921\n",
      "Epoch 01603 | Loss 0.1161 | train_RMSE 0.2785 | test_RMSE 0.2736 \n",
      "19929\n",
      "80921\n",
      "Epoch 01604 | Loss 0.1159 | train_RMSE 0.2772 | test_RMSE 0.2725 \n",
      "19929\n",
      "80921\n",
      "Epoch 01605 | Loss 0.1170 | train_RMSE 0.2770 | test_RMSE 0.2722 \n",
      "19929\n",
      "80921\n",
      "Epoch 01606 | Loss 0.1170 | train_RMSE 0.2792 | test_RMSE 0.2742 \n",
      "19929\n",
      "80921\n",
      "Epoch 01607 | Loss 0.1167 | train_RMSE 0.2769 | test_RMSE 0.2724 \n"
     ]
    },
    {
     "name": "stderr",
     "output_type": "stream",
     "text": [
      "\r",
      " 80%|███████████████████████████████▍       | 1610/2000 [01:16<00:18, 21.17it/s]"
     ]
    },
    {
     "name": "stdout",
     "output_type": "stream",
     "text": [
      "19929\n",
      "80921\n",
      "Epoch 01608 | Loss 0.1166 | train_RMSE 0.2788 | test_RMSE 0.2739 \n",
      "19929\n",
      "80921\n",
      "Epoch 01609 | Loss 0.1162 | train_RMSE 0.2771 | test_RMSE 0.2723 \n",
      "19929\n",
      "80921\n",
      "Epoch 01610 | Loss 0.1161 | train_RMSE 0.2767 | test_RMSE 0.2721 \n",
      "19929\n",
      "80921\n",
      "Epoch 01611 | Loss 0.1161 | train_RMSE 0.2785 | test_RMSE 0.2736 \n",
      "19929\n"
     ]
    },
    {
     "name": "stderr",
     "output_type": "stream",
     "text": [
      " 81%|███████████████████████████████▌       | 1616/2000 [01:17<00:18, 21.20it/s]"
     ]
    },
    {
     "name": "stdout",
     "output_type": "stream",
     "text": [
      "80921\n",
      "Epoch 01612 | Loss 0.1161 | train_RMSE 0.2768 | test_RMSE 0.2721 \n",
      "19929\n",
      "80921\n",
      "Epoch 01613 | Loss 0.1175 | train_RMSE 0.2785 | test_RMSE 0.2737 \n",
      "19929\n",
      "80921\n",
      "Epoch 01614 | Loss 0.1163 | train_RMSE 0.2770 | test_RMSE 0.2723 \n",
      "19929\n",
      "80921\n",
      "Epoch 01615 | Loss 0.1153 | train_RMSE 0.2770 | test_RMSE 0.2722 \n",
      "19929\n",
      "80921\n",
      "Epoch 01616 | Loss 0.1161 | train_RMSE 0.2786 | test_RMSE 0.2737 \n"
     ]
    },
    {
     "name": "stderr",
     "output_type": "stream",
     "text": [
      "\r",
      " 81%|███████████████████████████████▌       | 1619/2000 [01:17<00:17, 21.19it/s]"
     ]
    },
    {
     "name": "stdout",
     "output_type": "stream",
     "text": [
      "19929\n",
      "80921\n",
      "Epoch 01617 | Loss 0.1156 | train_RMSE 0.2769 | test_RMSE 0.2722 \n",
      "19929\n",
      "80921\n",
      "Epoch 01618 | Loss 0.1167 | train_RMSE 0.2784 | test_RMSE 0.2734 \n",
      "19929\n",
      "80921\n",
      "Epoch 01619 | Loss 0.1150 | train_RMSE 0.2774 | test_RMSE 0.2726 \n",
      "19929\n",
      "80921\n",
      "Epoch 01620 | Loss 0.1173 | train_RMSE 0.2769 | test_RMSE 0.2722 \n",
      "19929\n"
     ]
    },
    {
     "name": "stderr",
     "output_type": "stream",
     "text": [
      " 81%|███████████████████████████████▋       | 1625/2000 [01:17<00:17, 21.18it/s]"
     ]
    },
    {
     "name": "stdout",
     "output_type": "stream",
     "text": [
      "80921\n",
      "Epoch 01621 | Loss 0.1163 | train_RMSE 0.2784 | test_RMSE 0.2734 \n",
      "19929\n",
      "80921\n",
      "Epoch 01622 | Loss 0.1162 | train_RMSE 0.2767 | test_RMSE 0.2721 \n",
      "19929\n",
      "80921\n",
      "Epoch 01623 | Loss 0.1170 | train_RMSE 0.2774 | test_RMSE 0.2726 \n",
      "19929\n",
      "80921\n",
      "Epoch 01624 | Loss 0.1159 | train_RMSE 0.2781 | test_RMSE 0.2732 \n",
      "19929\n",
      "80921\n",
      "Epoch 01625 | Loss 0.1161 | train_RMSE 0.2769 | test_RMSE 0.2722 \n"
     ]
    },
    {
     "name": "stderr",
     "output_type": "stream",
     "text": [
      " 82%|███████████████████████████████▊       | 1631/2000 [01:17<00:17, 21.20it/s]"
     ]
    },
    {
     "name": "stdout",
     "output_type": "stream",
     "text": [
      "19929\n",
      "80921\n",
      "Epoch 01626 | Loss 0.1165 | train_RMSE 0.2783 | test_RMSE 0.2735 \n",
      "19929\n",
      "80921\n",
      "Epoch 01627 | Loss 0.1165 | train_RMSE 0.2767 | test_RMSE 0.2720 \n",
      "19929\n",
      "80921\n",
      "Epoch 01628 | Loss 0.1159 | train_RMSE 0.2775 | test_RMSE 0.2727 \n",
      "19929\n",
      "80921\n",
      "Epoch 01629 | Loss 0.1153 | train_RMSE 0.2781 | test_RMSE 0.2733 \n",
      "19929\n",
      "80921\n",
      "Epoch 01630 | Loss 0.1163 | train_RMSE 0.2769 | test_RMSE 0.2723 \n"
     ]
    },
    {
     "name": "stderr",
     "output_type": "stream",
     "text": [
      "\r",
      " 82%|███████████████████████████████▊       | 1634/2000 [01:17<00:17, 21.20it/s]"
     ]
    },
    {
     "name": "stdout",
     "output_type": "stream",
     "text": [
      "19929\n",
      "80921\n",
      "Epoch 01631 | Loss 0.1166 | train_RMSE 0.2784 | test_RMSE 0.2734 \n",
      "19929\n",
      "80921\n",
      "Epoch 01632 | Loss 0.1163 | train_RMSE 0.2770 | test_RMSE 0.2722 \n",
      "19929\n",
      "80921\n",
      "Epoch 01633 | Loss 0.1159 | train_RMSE 0.2768 | test_RMSE 0.2721 \n",
      "19929\n",
      "80921\n",
      "Epoch 01634 | Loss 0.1159 | train_RMSE 0.2786 | test_RMSE 0.2737 \n",
      "19929\n",
      "80921\n",
      "Epoch 01635 | Loss 0.1156 | train_RMSE 0.2772 | test_RMSE 0.2725 \n"
     ]
    },
    {
     "name": "stderr",
     "output_type": "stream",
     "text": [
      " 82%|███████████████████████████████▉       | 1640/2000 [01:18<00:17, 21.17it/s]"
     ]
    },
    {
     "name": "stdout",
     "output_type": "stream",
     "text": [
      "19929\n",
      "80921\n",
      "Epoch 01636 | Loss 0.1164 | train_RMSE 0.2786 | test_RMSE 0.2736 \n",
      "19929\n",
      "80921\n",
      "Epoch 01637 | Loss 0.1161 | train_RMSE 0.2767 | test_RMSE 0.2720 \n",
      "19929\n",
      "80921\n",
      "Epoch 01638 | Loss 0.1162 | train_RMSE 0.2768 | test_RMSE 0.2721 \n",
      "19929\n",
      "80921\n",
      "Epoch 01639 | Loss 0.1159 | train_RMSE 0.2786 | test_RMSE 0.2736 \n",
      "19929\n"
     ]
    },
    {
     "name": "stderr",
     "output_type": "stream",
     "text": [
      "\r",
      " 82%|████████████████████████████████       | 1643/2000 [01:18<00:16, 21.15it/s]"
     ]
    },
    {
     "name": "stdout",
     "output_type": "stream",
     "text": [
      "80921\n",
      "Epoch 01640 | Loss 0.1159 | train_RMSE 0.2767 | test_RMSE 0.2721 \n",
      "19929\n",
      "80921\n",
      "Epoch 01641 | Loss 0.1165 | train_RMSE 0.2780 | test_RMSE 0.2732 \n",
      "19929\n",
      "80921\n",
      "Epoch 01642 | Loss 0.1166 | train_RMSE 0.2769 | test_RMSE 0.2721 \n",
      "19929\n",
      "80921\n",
      "Epoch 01643 | Loss 0.1160 | train_RMSE 0.2769 | test_RMSE 0.2721 \n",
      "19929\n",
      "80921\n",
      "Epoch 01644 | Loss 0.1163 | train_RMSE 0.2783 | test_RMSE 0.2734 \n"
     ]
    },
    {
     "name": "stderr",
     "output_type": "stream",
     "text": [
      " 82%|████████████████████████████████▏      | 1649/2000 [01:18<00:16, 21.20it/s]"
     ]
    },
    {
     "name": "stdout",
     "output_type": "stream",
     "text": [
      "19929\n",
      "80921\n",
      "Epoch 01645 | Loss 0.1154 | train_RMSE 0.2768 | test_RMSE 0.2722 \n",
      "19929\n",
      "80921\n",
      "Epoch 01646 | Loss 0.1156 | train_RMSE 0.2782 | test_RMSE 0.2733 \n",
      "19929\n",
      "80921\n",
      "Epoch 01647 | Loss 0.1161 | train_RMSE 0.2770 | test_RMSE 0.2722 \n",
      "19929\n",
      "80921\n",
      "Epoch 01648 | Loss 0.1154 | train_RMSE 0.2766 | test_RMSE 0.2719 \n",
      "19929\n",
      "80921\n",
      "Epoch 01649 | Loss 0.1152 | train_RMSE 0.2782 | test_RMSE 0.2733 \n"
     ]
    },
    {
     "name": "stderr",
     "output_type": "stream",
     "text": [
      "\r",
      " 83%|████████████████████████████████▏      | 1652/2000 [01:18<00:16, 21.16it/s]"
     ]
    },
    {
     "name": "stdout",
     "output_type": "stream",
     "text": [
      "19929\n",
      "80921\n",
      "Epoch 01650 | Loss 0.1155 | train_RMSE 0.2767 | test_RMSE 0.2720 \n",
      "19929\n",
      "80921\n",
      "Epoch 01651 | Loss 0.1158 | train_RMSE 0.2782 | test_RMSE 0.2733 \n",
      "19929\n",
      "80921\n",
      "Epoch 01652 | Loss 0.1157 | train_RMSE 0.2765 | test_RMSE 0.2718 \n",
      "19929\n",
      "80921\n",
      "Epoch 01653 | Loss 0.1153 | train_RMSE 0.2768 | test_RMSE 0.2720 \n",
      "19929\n"
     ]
    },
    {
     "name": "stderr",
     "output_type": "stream",
     "text": [
      " 83%|████████████████████████████████▎      | 1658/2000 [01:19<00:16, 21.18it/s]"
     ]
    },
    {
     "name": "stdout",
     "output_type": "stream",
     "text": [
      "80921\n",
      "Epoch 01654 | Loss 0.1155 | train_RMSE 0.2776 | test_RMSE 0.2727 \n",
      "19929\n",
      "80921\n",
      "Epoch 01655 | Loss 0.1153 | train_RMSE 0.2765 | test_RMSE 0.2718 \n",
      "19929\n",
      "80921\n",
      "Epoch 01656 | Loss 0.1165 | train_RMSE 0.2783 | test_RMSE 0.2734 \n",
      "19929\n",
      "80921\n",
      "Epoch 01657 | Loss 0.1157 | train_RMSE 0.2763 | test_RMSE 0.2717 \n",
      "19929\n",
      "80921\n",
      "Epoch 01658 | Loss 0.1158 | train_RMSE 0.2768 | test_RMSE 0.2719 \n"
     ]
    },
    {
     "name": "stderr",
     "output_type": "stream",
     "text": [
      " 83%|████████████████████████████████▍      | 1664/2000 [01:19<00:15, 21.21it/s]"
     ]
    },
    {
     "name": "stdout",
     "output_type": "stream",
     "text": [
      "19929\n",
      "80921\n",
      "Epoch 01659 | Loss 0.1151 | train_RMSE 0.2772 | test_RMSE 0.2723 \n",
      "19929\n",
      "80921\n",
      "Epoch 01660 | Loss 0.1154 | train_RMSE 0.2765 | test_RMSE 0.2719 \n",
      "19929\n",
      "80921\n",
      "Epoch 01661 | Loss 0.1162 | train_RMSE 0.2785 | test_RMSE 0.2736 \n",
      "19929\n",
      "80921\n",
      "Epoch 01662 | Loss 0.1158 | train_RMSE 0.2764 | test_RMSE 0.2718 \n",
      "19929\n",
      "80921\n",
      "Epoch 01663 | Loss 0.1166 | train_RMSE 0.2772 | test_RMSE 0.2723 \n"
     ]
    },
    {
     "name": "stderr",
     "output_type": "stream",
     "text": [
      "\r",
      " 83%|████████████████████████████████▌      | 1667/2000 [01:19<00:15, 21.21it/s]"
     ]
    },
    {
     "name": "stdout",
     "output_type": "stream",
     "text": [
      "19929\n",
      "80921\n",
      "Epoch 01664 | Loss 0.1152 | train_RMSE 0.2771 | test_RMSE 0.2723 \n",
      "19929\n",
      "80921\n",
      "Epoch 01665 | Loss 0.1155 | train_RMSE 0.2763 | test_RMSE 0.2717 \n",
      "19929\n",
      "80921\n",
      "Epoch 01666 | Loss 0.1156 | train_RMSE 0.2781 | test_RMSE 0.2732 \n",
      "19929\n",
      "80921\n",
      "Epoch 01667 | Loss 0.1163 | train_RMSE 0.2766 | test_RMSE 0.2719 \n",
      "19929\n",
      "80921\n",
      "Epoch 01668 | Loss 0.1166 | train_RMSE 0.2770 | test_RMSE 0.2722 \n"
     ]
    },
    {
     "name": "stderr",
     "output_type": "stream",
     "text": [
      " 84%|████████████████████████████████▌      | 1673/2000 [01:19<00:15, 21.21it/s]"
     ]
    },
    {
     "name": "stdout",
     "output_type": "stream",
     "text": [
      "19929\n",
      "80921\n",
      "Epoch 01669 | Loss 0.1153 | train_RMSE 0.2771 | test_RMSE 0.2723 \n",
      "19929\n",
      "80921\n",
      "Epoch 01670 | Loss 0.1160 | train_RMSE 0.2762 | test_RMSE 0.2715 \n",
      "19929\n",
      "80921\n",
      "Epoch 01671 | Loss 0.1154 | train_RMSE 0.2784 | test_RMSE 0.2735 \n",
      "19929\n",
      "80921\n",
      "Epoch 01672 | Loss 0.1161 | train_RMSE 0.2765 | test_RMSE 0.2718 \n",
      "19929\n"
     ]
    },
    {
     "name": "stderr",
     "output_type": "stream",
     "text": [
      "\r",
      " 84%|████████████████████████████████▋      | 1676/2000 [01:19<00:15, 21.20it/s]"
     ]
    },
    {
     "name": "stdout",
     "output_type": "stream",
     "text": [
      "80921\n",
      "Epoch 01673 | Loss 0.1164 | train_RMSE 0.2778 | test_RMSE 0.2729 \n",
      "19929\n",
      "80921\n",
      "Epoch 01674 | Loss 0.1159 | train_RMSE 0.2762 | test_RMSE 0.2715 \n",
      "19929\n",
      "80921\n",
      "Epoch 01675 | Loss 0.1152 | train_RMSE 0.2769 | test_RMSE 0.2720 \n",
      "19929\n",
      "80921\n",
      "Epoch 01676 | Loss 0.1159 | train_RMSE 0.2768 | test_RMSE 0.2720 \n",
      "19929\n",
      "80921\n",
      "Epoch 01677 | Loss 0.1163 | train_RMSE 0.2764 | test_RMSE 0.2718 \n"
     ]
    },
    {
     "name": "stderr",
     "output_type": "stream",
     "text": [
      " 84%|████████████████████████████████▊      | 1682/2000 [01:20<00:14, 21.23it/s]"
     ]
    },
    {
     "name": "stdout",
     "output_type": "stream",
     "text": [
      "19929\n",
      "80921\n",
      "Epoch 01678 | Loss 0.1158 | train_RMSE 0.2782 | test_RMSE 0.2732 \n",
      "19929\n",
      "80921\n",
      "Epoch 01679 | Loss 0.1158 | train_RMSE 0.2763 | test_RMSE 0.2716 \n",
      "19929\n",
      "80921\n",
      "Epoch 01680 | Loss 0.1157 | train_RMSE 0.2776 | test_RMSE 0.2728 \n",
      "19929\n",
      "80921\n",
      "Epoch 01681 | Loss 0.1163 | train_RMSE 0.2764 | test_RMSE 0.2717 \n",
      "19929\n",
      "80921\n",
      "Epoch 01682 | Loss 0.1154 | train_RMSE 0.2767 | test_RMSE 0.2719 \n"
     ]
    },
    {
     "name": "stderr",
     "output_type": "stream",
     "text": [
      " 84%|████████████████████████████████▉      | 1688/2000 [01:20<00:14, 21.20it/s]"
     ]
    },
    {
     "name": "stdout",
     "output_type": "stream",
     "text": [
      "19929\n",
      "80921\n",
      "Epoch 01683 | Loss 0.1160 | train_RMSE 0.2787 | test_RMSE 0.2738 \n",
      "19929\n",
      "80921\n",
      "Epoch 01684 | Loss 0.1163 | train_RMSE 0.2763 | test_RMSE 0.2717 \n",
      "19929\n",
      "80921\n",
      "Epoch 01685 | Loss 0.1159 | train_RMSE 0.2782 | test_RMSE 0.2731 \n",
      "19929\n",
      "80921\n",
      "Epoch 01686 | Loss 0.1159 | train_RMSE 0.2764 | test_RMSE 0.2717 \n",
      "19929\n",
      "80921\n",
      "Epoch 01687 | Loss 0.1159 | train_RMSE 0.2766 | test_RMSE 0.2718 \n"
     ]
    },
    {
     "name": "stderr",
     "output_type": "stream",
     "text": [
      "\r",
      " 85%|████████████████████████████████▉      | 1691/2000 [01:20<00:14, 21.23it/s]"
     ]
    },
    {
     "name": "stdout",
     "output_type": "stream",
     "text": [
      "19929\n",
      "80921\n",
      "Epoch 01688 | Loss 0.1158 | train_RMSE 0.2778 | test_RMSE 0.2729 \n",
      "19929\n",
      "80921\n",
      "Epoch 01689 | Loss 0.1161 | train_RMSE 0.2765 | test_RMSE 0.2719 \n",
      "19929\n",
      "80921\n",
      "Epoch 01690 | Loss 0.1155 | train_RMSE 0.2770 | test_RMSE 0.2721 \n",
      "19929\n",
      "80921\n",
      "Epoch 01691 | Loss 0.1160 | train_RMSE 0.2766 | test_RMSE 0.2717 \n",
      "19929\n",
      "80921\n",
      "Epoch 01692 | Loss 0.1156 | train_RMSE 0.2766 | test_RMSE 0.2719 \n"
     ]
    },
    {
     "name": "stderr",
     "output_type": "stream",
     "text": [
      " 85%|█████████████████████████████████      | 1697/2000 [01:20<00:14, 21.19it/s]"
     ]
    },
    {
     "name": "stdout",
     "output_type": "stream",
     "text": [
      "19929\n",
      "80921\n",
      "Epoch 01693 | Loss 0.1155 | train_RMSE 0.2770 | test_RMSE 0.2721 \n",
      "19929\n",
      "80921\n",
      "Epoch 01694 | Loss 0.1155 | train_RMSE 0.2767 | test_RMSE 0.2719 \n",
      "19929\n",
      "80921\n",
      "Epoch 01695 | Loss 0.1160 | train_RMSE 0.2765 | test_RMSE 0.2718 \n",
      "19929\n",
      "80921\n",
      "Epoch 01696 | Loss 0.1159 | train_RMSE 0.2774 | test_RMSE 0.2725 \n",
      "19929\n"
     ]
    },
    {
     "name": "stderr",
     "output_type": "stream",
     "text": [
      "\r",
      " 85%|█████████████████████████████████▏     | 1700/2000 [01:21<00:14, 21.21it/s]"
     ]
    },
    {
     "name": "stdout",
     "output_type": "stream",
     "text": [
      "80921\n",
      "Epoch 01697 | Loss 0.1161 | train_RMSE 0.2764 | test_RMSE 0.2717 \n",
      "19929\n",
      "80921\n",
      "Epoch 01698 | Loss 0.1157 | train_RMSE 0.2773 | test_RMSE 0.2725 \n",
      "19929\n",
      "80921\n",
      "Epoch 01699 | Loss 0.1160 | train_RMSE 0.2766 | test_RMSE 0.2719 \n",
      "19929\n",
      "80921\n",
      "Epoch 01700 | Loss 0.1161 | train_RMSE 0.2768 | test_RMSE 0.2720 \n",
      "19929\n",
      "80921\n",
      "Epoch 01701 | Loss 0.1153 | train_RMSE 0.2775 | test_RMSE 0.2726 \n"
     ]
    },
    {
     "name": "stderr",
     "output_type": "stream",
     "text": [
      " 85%|█████████████████████████████████▎     | 1706/2000 [01:21<00:13, 21.21it/s]"
     ]
    },
    {
     "name": "stdout",
     "output_type": "stream",
     "text": [
      "19929\n",
      "80921\n",
      "Epoch 01702 | Loss 0.1157 | train_RMSE 0.2764 | test_RMSE 0.2718 \n",
      "19929\n",
      "80921\n",
      "Epoch 01703 | Loss 0.1161 | train_RMSE 0.2778 | test_RMSE 0.2729 \n",
      "19929\n",
      "80921\n",
      "Epoch 01704 | Loss 0.1157 | train_RMSE 0.2766 | test_RMSE 0.2718 \n",
      "19929\n",
      "80921\n",
      "Epoch 01705 | Loss 0.1155 | train_RMSE 0.2772 | test_RMSE 0.2725 \n",
      "19929\n"
     ]
    },
    {
     "name": "stderr",
     "output_type": "stream",
     "text": [
      "\r",
      " 85%|█████████████████████████████████▎     | 1709/2000 [01:21<00:13, 21.22it/s]"
     ]
    },
    {
     "name": "stdout",
     "output_type": "stream",
     "text": [
      "80921\n",
      "Epoch 01706 | Loss 0.1158 | train_RMSE 0.2766 | test_RMSE 0.2718 \n",
      "19929\n",
      "80921\n",
      "Epoch 01707 | Loss 0.1158 | train_RMSE 0.2771 | test_RMSE 0.2722 \n",
      "19929\n",
      "80921\n",
      "Epoch 01708 | Loss 0.1155 | train_RMSE 0.2772 | test_RMSE 0.2724 \n",
      "19929\n",
      "80921\n",
      "Epoch 01709 | Loss 0.1151 | train_RMSE 0.2765 | test_RMSE 0.2717 \n",
      "19929\n",
      "80921\n",
      "Epoch 01710 | Loss 0.1158 | train_RMSE 0.2774 | test_RMSE 0.2725 \n"
     ]
    },
    {
     "name": "stderr",
     "output_type": "stream",
     "text": [
      " 86%|█████████████████████████████████▍     | 1715/2000 [01:21<00:13, 21.24it/s]"
     ]
    },
    {
     "name": "stdout",
     "output_type": "stream",
     "text": [
      "19929\n",
      "80921\n",
      "Epoch 01711 | Loss 0.1155 | train_RMSE 0.2764 | test_RMSE 0.2717 \n",
      "19929\n",
      "80921\n",
      "Epoch 01712 | Loss 0.1152 | train_RMSE 0.2769 | test_RMSE 0.2721 \n",
      "19929\n",
      "80921\n",
      "Epoch 01713 | Loss 0.1154 | train_RMSE 0.2770 | test_RMSE 0.2722 \n",
      "19929\n",
      "80921\n",
      "Epoch 01714 | Loss 0.1155 | train_RMSE 0.2763 | test_RMSE 0.2716 \n",
      "19929\n",
      "80921\n",
      "Epoch 01715 | Loss 0.1150 | train_RMSE 0.2777 | test_RMSE 0.2727 \n"
     ]
    },
    {
     "name": "stderr",
     "output_type": "stream",
     "text": [
      "\r",
      " 86%|█████████████████████████████████▌     | 1718/2000 [01:21<00:13, 21.22it/s]"
     ]
    },
    {
     "name": "stdout",
     "output_type": "stream",
     "text": [
      "19929\n",
      "80921\n",
      "Epoch 01716 | Loss 0.1153 | train_RMSE 0.2763 | test_RMSE 0.2716 \n",
      "19929\n",
      "80921\n",
      "Epoch 01717 | Loss 0.1156 | train_RMSE 0.2768 | test_RMSE 0.2720 \n",
      "19929\n",
      "80921\n",
      "Epoch 01718 | Loss 0.1148 | train_RMSE 0.2767 | test_RMSE 0.2719 \n",
      "19929\n",
      "80921\n",
      "Epoch 01719 | Loss 0.1155 | train_RMSE 0.2766 | test_RMSE 0.2718 \n",
      "19929\n"
     ]
    },
    {
     "name": "stderr",
     "output_type": "stream",
     "text": [
      " 86%|█████████████████████████████████▌     | 1724/2000 [01:22<00:13, 21.19it/s]"
     ]
    },
    {
     "name": "stdout",
     "output_type": "stream",
     "text": [
      "80921\n",
      "Epoch 01720 | Loss 0.1157 | train_RMSE 0.2764 | test_RMSE 0.2717 \n",
      "19929\n",
      "80921\n",
      "Epoch 01721 | Loss 0.1155 | train_RMSE 0.2770 | test_RMSE 0.2721 \n",
      "19929\n",
      "80921\n",
      "Epoch 01722 | Loss 0.1162 | train_RMSE 0.2766 | test_RMSE 0.2718 \n",
      "19929\n",
      "80921\n",
      "Epoch 01723 | Loss 0.1162 | train_RMSE 0.2762 | test_RMSE 0.2716 \n",
      "19929\n",
      "80921\n",
      "Epoch 01724 | Loss 0.1154 | train_RMSE 0.2774 | test_RMSE 0.2725 \n"
     ]
    },
    {
     "name": "stderr",
     "output_type": "stream",
     "text": [
      "\r",
      " 86%|█████████████████████████████████▋     | 1727/2000 [01:22<00:12, 21.16it/s]"
     ]
    },
    {
     "name": "stdout",
     "output_type": "stream",
     "text": [
      "19929\n",
      "80921\n",
      "Epoch 01725 | Loss 0.1158 | train_RMSE 0.2763 | test_RMSE 0.2716 \n",
      "19929\n",
      "80921\n",
      "Epoch 01726 | Loss 0.1150 | train_RMSE 0.2777 | test_RMSE 0.2729 \n",
      "19929\n",
      "80921\n",
      "Epoch 01727 | Loss 0.1152 | train_RMSE 0.2760 | test_RMSE 0.2714 \n",
      "19929\n",
      "80921\n",
      "Epoch 01728 | Loss 0.1156 | train_RMSE 0.2778 | test_RMSE 0.2728 \n",
      "19929\n"
     ]
    },
    {
     "name": "stderr",
     "output_type": "stream",
     "text": [
      " 87%|█████████████████████████████████▊     | 1733/2000 [01:22<00:12, 21.20it/s]"
     ]
    },
    {
     "name": "stdout",
     "output_type": "stream",
     "text": [
      "80921\n",
      "Epoch 01729 | Loss 0.1163 | train_RMSE 0.2763 | test_RMSE 0.2716 \n",
      "19929\n",
      "80921\n",
      "Epoch 01730 | Loss 0.1150 | train_RMSE 0.2767 | test_RMSE 0.2719 \n",
      "19929\n",
      "80921\n",
      "Epoch 01731 | Loss 0.1154 | train_RMSE 0.2770 | test_RMSE 0.2721 \n",
      "19929\n",
      "80921\n",
      "Epoch 01732 | Loss 0.1148 | train_RMSE 0.2762 | test_RMSE 0.2715 \n",
      "19929\n",
      "80921\n",
      "Epoch 01733 | Loss 0.1154 | train_RMSE 0.2771 | test_RMSE 0.2723 \n"
     ]
    },
    {
     "name": "stderr",
     "output_type": "stream",
     "text": [
      "\r",
      " 87%|█████████████████████████████████▊     | 1736/2000 [01:22<00:12, 21.21it/s]"
     ]
    },
    {
     "name": "stdout",
     "output_type": "stream",
     "text": [
      "19929\n",
      "80921\n",
      "Epoch 01734 | Loss 0.1152 | train_RMSE 0.2761 | test_RMSE 0.2714 \n",
      "19929\n",
      "80921\n",
      "Epoch 01735 | Loss 0.1153 | train_RMSE 0.2760 | test_RMSE 0.2713 \n",
      "19929\n",
      "80921\n",
      "Epoch 01736 | Loss 0.1148 | train_RMSE 0.2781 | test_RMSE 0.2731 \n",
      "19929\n",
      "80921\n",
      "Epoch 01737 | Loss 0.1154 | train_RMSE 0.2759 | test_RMSE 0.2714 \n",
      "19929\n"
     ]
    },
    {
     "name": "stderr",
     "output_type": "stream",
     "text": [
      " 87%|█████████████████████████████████▉     | 1742/2000 [01:23<00:12, 21.17it/s]"
     ]
    },
    {
     "name": "stdout",
     "output_type": "stream",
     "text": [
      "80921\n",
      "Epoch 01738 | Loss 0.1161 | train_RMSE 0.2785 | test_RMSE 0.2735 \n",
      "19929\n",
      "80921\n",
      "Epoch 01739 | Loss 0.1156 | train_RMSE 0.2760 | test_RMSE 0.2713 \n",
      "19929\n",
      "80921\n",
      "Epoch 01740 | Loss 0.1155 | train_RMSE 0.2768 | test_RMSE 0.2720 \n",
      "19929\n",
      "80921\n",
      "Epoch 01741 | Loss 0.1155 | train_RMSE 0.2765 | test_RMSE 0.2717 \n",
      "19929\n",
      "80921\n",
      "Epoch 01742 | Loss 0.1157 | train_RMSE 0.2761 | test_RMSE 0.2713 \n"
     ]
    },
    {
     "name": "stderr",
     "output_type": "stream",
     "text": [
      "\r",
      " 87%|██████████████████████████████████     | 1745/2000 [01:23<00:12, 21.18it/s]"
     ]
    },
    {
     "name": "stdout",
     "output_type": "stream",
     "text": [
      "19929\n",
      "80921\n",
      "Epoch 01743 | Loss 0.1153 | train_RMSE 0.2774 | test_RMSE 0.2725 \n",
      "19929\n",
      "80921\n",
      "Epoch 01744 | Loss 0.1158 | train_RMSE 0.2758 | test_RMSE 0.2712 \n",
      "19929\n",
      "80921\n",
      "Epoch 01745 | Loss 0.1155 | train_RMSE 0.2773 | test_RMSE 0.2723 \n",
      "19929\n",
      "80921\n",
      "Epoch 01746 | Loss 0.1158 | train_RMSE 0.2763 | test_RMSE 0.2715 \n",
      "19929\n",
      "80921\n",
      "Epoch 01747 | Loss 0.1151 | train_RMSE 0.2767 | test_RMSE 0.2719 \n"
     ]
    },
    {
     "name": "stderr",
     "output_type": "stream",
     "text": [
      " 88%|██████████████████████████████████▏    | 1751/2000 [01:23<00:11, 21.20it/s]"
     ]
    },
    {
     "name": "stdout",
     "output_type": "stream",
     "text": [
      "19929\n",
      "80921\n",
      "Epoch 01748 | Loss 0.1154 | train_RMSE 0.2762 | test_RMSE 0.2714 \n",
      "19929\n",
      "80921\n",
      "Epoch 01749 | Loss 0.1153 | train_RMSE 0.2765 | test_RMSE 0.2717 \n",
      "19929\n",
      "80921\n",
      "Epoch 01750 | Loss 0.1151 | train_RMSE 0.2761 | test_RMSE 0.2714 \n",
      "19929\n",
      "80921\n",
      "Epoch 01751 | Loss 0.1151 | train_RMSE 0.2767 | test_RMSE 0.2719 \n",
      "19929\n",
      "80921\n",
      "Epoch 01752 | Loss 0.1152 | train_RMSE 0.2765 | test_RMSE 0.2717 \n"
     ]
    },
    {
     "name": "stderr",
     "output_type": "stream",
     "text": [
      " 88%|██████████████████████████████████▎    | 1757/2000 [01:23<00:11, 21.22it/s]"
     ]
    },
    {
     "name": "stdout",
     "output_type": "stream",
     "text": [
      "19929\n",
      "80921\n",
      "Epoch 01753 | Loss 0.1148 | train_RMSE 0.2758 | test_RMSE 0.2711 \n",
      "19929\n",
      "80921\n",
      "Epoch 01754 | Loss 0.1160 | train_RMSE 0.2768 | test_RMSE 0.2720 \n",
      "19929\n",
      "80921\n",
      "Epoch 01755 | Loss 0.1160 | train_RMSE 0.2759 | test_RMSE 0.2712 \n",
      "19929\n",
      "80921\n",
      "Epoch 01756 | Loss 0.1151 | train_RMSE 0.2780 | test_RMSE 0.2730 \n",
      "19929\n",
      "80921\n",
      "Epoch 01757 | Loss 0.1152 | train_RMSE 0.2759 | test_RMSE 0.2713 \n"
     ]
    },
    {
     "name": "stderr",
     "output_type": "stream",
     "text": [
      " 88%|██████████████████████████████████▍    | 1763/2000 [01:24<00:11, 21.21it/s]"
     ]
    },
    {
     "name": "stdout",
     "output_type": "stream",
     "text": [
      "19929\n",
      "80921\n",
      "Epoch 01758 | Loss 0.1153 | train_RMSE 0.2770 | test_RMSE 0.2720 \n",
      "19929\n",
      "80921\n",
      "Epoch 01759 | Loss 0.1151 | train_RMSE 0.2760 | test_RMSE 0.2712 \n",
      "19929\n",
      "80921\n",
      "Epoch 01760 | Loss 0.1156 | train_RMSE 0.2761 | test_RMSE 0.2714 \n",
      "19929\n",
      "80921\n",
      "Epoch 01761 | Loss 0.1154 | train_RMSE 0.2772 | test_RMSE 0.2723 \n",
      "19929\n",
      "80921\n",
      "Epoch 01762 | Loss 0.1152 | train_RMSE 0.2759 | test_RMSE 0.2713 \n"
     ]
    },
    {
     "name": "stderr",
     "output_type": "stream",
     "text": [
      "\r",
      " 88%|██████████████████████████████████▍    | 1766/2000 [01:24<00:11, 21.21it/s]"
     ]
    },
    {
     "name": "stdout",
     "output_type": "stream",
     "text": [
      "19929\n",
      "80921\n",
      "Epoch 01763 | Loss 0.1159 | train_RMSE 0.2780 | test_RMSE 0.2730 \n",
      "19929\n",
      "80921\n",
      "Epoch 01764 | Loss 0.1159 | train_RMSE 0.2758 | test_RMSE 0.2711 \n",
      "19929\n",
      "80921\n",
      "Epoch 01765 | Loss 0.1152 | train_RMSE 0.2765 | test_RMSE 0.2716 \n",
      "19929\n",
      "80921\n",
      "Epoch 01766 | Loss 0.1152 | train_RMSE 0.2765 | test_RMSE 0.2718 \n",
      "19929\n",
      "80921\n",
      "Epoch 01767 | Loss 0.1157 | train_RMSE 0.2761 | test_RMSE 0.2713 \n"
     ]
    },
    {
     "name": "stderr",
     "output_type": "stream",
     "text": [
      " 89%|██████████████████████████████████▌    | 1772/2000 [01:24<00:10, 21.21it/s]"
     ]
    },
    {
     "name": "stdout",
     "output_type": "stream",
     "text": [
      "19929\n",
      "80921\n",
      "Epoch 01768 | Loss 0.1149 | train_RMSE 0.2780 | test_RMSE 0.2731 \n",
      "19929\n",
      "80921\n",
      "Epoch 01769 | Loss 0.1163 | train_RMSE 0.2758 | test_RMSE 0.2714 \n",
      "19929\n",
      "80921\n",
      "Epoch 01770 | Loss 0.1161 | train_RMSE 0.2783 | test_RMSE 0.2732 \n",
      "19929\n",
      "80921\n",
      "Epoch 01771 | Loss 0.1157 | train_RMSE 0.2758 | test_RMSE 0.2711 \n",
      "19929\n",
      "80921\n",
      "Epoch 01772 | Loss 0.1147 | train_RMSE 0.2762 | test_RMSE 0.2715 \n"
     ]
    },
    {
     "name": "stderr",
     "output_type": "stream",
     "text": [
      " 89%|██████████████████████████████████▋    | 1778/2000 [01:24<00:10, 21.19it/s]"
     ]
    },
    {
     "name": "stdout",
     "output_type": "stream",
     "text": [
      "19929\n",
      "80921\n",
      "Epoch 01773 | Loss 0.1155 | train_RMSE 0.2774 | test_RMSE 0.2724 \n",
      "19929\n",
      "80921\n",
      "Epoch 01774 | Loss 0.1157 | train_RMSE 0.2759 | test_RMSE 0.2713 \n",
      "19929\n",
      "80921\n",
      "Epoch 01775 | Loss 0.1149 | train_RMSE 0.2787 | test_RMSE 0.2738 \n",
      "19929\n",
      "80921\n",
      "Epoch 01776 | Loss 0.1156 | train_RMSE 0.2759 | test_RMSE 0.2713 \n",
      "19929\n",
      "80921\n",
      "Epoch 01777 | Loss 0.1154 | train_RMSE 0.2779 | test_RMSE 0.2729 \n"
     ]
    },
    {
     "name": "stderr",
     "output_type": "stream",
     "text": [
      "\r",
      " 89%|██████████████████████████████████▋    | 1781/2000 [01:24<00:10, 21.13it/s]"
     ]
    },
    {
     "name": "stdout",
     "output_type": "stream",
     "text": [
      "19929\n",
      "80921\n",
      "Epoch 01778 | Loss 0.1159 | train_RMSE 0.2762 | test_RMSE 0.2714 \n",
      "19929\n",
      "80921\n",
      "Epoch 01779 | Loss 0.1150 | train_RMSE 0.2760 | test_RMSE 0.2713 \n",
      "19929\n",
      "80921\n",
      "Epoch 01780 | Loss 0.1158 | train_RMSE 0.2778 | test_RMSE 0.2728 \n",
      "19929\n",
      "80921\n",
      "Epoch 01781 | Loss 0.1156 | train_RMSE 0.2761 | test_RMSE 0.2716 \n",
      "19929\n",
      "80921\n",
      "Epoch 01782 | Loss 0.1166 | train_RMSE 0.2795 | test_RMSE 0.2745 \n"
     ]
    },
    {
     "name": "stderr",
     "output_type": "stream",
     "text": [
      " 89%|██████████████████████████████████▊    | 1787/2000 [01:25<00:10, 21.18it/s]"
     ]
    },
    {
     "name": "stdout",
     "output_type": "stream",
     "text": [
      "19929\n",
      "80921\n",
      "Epoch 01783 | Loss 0.1158 | train_RMSE 0.2762 | test_RMSE 0.2716 \n",
      "19929\n",
      "80921\n",
      "Epoch 01784 | Loss 0.1159 | train_RMSE 0.2776 | test_RMSE 0.2727 \n",
      "19929\n",
      "80921\n",
      "Epoch 01785 | Loss 0.1147 | train_RMSE 0.2762 | test_RMSE 0.2715 \n",
      "19929\n",
      "80921\n",
      "Epoch 01786 | Loss 0.1148 | train_RMSE 0.2758 | test_RMSE 0.2711 \n",
      "19929\n",
      "80921\n",
      "Epoch 01787 | Loss 0.1151 | train_RMSE 0.2787 | test_RMSE 0.2737 \n"
     ]
    },
    {
     "name": "stderr",
     "output_type": "stream",
     "text": [
      "\r",
      " 90%|██████████████████████████████████▉    | 1790/2000 [01:25<00:09, 21.11it/s]"
     ]
    },
    {
     "name": "stdout",
     "output_type": "stream",
     "text": [
      "19929\n",
      "80921\n",
      "Epoch 01788 | Loss 0.1144 | train_RMSE 0.2764 | test_RMSE 0.2719 \n",
      "19929\n",
      "80921\n",
      "Epoch 01789 | Loss 0.1167 | train_RMSE 0.2802 | test_RMSE 0.2752 \n",
      "19929\n",
      "80921\n",
      "Epoch 01790 | Loss 0.1163 | train_RMSE 0.2761 | test_RMSE 0.2715 \n",
      "19929\n",
      "80921\n",
      "Epoch 01791 | Loss 0.1161 | train_RMSE 0.2770 | test_RMSE 0.2721 \n",
      "19929\n"
     ]
    },
    {
     "name": "stderr",
     "output_type": "stream",
     "text": [
      " 90%|███████████████████████████████████    | 1796/2000 [01:25<00:09, 21.16it/s]"
     ]
    },
    {
     "name": "stdout",
     "output_type": "stream",
     "text": [
      "80921\n",
      "Epoch 01792 | Loss 0.1155 | train_RMSE 0.2765 | test_RMSE 0.2717 \n",
      "19929\n",
      "80921\n",
      "Epoch 01793 | Loss 0.1147 | train_RMSE 0.2758 | test_RMSE 0.2712 \n",
      "19929\n",
      "80921\n",
      "Epoch 01794 | Loss 0.1154 | train_RMSE 0.2778 | test_RMSE 0.2729 \n",
      "19929\n",
      "80921\n",
      "Epoch 01795 | Loss 0.1150 | train_RMSE 0.2759 | test_RMSE 0.2713 \n",
      "19929\n",
      "80921\n",
      "Epoch 01796 | Loss 0.1158 | train_RMSE 0.2771 | test_RMSE 0.2722 \n"
     ]
    },
    {
     "name": "stderr",
     "output_type": "stream",
     "text": [
      "\r",
      " 90%|███████████████████████████████████    | 1799/2000 [01:25<00:09, 21.20it/s]"
     ]
    },
    {
     "name": "stdout",
     "output_type": "stream",
     "text": [
      "19929\n",
      "80921\n",
      "Epoch 01797 | Loss 0.1146 | train_RMSE 0.2760 | test_RMSE 0.2712 \n",
      "19929\n",
      "80921\n",
      "Epoch 01798 | Loss 0.1154 | train_RMSE 0.2763 | test_RMSE 0.2715 \n",
      "19929\n",
      "80921\n",
      "Epoch 01799 | Loss 0.1147 | train_RMSE 0.2771 | test_RMSE 0.2722 \n",
      "19929\n",
      "80921\n",
      "Epoch 01800 | Loss 0.1149 | train_RMSE 0.2758 | test_RMSE 0.2711 \n",
      "19929\n"
     ]
    },
    {
     "name": "stderr",
     "output_type": "stream",
     "text": [
      " 90%|███████████████████████████████████▏   | 1805/2000 [01:25<00:09, 21.08it/s]"
     ]
    },
    {
     "name": "stdout",
     "output_type": "stream",
     "text": [
      "80921\n",
      "Epoch 01801 | Loss 0.1148 | train_RMSE 0.2769 | test_RMSE 0.2721 \n",
      "19929\n",
      "80921\n",
      "Epoch 01802 | Loss 0.1155 | train_RMSE 0.2760 | test_RMSE 0.2712 \n",
      "19929\n",
      "80921\n",
      "Epoch 01803 | Loss 0.1149 | train_RMSE 0.2761 | test_RMSE 0.2714 \n",
      "19929\n",
      "80921\n",
      "Epoch 01804 | Loss 0.1146 | train_RMSE 0.2766 | test_RMSE 0.2718 \n",
      "19929\n",
      "80921\n",
      "Epoch 01805 | Loss 0.1155 | train_RMSE 0.2758 | test_RMSE 0.2710 \n"
     ]
    },
    {
     "name": "stderr",
     "output_type": "stream",
     "text": [
      "\r",
      " 90%|███████████████████████████████████▎   | 1808/2000 [01:26<00:09, 21.02it/s]"
     ]
    },
    {
     "name": "stdout",
     "output_type": "stream",
     "text": [
      "19929\n",
      "80921\n",
      "Epoch 01806 | Loss 0.1155 | train_RMSE 0.2765 | test_RMSE 0.2717 \n",
      "19929\n",
      "80921\n",
      "Epoch 01807 | Loss 0.1148 | train_RMSE 0.2760 | test_RMSE 0.2713 \n",
      "19929\n",
      "80921\n",
      "Epoch 01808 | Loss 0.1145 | train_RMSE 0.2760 | test_RMSE 0.2713 \n",
      "19929\n",
      "80921\n",
      "Epoch 01809 | Loss 0.1151 | train_RMSE 0.2765 | test_RMSE 0.2717 \n",
      "19929\n"
     ]
    },
    {
     "name": "stderr",
     "output_type": "stream",
     "text": [
      " 91%|███████████████████████████████████▎   | 1814/2000 [01:26<00:08, 21.06it/s]"
     ]
    },
    {
     "name": "stdout",
     "output_type": "stream",
     "text": [
      "80921\n",
      "Epoch 01810 | Loss 0.1145 | train_RMSE 0.2759 | test_RMSE 0.2711 \n",
      "19929\n",
      "80921\n",
      "Epoch 01811 | Loss 0.1149 | train_RMSE 0.2764 | test_RMSE 0.2715 \n",
      "19929\n",
      "80921\n",
      "Epoch 01812 | Loss 0.1155 | train_RMSE 0.2760 | test_RMSE 0.2713 \n",
      "19929\n",
      "80921\n",
      "Epoch 01813 | Loss 0.1145 | train_RMSE 0.2759 | test_RMSE 0.2711 \n",
      "19929\n",
      "80921\n",
      "Epoch 01814 | Loss 0.1147 | train_RMSE 0.2772 | test_RMSE 0.2722 \n"
     ]
    },
    {
     "name": "stderr",
     "output_type": "stream",
     "text": [
      "\r",
      " 91%|███████████████████████████████████▍   | 1817/2000 [01:26<00:08, 21.08it/s]"
     ]
    },
    {
     "name": "stdout",
     "output_type": "stream",
     "text": [
      "19929\n",
      "80921\n",
      "Epoch 01815 | Loss 0.1154 | train_RMSE 0.2755 | test_RMSE 0.2709 \n",
      "19929\n",
      "80921\n",
      "Epoch 01816 | Loss 0.1150 | train_RMSE 0.2774 | test_RMSE 0.2724 \n",
      "19929\n",
      "80921\n",
      "Epoch 01817 | Loss 0.1149 | train_RMSE 0.2757 | test_RMSE 0.2710 \n",
      "19929\n",
      "80921\n",
      "Epoch 01818 | Loss 0.1152 | train_RMSE 0.2763 | test_RMSE 0.2715 \n",
      "19929\n"
     ]
    },
    {
     "name": "stderr",
     "output_type": "stream",
     "text": [
      " 91%|███████████████████████████████████▌   | 1823/2000 [01:26<00:08, 21.11it/s]"
     ]
    },
    {
     "name": "stdout",
     "output_type": "stream",
     "text": [
      "80921\n",
      "Epoch 01819 | Loss 0.1146 | train_RMSE 0.2760 | test_RMSE 0.2712 \n",
      "19929\n",
      "80921\n",
      "Epoch 01820 | Loss 0.1153 | train_RMSE 0.2761 | test_RMSE 0.2713 \n",
      "19929\n",
      "80921\n",
      "Epoch 01821 | Loss 0.1145 | train_RMSE 0.2761 | test_RMSE 0.2714 \n",
      "19929\n",
      "80921\n",
      "Epoch 01822 | Loss 0.1146 | train_RMSE 0.2760 | test_RMSE 0.2712 \n",
      "19929\n",
      "80921\n",
      "Epoch 01823 | Loss 0.1154 | train_RMSE 0.2758 | test_RMSE 0.2710 \n"
     ]
    },
    {
     "name": "stderr",
     "output_type": "stream",
     "text": [
      "\r",
      " 91%|███████████████████████████████████▌   | 1826/2000 [01:26<00:08, 21.05it/s]"
     ]
    },
    {
     "name": "stdout",
     "output_type": "stream",
     "text": [
      "19929\n",
      "80921\n",
      "Epoch 01824 | Loss 0.1147 | train_RMSE 0.2768 | test_RMSE 0.2719 \n",
      "19929\n",
      "80921\n",
      "Epoch 01825 | Loss 0.1151 | train_RMSE 0.2756 | test_RMSE 0.2709 \n",
      "19929\n",
      "80921\n",
      "Epoch 01826 | Loss 0.1148 | train_RMSE 0.2774 | test_RMSE 0.2724 \n",
      "19929\n",
      "80921\n",
      "Epoch 01827 | Loss 0.1155 | train_RMSE 0.2754 | test_RMSE 0.2708 \n",
      "19929\n"
     ]
    },
    {
     "name": "stderr",
     "output_type": "stream",
     "text": [
      " 92%|███████████████████████████████████▋   | 1832/2000 [01:27<00:07, 21.12it/s]"
     ]
    },
    {
     "name": "stdout",
     "output_type": "stream",
     "text": [
      "80921\n",
      "Epoch 01828 | Loss 0.1157 | train_RMSE 0.2768 | test_RMSE 0.2719 \n",
      "19929\n",
      "80921\n",
      "Epoch 01829 | Loss 0.1154 | train_RMSE 0.2758 | test_RMSE 0.2710 \n",
      "19929\n",
      "80921\n",
      "Epoch 01830 | Loss 0.1146 | train_RMSE 0.2759 | test_RMSE 0.2712 \n",
      "19929\n",
      "80921\n",
      "Epoch 01831 | Loss 0.1145 | train_RMSE 0.2770 | test_RMSE 0.2721 \n",
      "19929\n",
      "80921\n",
      "Epoch 01832 | Loss 0.1143 | train_RMSE 0.2757 | test_RMSE 0.2710 \n"
     ]
    },
    {
     "name": "stderr",
     "output_type": "stream",
     "text": [
      " 92%|███████████████████████████████████▊   | 1838/2000 [01:27<00:07, 21.12it/s]"
     ]
    },
    {
     "name": "stdout",
     "output_type": "stream",
     "text": [
      "19929\n",
      "80921\n",
      "Epoch 01833 | Loss 0.1151 | train_RMSE 0.2781 | test_RMSE 0.2732 \n",
      "19929\n",
      "80921\n",
      "Epoch 01834 | Loss 0.1159 | train_RMSE 0.2758 | test_RMSE 0.2712 \n",
      "19929\n",
      "80921\n",
      "Epoch 01835 | Loss 0.1155 | train_RMSE 0.2776 | test_RMSE 0.2727 \n",
      "19929\n",
      "80921\n",
      "Epoch 01836 | Loss 0.1154 | train_RMSE 0.2755 | test_RMSE 0.2709 \n",
      "19929\n",
      "80921\n",
      "Epoch 01837 | Loss 0.1150 | train_RMSE 0.2767 | test_RMSE 0.2718 \n"
     ]
    },
    {
     "name": "stderr",
     "output_type": "stream",
     "text": [
      "\r",
      " 92%|███████████████████████████████████▉   | 1841/2000 [01:27<00:07, 21.16it/s]"
     ]
    },
    {
     "name": "stdout",
     "output_type": "stream",
     "text": [
      "19929\n",
      "80921\n",
      "Epoch 01838 | Loss 0.1150 | train_RMSE 0.2758 | test_RMSE 0.2711 \n",
      "19929\n",
      "80921\n",
      "Epoch 01839 | Loss 0.1155 | train_RMSE 0.2756 | test_RMSE 0.2708 \n",
      "19929\n",
      "80921\n",
      "Epoch 01840 | Loss 0.1149 | train_RMSE 0.2773 | test_RMSE 0.2723 \n",
      "19929\n",
      "80921\n",
      "Epoch 01841 | Loss 0.1152 | train_RMSE 0.2758 | test_RMSE 0.2712 \n",
      "19929\n",
      "80921\n",
      "Epoch 01842 | Loss 0.1156 | train_RMSE 0.2776 | test_RMSE 0.2726 \n"
     ]
    },
    {
     "name": "stderr",
     "output_type": "stream",
     "text": [
      " 92%|████████████████████████████████████   | 1847/2000 [01:27<00:07, 21.17it/s]"
     ]
    },
    {
     "name": "stdout",
     "output_type": "stream",
     "text": [
      "19929\n",
      "80921\n",
      "Epoch 01843 | Loss 0.1154 | train_RMSE 0.2755 | test_RMSE 0.2708 \n",
      "19929\n",
      "80921\n",
      "Epoch 01844 | Loss 0.1155 | train_RMSE 0.2768 | test_RMSE 0.2720 \n",
      "19929\n",
      "80921\n",
      "Epoch 01845 | Loss 0.1146 | train_RMSE 0.2765 | test_RMSE 0.2716 \n",
      "19929\n",
      "80921\n",
      "Epoch 01846 | Loss 0.1154 | train_RMSE 0.2758 | test_RMSE 0.2711 \n",
      "19929\n"
     ]
    },
    {
     "name": "stderr",
     "output_type": "stream",
     "text": [
      "\r",
      " 92%|████████████████████████████████████   | 1850/2000 [01:28<00:07, 21.18it/s]"
     ]
    },
    {
     "name": "stdout",
     "output_type": "stream",
     "text": [
      "80921\n",
      "Epoch 01847 | Loss 0.1147 | train_RMSE 0.2773 | test_RMSE 0.2724 \n",
      "19929\n",
      "80921\n",
      "Epoch 01848 | Loss 0.1156 | train_RMSE 0.2759 | test_RMSE 0.2712 \n",
      "19929\n",
      "80921\n",
      "Epoch 01849 | Loss 0.1160 | train_RMSE 0.2774 | test_RMSE 0.2725 \n",
      "19929\n",
      "80921\n",
      "Epoch 01850 | Loss 0.1150 | train_RMSE 0.2756 | test_RMSE 0.2710 \n",
      "19929\n",
      "80921\n",
      "Epoch 01851 | Loss 0.1148 | train_RMSE 0.2769 | test_RMSE 0.2719 \n"
     ]
    },
    {
     "name": "stderr",
     "output_type": "stream",
     "text": [
      " 93%|████████████████████████████████████▏  | 1856/2000 [01:28<00:06, 21.17it/s]"
     ]
    },
    {
     "name": "stdout",
     "output_type": "stream",
     "text": [
      "19929\n",
      "80921\n",
      "Epoch 01852 | Loss 0.1155 | train_RMSE 0.2763 | test_RMSE 0.2717 \n",
      "19929\n",
      "80921\n",
      "Epoch 01853 | Loss 0.1153 | train_RMSE 0.2758 | test_RMSE 0.2710 \n",
      "19929\n",
      "80921\n",
      "Epoch 01854 | Loss 0.1146 | train_RMSE 0.2769 | test_RMSE 0.2720 \n",
      "19929\n",
      "80921\n",
      "Epoch 01855 | Loss 0.1151 | train_RMSE 0.2758 | test_RMSE 0.2713 \n",
      "19929\n"
     ]
    },
    {
     "name": "stderr",
     "output_type": "stream",
     "text": [
      "\r",
      " 93%|████████████████████████████████████▎  | 1859/2000 [01:28<00:06, 21.12it/s]"
     ]
    },
    {
     "name": "stdout",
     "output_type": "stream",
     "text": [
      "80921\n",
      "Epoch 01856 | Loss 0.1153 | train_RMSE 0.2769 | test_RMSE 0.2719 \n",
      "19929\n",
      "80921\n",
      "Epoch 01857 | Loss 0.1157 | train_RMSE 0.2757 | test_RMSE 0.2709 \n",
      "19929\n",
      "80921\n",
      "Epoch 01858 | Loss 0.1150 | train_RMSE 0.2767 | test_RMSE 0.2720 \n",
      "19929\n",
      "80921\n",
      "Epoch 01859 | Loss 0.1152 | train_RMSE 0.2765 | test_RMSE 0.2716 \n",
      "19929\n",
      "80921\n",
      "Epoch 01860 | Loss 0.1152 | train_RMSE 0.2765 | test_RMSE 0.2716 \n"
     ]
    },
    {
     "name": "stderr",
     "output_type": "stream",
     "text": [
      " 93%|████████████████████████████████████▎  | 1865/2000 [01:28<00:06, 21.11it/s]"
     ]
    },
    {
     "name": "stdout",
     "output_type": "stream",
     "text": [
      "19929\n",
      "80921\n",
      "Epoch 01861 | Loss 0.1137 | train_RMSE 0.2758 | test_RMSE 0.2712 \n",
      "19929\n",
      "80921\n",
      "Epoch 01862 | Loss 0.1149 | train_RMSE 0.2771 | test_RMSE 0.2721 \n",
      "19929\n",
      "80921\n",
      "Epoch 01863 | Loss 0.1155 | train_RMSE 0.2760 | test_RMSE 0.2713 \n",
      "19929\n",
      "80921\n",
      "Epoch 01864 | Loss 0.1145 | train_RMSE 0.2766 | test_RMSE 0.2719 \n",
      "19929\n"
     ]
    },
    {
     "name": "stderr",
     "output_type": "stream",
     "text": [
      "\r",
      " 93%|████████████████████████████████████▍  | 1868/2000 [01:28<00:06, 21.12it/s]"
     ]
    },
    {
     "name": "stdout",
     "output_type": "stream",
     "text": [
      "80921\n",
      "Epoch 01865 | Loss 0.1146 | train_RMSE 0.2761 | test_RMSE 0.2713 \n",
      "19929\n",
      "80921\n",
      "Epoch 01866 | Loss 0.1152 | train_RMSE 0.2759 | test_RMSE 0.2712 \n",
      "19929\n",
      "80921\n",
      "Epoch 01867 | Loss 0.1152 | train_RMSE 0.2765 | test_RMSE 0.2716 \n",
      "19929\n",
      "80921\n",
      "Epoch 01868 | Loss 0.1149 | train_RMSE 0.2758 | test_RMSE 0.2711 \n",
      "19929\n",
      "80921\n",
      "Epoch 01869 | Loss 0.1156 | train_RMSE 0.2780 | test_RMSE 0.2730 \n"
     ]
    },
    {
     "name": "stderr",
     "output_type": "stream",
     "text": [
      " 94%|████████████████████████████████████▌  | 1874/2000 [01:29<00:05, 21.17it/s]"
     ]
    },
    {
     "name": "stdout",
     "output_type": "stream",
     "text": [
      "19929\n",
      "80921\n",
      "Epoch 01870 | Loss 0.1153 | train_RMSE 0.2757 | test_RMSE 0.2711 \n",
      "19929\n",
      "80921\n",
      "Epoch 01871 | Loss 0.1153 | train_RMSE 0.2782 | test_RMSE 0.2731 \n",
      "19929\n",
      "80921\n",
      "Epoch 01872 | Loss 0.1152 | train_RMSE 0.2755 | test_RMSE 0.2710 \n",
      "19929\n",
      "80921\n",
      "Epoch 01873 | Loss 0.1155 | train_RMSE 0.2779 | test_RMSE 0.2730 \n",
      "19929\n"
     ]
    },
    {
     "name": "stderr",
     "output_type": "stream",
     "text": [
      "\r",
      " 94%|████████████████████████████████████▌  | 1877/2000 [01:29<00:05, 21.18it/s]"
     ]
    },
    {
     "name": "stdout",
     "output_type": "stream",
     "text": [
      "80921\n",
      "Epoch 01874 | Loss 0.1160 | train_RMSE 0.2761 | test_RMSE 0.2714 \n",
      "19929\n",
      "80921\n",
      "Epoch 01875 | Loss 0.1154 | train_RMSE 0.2774 | test_RMSE 0.2726 \n",
      "19929\n",
      "80921\n",
      "Epoch 01876 | Loss 0.1159 | train_RMSE 0.2756 | test_RMSE 0.2708 \n",
      "19929\n",
      "80921\n",
      "Epoch 01877 | Loss 0.1157 | train_RMSE 0.2763 | test_RMSE 0.2713 \n",
      "19929\n",
      "80921\n",
      "Epoch 01878 | Loss 0.1156 | train_RMSE 0.2763 | test_RMSE 0.2716 \n"
     ]
    },
    {
     "name": "stderr",
     "output_type": "stream",
     "text": [
      " 94%|████████████████████████████████████▋  | 1883/2000 [01:29<00:05, 21.19it/s]"
     ]
    },
    {
     "name": "stdout",
     "output_type": "stream",
     "text": [
      "19929\n",
      "80921\n",
      "Epoch 01879 | Loss 0.1154 | train_RMSE 0.2758 | test_RMSE 0.2710 \n",
      "19929\n",
      "80921\n",
      "Epoch 01880 | Loss 0.1142 | train_RMSE 0.2774 | test_RMSE 0.2724 \n",
      "19929\n",
      "80921\n",
      "Epoch 01881 | Loss 0.1143 | train_RMSE 0.2756 | test_RMSE 0.2711 \n",
      "19929\n",
      "80921\n",
      "Epoch 01882 | Loss 0.1164 | train_RMSE 0.2777 | test_RMSE 0.2726 \n",
      "19929\n"
     ]
    },
    {
     "name": "stderr",
     "output_type": "stream",
     "text": [
      "\r",
      " 94%|████████████████████████████████████▊  | 1886/2000 [01:29<00:05, 21.21it/s]"
     ]
    },
    {
     "name": "stdout",
     "output_type": "stream",
     "text": [
      "80921\n",
      "Epoch 01883 | Loss 0.1159 | train_RMSE 0.2755 | test_RMSE 0.2708 \n",
      "19929\n",
      "80921\n",
      "Epoch 01884 | Loss 0.1153 | train_RMSE 0.2759 | test_RMSE 0.2712 \n",
      "19929\n",
      "80921\n",
      "Epoch 01885 | Loss 0.1150 | train_RMSE 0.2767 | test_RMSE 0.2717 \n",
      "19929\n",
      "80921\n",
      "Epoch 01886 | Loss 0.1152 | train_RMSE 0.2758 | test_RMSE 0.2711 \n",
      "19929\n",
      "80921\n",
      "Epoch 01887 | Loss 0.1152 | train_RMSE 0.2765 | test_RMSE 0.2717 \n"
     ]
    },
    {
     "name": "stderr",
     "output_type": "stream",
     "text": [
      " 95%|████████████████████████████████████▉  | 1892/2000 [01:30<00:05, 21.18it/s]"
     ]
    },
    {
     "name": "stdout",
     "output_type": "stream",
     "text": [
      "19929\n",
      "80921\n",
      "Epoch 01888 | Loss 0.1147 | train_RMSE 0.2761 | test_RMSE 0.2713 \n",
      "19929\n",
      "80921\n",
      "Epoch 01889 | Loss 0.1150 | train_RMSE 0.2759 | test_RMSE 0.2712 \n",
      "19929\n",
      "80921\n",
      "Epoch 01890 | Loss 0.1150 | train_RMSE 0.2763 | test_RMSE 0.2715 \n",
      "19929\n",
      "80921\n",
      "Epoch 01891 | Loss 0.1146 | train_RMSE 0.2761 | test_RMSE 0.2713 \n",
      "19929\n"
     ]
    },
    {
     "name": "stderr",
     "output_type": "stream",
     "text": [
      "\r",
      " 95%|████████████████████████████████████▉  | 1895/2000 [01:30<00:04, 21.19it/s]"
     ]
    },
    {
     "name": "stdout",
     "output_type": "stream",
     "text": [
      "80921\n",
      "Epoch 01892 | Loss 0.1150 | train_RMSE 0.2759 | test_RMSE 0.2712 \n",
      "19929\n",
      "80921\n",
      "Epoch 01893 | Loss 0.1149 | train_RMSE 0.2763 | test_RMSE 0.2714 \n",
      "19929\n",
      "80921\n",
      "Epoch 01894 | Loss 0.1148 | train_RMSE 0.2757 | test_RMSE 0.2710 \n",
      "19929\n",
      "80921\n",
      "Epoch 01895 | Loss 0.1148 | train_RMSE 0.2771 | test_RMSE 0.2723 \n",
      "19929\n",
      "80921\n",
      "Epoch 01896 | Loss 0.1150 | train_RMSE 0.2759 | test_RMSE 0.2711 \n"
     ]
    },
    {
     "name": "stderr",
     "output_type": "stream",
     "text": [
      " 95%|█████████████████████████████████████  | 1901/2000 [01:30<00:04, 21.21it/s]"
     ]
    },
    {
     "name": "stdout",
     "output_type": "stream",
     "text": [
      "19929\n",
      "80921\n",
      "Epoch 01897 | Loss 0.1157 | train_RMSE 0.2771 | test_RMSE 0.2723 \n",
      "19929\n",
      "80921\n",
      "Epoch 01898 | Loss 0.1158 | train_RMSE 0.2757 | test_RMSE 0.2710 \n",
      "19929\n",
      "80921\n",
      "Epoch 01899 | Loss 0.1157 | train_RMSE 0.2780 | test_RMSE 0.2729 \n",
      "19929\n",
      "80921\n",
      "Epoch 01900 | Loss 0.1154 | train_RMSE 0.2756 | test_RMSE 0.2711 \n",
      "19929\n",
      "80921\n",
      "Epoch 01901 | Loss 0.1149 | train_RMSE 0.2769 | test_RMSE 0.2720 \n"
     ]
    },
    {
     "name": "stderr",
     "output_type": "stream",
     "text": [
      " 95%|█████████████████████████████████████▏ | 1907/2000 [01:30<00:04, 21.22it/s]"
     ]
    },
    {
     "name": "stdout",
     "output_type": "stream",
     "text": [
      "19929\n",
      "80921\n",
      "Epoch 01902 | Loss 0.1146 | train_RMSE 0.2756 | test_RMSE 0.2709 \n",
      "19929\n",
      "80921\n",
      "Epoch 01903 | Loss 0.1150 | train_RMSE 0.2774 | test_RMSE 0.2726 \n",
      "19929\n",
      "80921\n",
      "Epoch 01904 | Loss 0.1151 | train_RMSE 0.2762 | test_RMSE 0.2715 \n",
      "19929\n",
      "80921\n",
      "Epoch 01905 | Loss 0.1150 | train_RMSE 0.2765 | test_RMSE 0.2717 \n",
      "19929\n",
      "80921\n",
      "Epoch 01906 | Loss 0.1151 | train_RMSE 0.2759 | test_RMSE 0.2711 \n"
     ]
    },
    {
     "name": "stderr",
     "output_type": "stream",
     "text": [
      "\r",
      " 96%|█████████████████████████████████████▏ | 1910/2000 [01:30<00:04, 21.20it/s]"
     ]
    },
    {
     "name": "stdout",
     "output_type": "stream",
     "text": [
      "19929\n",
      "80921\n",
      "Epoch 01907 | Loss 0.1146 | train_RMSE 0.2757 | test_RMSE 0.2710 \n",
      "19929\n",
      "80921\n",
      "Epoch 01908 | Loss 0.1158 | train_RMSE 0.2770 | test_RMSE 0.2722 \n",
      "19929\n",
      "80921\n",
      "Epoch 01909 | Loss 0.1149 | train_RMSE 0.2756 | test_RMSE 0.2709 \n",
      "19929\n",
      "80921\n",
      "Epoch 01910 | Loss 0.1150 | train_RMSE 0.2775 | test_RMSE 0.2725 \n",
      "19929\n",
      "80921\n",
      "Epoch 01911 | Loss 0.1156 | train_RMSE 0.2754 | test_RMSE 0.2708 \n"
     ]
    },
    {
     "name": "stderr",
     "output_type": "stream",
     "text": [
      " 96%|█████████████████████████████████████▎ | 1916/2000 [01:31<00:03, 21.17it/s]"
     ]
    },
    {
     "name": "stdout",
     "output_type": "stream",
     "text": [
      "19929\n",
      "80921\n",
      "Epoch 01912 | Loss 0.1146 | train_RMSE 0.2766 | test_RMSE 0.2718 \n",
      "19929\n",
      "80921\n",
      "Epoch 01913 | Loss 0.1149 | train_RMSE 0.2756 | test_RMSE 0.2708 \n",
      "19929\n",
      "80921\n",
      "Epoch 01914 | Loss 0.1153 | train_RMSE 0.2764 | test_RMSE 0.2716 \n",
      "19929\n",
      "80921\n",
      "Epoch 01915 | Loss 0.1148 | train_RMSE 0.2758 | test_RMSE 0.2711 \n",
      "19929\n"
     ]
    },
    {
     "name": "stderr",
     "output_type": "stream",
     "text": [
      "\r",
      " 96%|█████████████████████████████████████▍ | 1919/2000 [01:31<00:03, 21.14it/s]"
     ]
    },
    {
     "name": "stdout",
     "output_type": "stream",
     "text": [
      "80921\n",
      "Epoch 01916 | Loss 0.1147 | train_RMSE 0.2758 | test_RMSE 0.2710 \n",
      "19929\n",
      "80921\n",
      "Epoch 01917 | Loss 0.1146 | train_RMSE 0.2766 | test_RMSE 0.2717 \n",
      "19929\n",
      "80921\n",
      "Epoch 01918 | Loss 0.1147 | train_RMSE 0.2754 | test_RMSE 0.2708 \n",
      "19929\n",
      "80921\n",
      "Epoch 01919 | Loss 0.1151 | train_RMSE 0.2780 | test_RMSE 0.2729 \n",
      "19929\n",
      "80921\n",
      "Epoch 01920 | Loss 0.1151 | train_RMSE 0.2757 | test_RMSE 0.2713 \n"
     ]
    },
    {
     "name": "stderr",
     "output_type": "stream",
     "text": [
      " 96%|█████████████████████████████████████▌ | 1925/2000 [01:31<00:03, 21.17it/s]"
     ]
    },
    {
     "name": "stdout",
     "output_type": "stream",
     "text": [
      "19929\n",
      "80921\n",
      "Epoch 01921 | Loss 0.1148 | train_RMSE 0.2778 | test_RMSE 0.2729 \n",
      "19929\n",
      "80921\n",
      "Epoch 01922 | Loss 0.1150 | train_RMSE 0.2756 | test_RMSE 0.2708 \n",
      "19929\n",
      "80921\n",
      "Epoch 01923 | Loss 0.1148 | train_RMSE 0.2769 | test_RMSE 0.2721 \n",
      "19929\n",
      "80921\n",
      "Epoch 01924 | Loss 0.1154 | train_RMSE 0.2755 | test_RMSE 0.2709 \n",
      "19929\n"
     ]
    },
    {
     "name": "stderr",
     "output_type": "stream",
     "text": [
      "\r",
      " 96%|█████████████████████████████████████▌ | 1928/2000 [01:31<00:03, 21.18it/s]"
     ]
    },
    {
     "name": "stdout",
     "output_type": "stream",
     "text": [
      "80921\n",
      "Epoch 01925 | Loss 0.1146 | train_RMSE 0.2760 | test_RMSE 0.2711 \n",
      "19929\n",
      "80921\n",
      "Epoch 01926 | Loss 0.1147 | train_RMSE 0.2760 | test_RMSE 0.2712 \n",
      "19929\n",
      "80921\n",
      "Epoch 01927 | Loss 0.1150 | train_RMSE 0.2755 | test_RMSE 0.2708 \n",
      "19929\n",
      "80921\n",
      "Epoch 01928 | Loss 0.1134 | train_RMSE 0.2760 | test_RMSE 0.2712 \n",
      "19929\n",
      "80921\n",
      "Epoch 01929 | Loss 0.1156 | train_RMSE 0.2759 | test_RMSE 0.2711 \n"
     ]
    },
    {
     "name": "stderr",
     "output_type": "stream",
     "text": [
      " 97%|█████████████████████████████████████▋ | 1934/2000 [01:32<00:03, 21.15it/s]"
     ]
    },
    {
     "name": "stdout",
     "output_type": "stream",
     "text": [
      "19929\n",
      "80921\n",
      "Epoch 01930 | Loss 0.1148 | train_RMSE 0.2759 | test_RMSE 0.2710 \n",
      "19929\n",
      "80921\n",
      "Epoch 01931 | Loss 0.1148 | train_RMSE 0.2757 | test_RMSE 0.2710 \n",
      "19929\n",
      "80921\n",
      "Epoch 01932 | Loss 0.1149 | train_RMSE 0.2754 | test_RMSE 0.2707 \n",
      "19929\n",
      "80921\n",
      "Epoch 01933 | Loss 0.1151 | train_RMSE 0.2764 | test_RMSE 0.2714 \n",
      "19929\n"
     ]
    },
    {
     "name": "stderr",
     "output_type": "stream",
     "text": [
      "\r",
      " 97%|█████████████████████████████████████▊ | 1937/2000 [01:32<00:02, 21.17it/s]"
     ]
    },
    {
     "name": "stdout",
     "output_type": "stream",
     "text": [
      "80921\n",
      "Epoch 01934 | Loss 0.1149 | train_RMSE 0.2753 | test_RMSE 0.2707 \n",
      "19929\n",
      "80921\n",
      "Epoch 01935 | Loss 0.1137 | train_RMSE 0.2762 | test_RMSE 0.2714 \n",
      "19929\n",
      "80921\n",
      "Epoch 01936 | Loss 0.1154 | train_RMSE 0.2756 | test_RMSE 0.2707 \n",
      "19929\n",
      "80921\n",
      "Epoch 01937 | Loss 0.1155 | train_RMSE 0.2756 | test_RMSE 0.2708 \n",
      "19929\n",
      "80921\n",
      "Epoch 01938 | Loss 0.1146 | train_RMSE 0.2757 | test_RMSE 0.2709 \n"
     ]
    },
    {
     "name": "stderr",
     "output_type": "stream",
     "text": [
      " 97%|█████████████████████████████████████▉ | 1943/2000 [01:32<00:02, 21.20it/s]"
     ]
    },
    {
     "name": "stdout",
     "output_type": "stream",
     "text": [
      "19929\n",
      "80921\n",
      "Epoch 01939 | Loss 0.1144 | train_RMSE 0.2760 | test_RMSE 0.2712 \n",
      "19929\n",
      "80921\n",
      "Epoch 01940 | Loss 0.1159 | train_RMSE 0.2763 | test_RMSE 0.2714 \n",
      "19929\n",
      "80921\n",
      "Epoch 01941 | Loss 0.1154 | train_RMSE 0.2751 | test_RMSE 0.2705 \n",
      "19929\n",
      "80921\n",
      "Epoch 01942 | Loss 0.1151 | train_RMSE 0.2763 | test_RMSE 0.2714 \n",
      "19929\n"
     ]
    },
    {
     "name": "stderr",
     "output_type": "stream",
     "text": [
      "\r",
      " 97%|█████████████████████████████████████▉ | 1946/2000 [01:32<00:02, 21.22it/s]"
     ]
    },
    {
     "name": "stdout",
     "output_type": "stream",
     "text": [
      "80921\n",
      "Epoch 01943 | Loss 0.1153 | train_RMSE 0.2753 | test_RMSE 0.2706 \n",
      "19929\n",
      "80921\n",
      "Epoch 01944 | Loss 0.1139 | train_RMSE 0.2759 | test_RMSE 0.2712 \n",
      "19929\n",
      "80921\n",
      "Epoch 01945 | Loss 0.1155 | train_RMSE 0.2763 | test_RMSE 0.2714 \n",
      "19929\n",
      "80921\n",
      "Epoch 01946 | Loss 0.1147 | train_RMSE 0.2754 | test_RMSE 0.2707 \n",
      "19929\n",
      "80921\n",
      "Epoch 01947 | Loss 0.1161 | train_RMSE 0.2768 | test_RMSE 0.2720 \n"
     ]
    },
    {
     "name": "stderr",
     "output_type": "stream",
     "text": [
      " 98%|██████████████████████████████████████ | 1952/2000 [01:32<00:02, 21.24it/s]"
     ]
    },
    {
     "name": "stdout",
     "output_type": "stream",
     "text": [
      "19929\n",
      "80921\n",
      "Epoch 01948 | Loss 0.1150 | train_RMSE 0.2752 | test_RMSE 0.2705 \n",
      "19929\n",
      "80921\n",
      "Epoch 01949 | Loss 0.1151 | train_RMSE 0.2775 | test_RMSE 0.2725 \n",
      "19929\n",
      "80921\n",
      "Epoch 01950 | Loss 0.1150 | train_RMSE 0.2757 | test_RMSE 0.2712 \n",
      "19929\n",
      "80921\n",
      "Epoch 01951 | Loss 0.1149 | train_RMSE 0.2793 | test_RMSE 0.2742 \n",
      "19929\n"
     ]
    },
    {
     "name": "stderr",
     "output_type": "stream",
     "text": [
      "\r",
      " 98%|██████████████████████████████████████ | 1955/2000 [01:33<00:02, 21.20it/s]"
     ]
    },
    {
     "name": "stdout",
     "output_type": "stream",
     "text": [
      "80921\n",
      "Epoch 01952 | Loss 0.1155 | train_RMSE 0.2755 | test_RMSE 0.2711 \n",
      "19929\n",
      "80921\n",
      "Epoch 01953 | Loss 0.1156 | train_RMSE 0.2785 | test_RMSE 0.2734 \n",
      "19929\n",
      "80921\n",
      "Epoch 01954 | Loss 0.1153 | train_RMSE 0.2755 | test_RMSE 0.2709 \n",
      "19929\n",
      "80921\n",
      "Epoch 01955 | Loss 0.1150 | train_RMSE 0.2778 | test_RMSE 0.2728 \n",
      "19929\n",
      "80921\n",
      "Epoch 01956 | Loss 0.1150 | train_RMSE 0.2757 | test_RMSE 0.2710 \n"
     ]
    },
    {
     "name": "stderr",
     "output_type": "stream",
     "text": [
      " 98%|██████████████████████████████████████▏| 1961/2000 [01:33<00:01, 21.25it/s]"
     ]
    },
    {
     "name": "stdout",
     "output_type": "stream",
     "text": [
      "19929\n",
      "80921\n",
      "Epoch 01957 | Loss 0.1145 | train_RMSE 0.2758 | test_RMSE 0.2709 \n",
      "19929\n",
      "80921\n",
      "Epoch 01958 | Loss 0.1147 | train_RMSE 0.2761 | test_RMSE 0.2712 \n",
      "19929\n",
      "80921\n",
      "Epoch 01959 | Loss 0.1145 | train_RMSE 0.2752 | test_RMSE 0.2706 \n",
      "19929\n",
      "80921\n",
      "Epoch 01960 | Loss 0.1146 | train_RMSE 0.2790 | test_RMSE 0.2739 \n",
      "19929\n",
      "80921\n",
      "Epoch 01961 | Loss 0.1159 | train_RMSE 0.2764 | test_RMSE 0.2720 \n"
     ]
    },
    {
     "name": "stderr",
     "output_type": "stream",
     "text": [
      " 98%|██████████████████████████████████████▎| 1967/2000 [01:33<00:01, 21.25it/s]"
     ]
    },
    {
     "name": "stdout",
     "output_type": "stream",
     "text": [
      "19929\n",
      "80921\n",
      "Epoch 01962 | Loss 0.1165 | train_RMSE 0.2818 | test_RMSE 0.2767 \n",
      "19929\n",
      "80921\n",
      "Epoch 01963 | Loss 0.1168 | train_RMSE 0.2769 | test_RMSE 0.2726 \n",
      "19929\n",
      "80921\n",
      "Epoch 01964 | Loss 0.1162 | train_RMSE 0.2812 | test_RMSE 0.2760 \n",
      "19929\n",
      "80921\n",
      "Epoch 01965 | Loss 0.1165 | train_RMSE 0.2760 | test_RMSE 0.2716 \n",
      "19929\n",
      "80921\n",
      "Epoch 01966 | Loss 0.1159 | train_RMSE 0.2786 | test_RMSE 0.2736 \n"
     ]
    },
    {
     "name": "stderr",
     "output_type": "stream",
     "text": [
      "\r",
      " 98%|██████████████████████████████████████▍| 1970/2000 [01:33<00:01, 21.26it/s]"
     ]
    },
    {
     "name": "stdout",
     "output_type": "stream",
     "text": [
      "19929\n",
      "80921\n",
      "Epoch 01967 | Loss 0.1154 | train_RMSE 0.2756 | test_RMSE 0.2709 \n",
      "19929\n",
      "80921\n",
      "Epoch 01968 | Loss 0.1149 | train_RMSE 0.2758 | test_RMSE 0.2711 \n",
      "19929\n",
      "80921\n",
      "Epoch 01969 | Loss 0.1152 | train_RMSE 0.2770 | test_RMSE 0.2720 \n",
      "19929\n",
      "80921\n",
      "Epoch 01970 | Loss 0.1149 | train_RMSE 0.2755 | test_RMSE 0.2710 \n",
      "19929\n",
      "80921\n",
      "Epoch 01971 | Loss 0.1157 | train_RMSE 0.2794 | test_RMSE 0.2745 \n"
     ]
    },
    {
     "name": "stderr",
     "output_type": "stream",
     "text": [
      " 99%|██████████████████████████████████████▌| 1976/2000 [01:34<00:01, 21.13it/s]"
     ]
    },
    {
     "name": "stdout",
     "output_type": "stream",
     "text": [
      "19929\n",
      "80921\n",
      "Epoch 01972 | Loss 0.1156 | train_RMSE 0.2760 | test_RMSE 0.2715 \n",
      "19929\n",
      "80921\n",
      "Epoch 01973 | Loss 0.1159 | train_RMSE 0.2781 | test_RMSE 0.2731 \n",
      "19929\n",
      "80921\n",
      "Epoch 01974 | Loss 0.1158 | train_RMSE 0.2752 | test_RMSE 0.2706 \n",
      "19929\n",
      "80921\n",
      "Epoch 01975 | Loss 0.1152 | train_RMSE 0.2762 | test_RMSE 0.2713 \n",
      "19929\n"
     ]
    },
    {
     "name": "stderr",
     "output_type": "stream",
     "text": [
      "\r",
      " 99%|██████████████████████████████████████▌| 1979/2000 [01:34<00:00, 21.05it/s]"
     ]
    },
    {
     "name": "stdout",
     "output_type": "stream",
     "text": [
      "80921\n",
      "Epoch 01976 | Loss 0.1144 | train_RMSE 0.2767 | test_RMSE 0.2719 \n",
      "19929\n",
      "80921\n",
      "Epoch 01977 | Loss 0.1149 | train_RMSE 0.2755 | test_RMSE 0.2709 \n",
      "19929\n",
      "80921\n",
      "Epoch 01978 | Loss 0.1155 | train_RMSE 0.2780 | test_RMSE 0.2729 \n",
      "19929\n",
      "80921\n",
      "Epoch 01979 | Loss 0.1149 | train_RMSE 0.2753 | test_RMSE 0.2708 \n",
      "19929\n",
      "80921\n",
      "Epoch 01980 | Loss 0.1156 | train_RMSE 0.2770 | test_RMSE 0.2721 \n"
     ]
    },
    {
     "name": "stderr",
     "output_type": "stream",
     "text": [
      " 99%|██████████████████████████████████████▋| 1985/2000 [01:34<00:00, 21.13it/s]"
     ]
    },
    {
     "name": "stdout",
     "output_type": "stream",
     "text": [
      "19929\n",
      "80921\n",
      "Epoch 01981 | Loss 0.1147 | train_RMSE 0.2760 | test_RMSE 0.2712 \n",
      "19929\n",
      "80921\n",
      "Epoch 01982 | Loss 0.1148 | train_RMSE 0.2755 | test_RMSE 0.2708 \n",
      "19929\n",
      "80921\n",
      "Epoch 01983 | Loss 0.1153 | train_RMSE 0.2771 | test_RMSE 0.2722 \n",
      "19929\n",
      "80921\n",
      "Epoch 01984 | Loss 0.1145 | train_RMSE 0.2753 | test_RMSE 0.2707 \n",
      "19929\n"
     ]
    },
    {
     "name": "stderr",
     "output_type": "stream",
     "text": [
      "\r",
      " 99%|██████████████████████████████████████▊| 1988/2000 [01:34<00:00, 21.16it/s]"
     ]
    },
    {
     "name": "stdout",
     "output_type": "stream",
     "text": [
      "80921\n",
      "Epoch 01985 | Loss 0.1148 | train_RMSE 0.2775 | test_RMSE 0.2725 \n",
      "19929\n",
      "80921\n",
      "Epoch 01986 | Loss 0.1150 | train_RMSE 0.2756 | test_RMSE 0.2710 \n",
      "19929\n",
      "80921\n",
      "Epoch 01987 | Loss 0.1157 | train_RMSE 0.2767 | test_RMSE 0.2718 \n",
      "19929\n",
      "80921\n",
      "Epoch 01988 | Loss 0.1145 | train_RMSE 0.2755 | test_RMSE 0.2708 \n",
      "19929\n",
      "80921\n",
      "Epoch 01989 | Loss 0.1149 | train_RMSE 0.2763 | test_RMSE 0.2714 \n"
     ]
    },
    {
     "name": "stderr",
     "output_type": "stream",
     "text": [
      "100%|██████████████████████████████████████▉| 1994/2000 [01:34<00:00, 21.17it/s]"
     ]
    },
    {
     "name": "stdout",
     "output_type": "stream",
     "text": [
      "19929\n",
      "80921\n",
      "Epoch 01990 | Loss 0.1145 | train_RMSE 0.2755 | test_RMSE 0.2709 \n",
      "19929\n",
      "80921\n",
      "Epoch 01991 | Loss 0.1150 | train_RMSE 0.2769 | test_RMSE 0.2719 \n",
      "19929\n",
      "80921\n",
      "Epoch 01992 | Loss 0.1155 | train_RMSE 0.2755 | test_RMSE 0.2707 \n",
      "19929\n",
      "80921\n",
      "Epoch 01993 | Loss 0.1146 | train_RMSE 0.2765 | test_RMSE 0.2717 \n",
      "19929\n"
     ]
    },
    {
     "name": "stderr",
     "output_type": "stream",
     "text": [
      "\r",
      "100%|██████████████████████████████████████▉| 1997/2000 [01:35<00:00, 21.13it/s]"
     ]
    },
    {
     "name": "stdout",
     "output_type": "stream",
     "text": [
      "80921\n",
      "Epoch 01994 | Loss 0.1144 | train_RMSE 0.2753 | test_RMSE 0.2706 \n",
      "19929\n",
      "80921\n",
      "Epoch 01995 | Loss 0.1145 | train_RMSE 0.2773 | test_RMSE 0.2723 \n",
      "19929\n",
      "80921\n",
      "Epoch 01996 | Loss 0.1153 | train_RMSE 0.2755 | test_RMSE 0.2710 \n",
      "19929\n",
      "80921\n",
      "Epoch 01997 | Loss 0.1142 | train_RMSE 0.2764 | test_RMSE 0.2715 \n",
      "19929\n",
      "80921\n",
      "Epoch 01998 | Loss 0.1152 | train_RMSE 0.2759 | test_RMSE 0.2711 \n"
     ]
    },
    {
     "name": "stderr",
     "output_type": "stream",
     "text": [
      "100%|███████████████████████████████████████| 2000/2000 [01:35<00:00, 21.01it/s]\n"
     ]
    },
    {
     "name": "stdout",
     "output_type": "stream",
     "text": [
      "19929\n",
      "80921\n",
      "Epoch 01999 | Loss 0.1147 | train_RMSE 0.2755 | test_RMSE 0.2709 \n",
      "best loss: 0.11340845376253128\n",
      "Testing...\n",
      "80921\n",
      "19929\n",
      "train RMSE 0.2760\n",
      "test RMSE 0.2712\n"
     ]
    }
   ],
   "source": [
    "device = torch.device(\"cuda\" if torch.cuda.is_available() else \"cpu\")\n",
    "\n",
    "g = g.to(device)\n",
    "\n",
    "features = g.ndata['z']\n",
    "\n",
    "labels = g.ndata['y']\n",
    "\n",
    "# masks = g.ndata['train_carbon_mask'], g.ndata['test_carbon_mask']\n",
    "\n",
    "masks = g.ndata['train_hydrogen_mask'], g.ndata['test_hydrogen_mask']\n",
    "\n",
    "model = NMR_GCN(in_size=in_size, hid_size=[hidden_size_1, hidden_size_2,\n",
    "                                       hidden_size_3, hidden_size_4], out_size=1).to(device)\n",
    "\n",
    "NMR_prediction = NMR_prediction(results_dir='godess/results/training_carbon.csv',\n",
    "                                results_dir_test = 'godess/results/testing_carbon.csv',\n",
    "                                model_dir='godess/results/Model_Godess_carbon.pt',\n",
    "                                num_epoch = num_epoch, \n",
    "                                lr = lr)\n",
    "\n",
    "print(\"Training...\")\n",
    "\n",
    "NMR_prediction.train(g, features, labels, masks, model)\n",
    "\n",
    "# test the model\n",
    "print(\"Testing...\")\n",
    "saved_model = NMR_GCN(in_size=in_size, hid_size=[hidden_size_1, hidden_size_2,\n",
    "                                                 hidden_size_3, hidden_size_4], out_size=1).to(device)\n",
    "saved_model.load_state_dict(torch.load(NMR_prediction.model_dir))\n",
    "\n",
    "acc1 = NMR_prediction.evaluate(g, features, labels, masks[0], saved_model, save_train=True, save_test = False)\n",
    "\n",
    "acc2 = NMR_prediction.evaluate(g, features, labels, masks[1], saved_model, save_train=False, save_test = True)\n",
    "\n",
    "\n",
    "print(\"train RMSE {:.4f}\".format(acc1))\n",
    "print(\"test RMSE {:.4f}\".format(acc2))"
   ]
  },
  {
   "cell_type": "code",
   "execution_count": null,
   "id": "4ae03708",
   "metadata": {},
   "outputs": [],
   "source": []
  },
  {
   "cell_type": "code",
   "execution_count": 10,
   "id": "041baa09",
   "metadata": {},
   "outputs": [
    {
     "data": {
      "text/plain": [
       "tensor([False, False, False,  ..., False,  True, False], device='cuda:0')"
      ]
     },
     "execution_count": 10,
     "metadata": {},
     "output_type": "execute_result"
    }
   ],
   "source": [
    "g.ndata['train_mask']"
   ]
  }
 ],
 "metadata": {
  "kernelspec": {
   "display_name": "Python 3 (ipykernel)",
   "language": "python",
   "name": "python3"
  },
  "language_info": {
   "codemirror_mode": {
    "name": "ipython",
    "version": 3
   },
   "file_extension": ".py",
   "mimetype": "text/x-python",
   "name": "python",
   "nbconvert_exporter": "python",
   "pygments_lexer": "ipython3",
   "version": "3.8.15"
  }
 },
 "nbformat": 4,
 "nbformat_minor": 5
}
