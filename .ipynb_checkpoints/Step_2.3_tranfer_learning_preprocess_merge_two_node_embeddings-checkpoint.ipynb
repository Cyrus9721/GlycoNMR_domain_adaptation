{
 "cells": [
  {
   "cell_type": "code",
   "execution_count": 1,
   "id": "c24f26bd",
   "metadata": {},
   "outputs": [],
   "source": [
    "import numpy as np\n",
    "import pandas as pd\n",
    "import os\n",
    "from tqdm import tqdm\n",
    "import torch\n",
    "import torch.nn as nn"
   ]
  },
  {
   "cell_type": "code",
   "execution_count": 2,
   "id": "d9112bbc",
   "metadata": {},
   "outputs": [],
   "source": [
    "# glycosciences\n",
    "glycoscience_atom_embed = pd.read_csv('glycosciencedb/node_embedding_reformulate/atom_embed.csv')\n",
    "\n",
    "glycoscience_monosaccharide_embed = pd.read_csv('glycosciencedb/node_embedding_reformulate/monosaccharide_embed.csv')\n",
    "\n",
    "glycoscience_bound_AB_embed = pd.read_csv('glycosciencedb/node_embedding_reformulate/ab_embed.csv')\n",
    "\n",
    "glycoscience_DL_embed = pd.read_csv('glycosciencedb/node_embedding_reformulate/dl_embed.csv')\n",
    "\n",
    "glycoscience_PF_embed = pd.read_csv('glycosciencedb/node_embedding_reformulate/pf_embed.csv')"
   ]
  },
  {
   "cell_type": "code",
   "execution_count": 3,
   "id": "b7f27a2a",
   "metadata": {},
   "outputs": [],
   "source": [
    "# godess\n",
    "\n",
    "godess_atom_embed=pd.read_csv('godess/node_embedding_reformulate/atom_name_embed.csv')\n",
    "\n",
    "godess_monosaccharide_embed=pd.read_csv('godess/node_embedding_reformulate/monosaccharide_simple_embed.csv')\n",
    "\n",
    "godess_bound_AB_embed=pd.read_csv('godess/node_embedding_reformulate/bound_ab.csv')\n",
    "\n",
    "godess_DL_embed=pd.read_csv('godess/node_embedding_reformulate/bound_dl.csv')\n",
    "\n",
    "godess_PF_embed=pd.read_csv('godess/node_embedding_reformulate/carbon_pf.csv')\n"
   ]
  },
  {
   "cell_type": "code",
   "execution_count": 23,
   "id": "b08f57d1",
   "metadata": {},
   "outputs": [],
   "source": [
    "merged_atom_embed_path='merged_embed/atom_name_embed.csv'\n",
    "\n",
    "merged_monosaccharide_embed_path='merged_embed/monosaccharide_embed.csv'\n",
    "\n",
    "merged_bound_AB_embed_path='merged_embed/ab_embed.csv'\n",
    "\n",
    "merged_DL_embed_path='merged_embed/dl_embed.csv'\n",
    "\n",
    "merged_PF_embed_path='merged_embed/pf_embed.csv'"
   ]
  },
  {
   "cell_type": "code",
   "execution_count": 24,
   "id": "afcba115",
   "metadata": {},
   "outputs": [],
   "source": [
    "def merge_two_df(df1, df2):\n",
    "\n",
    "    common_columns = df1.columns.intersection(df2.columns)\n",
    "    avg_df = (df1[common_columns] + df2[common_columns]) / 2\n",
    "\n",
    "    df1_unique_column = np.array([item for item in df1.columns if item not in common_columns])\n",
    "    df1_unique = df1[df1_unique_column]\n",
    "\n",
    "    df2_unique_column = np.array([item for item in df2.columns if item not in common_columns])\n",
    "    df2_unique = df2[df2_unique_column]\n",
    "\n",
    "    df_new = pd.concat([avg_df, df1_unique, df2_unique], axis = 1)\n",
    "    \n",
    "    return df_new"
   ]
  },
  {
   "cell_type": "code",
   "execution_count": 31,
   "id": "2dec14ae",
   "metadata": {},
   "outputs": [],
   "source": [
    "df_merged_atom_embed = merge_two_df(glycoscience_atom_embed, godess_atom_embed)\n",
    "df_merged_atom_embed.to_csv(merged_atom_embed_path)"
   ]
  },
  {
   "cell_type": "code",
   "execution_count": 32,
   "id": "70e88b68",
   "metadata": {},
   "outputs": [],
   "source": [
    "df_merged_monosaccharide_embed = merge_two_df(glycoscience_monosaccharide_embed, godess_monosaccharide_embed)\n",
    "df_merged_monosaccharide_embed.to_csv(merged_monosaccharide_embed_path)"
   ]
  },
  {
   "cell_type": "code",
   "execution_count": 33,
   "id": "a68d5e7f",
   "metadata": {},
   "outputs": [],
   "source": [
    "df_merged_bound_AB_embed = merge_two_df(glycoscience_bound_AB_embed, godess_bound_AB_embed)\n",
    "df_merged_bound_AB_embed.to_csv(merged_bound_AB_embed_path)"
   ]
  },
  {
   "cell_type": "code",
   "execution_count": 34,
   "id": "1e147f42",
   "metadata": {},
   "outputs": [],
   "source": [
    "df_merged_DL_embed = merge_two_df(glycoscience_DL_embed, godess_DL_embed)\n",
    "df_merged_DL_embed.to_csv(merged_DL_embed_path)"
   ]
  },
  {
   "cell_type": "code",
   "execution_count": 35,
   "id": "b8fd1168",
   "metadata": {},
   "outputs": [],
   "source": [
    "df_merged_PF_embed = merge_two_df(glycoscience_PF_embed, godess_PF_embed)\n",
    "df_merged_PF_embed.to_csv(merged_PF_embed_path)"
   ]
  },
  {
   "cell_type": "code",
   "execution_count": 40,
   "id": "697c5576",
   "metadata": {},
   "outputs": [
    {
     "data": {
      "text/plain": [
       "((256, 64), (128, 55), (64, 3), (64, 3), (64, 4))"
      ]
     },
     "execution_count": 40,
     "metadata": {},
     "output_type": "execute_result"
    }
   ],
   "source": [
    "df_merged_atom_embed.shape, df_merged_monosaccharide_embed.shape, df_merged_bound_AB_embed.shape, df_merged_DL_embed.shape, df_merged_PF_embed.shape"
   ]
  }
 ],
 "metadata": {
  "kernelspec": {
   "display_name": "Python [conda env:root] *",
   "language": "python",
   "name": "conda-root-py"
  },
  "language_info": {
   "codemirror_mode": {
    "name": "ipython",
    "version": 3
   },
   "file_extension": ".py",
   "mimetype": "text/x-python",
   "name": "python",
   "nbconvert_exporter": "python",
   "pygments_lexer": "ipython3",
   "version": "3.8.15"
  }
 },
 "nbformat": 4,
 "nbformat_minor": 5
}
