{
 "cells": [
  {
   "cell_type": "code",
   "execution_count": 1,
   "id": "b55e64e3",
   "metadata": {},
   "outputs": [],
   "source": [
    "import numpy as np\n",
    "import pandas as pd\n",
    "import os\n",
    "from tqdm import tqdm\n",
    "import torch\n",
    "import torch.nn as nn\n",
    "\n",
    "pd.set_option('display.max_columns', None)\n"
   ]
  },
  {
   "cell_type": "code",
   "execution_count": 2,
   "id": "379b634b",
   "metadata": {},
   "outputs": [],
   "source": [
    "# # glycosciences\n",
    "# glycoscience_atom_embed = pd.read_csv('glycosciencedb/node_embedding/atom_embed.csv')\n",
    "\n",
    "# glycoscience_residual_embed = pd.read_csv('glycosciencedb/node_embedding/residual_embed.csv')\n",
    "\n",
    "# glycoscience_monosaccharide_embed = pd.read_csv('glycosciencedb/node_embedding/monosaccharide_embed.csv')\n",
    "\n",
    "# glycoscience_bound_AB_embed = pd.read_csv('glycosciencedb/node_embedding/ab_embed.csv')\n",
    "\n",
    "# glycoscience_DL_embed = pd.read_csv('glycosciencedb/node_embedding/dl_embed.csv')\n",
    "\n",
    "# glycoscience_PF_embed = pd.read_csv('glycosciencedb/node_embedding/pf_embed.csv')"
   ]
  },
  {
   "cell_type": "code",
   "execution_count": 3,
   "id": "cc5c3328",
   "metadata": {},
   "outputs": [],
   "source": [
    "# # godess\n",
    "\n",
    "# godess_atom_embed=pd.read_csv('godess/node_embedding/atom_name_embed.csv')\n",
    "\n",
    "# godess_bound_orig_embed=pd.read_csv('godess/node_embedding/bound_orig.csv')\n",
    "\n",
    "# godess_atom_type_embed=pd.read_csv('godess/node_embedding/atom_type.csv')\n",
    "\n",
    "# godess_bound_AB_embed=pd.read_csv('godess/node_embedding/bound_ab.csv')\n",
    "\n",
    "# godess_DL_embed=pd.read_csv('godess/node_embedding/bound_dl.csv')\n",
    "\n",
    "# godess_PF_embed=pd.read_csv('godess/node_embedding/carbon_pf.csv')\n",
    "\n",
    "# godess_monosaccharide_accurate_embed=pd.read_csv('godess/node_embedding/monosaccharide_accurate_embed.csv')\n",
    "\n",
    "# godess_monosaccharide_simple_embed=pd.read_csv('godess/node_embedding/monosaccharide_simple_embed.csv')\n",
    "\n",
    "# godess_me_embed=pd.read_csv('godess/node_embedding/root_me_embed.csv')\n",
    "\n",
    "# godess_ser_embed=pd.read_csv('godess/node_embedding/root_ser_embed.csv')\n",
    "\n",
    "# godess_s_embed=pd.read_csv('godess/node_embedding/component_s_embed.csv')\n",
    "\n",
    "# godess_ac_embed=pd.read_csv('godess/node_embedding/component_ac_embed.csv')\n",
    "\n",
    "# godess_gc_embed=pd.read_csv('godess/node_embedding/component_gc_embed.csv')"
   ]
  },
  {
   "cell_type": "code",
   "execution_count": 4,
   "id": "d19c3d1f",
   "metadata": {},
   "outputs": [
    {
     "data": {
      "text/plain": [
       "Index(['17hoole', '3,6anhgal', 'ac', 'allyl', 'ara', 'asn', 'bu', 'bz', 'caf',\n",
       "       'cho', 'fer', 'fru', 'fuc', 'fucn', 'gal', 'gala', 'gallic', 'galn',\n",
       "       'gc', 'glc', 'glca', 'glcn', 'kdo', 'mal', 'man', 'mana', 'mann', 'me',\n",
       "       'missing monosaccharide', 'myoino', 'neu', 'p', 'pr', 'rha', 's', 'ser',\n",
       "       'xyl'],\n",
       "      dtype='object')"
      ]
     },
     "execution_count": 4,
     "metadata": {},
     "output_type": "execute_result"
    }
   ],
   "source": [
    "godess_monosaccharide_simple_embed.columns"
   ]
  },
  {
   "cell_type": "code",
   "execution_count": 5,
   "id": "493f44a0",
   "metadata": {},
   "outputs": [
    {
     "data": {
      "text/plain": [
       "Index(['ara', 'fuc', 'fucnac', 'gal', 'gala', 'galanac', 'galnac', 'glc',\n",
       "       'glca', 'glcn', 'glcnac', 'gula', 'hep', 'ido', 'idoa', 'kdo', 'lyx',\n",
       "       'man', 'mana', 'mannac', 'missing_refornulated_mono', 'neu5ac', 'quip',\n",
       "       'quipnac', 'rha', 'rhanac', 'rib', 'tal', 'xyl'],\n",
       "      dtype='object')"
      ]
     },
     "execution_count": 5,
     "metadata": {},
     "output_type": "execute_result"
    }
   ],
   "source": [
    "glycoscience_monosaccharide_embed.columns"
   ]
  },
  {
   "cell_type": "markdown",
   "id": "61cc9a98",
   "metadata": {},
   "source": [
    "#### We need to first merge two data source together"
   ]
  },
  {
   "cell_type": "markdown",
   "id": "df67ef83",
   "metadata": {},
   "source": [
    "##### 1, Reformulate godess monosaccharide name to align it with glycoscience, create new atom type name"
   ]
  },
  {
   "cell_type": "code",
   "execution_count": 6,
   "id": "fb490ec5",
   "metadata": {},
   "outputs": [
    {
     "name": "stderr",
     "output_type": "stream",
     "text": [
      "100%|███████████████████████████████████████| 2310/2310 [02:00<00:00, 19.11it/s]\n"
     ]
    }
   ],
   "source": [
    "# notice that godess has\n",
    "\n",
    "replace_value = {'Kdo_C1': 'C1_KDO',\n",
    "                 'Kdo_C2': 'C2_KDO', \n",
    "                 'Kdo_C3': 'C3_KDO', \n",
    "                 'Kdo_C4': 'C4_KDO', \n",
    "                 'Kdo_C5': 'C5_KDO', \n",
    "                 'Kdo_C6': 'C6_KDO', \n",
    "                 'Kdo_C7': 'C7_KDO',\n",
    "                 'Kdo_C8': 'C8_KDO'}\n",
    "\n",
    "common_atom_names = ['C', 'C1', 'C10', 'C11', 'C12', 'C13', 'C2', 'C3', 'C4', 'C5',\n",
    "              'C6', 'C7', 'C8', 'C9', 'H', 'H1', 'H10', 'H11', 'H12', 'H13',\n",
    "              'H14', 'H15', 'H16', 'H17', 'H18', 'H2', 'H21', 'H22', 'H23', 'H3',\n",
    "              'H4', 'H5', 'H51', 'H6', 'H61', 'H62', 'H7', 'H8', 'H9', 'N2',\n",
    "              'N4', 'N5', 'O', 'O1', 'O2', 'O3', 'O4', 'O5', 'O6', 'O7', 'O8',\n",
    "              'S1'] + ['C1_KDO', 'C2_KDO', 'C3_KDO', 'C4_KDO', 'C5_KDO', 'C6_KDO', 'C7_KDO', 'C8_KDO']\n",
    "\n",
    "\n",
    "godess_data_dir = 'godess/data/'\n",
    "\n",
    "out_godess_data_dir = 'godess/data_reformulate/'\n",
    "\n",
    "godess_data_files = os.listdir(godess_data_dir)\n",
    "\n",
    "for i in tqdm(range(len(godess_data_files))):\n",
    "    \n",
    "    godess_file_name = godess_data_files[i]\n",
    "    \n",
    "    godess_file_path = os.path.join(godess_data_dir, godess_file_name)\n",
    "    \n",
    "    df_godess = pd.read_csv(godess_file_path)\n",
    "    \n",
    "    df_godess['New_Atom_name'] = df_godess['New_Atom_name'].replace(replace_value)\n",
    "    \n",
    "    merged_atom_list = []\n",
    "    \n",
    "    merged_mono_list = []\n",
    "    \n",
    "    for j in range(len(df_godess)):\n",
    "        temp_atom_name = df_godess.loc[j, :]['New_Atom_name']\n",
    "        \n",
    "        temp_atom_type = df_godess.loc[j, :]['Atom_type']\n",
    "        \n",
    "        temp_mono_name = df_godess.loc[j, :]['reformulated_standard_mono']\n",
    "        \n",
    "        temp_attached_ac = df_godess.loc[j, :]['Ac_component']\n",
    "        \n",
    "        # reformulate atom names\n",
    "        if temp_atom_name in common_atom_names:\n",
    "            merged_atom_list.append(temp_atom_name)\n",
    "        else:\n",
    "            merged_atom_list.append(temp_atom_type)\n",
    "        \n",
    "        # reformulate monosaccharide names\n",
    "        if temp_attached_ac:\n",
    "            \n",
    "            temp_new_mono_name = temp_mono_name + 'ac'\n",
    "            \n",
    "        else:\n",
    "            \n",
    "            temp_new_mono_name = temp_mono_name\n",
    "            \n",
    "        merged_mono_list.append(temp_new_mono_name)\n",
    "    \n",
    "    df_godess['Merged_Atom_name'] = merged_atom_list\n",
    "    df_godess['Merged_standard_mono'] = merged_mono_list\n",
    "    df_godess['Merged_standard_mono'] = df_godess['Merged_standard_mono'].replace('missing monosaccharide', \n",
    "                                                                                  'missing_refornulated_mono')\n",
    "    out_godess_data_path = os.path.join(out_godess_data_dir, godess_file_name)\n",
    "    df_godess.to_csv(out_godess_data_path, index = False)"
   ]
  },
  {
   "cell_type": "markdown",
   "id": "73fb2dd9",
   "metadata": {},
   "source": [
    "##### 2, Reformulate glycoscience to align it with the newly created atom name of godess"
   ]
  },
  {
   "cell_type": "code",
   "execution_count": 7,
   "id": "9661dc58",
   "metadata": {},
   "outputs": [
    {
     "name": "stderr",
     "output_type": "stream",
     "text": [
      "100%|█████████████████████████████████████████| 299/299 [00:04<00:00, 68.67it/s]\n"
     ]
    }
   ],
   "source": [
    "glycoscience_data_dir = 'glycosciencedb/data/'\n",
    "\n",
    "out_glycoscience_data_dir = 'glycosciencedb/data_reformulate/'\n",
    "\n",
    "glycoscience_data_files = os.listdir(glycoscience_data_dir)\n",
    "\n",
    "for i in tqdm(range(len(glycoscience_data_files))):\n",
    "    \n",
    "    glycoscience_file_name = glycoscience_data_files[i]\n",
    "    \n",
    "    glycoscience_file_path = os.path.join(glycoscience_data_dir, glycoscience_file_name)\n",
    "    \n",
    "    df_glycoscience = pd.read_csv(glycoscience_file_path)\n",
    "    \n",
    "    merged_atom_list = []\n",
    "    \n",
    "    for j in range(len(df_glycoscience)):\n",
    "        \n",
    "        # naming error here 'Atom_Type' actually refers to atom name\n",
    "        temp_atom_name = df_glycoscience.loc[j, :]['Atom_Type']\n",
    "        \n",
    "        # 'atom_simplify' here actually refers to atom type e.g C, H, O, N\n",
    "        temp_atom_type = df_glycoscience.loc[j, :]['atoms_simplify']\n",
    "        \n",
    "       \n",
    "        # reformulate atom names\n",
    "        if temp_atom_name in common_atom_names:\n",
    "            merged_atom_list.append(temp_atom_name)\n",
    "        else:\n",
    "            merged_atom_list.append(temp_atom_type)\n",
    "    \n",
    "    df_glycoscience['Merged_Atom_name'] = merged_atom_list\n",
    "    out_glycoscience_data_path = os.path.join(out_glycoscience_data_dir, glycoscience_file_name)\n",
    "    df_glycoscience.to_csv(out_glycoscience_data_path, index = False)"
   ]
  },
  {
   "cell_type": "code",
   "execution_count": null,
   "id": "df5e2153",
   "metadata": {},
   "outputs": [],
   "source": []
  }
 ],
 "metadata": {
  "kernelspec": {
   "display_name": "Python 3 (ipykernel)",
   "language": "python",
   "name": "python3"
  },
  "language_info": {
   "codemirror_mode": {
    "name": "ipython",
    "version": 3
   },
   "file_extension": ".py",
   "mimetype": "text/x-python",
   "name": "python",
   "nbconvert_exporter": "python",
   "pygments_lexer": "ipython3",
   "version": "3.8.15"
  }
 },
 "nbformat": 4,
 "nbformat_minor": 5
}
