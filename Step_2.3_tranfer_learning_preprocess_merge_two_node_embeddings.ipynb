{
 "cells": [
  {
   "cell_type": "code",
   "execution_count": 1,
   "id": "1ddb4e4c",
   "metadata": {},
   "outputs": [],
   "source": [
    "import numpy as np\n",
    "import pandas as pd\n",
    "import os\n",
    "from tqdm import tqdm\n",
    "import torch\n",
    "import torch.nn as nn"
   ]
  },
  {
   "cell_type": "code",
   "execution_count": 2,
   "id": "b2ae9eda",
   "metadata": {},
   "outputs": [],
   "source": [
    "# glycosciences\n",
    "glycoscience_atom_embed = pd.read_csv('glycosciencedb/node_embedding_reformulate/atom_embed.csv')\n",
    "\n",
    "glycoscience_monosaccharide_embed = pd.read_csv('glycosciencedb/node_embedding_reformulate/monosaccharide_embed.csv')\n",
    "\n",
    "glycoscience_bound_AB_embed = pd.read_csv('glycosciencedb/node_embedding_reformulate/ab_embed.csv')\n",
    "\n",
    "glycoscience_DL_embed = pd.read_csv('glycosciencedb/node_embedding_reformulate/dl_embed.csv')\n",
    "\n",
    "glycoscience_PF_embed = pd.read_csv('glycosciencedb/node_embedding_reformulate/pf_embed.csv')"
   ]
  },
  {
   "cell_type": "code",
   "execution_count": 3,
   "id": "b225b1d3",
   "metadata": {},
   "outputs": [],
   "source": [
    "# godess\n",
    "\n",
    "godess_atom_embed=pd.read_csv('godess/node_embedding_reformulate/atom_name_embed.csv')\n",
    "\n",
    "godess_monosaccharide_embed=pd.read_csv('godess/node_embedding_reformulate/monosaccharide_simple_embed.csv')\n",
    "\n",
    "godess_bound_AB_embed=pd.read_csv('godess/node_embedding_reformulate/bound_ab.csv')\n",
    "\n",
    "godess_DL_embed=pd.read_csv('godess/node_embedding_reformulate/bound_dl.csv')\n",
    "\n",
    "godess_PF_embed=pd.read_csv('godess/node_embedding_reformulate/carbon_pf.csv')\n"
   ]
  },
  {
   "cell_type": "code",
   "execution_count": 4,
   "id": "b5242c03",
   "metadata": {},
   "outputs": [],
   "source": [
    "merged_atom_embed_path='merged_embed/atom_name_embed.csv'\n",
    "\n",
    "merged_monosaccharide_embed_path='merged_embed/monosaccharide_embed.csv'\n",
    "\n",
    "merged_bound_AB_embed_path='merged_embed/ab_embed.csv'\n",
    "\n",
    "merged_DL_embed_path='merged_embed/dl_embed.csv'\n",
    "\n",
    "merged_PF_embed_path='merged_embed/pf_embed.csv'"
   ]
  },
  {
   "cell_type": "code",
   "execution_count": 5,
   "id": "35ab09aa",
   "metadata": {},
   "outputs": [],
   "source": [
    "def merge_two_df(df1, df2):\n",
    "\n",
    "    common_columns = df1.columns.intersection(df2.columns)\n",
    "    avg_df = (df1[common_columns] + df2[common_columns]) / 2\n",
    "\n",
    "    df1_unique_column = np.array([item for item in df1.columns if item not in common_columns])\n",
    "    df1_unique = df1[df1_unique_column]\n",
    "\n",
    "    df2_unique_column = np.array([item for item in df2.columns if item not in common_columns])\n",
    "    df2_unique = df2[df2_unique_column]\n",
    "\n",
    "    df_new = pd.concat([avg_df, df1_unique, df2_unique], axis = 1)\n",
    "    \n",
    "    return df_new"
   ]
  },
  {
   "cell_type": "code",
   "execution_count": 6,
   "id": "880e5aea",
   "metadata": {},
   "outputs": [],
   "source": [
    "df_merged_atom_embed = merge_two_df(glycoscience_atom_embed, godess_atom_embed)\n",
    "df_merged_atom_embed.to_csv(merged_atom_embed_path)"
   ]
  },
  {
   "cell_type": "code",
   "execution_count": 7,
   "id": "728a08ba",
   "metadata": {},
   "outputs": [],
   "source": [
    "df_merged_monosaccharide_embed = merge_two_df(glycoscience_monosaccharide_embed, godess_monosaccharide_embed)\n",
    "df_merged_monosaccharide_embed.to_csv(merged_monosaccharide_embed_path)"
   ]
  },
  {
   "cell_type": "code",
   "execution_count": 8,
   "id": "abecea90",
   "metadata": {},
   "outputs": [],
   "source": [
    "df_merged_bound_AB_embed = merge_two_df(glycoscience_bound_AB_embed, godess_bound_AB_embed)\n",
    "df_merged_bound_AB_embed.to_csv(merged_bound_AB_embed_path)"
   ]
  },
  {
   "cell_type": "code",
   "execution_count": 9,
   "id": "b08ab578",
   "metadata": {},
   "outputs": [],
   "source": [
    "df_merged_DL_embed = merge_two_df(glycoscience_DL_embed, godess_DL_embed)\n",
    "df_merged_DL_embed.to_csv(merged_DL_embed_path)"
   ]
  },
  {
   "cell_type": "code",
   "execution_count": 10,
   "id": "81d74137",
   "metadata": {},
   "outputs": [],
   "source": [
    "df_merged_PF_embed = merge_two_df(glycoscience_PF_embed, godess_PF_embed)\n",
    "df_merged_PF_embed.to_csv(merged_PF_embed_path)"
   ]
  },
  {
   "cell_type": "code",
   "execution_count": 11,
   "id": "e01c0eaa",
   "metadata": {},
   "outputs": [
    {
     "data": {
      "text/plain": [
       "((256, 64), (128, 55), (64, 3), (64, 3), (64, 4))"
      ]
     },
     "execution_count": 11,
     "metadata": {},
     "output_type": "execute_result"
    }
   ],
   "source": [
    "df_merged_atom_embed.shape, df_merged_monosaccharide_embed.shape, df_merged_bound_AB_embed.shape, df_merged_DL_embed.shape, df_merged_PF_embed.shape"
   ]
  },
  {
   "cell_type": "code",
   "execution_count": 12,
   "id": "a77c006f",
   "metadata": {},
   "outputs": [
    {
     "data": {
      "text/plain": [
       "Index(['C', 'C1', 'C10', 'C11', 'C12', 'C13', 'C1_KDO', 'C2', 'C2_KDO', 'C3',\n",
       "       'C3_KDO', 'C4', 'C4_KDO', 'C5', 'C5_KDO', 'C6', 'C6_KDO', 'C7',\n",
       "       'C7_KDO', 'C8', 'C8_KDO', 'C9', 'H', 'H1', 'H10', 'H11', 'H12', 'H13',\n",
       "       'H14', 'H15', 'H16', 'H17', 'H18', 'H2', 'H21', 'H22', 'H23', 'H3',\n",
       "       'H4', 'H5', 'H51', 'H6', 'H61', 'H62', 'H7', 'H8', 'H9', 'N', 'N2',\n",
       "       'N4', 'N5', 'O', 'O1', 'O2', 'O3', 'O4', 'O5', 'O6', 'O7', 'O8', 'P',\n",
       "       'S1', 'S', 'X'],\n",
       "      dtype='object')"
      ]
     },
     "execution_count": 12,
     "metadata": {},
     "output_type": "execute_result"
    }
   ],
   "source": [
    "df_merged_atom_embed.columns"
   ]
  }
 ],
 "metadata": {
  "kernelspec": {
   "display_name": "Python [conda env:root] *",
   "language": "python",
   "name": "conda-root-py"
  },
  "language_info": {
   "codemirror_mode": {
    "name": "ipython",
    "version": 3
   },
   "file_extension": ".py",
   "mimetype": "text/x-python",
   "name": "python",
   "nbconvert_exporter": "python",
   "pygments_lexer": "ipython3",
   "version": "3.8.15"
  }
 },
 "nbformat": 4,
 "nbformat_minor": 5
}
